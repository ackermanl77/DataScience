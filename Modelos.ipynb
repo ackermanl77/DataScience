{
 "cells": [
  {
   "cell_type": "markdown",
   "metadata": {},
   "source": [
    "## Navaja de Ockham\n",
    "    - La explicación más simple es la más probable\n",
    "    - Menor cantidad  de supuestos\n",
    "    - Menor cantidad de parámetros\n",
    "    - Principio  estético"
   ]
  },
  {
   "cell_type": "markdown",
   "metadata": {},
   "source": [
    "## Taxonomía de modelos \n",
    "    - Caja negra(redes) vs modelo descriptivo(arbol de decisión)\n",
    "    - Modelos de principio(Agente humano,tenga sentido,sea interpretable) vs orientados a datos\n",
    "    - Estocasticos vs deterministas\n",
    "    - lineal vs no lineal"
   ]
  },
  {
   "cell_type": "code",
   "execution_count": null,
   "metadata": {},
   "outputs": [],
   "source": []
  }
 ],
 "metadata": {
  "kernelspec": {
   "display_name": "Python 3",
   "language": "python",
   "name": "python3"
  },
  "language_info": {
   "codemirror_mode": {
    "name": "ipython",
    "version": 3
   },
   "file_extension": ".py",
   "mimetype": "text/x-python",
   "name": "python",
   "nbconvert_exporter": "python",
   "pygments_lexer": "ipython3",
   "version": "3.7.6"
  }
 },
 "nbformat": 4,
 "nbformat_minor": 4
}
