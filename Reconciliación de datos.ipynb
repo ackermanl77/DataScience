{
 "cells": [
  {
   "cell_type": "markdown",
   "metadata": {},
   "source": [
    "# Reconciliación de datos\n",
    "\n",
    "Los datos generalmente presentan muchos tipos de problemas:\n",
    "- A veces faltan datos(Na)\n",
    "- Algunas ocasiones los datos están mal codificados, haciendo que , por ejemplo, una fecha parezca en lugar del peso de un jugador de la nfl\n",
    "- Otras ocasiones los encuestadores tienen limites máxiomos respecto a los valores que pueden codificar, así, personas de mas de 100 años se les pone 99.\n",
    "- A veces en un conjunto de datos se usa el sistema métrico decimal y en otros el sitema ingles\n",
    "\n",
    "Arreglar estos problemas se le conoce como reconsiliación de datos o limpieza de datos"
   ]
  },
  {
   "cell_type": "markdown",
   "metadata": {},
   "source": [
    "## 1.Lenguajes y software para la ciencia de datos\n",
    "\n",
    "- Python  Es basicamente el estandar y sigue ganando popularidad.\n",
    "- R  Fue el lenguaje dominante para hacer estadistica hasta hace poco.\n",
    "- Microsoft Excel Es el caballito de batalla para limpiar datos.\n",
    "\n",
    "\n",
    "\n",
    "**Menciones honorificas**\n",
    "- SAS Es un software con su propio lenguaje de dominio.\n",
    "- SPSS Es una interaz grafica para usar metodos de estadistica y aprendizaje automatico\n",
    "- Matlab Entorno de desarrollo para cómputo cientifico\n",
    "- Mathematica Un sisteam de álgebra computacional en a esteroides. Hace de todo, pero no es especifico de ciencia de datos"
   ]
  },
  {
   "cell_type": "markdown",
   "metadata": {},
   "source": [
    "## Tecnologías para trasmitir datos\n",
    "Se le da preferencia a las tecnologías dopensource sobre los formatos propietarios.\n",
    "\n",
    "- CSV. Significa valores separados por comas por sus siglas en ingles\n",
    "- JSON. Es la manera que se transportan estructuras de datos de JavaScript a traves de Internet\n",
    "- XML. Inspirado en HTML y popula en Java sumamente verbal \n",
    "- SQLite. Es un sistema de base de datos de cero configuración, se usa en Andorid, aplicaciones de escritorio, y es recomendado como estándar por el gobierno de USA."
   ]
  },
  {
   "cell_type": "code",
   "execution_count": 2,
   "metadata": {},
   "outputs": [],
   "source": [
    "import sqlite3\n",
    "import pandas as pd\n",
    "import numpy as np\n",
    "import random\n",
    "con = sqlite3.connect('Datos/ejemplo.db')"
   ]
  },
  {
   "cell_type": "code",
   "execution_count": 3,
   "metadata": {},
   "outputs": [
    {
     "data": {
      "text/plain": [
       "<sqlite3.Cursor at 0x1cac4c97260>"
      ]
     },
     "execution_count": 3,
     "metadata": {},
     "output_type": "execute_result"
    }
   ],
   "source": [
    "con.execute('DROP TABLE ejemplo')\n",
    "\n",
    "con.execute('''\n",
    "    CREATE TABLE ejemplo(\n",
    "        campo1 INTEGER,\n",
    "        campo2 REAL,\n",
    "        campo3 TEXT,\n",
    "        PRIMARY KEY(campo1))\n",
    "''')"
   ]
  },
  {
   "cell_type": "code",
   "execution_count": 26,
   "metadata": {},
   "outputs": [],
   "source": [
    "tabla_aleatoria = pd.DataFrame({\n",
    "    'campo1': range(1,101),\n",
    "    'campo2': np.random.random(size=100),\n",
    "    'campo3': 'Hola'\n",
    "})"
   ]
  },
  {
   "cell_type": "code",
   "execution_count": 27,
   "metadata": {},
   "outputs": [],
   "source": [
    "renglones = tabla_aleatoria.to_records(index=False)\n",
    "renglones = [(int(a),float(b),str(c)) for (a,b,c) in renglones]"
   ]
  },
  {
   "cell_type": "code",
   "execution_count": 28,
   "metadata": {},
   "outputs": [],
   "source": [
    "#campo1 = range(1,101)\n",
    "#campo2 = [random.random for k in range(100)]\n",
    "#campo3 = ['hola' for k in range(100)]"
   ]
  },
  {
   "cell_type": "code",
   "execution_count": 30,
   "metadata": {},
   "outputs": [],
   "source": [
    "for renglon in renglones:\n",
    "        con.execute(\n",
    "        '''\n",
    "        INSERT INTO ejemplo\n",
    "        VALUES (?,?,?)\n",
    "        ''',renglon\n",
    "        )"
   ]
  },
  {
   "cell_type": "code",
   "execution_count": 31,
   "metadata": {},
   "outputs": [
    {
     "data": {
      "text/plain": [
       "[(1, 0.07936126971860002, 'Hola'),\n",
       " (2, 0.9345878370041778, 'Hola'),\n",
       " (3, 0.8594642203358872, 'Hola'),\n",
       " (4, 0.37999593398166376, 'Hola'),\n",
       " (5, 0.8351107740498519, 'Hola'),\n",
       " (6, 0.7093365999705608, 'Hola'),\n",
       " (7, 0.48343305563023053, 'Hola'),\n",
       " (8, 0.14926306136466283, 'Hola'),\n",
       " (9, 0.14511865938788582, 'Hola'),\n",
       " (10, 0.6917210269333985, 'Hola'),\n",
       " (11, 0.27187802447555676, 'Hola'),\n",
       " (12, 0.3306645304513778, 'Hola'),\n",
       " (13, 0.6765756207098508, 'Hola'),\n",
       " (14, 0.6557181220220791, 'Hola'),\n",
       " (15, 0.8315833344771594, 'Hola'),\n",
       " (16, 0.9138457453774491, 'Hola'),\n",
       " (17, 0.05231239511355679, 'Hola'),\n",
       " (18, 0.020771065229907903, 'Hola'),\n",
       " (19, 0.32948103299076215, 'Hola'),\n",
       " (20, 0.24918669067510613, 'Hola'),\n",
       " (21, 0.6975462678410733, 'Hola'),\n",
       " (22, 0.8279772387847872, 'Hola'),\n",
       " (23, 0.18142072089194383, 'Hola'),\n",
       " (24, 0.5965084851027431, 'Hola'),\n",
       " (25, 0.48122079196192113, 'Hola'),\n",
       " (26, 0.5916873060518406, 'Hola'),\n",
       " (27, 0.6892781325510313, 'Hola'),\n",
       " (28, 0.5335863420399355, 'Hola'),\n",
       " (29, 0.6205452251036536, 'Hola'),\n",
       " (30, 0.18159838757989089, 'Hola'),\n",
       " (31, 0.3589799414303917, 'Hola'),\n",
       " (32, 0.18083293008678625, 'Hola'),\n",
       " (33, 0.3745669669765067, 'Hola'),\n",
       " (34, 0.2521450731085556, 'Hola'),\n",
       " (35, 0.9656225242594741, 'Hola'),\n",
       " (36, 0.2832401101320692, 'Hola'),\n",
       " (37, 0.06272263625581764, 'Hola'),\n",
       " (38, 0.16828059182882127, 'Hola'),\n",
       " (39, 0.9821192373002405, 'Hola'),\n",
       " (40, 0.42879722937682063, 'Hola'),\n",
       " (41, 0.12253769926398639, 'Hola'),\n",
       " (42, 0.04350401578770691, 'Hola'),\n",
       " (43, 0.30755021242746616, 'Hola'),\n",
       " (44, 0.598024110298129, 'Hola'),\n",
       " (45, 0.6585706338668939, 'Hola'),\n",
       " (46, 0.49754996574752075, 'Hola'),\n",
       " (47, 0.5230831821942648, 'Hola'),\n",
       " (48, 0.7939371175956702, 'Hola'),\n",
       " (49, 0.7206244128730311, 'Hola'),\n",
       " (50, 0.3190560985531057, 'Hola'),\n",
       " (51, 0.6827637689464866, 'Hola'),\n",
       " (52, 0.555910634533136, 'Hola'),\n",
       " (53, 0.22200768451580344, 'Hola'),\n",
       " (54, 0.7826583953963757, 'Hola'),\n",
       " (55, 0.567104218003371, 'Hola'),\n",
       " (56, 0.8612008578704692, 'Hola'),\n",
       " (57, 0.830367040772681, 'Hola'),\n",
       " (58, 0.7402163425573955, 'Hola'),\n",
       " (59, 0.15333126964622035, 'Hola'),\n",
       " (60, 0.9092122593493938, 'Hola'),\n",
       " (61, 0.8615503756363301, 'Hola'),\n",
       " (62, 0.9485525752280565, 'Hola'),\n",
       " (63, 0.9480169887239791, 'Hola'),\n",
       " (64, 0.8695886651924305, 'Hola'),\n",
       " (65, 0.3765689798095534, 'Hola'),\n",
       " (66, 0.9574931772324727, 'Hola'),\n",
       " (67, 0.5432891891101596, 'Hola'),\n",
       " (68, 0.09559253185198557, 'Hola'),\n",
       " (69, 0.4365248187357825, 'Hola'),\n",
       " (70, 0.44790599903758477, 'Hola'),\n",
       " (71, 0.8239169434039422, 'Hola'),\n",
       " (72, 0.30524973246709164, 'Hola'),\n",
       " (73, 0.5404023259118859, 'Hola'),\n",
       " (74, 0.6259292024595497, 'Hola'),\n",
       " (75, 0.5940076463321622, 'Hola'),\n",
       " (76, 0.3273266543986244, 'Hola'),\n",
       " (77, 0.10868455859704551, 'Hola'),\n",
       " (78, 0.4605876160263852, 'Hola'),\n",
       " (79, 0.508277378103091, 'Hola'),\n",
       " (80, 0.9925560926991485, 'Hola'),\n",
       " (81, 0.027835915941138545, 'Hola'),\n",
       " (82, 0.7418742813201875, 'Hola'),\n",
       " (83, 0.10582940390896145, 'Hola'),\n",
       " (84, 0.4444629465887924, 'Hola'),\n",
       " (85, 0.5604036848367613, 'Hola'),\n",
       " (86, 0.27680561801265313, 'Hola'),\n",
       " (87, 0.8348841742275808, 'Hola'),\n",
       " (88, 0.18028382432938517, 'Hola'),\n",
       " (89, 0.4455889100217616, 'Hola'),\n",
       " (90, 0.13217354904623957, 'Hola'),\n",
       " (91, 0.08511761237295801, 'Hola'),\n",
       " (92, 0.4350992831783377, 'Hola'),\n",
       " (93, 0.44656652491776516, 'Hola'),\n",
       " (94, 0.6663495511811057, 'Hola'),\n",
       " (95, 0.03184808214289536, 'Hola'),\n",
       " (96, 0.7563071023943386, 'Hola'),\n",
       " (97, 0.6473488548068052, 'Hola'),\n",
       " (98, 0.5388215689349163, 'Hola'),\n",
       " (99, 0.31461428707445804, 'Hola'),\n",
       " (100, 0.490469943801112, 'Hola')]"
      ]
     },
     "execution_count": 31,
     "metadata": {},
     "output_type": "execute_result"
    }
   ],
   "source": [
    "list(con.execute('SELECT * FROM ejemplo'))"
   ]
  },
  {
   "cell_type": "markdown",
   "metadata": {},
   "source": [
    "# Detección de errores en los datos\n",
    "- **Errores**\n",
    "- ****"
   ]
  },
  {
   "cell_type": "code",
   "execution_count": null,
   "metadata": {},
   "outputs": [],
   "source": [
    "- "
   ]
  }
 ],
 "metadata": {
  "kernelspec": {
   "display_name": "Python 3",
   "language": "python",
   "name": "python3"
  },
  "language_info": {
   "codemirror_mode": {
    "name": "ipython",
    "version": 3
   },
   "file_extension": ".py",
   "mimetype": "text/x-python",
   "name": "python",
   "nbconvert_exporter": "python",
   "pygments_lexer": "ipython3",
   "version": "3.7.6"
  }
 },
 "nbformat": 4,
 "nbformat_minor": 4
}
