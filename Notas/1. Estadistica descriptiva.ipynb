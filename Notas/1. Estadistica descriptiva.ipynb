{
 "cells": [
  {
   "cell_type": "code",
   "execution_count": 1,
   "metadata": {},
   "outputs": [],
   "source": [
    "import collections\n",
    "import math\n",
    "\n",
    "import matplotlib.pyplot as plt\n",
    "import numpy as np\n",
    "import pandas as pd"
   ]
  },
  {
   "cell_type": "markdown",
   "metadata": {},
   "source": [
    "# Estadística descriptiva"
   ]
  },
  {
   "cell_type": "markdown",
   "metadata": {},
   "source": [
    "- Una **población** es la colección de *todos* los individuos que se desean estudiar.\n",
    "- Un **censo** es la colección de datos de *cada* miembro de la población.\n",
    "- Una **muestra** es un subconjunto seleccionado de un censo.\n",
    "- Un **parámetro** es un valor numérico que describe alguna característica de la población.\n",
    "- Una **estadística** es un valor numérico que describe alguna característica de una muestra.\n",
    "\n",
    "La **estadística descriptiva** concierne a la manera de describir un conjunto de datos. Esencialmente nos interesan tres aspectos:\n",
    "- Medir la **tendencia central** de los datos para poder describir cómo se ve más o menos un valor típico.\n",
    "- Medir la **dispersión** al rededor de la tendencia central para saber qué tanto nos podemos alejar de un valor típico si elgimos uno al azar.\n",
    "- Medir la **correlación** que existe entre dos variables de un mismo conjunto para saber qué tanto podemos explicar una en términos de la otra."
   ]
  },
  {
   "cell_type": "markdown",
   "metadata": {},
   "source": [
    "## 1. Medidas de tendencia central\n",
    "La media de una población $X = (x_1, x_2, \\ldots, x_n)$ se define por\n",
    "$$X_\\mu = \\frac{\\sum_{i=1}^{n} x_{i}}{n}$$\n",
    "\n",
    "El estimador de la media para una muestra $x$ se define igual, pero se denota con una barra así: $\\bar{x}$.\n",
    "La diferencia entre la media de una población y una muestra la podemos entender mediante una simulación de ejemplo:"
   ]
  },
  {
   "cell_type": "code",
   "execution_count": 2,
   "metadata": {},
   "outputs": [
    {
     "data": {
      "text/plain": [
       "<matplotlib.axes._subplots.AxesSubplot at 0x213aafc5be0>"
      ]
     },
     "execution_count": 2,
     "metadata": {},
     "output_type": "execute_result"
    },
    {
     "data": {
      "image/png": "[encoded data removed]",
      "text/plain": [
       "<Figure size 432x288 with 1 Axes>"
      ]
     },
     "metadata": {
      "needs_background": "light"
     },
     "output_type": "display_data"
    }
   ],
   "source": [
    "# Generamos una población alteatoria distribuida uniformemente:\n",
    "N = 100_000\n",
    "poblacion = pd.Series(np.random.random(size=N), name='valor')\n",
    "# Para entender cómo se distribuyen los valos de esta población basta graficar un histograma:\n",
    "poblacion.hist(bins=30)"
   ]
  },
  {
   "cell_type": "code",
   "execution_count": 3,
   "metadata": {},
   "outputs": [
    {
     "data": {
      "text/plain": [
       "0.4991796828400024"
      ]
     },
     "execution_count": 3,
     "metadata": {},
     "output_type": "execute_result"
    }
   ],
   "source": [
    "# Así se calcula la media de una serie de Pandas:\n",
    "poblacion.mean()"
   ]
  },
  {
   "cell_type": "code",
   "execution_count": 4,
   "metadata": {},
   "outputs": [
    {
     "data": {
      "image/png": "[encoded data removed]",
      "text/plain": [
       "<Figure size 432x288 with 1 Axes>"
      ]
     },
     "metadata": {
      "needs_background": "light"
     },
     "output_type": "display_data"
    }
   ],
   "source": [
    "# Tomamos 1000 muestras de tamaño 100 de la población\n",
    "muestras = [poblacion.sample(100) for i in range(1000)]\n",
    "\n",
    "# A cada muestra le calculamos la media:\n",
    "medias = [muestra.mean() for muestra in muestras]\n",
    "\n",
    "# Graficamos la distribución de las medias de las muestras:\n",
    "histograma = plt.hist(medias, bins=40)"
   ]
  },
  {
   "cell_type": "markdown",
   "metadata": {},
   "source": [
    "Notamos que las medias muestrales se distribuyen al rededor de la media real."
   ]
  },
  {
   "cell_type": "markdown",
   "metadata": {},
   "source": [
    "Para usar la media hay que tener cuidado de los *valores atípicos*, ya que la media es muy sensible a ellos. Ejemplo:"
   ]
  },
  {
   "cell_type": "code",
   "execution_count": 5,
   "metadata": {},
   "outputs": [
    {
     "data": {
      "text/plain": [
       "22400.0"
      ]
     },
     "execution_count": 5,
     "metadata": {},
     "output_type": "execute_result"
    }
   ],
   "source": [
    "salarios = [14_000, 20_000, 25_000, 35_000, 18_000]\n",
    "np.mean(salarios)"
   ]
  },
  {
   "cell_type": "code",
   "execution_count": 6,
   "metadata": {},
   "outputs": [
    {
     "data": {
      "text/plain": [
       "2918196444.3333335"
      ]
     },
     "execution_count": 6,
     "metadata": {},
     "output_type": "execute_result"
    }
   ],
   "source": [
    "# Agregamos el salario de Bill Gates:\n",
    "salarios.append(17_509_066_666)\n",
    "np.mean(salarios)"
   ]
  },
  {
   "cell_type": "markdown",
   "metadata": {},
   "source": [
    "## La mediana, cuantiles, cuartiles y percentiles\n",
    "La **mediana** es el valor que se encuentra justo a la mitad de nuestros datos cuando los ordenamos de menor a mayor. Si la cantidad de datos es par entonces tomamos el promedio entre los dos de la mitad."
   ]
  },
  {
   "cell_type": "code",
   "execution_count": 45,
   "metadata": {},
   "outputs": [
    {
     "data": {
      "text/plain": [
       "[14000, 18000, 20000, 25000, 35000, 17509066666]"
      ]
     },
     "execution_count": 45,
     "metadata": {},
     "output_type": "execute_result"
    }
   ],
   "source": [
    "salarios.sort()\n",
    "salarios"
   ]
  },
  {
   "cell_type": "code",
   "execution_count": 8,
   "metadata": {},
   "outputs": [
    {
     "data": {
      "text/plain": [
       "25000"
      ]
     },
     "execution_count": 8,
     "metadata": {},
     "output_type": "execute_result"
    }
   ],
   "source": [
    "salarios[len(salarios)//2]"
   ]
  },
  {
   "cell_type": "code",
   "execution_count": 9,
   "metadata": {},
   "outputs": [
    {
     "data": {
      "text/plain": [
       "22500.0"
      ]
     },
     "execution_count": 9,
     "metadata": {},
     "output_type": "execute_result"
    }
   ],
   "source": [
    "# Numpy implementa un algoritmo eficiente que no\n",
    "# ordena todo el arreglo:\n",
    "np.median(salarios)  "
   ]
  },
  {
   "cell_type": "markdown",
   "metadata": {},
   "source": [
    "Más en general, el **estadístico de orden kº** es igual al $k$-ésimo valor más pequeño de una muestra; es decir, el que aparece en la posición $k$ ordenamos la muestra de menor a mayor.\n",
    "Esto nos restringe $k$ a $1 \\le k \\le n$ para una muestra de tamaño $n$. Un concepto similar es el percentil, que es un número tal que "
   ]
  },
  {
   "cell_type": "markdown",
   "metadata": {},
   "source": [
    "## La moda\n",
    "\n",
    "Es el valor más común. Sólo sirve con variables categóricas. Mejor sacar una tabla de frecuencias"
   ]
  },
  {
   "cell_type": "code",
   "execution_count": 10,
   "metadata": {},
   "outputs": [],
   "source": [
    "colores = np.random.choice(['Rojo', 'Verde', 'Azul'], size=1000)"
   ]
  },
  {
   "cell_type": "code",
   "execution_count": 11,
   "metadata": {},
   "outputs": [],
   "source": [
    "cuenta = {}\n",
    "for color in colores:\n",
    "    if color not in cuenta.keys():\n",
    "        cuenta[color] = 1\n",
    "    else:\n",
    "        cuenta[color] += 1"
   ]
  },
  {
   "cell_type": "code",
   "execution_count": 12,
   "metadata": {},
   "outputs": [
    {
     "data": {
      "text/plain": [
       "{'Verde': 349, 'Azul': 326, 'Rojo': 325}"
      ]
     },
     "execution_count": 12,
     "metadata": {},
     "output_type": "execute_result"
    }
   ],
   "source": [
    "cuenta"
   ]
  },
  {
   "cell_type": "code",
   "execution_count": 13,
   "metadata": {},
   "outputs": [
    {
     "data": {
      "text/plain": [
       "Counter({'Verde': 349, 'Azul': 326, 'Rojo': 325})"
      ]
     },
     "execution_count": 13,
     "metadata": {},
     "output_type": "execute_result"
    }
   ],
   "source": [
    "cuenta = collections.Counter(colores)\n",
    "cuenta"
   ]
  },
  {
   "cell_type": "markdown",
   "metadata": {},
   "source": [
    "## Comparación de las tres medidas"
   ]
  },
  {
   "cell_type": "code",
   "execution_count": 46,
   "metadata": {},
   "outputs": [
    {
     "data": {
      "text/plain": [
       "<matplotlib.lines.Line2D at 0x213ad1fb748>"
      ]
     },
     "execution_count": 46,
     "metadata": {},
     "output_type": "execute_result"
    },
    {
     "data": {
      "image/png": "[encoded data removed]",
      "text/plain": [
       "<Figure size 432x288 with 1 Axes>"
      ]
     },
     "metadata": {
      "needs_background": "light"
     },
     "output_type": "display_data"
    }
   ],
   "source": [
    "poblacion = np.random.exponential(size=100_000)\n",
    "plt.hist(poblacion, bins=100, color='silver', density=True)\n",
    "plt.axvline(np.mean(poblacion), color='red')\n",
    "plt.axvline(np.median(poblacion), color='green')\n",
    "#moda = collections.Counter(poblacion).most_common(1)[0][0]\n",
    "#plt.axvline(moda, color='blue')"
   ]
  },
  {
   "cell_type": "markdown",
   "metadata": {},
   "source": [
    "## Medidas de dispersión"
   ]
  },
  {
   "cell_type": "markdown",
   "metadata": {},
   "source": [
    "La varianza de una muestra es el promedio de las distancias de los valores al rededor de la media... con algunos detallitos.\n",
    "\n",
    "$$\\sigma = \\sqrt{\\frac{ \\sum_{i=1}^{n} (x_i - \\bar{x})^2}{n}}$$"
   ]
  },
  {
   "cell_type": "code",
   "execution_count": 15,
   "metadata": {},
   "outputs": [
    {
     "data": {
      "image/png": "[encoded data removed]",
      "text/plain": [
       "<Figure size 936x576 with 1 Axes>"
      ]
     },
     "metadata": {
      "needs_background": "light"
     },
     "output_type": "display_data"
    }
   ],
   "source": [
    "sigma = 7.5\n",
    "poblacion = np.random.normal(0, sigma, size=1_000_000)\n",
    "plt.figure(figsize=(13, 8))\n",
    "plt.hist(poblacion, bins=100, color='gray', density=True)\n",
    "plt.axvline(sigma, color='red')\n",
    "plt.axvline(-sigma, color='red')\n",
    "plt.show()"
   ]
  },
  {
   "cell_type": "code",
   "execution_count": 16,
   "metadata": {},
   "outputs": [],
   "source": [
    "poblacion = pd.Series([1, 1, 1, 1, 1, 2, 3, 4, 5, 5, 5, 5, 5, 5])\n",
    "muestra = pd.Series([1, 2, 3, 4, 5])"
   ]
  },
  {
   "cell_type": "code",
   "execution_count": 17,
   "metadata": {},
   "outputs": [],
   "source": [
    "def desviacion_estandar(x):\n",
    "    n = len(x)\n",
    "    m = sum(x)/n\n",
    "    return math.sqrt(sum((xi - m)**2 for xi in x)/n)"
   ]
  },
  {
   "cell_type": "code",
   "execution_count": 18,
   "metadata": {},
   "outputs": [
    {
     "data": {
      "text/plain": [
       "1.8070158058105024"
      ]
     },
     "execution_count": 18,
     "metadata": {},
     "output_type": "execute_result"
    }
   ],
   "source": [
    "desviacion_estandar(poblacion)"
   ]
  },
  {
   "cell_type": "code",
   "execution_count": 19,
   "metadata": {},
   "outputs": [
    {
     "data": {
      "text/plain": [
       "1.4142135623730951"
      ]
     },
     "execution_count": 19,
     "metadata": {},
     "output_type": "execute_result"
    }
   ],
   "source": [
    "desviacion_estandar(muestra)"
   ]
  },
  {
   "cell_type": "code",
   "execution_count": 20,
   "metadata": {},
   "outputs": [],
   "source": [
    "def desviacion_estandar_muestra(x):\n",
    "    n = len(x)\n",
    "    m = sum(x)/n\n",
    "    return (sum((xi - m)**2 for xi in x)/(n - 1))**(1/2)"
   ]
  },
  {
   "cell_type": "code",
   "execution_count": 21,
   "metadata": {},
   "outputs": [
    {
     "data": {
      "text/plain": [
       "1.5811388300841898"
      ]
     },
     "execution_count": 21,
     "metadata": {},
     "output_type": "execute_result"
    }
   ],
   "source": [
    "desviacion_estandar_muestra(muestra)"
   ]
  },
  {
   "cell_type": "markdown",
   "metadata": {},
   "source": [
    "**Lección para llevar en el corazón:** Para describir una distribución, lo mínimo aceptable es describirla como $\\mu \\pm \\sigma$."
   ]
  },
  {
   "cell_type": "markdown",
   "metadata": {},
   "source": [
    "## Correlación"
   ]
  },
  {
   "cell_type": "code",
   "execution_count": 47,
   "metadata": {},
   "outputs": [
    {
     "data": {
      "text/html": [
       "<div>\n",
       "<style scoped>\n",
       "    .dataframe tbody tr th:only-of-type {\n",
       "        vertical-align: middle;\n",
       "    }\n",
       "\n",
       "    .dataframe tbody tr th {\n",
       "        vertical-align: top;\n",
       "    }\n",
       "\n",
       "    .dataframe thead th {\n",
       "        text-align: right;\n",
       "    }\n",
       "</style>\n",
       "<table border=\"1\" class=\"dataframe\">\n",
       "  <thead>\n",
       "    <tr style=\"text-align: right;\">\n",
       "      <th></th>\n",
       "      <th>ID_VIV</th>\n",
       "      <th>ID_PERSONA</th>\n",
       "      <th>ENT</th>\n",
       "      <th>NOM_ENT</th>\n",
       "      <th>MUN</th>\n",
       "      <th>NOM_MUN</th>\n",
       "      <th>LOC50K</th>\n",
       "      <th>NOM_LOC</th>\n",
       "      <th>COBERTURA</th>\n",
       "      <th>ESTRATO</th>\n",
       "      <th>...</th>\n",
       "      <th>HIJOS_NAC_VIVOS</th>\n",
       "      <th>HIJOS_FALLECIDOS</th>\n",
       "      <th>HIJOS_SOBREVIV</th>\n",
       "      <th>FECHA_NAC_M</th>\n",
       "      <th>FECHA_NAC_A</th>\n",
       "      <th>SOBREVIVENCIA</th>\n",
       "      <th>EDAD_MORIR_D</th>\n",
       "      <th>EDAD_MORIR_M</th>\n",
       "      <th>EDAD_MORIR_A</th>\n",
       "      <th>TAMLOC</th>\n",
       "    </tr>\n",
       "  </thead>\n",
       "  <tbody>\n",
       "    <tr>\n",
       "      <th>0</th>\n",
       "      <td>170010000001</td>\n",
       "      <td>17001000000101</td>\n",
       "      <td>17</td>\n",
       "      <td>Morelos</td>\n",
       "      <td>1</td>\n",
       "      <td>Amacuzac</td>\n",
       "      <td>0</td>\n",
       "      <td>Localidad de menos de 50 mil habitantes</td>\n",
       "      <td>2</td>\n",
       "      <td>17-001-08</td>\n",
       "      <td>...</td>\n",
       "      <td>NaN</td>\n",
       "      <td>NaN</td>\n",
       "      <td>NaN</td>\n",
       "      <td>NaN</td>\n",
       "      <td>NaN</td>\n",
       "      <td>NaN</td>\n",
       "      <td>NaN</td>\n",
       "      <td>NaN</td>\n",
       "      <td>NaN</td>\n",
       "      <td>2</td>\n",
       "    </tr>\n",
       "    <tr>\n",
       "      <th>1</th>\n",
       "      <td>170010000002</td>\n",
       "      <td>17001000000201</td>\n",
       "      <td>17</td>\n",
       "      <td>Morelos</td>\n",
       "      <td>1</td>\n",
       "      <td>Amacuzac</td>\n",
       "      <td>0</td>\n",
       "      <td>Localidad de menos de 50 mil habitantes</td>\n",
       "      <td>2</td>\n",
       "      <td>17-001-06</td>\n",
       "      <td>...</td>\n",
       "      <td>7.0</td>\n",
       "      <td>0.0</td>\n",
       "      <td>7.0</td>\n",
       "      <td>8.0</td>\n",
       "      <td>1978.0</td>\n",
       "      <td>1.0</td>\n",
       "      <td>NaN</td>\n",
       "      <td>NaN</td>\n",
       "      <td>NaN</td>\n",
       "      <td>1</td>\n",
       "    </tr>\n",
       "    <tr>\n",
       "      <th>2</th>\n",
       "      <td>170010000003</td>\n",
       "      <td>17001000000303</td>\n",
       "      <td>17</td>\n",
       "      <td>Morelos</td>\n",
       "      <td>1</td>\n",
       "      <td>Amacuzac</td>\n",
       "      <td>0</td>\n",
       "      <td>Localidad de menos de 50 mil habitantes</td>\n",
       "      <td>2</td>\n",
       "      <td>17-001-08</td>\n",
       "      <td>...</td>\n",
       "      <td>NaN</td>\n",
       "      <td>NaN</td>\n",
       "      <td>NaN</td>\n",
       "      <td>NaN</td>\n",
       "      <td>NaN</td>\n",
       "      <td>NaN</td>\n",
       "      <td>NaN</td>\n",
       "      <td>NaN</td>\n",
       "      <td>NaN</td>\n",
       "      <td>2</td>\n",
       "    </tr>\n",
       "    <tr>\n",
       "      <th>3</th>\n",
       "      <td>170010000003</td>\n",
       "      <td>17001000000301</td>\n",
       "      <td>17</td>\n",
       "      <td>Morelos</td>\n",
       "      <td>1</td>\n",
       "      <td>Amacuzac</td>\n",
       "      <td>0</td>\n",
       "      <td>Localidad de menos de 50 mil habitantes</td>\n",
       "      <td>2</td>\n",
       "      <td>17-001-08</td>\n",
       "      <td>...</td>\n",
       "      <td>NaN</td>\n",
       "      <td>NaN</td>\n",
       "      <td>NaN</td>\n",
       "      <td>NaN</td>\n",
       "      <td>NaN</td>\n",
       "      <td>NaN</td>\n",
       "      <td>NaN</td>\n",
       "      <td>NaN</td>\n",
       "      <td>NaN</td>\n",
       "      <td>2</td>\n",
       "    </tr>\n",
       "    <tr>\n",
       "      <th>4</th>\n",
       "      <td>170010000003</td>\n",
       "      <td>17001000000302</td>\n",
       "      <td>17</td>\n",
       "      <td>Morelos</td>\n",
       "      <td>1</td>\n",
       "      <td>Amacuzac</td>\n",
       "      <td>0</td>\n",
       "      <td>Localidad de menos de 50 mil habitantes</td>\n",
       "      <td>2</td>\n",
       "      <td>17-001-08</td>\n",
       "      <td>...</td>\n",
       "      <td>1.0</td>\n",
       "      <td>0.0</td>\n",
       "      <td>1.0</td>\n",
       "      <td>10.0</td>\n",
       "      <td>2012.0</td>\n",
       "      <td>1.0</td>\n",
       "      <td>NaN</td>\n",
       "      <td>NaN</td>\n",
       "      <td>NaN</td>\n",
       "      <td>2</td>\n",
       "    </tr>\n",
       "  </tbody>\n",
       "</table>\n",
       "<p>5 rows × 86 columns</p>\n",
       "</div>"
      ],
      "text/plain": [
       "         ID_VIV      ID_PERSONA  ENT  NOM_ENT  MUN   NOM_MUN  LOC50K  \\\n",
       "0  170010000001  17001000000101   17  Morelos    1  Amacuzac       0   \n",
       "1  170010000002  17001000000201   17  Morelos    1  Amacuzac       0   \n",
       "2  170010000003  17001000000303   17  Morelos    1  Amacuzac       0   \n",
       "3  170010000003  17001000000301   17  Morelos    1  Amacuzac       0   \n",
       "4  170010000003  17001000000302   17  Morelos    1  Amacuzac       0   \n",
       "\n",
       "                                   NOM_LOC  COBERTURA    ESTRATO  ...  \\\n",
       "0  Localidad de menos de 50 mil habitantes          2  17-001-08  ...   \n",
       "1  Localidad de menos de 50 mil habitantes          2  17-001-06  ...   \n",
       "2  Localidad de menos de 50 mil habitantes          2  17-001-08  ...   \n",
       "3  Localidad de menos de 50 mil habitantes          2  17-001-08  ...   \n",
       "4  Localidad de menos de 50 mil habitantes          2  17-001-08  ...   \n",
       "\n",
       "   HIJOS_NAC_VIVOS  HIJOS_FALLECIDOS  HIJOS_SOBREVIV  FECHA_NAC_M  \\\n",
       "0              NaN               NaN             NaN          NaN   \n",
       "1              7.0               0.0             7.0          8.0   \n",
       "2              NaN               NaN             NaN          NaN   \n",
       "3              NaN               NaN             NaN          NaN   \n",
       "4              1.0               0.0             1.0         10.0   \n",
       "\n",
       "   FECHA_NAC_A  SOBREVIVENCIA  EDAD_MORIR_D  EDAD_MORIR_M  EDAD_MORIR_A  \\\n",
       "0          NaN            NaN           NaN           NaN           NaN   \n",
       "1       1978.0            1.0           NaN           NaN           NaN   \n",
       "2          NaN            NaN           NaN           NaN           NaN   \n",
       "3          NaN            NaN           NaN           NaN           NaN   \n",
       "4       2012.0            1.0           NaN           NaN           NaN   \n",
       "\n",
       "   TAMLOC  \n",
       "0       2  \n",
       "1       1  \n",
       "2       2  \n",
       "3       2  \n",
       "4       2  \n",
       "\n",
       "[5 rows x 86 columns]"
      ]
     },
     "execution_count": 47,
     "metadata": {},
     "output_type": "execute_result"
    }
   ],
   "source": [
    "tabla = pd.read_csv('Datos/eic2015_17_csv/TR_PERSONA17.CSV', encoding='latin1')\n",
    "tabla.head()"
   ]
  },
  {
   "cell_type": "code",
   "execution_count": 23,
   "metadata": {},
   "outputs": [
    {
     "name": "stdout",
     "output_type": "stream",
     "text": [
      "<class 'pandas.core.frame.DataFrame'>\n",
      "RangeIndex: 368976 entries, 0 to 368975\n",
      "Data columns (total 86 columns):\n",
      "ID_VIV                368976 non-null int64\n",
      "ID_PERSONA            368976 non-null int64\n",
      "ENT                   368976 non-null int64\n",
      "NOM_ENT               368976 non-null object\n",
      "MUN                   368976 non-null int64\n",
      "NOM_MUN               368976 non-null object\n",
      "LOC50K                368976 non-null int64\n",
      "NOM_LOC               368976 non-null object\n",
      "COBERTURA             368976 non-null int64\n",
      "ESTRATO               368976 non-null object\n",
      "UPM                   368976 non-null int64\n",
      "FACTOR                368976 non-null int64\n",
      "NUMPER                368976 non-null int64\n",
      "SEXO                  368976 non-null int64\n",
      "EDAD                  368976 non-null int64\n",
      "PARENT                368976 non-null int64\n",
      "PARENT_OTRO_C         368976 non-null int64\n",
      "IDENT_MADRE           368976 non-null int64\n",
      "IDENT_PADRE           368976 non-null int64\n",
      "SERSALUD              368976 non-null int64\n",
      "AFRODES               368976 non-null int64\n",
      "ACTA_NAC              368976 non-null int64\n",
      "DHSERSAL1             368976 non-null int64\n",
      "DHSERSAL2             7466 non-null float64\n",
      "PERTE_INDIGENA        368976 non-null int64\n",
      "ENT_PAIS_NAC          368976 non-null int64\n",
      "NACIONALIDAD          368976 non-null int64\n",
      "HLENGUA               350144 non-null float64\n",
      "QDIALECT_C            7988 non-null float64\n",
      "QDIALECT_INALI        7988 non-null float64\n",
      "HESPANOL              7988 non-null float64\n",
      "ELENGUA               342156 non-null float64\n",
      "ASISTEN               350144 non-null float64\n",
      "MUN_ASI               101491 non-null float64\n",
      "NOM_MUN_ASI           101491 non-null object\n",
      "ENT_PAIS_ASI          101508 non-null float64\n",
      "TIE_TRASLADO_ESCU     101508 non-null float64\n",
      "MED_TRASLADO_ESC1     96560 non-null float64\n",
      "MED_TRASLADO_ESC2     2413 non-null float64\n",
      "MED_TRASLADO_ESC3     46 non-null float64\n",
      "ESCOLARI              350144 non-null float64\n",
      "NIVACAD               350144 non-null float64\n",
      "ALFABET               336768 non-null float64\n",
      "ESCOACUM              350144 non-null float64\n",
      "MUN_RES10             333438 non-null float64\n",
      "NOM_MUN_RES10         333438 non-null object\n",
      "ENT_PAIS_RES10        336768 non-null float64\n",
      "SITUA_CONYUGAL        289751 non-null float64\n",
      "IDENT_PAREJA          161328 non-null float64\n",
      "CONACT                289751 non-null float64\n",
      "OCUPACION_C           141399 non-null float64\n",
      "SITUACION_TRAB        141399 non-null float64\n",
      "AGUINALDO             97511 non-null float64\n",
      "VACACIONES            97511 non-null float64\n",
      "SERVICIO_MEDICO       97511 non-null float64\n",
      "UTILIDADES            97511 non-null float64\n",
      "INCAP_SUELDO          97511 non-null float64\n",
      "SAR_AFORE             97511 non-null float64\n",
      "CREDITO_VIVIENDA      97511 non-null float64\n",
      "INGTRMEN              141399 non-null float64\n",
      "ACTIVIDADES_C         141399 non-null float64\n",
      "MUN_TRAB              141294 non-null float64\n",
      "NOM_MUN_TRAB          141294 non-null object\n",
      "ENT_PAIS_TRAB         141399 non-null float64\n",
      "TIE_TRASLADO_TRAB     141399 non-null float64\n",
      "MED_TRASLADO_TRAB1    124378 non-null float64\n",
      "MED_TRASLADO_TRAB2    4037 non-null float64\n",
      "MED_TRASLADO_TRAB3    119 non-null float64\n",
      "ACTI_SIN_PAGO1        289751 non-null float64\n",
      "ACTI_SIN_PAGO2        289751 non-null float64\n",
      "ACTI_SIN_PAGO3        289751 non-null float64\n",
      "ACTI_SIN_PAGO4        289751 non-null float64\n",
      "ACTI_SIN_PAGO5        289751 non-null float64\n",
      "ACTI_SIN_PAGO6        289751 non-null float64\n",
      "ACTI_SIN_PAGO7        289751 non-null float64\n",
      "ACTI_SIN_PAGO8        289751 non-null float64\n",
      "HIJOS_NAC_VIVOS       150724 non-null float64\n",
      "HIJOS_FALLECIDOS      104844 non-null float64\n",
      "HIJOS_SOBREVIV        104844 non-null float64\n",
      "FECHA_NAC_M           104823 non-null float64\n",
      "FECHA_NAC_A           104823 non-null float64\n",
      "SOBREVIVENCIA         104823 non-null float64\n",
      "EDAD_MORIR_D          740 non-null float64\n",
      "EDAD_MORIR_M          321 non-null float64\n",
      "EDAD_MORIR_A          624 non-null float64\n",
      "TAMLOC                368976 non-null int64\n",
      "dtypes: float64(56), int64(23), object(7)\n",
      "memory usage: 242.1+ MB\n"
     ]
    }
   ],
   "source": [
    "tabla.info()"
   ]
  },
  {
   "cell_type": "code",
   "execution_count": 24,
   "metadata": {},
   "outputs": [
    {
     "data": {
      "text/html": [
       "<div>\n",
       "<style scoped>\n",
       "    .dataframe tbody tr th:only-of-type {\n",
       "        vertical-align: middle;\n",
       "    }\n",
       "\n",
       "    .dataframe tbody tr th {\n",
       "        vertical-align: top;\n",
       "    }\n",
       "\n",
       "    .dataframe thead th {\n",
       "        text-align: right;\n",
       "    }\n",
       "</style>\n",
       "<table border=\"1\" class=\"dataframe\">\n",
       "  <thead>\n",
       "    <tr style=\"text-align: right;\">\n",
       "      <th></th>\n",
       "      <th>EDAD</th>\n",
       "      <th>INGTRMEN</th>\n",
       "      <th>ESCOACUM</th>\n",
       "    </tr>\n",
       "  </thead>\n",
       "  <tbody>\n",
       "    <tr>\n",
       "      <th>0</th>\n",
       "      <td>30</td>\n",
       "      <td>10000.0</td>\n",
       "      <td>16.0</td>\n",
       "    </tr>\n",
       "    <tr>\n",
       "      <th>1</th>\n",
       "      <td>71</td>\n",
       "      <td>NaN</td>\n",
       "      <td>6.0</td>\n",
       "    </tr>\n",
       "    <tr>\n",
       "      <th>2</th>\n",
       "      <td>2</td>\n",
       "      <td>NaN</td>\n",
       "      <td>NaN</td>\n",
       "    </tr>\n",
       "    <tr>\n",
       "      <th>3</th>\n",
       "      <td>23</td>\n",
       "      <td>4286.0</td>\n",
       "      <td>9.0</td>\n",
       "    </tr>\n",
       "    <tr>\n",
       "      <th>4</th>\n",
       "      <td>24</td>\n",
       "      <td>4286.0</td>\n",
       "      <td>6.0</td>\n",
       "    </tr>\n",
       "  </tbody>\n",
       "</table>\n",
       "</div>"
      ],
      "text/plain": [
       "   EDAD  INGTRMEN  ESCOACUM\n",
       "0    30   10000.0      16.0\n",
       "1    71       NaN       6.0\n",
       "2     2       NaN       NaN\n",
       "3    23    4286.0       9.0\n",
       "4    24    4286.0       6.0"
      ]
     },
     "execution_count": 24,
     "metadata": {},
     "output_type": "execute_result"
    }
   ],
   "source": [
    "tabla = tabla[['EDAD', 'INGTRMEN', 'ESCOACUM']]\n",
    "tabla.head()"
   ]
  },
  {
   "cell_type": "code",
   "execution_count": 25,
   "metadata": {},
   "outputs": [
    {
     "name": "stdout",
     "output_type": "stream",
     "text": [
      "<class 'pandas.core.frame.DataFrame'>\n",
      "RangeIndex: 368976 entries, 0 to 368975\n",
      "Data columns (total 3 columns):\n",
      "EDAD        368976 non-null int64\n",
      "INGTRMEN    141399 non-null float64\n",
      "ESCOACUM    350144 non-null float64\n",
      "dtypes: float64(2), int64(1)\n",
      "memory usage: 8.4 MB\n"
     ]
    }
   ],
   "source": [
    "tabla.info()"
   ]
  },
  {
   "cell_type": "code",
   "execution_count": 26,
   "metadata": {},
   "outputs": [
    {
     "data": {
      "text/plain": [
       "count    350144.000000\n",
       "mean          7.789138\n",
       "std           8.010872\n",
       "min           0.000000\n",
       "25%           3.000000\n",
       "50%           8.000000\n",
       "75%          10.000000\n",
       "max          99.000000\n",
       "Name: ESCOACUM, dtype: float64"
      ]
     },
     "execution_count": 26,
     "metadata": {},
     "output_type": "execute_result"
    }
   ],
   "source": [
    "tabla['ESCOACUM'].describe()"
   ]
  },
  {
   "cell_type": "code",
   "execution_count": 27,
   "metadata": {},
   "outputs": [],
   "source": [
    "tabla = tabla.dropna()  # Quitar todos los renglones que contengan valores nulos\n",
    "tabla = tabla[\n",
    "    (tabla['EDAD'] < 90)\n",
    "    & (tabla['INGTRMEN'] < 500_000)\n",
    "    & (tabla['ESCOACUM'] < 90)\n",
    "]"
   ]
  },
  {
   "cell_type": "code",
   "execution_count": 28,
   "metadata": {},
   "outputs": [
    {
     "data": {
      "text/plain": [
       "[<matplotlib.lines.Line2D at 0x213acb01978>]"
      ]
     },
     "execution_count": 28,
     "metadata": {},
     "output_type": "execute_result"
    },
    {
     "data": {
      "image/png": "[encoded data removed]",
      "text/plain": [
       "<Figure size 432x288 with 1 Axes>"
      ]
     },
     "metadata": {
      "needs_background": "light"
     },
     "output_type": "display_data"
    }
   ],
   "source": [
    "muestra = tabla.sample(400)\n",
    "plt.plot(muestra['ESCOACUM'], muestra['INGTRMEN'], marker='.', linestyle='none')"
   ]
  },
  {
   "cell_type": "markdown",
   "metadata": {},
   "source": [
    "- Covarianza: $$\\mathrm{Cov}(x, y) = \\frac{\\sum_{i=1}^{n}(x_i - \\bar{x}) \\, (y_i - \\bar{y})}{n}$$\n",
    "- Coeficiente de correlación de Pearson:\n",
    "$$r = \\frac{ \\mathrm{Cov}(x, y) }{ \\sigma_{x} \\, \\sigma_{y} }$$"
   ]
  },
  {
   "cell_type": "code",
   "execution_count": 29,
   "metadata": {},
   "outputs": [],
   "source": [
    "def pearson(x, y):\n",
    "    n = len(x)\n",
    "    assert n == len(y)\n",
    "    media_x = sum(x)/n\n",
    "    media_y = sum(y)/n\n",
    "    covarianza = sum((x[i] - media_x)*(y[i] - media_y) for i in range(n))/n\n",
    "    desviacion_x = (sum((x[i] - media_x)**2  for i in range(n))/n)**.5\n",
    "    desviacion_y = (sum((y[i] - media_y)**2  for i in range(n))/n)**.5\n",
    "    return covarianza/(desviacion_x*desviacion_y)"
   ]
  },
  {
   "cell_type": "code",
   "execution_count": 30,
   "metadata": {},
   "outputs": [
    {
     "data": {
      "text/plain": [
       "0.3255209087442133"
      ]
     },
     "execution_count": 30,
     "metadata": {},
     "output_type": "execute_result"
    }
   ],
   "source": [
    "x = list(tabla['INGTRMEN'])\n",
    "y = list(tabla['ESCOACUM'])\n",
    "pearson(x, y)"
   ]
  },
  {
   "cell_type": "code",
   "execution_count": 31,
   "metadata": {},
   "outputs": [
    {
     "data": {
      "text/plain": [
       "Index(['EDAD', 'INGTRMEN', 'ESCOACUM'], dtype='object')"
      ]
     },
     "execution_count": 31,
     "metadata": {},
     "output_type": "execute_result"
    }
   ],
   "source": [
    "tabla.columns"
   ]
  },
  {
   "cell_type": "code",
   "execution_count": 32,
   "metadata": {},
   "outputs": [],
   "source": [
    "tabla = pd.read_csv('Datos/eic2015_17_csv/TR_PERSONA17.CSV', encoding='latin1')"
   ]
  },
  {
   "cell_type": "code",
   "execution_count": 33,
   "metadata": {},
   "outputs": [
    {
     "data": {
      "text/html": [
       "<div>\n",
       "<style scoped>\n",
       "    .dataframe tbody tr th:only-of-type {\n",
       "        vertical-align: middle;\n",
       "    }\n",
       "\n",
       "    .dataframe tbody tr th {\n",
       "        vertical-align: top;\n",
       "    }\n",
       "\n",
       "    .dataframe thead th {\n",
       "        text-align: right;\n",
       "    }\n",
       "</style>\n",
       "<table border=\"1\" class=\"dataframe\">\n",
       "  <thead>\n",
       "    <tr style=\"text-align: right;\">\n",
       "      <th></th>\n",
       "      <th>ID_VIV</th>\n",
       "      <th>ID_PERSONA</th>\n",
       "      <th>ENT</th>\n",
       "      <th>MUN</th>\n",
       "      <th>LOC50K</th>\n",
       "      <th>COBERTURA</th>\n",
       "      <th>UPM</th>\n",
       "      <th>FACTOR</th>\n",
       "      <th>NUMPER</th>\n",
       "      <th>SEXO</th>\n",
       "      <th>...</th>\n",
       "      <th>HIJOS_NAC_VIVOS</th>\n",
       "      <th>HIJOS_FALLECIDOS</th>\n",
       "      <th>HIJOS_SOBREVIV</th>\n",
       "      <th>FECHA_NAC_M</th>\n",
       "      <th>FECHA_NAC_A</th>\n",
       "      <th>SOBREVIVENCIA</th>\n",
       "      <th>EDAD_MORIR_D</th>\n",
       "      <th>EDAD_MORIR_M</th>\n",
       "      <th>EDAD_MORIR_A</th>\n",
       "      <th>TAMLOC</th>\n",
       "    </tr>\n",
       "  </thead>\n",
       "  <tbody>\n",
       "    <tr>\n",
       "      <th>0</th>\n",
       "      <td>170010000001</td>\n",
       "      <td>17001000000101</td>\n",
       "      <td>17</td>\n",
       "      <td>1</td>\n",
       "      <td>0</td>\n",
       "      <td>2</td>\n",
       "      <td>139186</td>\n",
       "      <td>2</td>\n",
       "      <td>1</td>\n",
       "      <td>1</td>\n",
       "      <td>...</td>\n",
       "      <td>NaN</td>\n",
       "      <td>NaN</td>\n",
       "      <td>NaN</td>\n",
       "      <td>NaN</td>\n",
       "      <td>NaN</td>\n",
       "      <td>NaN</td>\n",
       "      <td>NaN</td>\n",
       "      <td>NaN</td>\n",
       "      <td>NaN</td>\n",
       "      <td>2</td>\n",
       "    </tr>\n",
       "    <tr>\n",
       "      <th>1</th>\n",
       "      <td>170010000002</td>\n",
       "      <td>17001000000201</td>\n",
       "      <td>17</td>\n",
       "      <td>1</td>\n",
       "      <td>0</td>\n",
       "      <td>2</td>\n",
       "      <td>139224</td>\n",
       "      <td>2</td>\n",
       "      <td>1</td>\n",
       "      <td>3</td>\n",
       "      <td>...</td>\n",
       "      <td>7.0</td>\n",
       "      <td>0.0</td>\n",
       "      <td>7.0</td>\n",
       "      <td>8.0</td>\n",
       "      <td>1978.0</td>\n",
       "      <td>1.0</td>\n",
       "      <td>NaN</td>\n",
       "      <td>NaN</td>\n",
       "      <td>NaN</td>\n",
       "      <td>1</td>\n",
       "    </tr>\n",
       "    <tr>\n",
       "      <th>2</th>\n",
       "      <td>170010000003</td>\n",
       "      <td>17001000000303</td>\n",
       "      <td>17</td>\n",
       "      <td>1</td>\n",
       "      <td>0</td>\n",
       "      <td>2</td>\n",
       "      <td>139169</td>\n",
       "      <td>2</td>\n",
       "      <td>3</td>\n",
       "      <td>3</td>\n",
       "      <td>...</td>\n",
       "      <td>NaN</td>\n",
       "      <td>NaN</td>\n",
       "      <td>NaN</td>\n",
       "      <td>NaN</td>\n",
       "      <td>NaN</td>\n",
       "      <td>NaN</td>\n",
       "      <td>NaN</td>\n",
       "      <td>NaN</td>\n",
       "      <td>NaN</td>\n",
       "      <td>2</td>\n",
       "    </tr>\n",
       "    <tr>\n",
       "      <th>3</th>\n",
       "      <td>170010000003</td>\n",
       "      <td>17001000000301</td>\n",
       "      <td>17</td>\n",
       "      <td>1</td>\n",
       "      <td>0</td>\n",
       "      <td>2</td>\n",
       "      <td>139169</td>\n",
       "      <td>2</td>\n",
       "      <td>1</td>\n",
       "      <td>1</td>\n",
       "      <td>...</td>\n",
       "      <td>NaN</td>\n",
       "      <td>NaN</td>\n",
       "      <td>NaN</td>\n",
       "      <td>NaN</td>\n",
       "      <td>NaN</td>\n",
       "      <td>NaN</td>\n",
       "      <td>NaN</td>\n",
       "      <td>NaN</td>\n",
       "      <td>NaN</td>\n",
       "      <td>2</td>\n",
       "    </tr>\n",
       "    <tr>\n",
       "      <th>4</th>\n",
       "      <td>170010000003</td>\n",
       "      <td>17001000000302</td>\n",
       "      <td>17</td>\n",
       "      <td>1</td>\n",
       "      <td>0</td>\n",
       "      <td>2</td>\n",
       "      <td>139169</td>\n",
       "      <td>2</td>\n",
       "      <td>2</td>\n",
       "      <td>3</td>\n",
       "      <td>...</td>\n",
       "      <td>1.0</td>\n",
       "      <td>0.0</td>\n",
       "      <td>1.0</td>\n",
       "      <td>10.0</td>\n",
       "      <td>2012.0</td>\n",
       "      <td>1.0</td>\n",
       "      <td>NaN</td>\n",
       "      <td>NaN</td>\n",
       "      <td>NaN</td>\n",
       "      <td>2</td>\n",
       "    </tr>\n",
       "  </tbody>\n",
       "</table>\n",
       "<p>5 rows × 79 columns</p>\n",
       "</div>"
      ],
      "text/plain": [
       "         ID_VIV      ID_PERSONA  ENT  MUN  LOC50K  COBERTURA     UPM  FACTOR  \\\n",
       "0  170010000001  17001000000101   17    1       0          2  139186       2   \n",
       "1  170010000002  17001000000201   17    1       0          2  139224       2   \n",
       "2  170010000003  17001000000303   17    1       0          2  139169       2   \n",
       "3  170010000003  17001000000301   17    1       0          2  139169       2   \n",
       "4  170010000003  17001000000302   17    1       0          2  139169       2   \n",
       "\n",
       "   NUMPER  SEXO  ...  HIJOS_NAC_VIVOS  HIJOS_FALLECIDOS  HIJOS_SOBREVIV  \\\n",
       "0       1     1  ...              NaN               NaN             NaN   \n",
       "1       1     3  ...              7.0               0.0             7.0   \n",
       "2       3     3  ...              NaN               NaN             NaN   \n",
       "3       1     1  ...              NaN               NaN             NaN   \n",
       "4       2     3  ...              1.0               0.0             1.0   \n",
       "\n",
       "   FECHA_NAC_M  FECHA_NAC_A  SOBREVIVENCIA  EDAD_MORIR_D  EDAD_MORIR_M  \\\n",
       "0          NaN          NaN            NaN           NaN           NaN   \n",
       "1          8.0       1978.0            1.0           NaN           NaN   \n",
       "2          NaN          NaN            NaN           NaN           NaN   \n",
       "3          NaN          NaN            NaN           NaN           NaN   \n",
       "4         10.0       2012.0            1.0           NaN           NaN   \n",
       "\n",
       "   EDAD_MORIR_A  TAMLOC  \n",
       "0           NaN       2  \n",
       "1           NaN       1  \n",
       "2           NaN       2  \n",
       "3           NaN       2  \n",
       "4           NaN       2  \n",
       "\n",
       "[5 rows x 79 columns]"
      ]
     },
     "execution_count": 33,
     "metadata": {},
     "output_type": "execute_result"
    }
   ],
   "source": [
    "numericas = (tabla.dtypes == np.dtype('float64')) | (tabla.dtypes == np.dtype('int64'))\n",
    "columnas_numericas = [key for (key, value) in numericas.to_dict().items() if value]\n",
    "tabla_num = tabla[columnas_numericas]\n",
    "tabla_num.head()"
   ]
  },
  {
   "cell_type": "code",
   "execution_count": 34,
   "metadata": {},
   "outputs": [
    {
     "data": {
      "text/html": [
       "<div>\n",
       "<style scoped>\n",
       "    .dataframe tbody tr th:only-of-type {\n",
       "        vertical-align: middle;\n",
       "    }\n",
       "\n",
       "    .dataframe tbody tr th {\n",
       "        vertical-align: top;\n",
       "    }\n",
       "\n",
       "    .dataframe thead th {\n",
       "        text-align: right;\n",
       "    }\n",
       "</style>\n",
       "<table border=\"1\" class=\"dataframe\">\n",
       "  <thead>\n",
       "    <tr style=\"text-align: right;\">\n",
       "      <th></th>\n",
       "      <th>ID_VIV</th>\n",
       "      <th>ID_PERSONA</th>\n",
       "      <th>ENT</th>\n",
       "      <th>MUN</th>\n",
       "      <th>LOC50K</th>\n",
       "      <th>COBERTURA</th>\n",
       "      <th>UPM</th>\n",
       "      <th>FACTOR</th>\n",
       "      <th>NUMPER</th>\n",
       "      <th>SEXO</th>\n",
       "      <th>...</th>\n",
       "      <th>HLENGUA</th>\n",
       "      <th>ELENGUA</th>\n",
       "      <th>ASISTEN</th>\n",
       "      <th>ESCOLARI</th>\n",
       "      <th>NIVACAD</th>\n",
       "      <th>ALFABET</th>\n",
       "      <th>ESCOACUM</th>\n",
       "      <th>MUN_RES10</th>\n",
       "      <th>ENT_PAIS_RES10</th>\n",
       "      <th>TAMLOC</th>\n",
       "    </tr>\n",
       "  </thead>\n",
       "  <tbody>\n",
       "    <tr>\n",
       "      <th>ID_VIV</th>\n",
       "      <td>1.000000</td>\n",
       "      <td>1.000000</td>\n",
       "      <td>NaN</td>\n",
       "      <td>1.000000</td>\n",
       "      <td>-0.303399</td>\n",
       "      <td>NaN</td>\n",
       "      <td>0.997366</td>\n",
       "      <td>-0.174642</td>\n",
       "      <td>0.007856</td>\n",
       "      <td>-0.001505</td>\n",
       "      <td>...</td>\n",
       "      <td>-0.011330</td>\n",
       "      <td>-0.003980</td>\n",
       "      <td>-0.002560</td>\n",
       "      <td>0.000217</td>\n",
       "      <td>-0.015657</td>\n",
       "      <td>-0.003506</td>\n",
       "      <td>-0.013477</td>\n",
       "      <td>0.053232</td>\n",
       "      <td>-0.008587</td>\n",
       "      <td>-0.205253</td>\n",
       "    </tr>\n",
       "    <tr>\n",
       "      <th>ID_PERSONA</th>\n",
       "      <td>1.000000</td>\n",
       "      <td>1.000000</td>\n",
       "      <td>NaN</td>\n",
       "      <td>1.000000</td>\n",
       "      <td>-0.303399</td>\n",
       "      <td>NaN</td>\n",
       "      <td>0.997366</td>\n",
       "      <td>-0.174642</td>\n",
       "      <td>0.007856</td>\n",
       "      <td>-0.001505</td>\n",
       "      <td>...</td>\n",
       "      <td>-0.011330</td>\n",
       "      <td>-0.003980</td>\n",
       "      <td>-0.002560</td>\n",
       "      <td>0.000217</td>\n",
       "      <td>-0.015657</td>\n",
       "      <td>-0.003506</td>\n",
       "      <td>-0.013477</td>\n",
       "      <td>0.053232</td>\n",
       "      <td>-0.008587</td>\n",
       "      <td>-0.205253</td>\n",
       "    </tr>\n",
       "    <tr>\n",
       "      <th>ENT</th>\n",
       "      <td>NaN</td>\n",
       "      <td>NaN</td>\n",
       "      <td>NaN</td>\n",
       "      <td>NaN</td>\n",
       "      <td>NaN</td>\n",
       "      <td>NaN</td>\n",
       "      <td>NaN</td>\n",
       "      <td>NaN</td>\n",
       "      <td>NaN</td>\n",
       "      <td>NaN</td>\n",
       "      <td>...</td>\n",
       "      <td>NaN</td>\n",
       "      <td>NaN</td>\n",
       "      <td>NaN</td>\n",
       "      <td>NaN</td>\n",
       "      <td>NaN</td>\n",
       "      <td>NaN</td>\n",
       "      <td>NaN</td>\n",
       "      <td>NaN</td>\n",
       "      <td>NaN</td>\n",
       "      <td>NaN</td>\n",
       "    </tr>\n",
       "    <tr>\n",
       "      <th>MUN</th>\n",
       "      <td>1.000000</td>\n",
       "      <td>1.000000</td>\n",
       "      <td>NaN</td>\n",
       "      <td>1.000000</td>\n",
       "      <td>-0.303403</td>\n",
       "      <td>NaN</td>\n",
       "      <td>0.997366</td>\n",
       "      <td>-0.174646</td>\n",
       "      <td>0.007856</td>\n",
       "      <td>-0.001505</td>\n",
       "      <td>...</td>\n",
       "      <td>-0.011330</td>\n",
       "      <td>-0.003979</td>\n",
       "      <td>-0.002560</td>\n",
       "      <td>0.000217</td>\n",
       "      <td>-0.015657</td>\n",
       "      <td>-0.003505</td>\n",
       "      <td>-0.013478</td>\n",
       "      <td>0.053232</td>\n",
       "      <td>-0.008587</td>\n",
       "      <td>-0.205257</td>\n",
       "    </tr>\n",
       "    <tr>\n",
       "      <th>LOC50K</th>\n",
       "      <td>-0.303399</td>\n",
       "      <td>-0.303399</td>\n",
       "      <td>NaN</td>\n",
       "      <td>-0.303403</td>\n",
       "      <td>1.000000</td>\n",
       "      <td>NaN</td>\n",
       "      <td>-0.310004</td>\n",
       "      <td>0.503505</td>\n",
       "      <td>-0.017978</td>\n",
       "      <td>0.006181</td>\n",
       "      <td>...</td>\n",
       "      <td>-0.001748</td>\n",
       "      <td>-0.006623</td>\n",
       "      <td>-0.001855</td>\n",
       "      <td>-0.001253</td>\n",
       "      <td>0.054588</td>\n",
       "      <td>-0.034017</td>\n",
       "      <td>0.063322</td>\n",
       "      <td>-0.020823</td>\n",
       "      <td>-0.006728</td>\n",
       "      <td>0.851371</td>\n",
       "    </tr>\n",
       "    <tr>\n",
       "      <th>COBERTURA</th>\n",
       "      <td>NaN</td>\n",
       "      <td>NaN</td>\n",
       "      <td>NaN</td>\n",
       "      <td>NaN</td>\n",
       "      <td>NaN</td>\n",
       "      <td>NaN</td>\n",
       "      <td>NaN</td>\n",
       "      <td>NaN</td>\n",
       "      <td>NaN</td>\n",
       "      <td>NaN</td>\n",
       "      <td>...</td>\n",
       "      <td>NaN</td>\n",
       "      <td>NaN</td>\n",
       "      <td>NaN</td>\n",
       "      <td>NaN</td>\n",
       "      <td>NaN</td>\n",
       "      <td>NaN</td>\n",
       "      <td>NaN</td>\n",
       "      <td>NaN</td>\n",
       "      <td>NaN</td>\n",
       "      <td>NaN</td>\n",
       "    </tr>\n",
       "    <tr>\n",
       "      <th>UPM</th>\n",
       "      <td>0.997366</td>\n",
       "      <td>0.997366</td>\n",
       "      <td>NaN</td>\n",
       "      <td>0.997366</td>\n",
       "      <td>-0.310004</td>\n",
       "      <td>NaN</td>\n",
       "      <td>1.000000</td>\n",
       "      <td>-0.178565</td>\n",
       "      <td>0.007261</td>\n",
       "      <td>-0.001697</td>\n",
       "      <td>...</td>\n",
       "      <td>-0.011945</td>\n",
       "      <td>-0.004568</td>\n",
       "      <td>-0.002738</td>\n",
       "      <td>-0.000183</td>\n",
       "      <td>-0.015782</td>\n",
       "      <td>-0.003341</td>\n",
       "      <td>-0.013466</td>\n",
       "      <td>0.053270</td>\n",
       "      <td>-0.008896</td>\n",
       "      <td>-0.218260</td>\n",
       "    </tr>\n",
       "    <tr>\n",
       "      <th>FACTOR</th>\n",
       "      <td>-0.174642</td>\n",
       "      <td>-0.174642</td>\n",
       "      <td>NaN</td>\n",
       "      <td>-0.174646</td>\n",
       "      <td>0.503505</td>\n",
       "      <td>NaN</td>\n",
       "      <td>-0.178565</td>\n",
       "      <td>1.000000</td>\n",
       "      <td>-0.016681</td>\n",
       "      <td>0.008338</td>\n",
       "      <td>...</td>\n",
       "      <td>0.004829</td>\n",
       "      <td>0.000654</td>\n",
       "      <td>0.004122</td>\n",
       "      <td>-0.001006</td>\n",
       "      <td>0.045577</td>\n",
       "      <td>-0.024972</td>\n",
       "      <td>0.052100</td>\n",
       "      <td>-0.003450</td>\n",
       "      <td>-0.002287</td>\n",
       "      <td>0.475255</td>\n",
       "    </tr>\n",
       "    <tr>\n",
       "      <th>NUMPER</th>\n",
       "      <td>0.007856</td>\n",
       "      <td>0.007856</td>\n",
       "      <td>NaN</td>\n",
       "      <td>0.007856</td>\n",
       "      <td>-0.017978</td>\n",
       "      <td>NaN</td>\n",
       "      <td>0.007261</td>\n",
       "      <td>-0.016681</td>\n",
       "      <td>1.000000</td>\n",
       "      <td>0.061884</td>\n",
       "      <td>...</td>\n",
       "      <td>0.011837</td>\n",
       "      <td>0.016628</td>\n",
       "      <td>-0.501076</td>\n",
       "      <td>-0.008035</td>\n",
       "      <td>-0.025688</td>\n",
       "      <td>0.088047</td>\n",
       "      <td>-0.085397</td>\n",
       "      <td>0.028412</td>\n",
       "      <td>0.042140</td>\n",
       "      <td>-0.012261</td>\n",
       "    </tr>\n",
       "    <tr>\n",
       "      <th>SEXO</th>\n",
       "      <td>-0.001505</td>\n",
       "      <td>-0.001505</td>\n",
       "      <td>NaN</td>\n",
       "      <td>-0.001505</td>\n",
       "      <td>0.006181</td>\n",
       "      <td>NaN</td>\n",
       "      <td>-0.001697</td>\n",
       "      <td>0.008338</td>\n",
       "      <td>0.061884</td>\n",
       "      <td>1.000000</td>\n",
       "      <td>...</td>\n",
       "      <td>0.001554</td>\n",
       "      <td>0.002381</td>\n",
       "      <td>0.024660</td>\n",
       "      <td>-0.001532</td>\n",
       "      <td>0.006802</td>\n",
       "      <td>0.011175</td>\n",
       "      <td>0.005695</td>\n",
       "      <td>-0.000704</td>\n",
       "      <td>0.000010</td>\n",
       "      <td>0.008952</td>\n",
       "    </tr>\n",
       "    <tr>\n",
       "      <th>EDAD</th>\n",
       "      <td>-0.011607</td>\n",
       "      <td>-0.011607</td>\n",
       "      <td>NaN</td>\n",
       "      <td>-0.011607</td>\n",
       "      <td>0.015738</td>\n",
       "      <td>NaN</td>\n",
       "      <td>-0.012570</td>\n",
       "      <td>0.013288</td>\n",
       "      <td>-0.332952</td>\n",
       "      <td>0.018901</td>\n",
       "      <td>...</td>\n",
       "      <td>0.112622</td>\n",
       "      <td>0.070988</td>\n",
       "      <td>0.402242</td>\n",
       "      <td>0.079005</td>\n",
       "      <td>0.084190</td>\n",
       "      <td>0.045489</td>\n",
       "      <td>0.072886</td>\n",
       "      <td>0.031443</td>\n",
       "      <td>0.063547</td>\n",
       "      <td>0.020335</td>\n",
       "    </tr>\n",
       "    <tr>\n",
       "      <th>PARENT</th>\n",
       "      <td>-0.002255</td>\n",
       "      <td>-0.002255</td>\n",
       "      <td>NaN</td>\n",
       "      <td>-0.002255</td>\n",
       "      <td>-0.000417</td>\n",
       "      <td>NaN</td>\n",
       "      <td>-0.002556</td>\n",
       "      <td>-0.001048</td>\n",
       "      <td>0.169333</td>\n",
       "      <td>0.023485</td>\n",
       "      <td>...</td>\n",
       "      <td>0.096396</td>\n",
       "      <td>0.070381</td>\n",
       "      <td>-0.073610</td>\n",
       "      <td>0.042851</td>\n",
       "      <td>0.048898</td>\n",
       "      <td>0.034246</td>\n",
       "      <td>0.030056</td>\n",
       "      <td>0.047705</td>\n",
       "      <td>0.066988</td>\n",
       "      <td>0.005955</td>\n",
       "    </tr>\n",
       "    <tr>\n",
       "      <th>PARENT_OTRO_C</th>\n",
       "      <td>0.002372</td>\n",
       "      <td>0.002372</td>\n",
       "      <td>NaN</td>\n",
       "      <td>0.002372</td>\n",
       "      <td>0.000329</td>\n",
       "      <td>NaN</td>\n",
       "      <td>0.001660</td>\n",
       "      <td>-0.002958</td>\n",
       "      <td>0.700603</td>\n",
       "      <td>0.100088</td>\n",
       "      <td>...</td>\n",
       "      <td>0.044955</td>\n",
       "      <td>0.043157</td>\n",
       "      <td>-0.433253</td>\n",
       "      <td>0.012271</td>\n",
       "      <td>0.023496</td>\n",
       "      <td>0.056554</td>\n",
       "      <td>-0.017910</td>\n",
       "      <td>0.043647</td>\n",
       "      <td>0.053607</td>\n",
       "      <td>0.010256</td>\n",
       "    </tr>\n",
       "    <tr>\n",
       "      <th>IDENT_MADRE</th>\n",
       "      <td>-0.003076</td>\n",
       "      <td>-0.003076</td>\n",
       "      <td>NaN</td>\n",
       "      <td>-0.003076</td>\n",
       "      <td>0.004246</td>\n",
       "      <td>NaN</td>\n",
       "      <td>-0.002945</td>\n",
       "      <td>0.004976</td>\n",
       "      <td>-0.552496</td>\n",
       "      <td>0.062685</td>\n",
       "      <td>...</td>\n",
       "      <td>0.000111</td>\n",
       "      <td>-0.008754</td>\n",
       "      <td>0.595966</td>\n",
       "      <td>0.012684</td>\n",
       "      <td>-0.006377</td>\n",
       "      <td>-0.040749</td>\n",
       "      <td>0.044613</td>\n",
       "      <td>0.001377</td>\n",
       "      <td>-0.021517</td>\n",
       "      <td>0.001404</td>\n",
       "    </tr>\n",
       "    <tr>\n",
       "      <th>IDENT_PADRE</th>\n",
       "      <td>-0.008833</td>\n",
       "      <td>-0.008833</td>\n",
       "      <td>NaN</td>\n",
       "      <td>-0.008833</td>\n",
       "      <td>0.022628</td>\n",
       "      <td>NaN</td>\n",
       "      <td>-0.008816</td>\n",
       "      <td>0.022248</td>\n",
       "      <td>-0.506848</td>\n",
       "      <td>0.058935</td>\n",
       "      <td>...</td>\n",
       "      <td>0.000013</td>\n",
       "      <td>-0.006105</td>\n",
       "      <td>0.524729</td>\n",
       "      <td>0.011433</td>\n",
       "      <td>-0.000917</td>\n",
       "      <td>-0.036887</td>\n",
       "      <td>0.046077</td>\n",
       "      <td>0.004257</td>\n",
       "      <td>-0.017804</td>\n",
       "      <td>0.022922</td>\n",
       "    </tr>\n",
       "    <tr>\n",
       "      <th>SERSALUD</th>\n",
       "      <td>0.002774</td>\n",
       "      <td>0.002774</td>\n",
       "      <td>NaN</td>\n",
       "      <td>0.002775</td>\n",
       "      <td>-0.062766</td>\n",
       "      <td>NaN</td>\n",
       "      <td>0.001734</td>\n",
       "      <td>-0.056187</td>\n",
       "      <td>0.039116</td>\n",
       "      <td>-0.016594</td>\n",
       "      <td>...</td>\n",
       "      <td>0.242939</td>\n",
       "      <td>0.156769</td>\n",
       "      <td>0.016604</td>\n",
       "      <td>0.089990</td>\n",
       "      <td>0.058715</td>\n",
       "      <td>0.057425</td>\n",
       "      <td>0.030342</td>\n",
       "      <td>0.078517</td>\n",
       "      <td>0.126190</td>\n",
       "      <td>-0.080531</td>\n",
       "    </tr>\n",
       "    <tr>\n",
       "      <th>AFRODES</th>\n",
       "      <td>0.003182</td>\n",
       "      <td>0.003182</td>\n",
       "      <td>NaN</td>\n",
       "      <td>0.003183</td>\n",
       "      <td>-0.018265</td>\n",
       "      <td>NaN</td>\n",
       "      <td>0.002359</td>\n",
       "      <td>-0.014107</td>\n",
       "      <td>-0.012624</td>\n",
       "      <td>-0.011238</td>\n",
       "      <td>...</td>\n",
       "      <td>0.111277</td>\n",
       "      <td>0.073484</td>\n",
       "      <td>0.016998</td>\n",
       "      <td>0.025607</td>\n",
       "      <td>0.019379</td>\n",
       "      <td>0.017219</td>\n",
       "      <td>0.011601</td>\n",
       "      <td>0.023560</td>\n",
       "      <td>0.042819</td>\n",
       "      <td>-0.022836</td>\n",
       "    </tr>\n",
       "    <tr>\n",
       "      <th>ACTA_NAC</th>\n",
       "      <td>-0.009710</td>\n",
       "      <td>-0.009710</td>\n",
       "      <td>NaN</td>\n",
       "      <td>-0.009710</td>\n",
       "      <td>0.008296</td>\n",
       "      <td>NaN</td>\n",
       "      <td>-0.009715</td>\n",
       "      <td>0.008235</td>\n",
       "      <td>0.010481</td>\n",
       "      <td>0.004127</td>\n",
       "      <td>...</td>\n",
       "      <td>0.201917</td>\n",
       "      <td>0.137635</td>\n",
       "      <td>0.006562</td>\n",
       "      <td>0.061422</td>\n",
       "      <td>0.067200</td>\n",
       "      <td>0.033049</td>\n",
       "      <td>0.047798</td>\n",
       "      <td>0.058472</td>\n",
       "      <td>0.096736</td>\n",
       "      <td>0.009953</td>\n",
       "    </tr>\n",
       "    <tr>\n",
       "      <th>DHSERSAL1</th>\n",
       "      <td>-0.029964</td>\n",
       "      <td>-0.029964</td>\n",
       "      <td>NaN</td>\n",
       "      <td>-0.029965</td>\n",
       "      <td>0.089475</td>\n",
       "      <td>NaN</td>\n",
       "      <td>-0.030688</td>\n",
       "      <td>0.066412</td>\n",
       "      <td>-0.010427</td>\n",
       "      <td>-0.057331</td>\n",
       "      <td>...</td>\n",
       "      <td>0.030396</td>\n",
       "      <td>0.014788</td>\n",
       "      <td>0.052312</td>\n",
       "      <td>0.019234</td>\n",
       "      <td>0.069966</td>\n",
       "      <td>-0.008460</td>\n",
       "      <td>0.074365</td>\n",
       "      <td>0.033307</td>\n",
       "      <td>0.013493</td>\n",
       "      <td>0.104849</td>\n",
       "    </tr>\n",
       "    <tr>\n",
       "      <th>PERTE_INDIGENA</th>\n",
       "      <td>-0.024901</td>\n",
       "      <td>-0.024901</td>\n",
       "      <td>NaN</td>\n",
       "      <td>-0.024902</td>\n",
       "      <td>0.054208</td>\n",
       "      <td>NaN</td>\n",
       "      <td>-0.027607</td>\n",
       "      <td>0.045516</td>\n",
       "      <td>-0.011085</td>\n",
       "      <td>-0.008798</td>\n",
       "      <td>...</td>\n",
       "      <td>0.086780</td>\n",
       "      <td>0.089704</td>\n",
       "      <td>0.000456</td>\n",
       "      <td>0.024695</td>\n",
       "      <td>0.052400</td>\n",
       "      <td>0.001558</td>\n",
       "      <td>0.052393</td>\n",
       "      <td>0.026352</td>\n",
       "      <td>0.035865</td>\n",
       "      <td>0.075243</td>\n",
       "    </tr>\n",
       "    <tr>\n",
       "      <th>ENT_PAIS_NAC</th>\n",
       "      <td>-0.009849</td>\n",
       "      <td>-0.009849</td>\n",
       "      <td>NaN</td>\n",
       "      <td>-0.009849</td>\n",
       "      <td>0.000376</td>\n",
       "      <td>NaN</td>\n",
       "      <td>-0.010063</td>\n",
       "      <td>0.000778</td>\n",
       "      <td>0.025186</td>\n",
       "      <td>0.000117</td>\n",
       "      <td>...</td>\n",
       "      <td>0.193970</td>\n",
       "      <td>0.130019</td>\n",
       "      <td>-0.015433</td>\n",
       "      <td>0.075175</td>\n",
       "      <td>0.082217</td>\n",
       "      <td>0.031684</td>\n",
       "      <td>0.059703</td>\n",
       "      <td>0.051147</td>\n",
       "      <td>0.094038</td>\n",
       "      <td>0.001434</td>\n",
       "    </tr>\n",
       "    <tr>\n",
       "      <th>NACIONALIDAD</th>\n",
       "      <td>-0.011379</td>\n",
       "      <td>-0.011379</td>\n",
       "      <td>NaN</td>\n",
       "      <td>-0.011379</td>\n",
       "      <td>0.003404</td>\n",
       "      <td>NaN</td>\n",
       "      <td>-0.011523</td>\n",
       "      <td>0.002487</td>\n",
       "      <td>0.021356</td>\n",
       "      <td>-0.000045</td>\n",
       "      <td>...</td>\n",
       "      <td>0.171415</td>\n",
       "      <td>0.114642</td>\n",
       "      <td>-0.013087</td>\n",
       "      <td>0.066310</td>\n",
       "      <td>0.073129</td>\n",
       "      <td>0.029811</td>\n",
       "      <td>0.052885</td>\n",
       "      <td>0.051175</td>\n",
       "      <td>0.084485</td>\n",
       "      <td>0.002842</td>\n",
       "    </tr>\n",
       "    <tr>\n",
       "      <th>HLENGUA</th>\n",
       "      <td>-0.011330</td>\n",
       "      <td>-0.011330</td>\n",
       "      <td>NaN</td>\n",
       "      <td>-0.011330</td>\n",
       "      <td>-0.001748</td>\n",
       "      <td>NaN</td>\n",
       "      <td>-0.011945</td>\n",
       "      <td>0.004829</td>\n",
       "      <td>0.011837</td>\n",
       "      <td>0.001554</td>\n",
       "      <td>...</td>\n",
       "      <td>1.000000</td>\n",
       "      <td>0.592072</td>\n",
       "      <td>0.027210</td>\n",
       "      <td>0.144995</td>\n",
       "      <td>0.157980</td>\n",
       "      <td>0.061759</td>\n",
       "      <td>0.120413</td>\n",
       "      <td>0.107706</td>\n",
       "      <td>0.186872</td>\n",
       "      <td>0.002643</td>\n",
       "    </tr>\n",
       "    <tr>\n",
       "      <th>ELENGUA</th>\n",
       "      <td>-0.003980</td>\n",
       "      <td>-0.003980</td>\n",
       "      <td>NaN</td>\n",
       "      <td>-0.003979</td>\n",
       "      <td>-0.006623</td>\n",
       "      <td>NaN</td>\n",
       "      <td>-0.004568</td>\n",
       "      <td>0.000654</td>\n",
       "      <td>0.016628</td>\n",
       "      <td>0.002381</td>\n",
       "      <td>...</td>\n",
       "      <td>0.592072</td>\n",
       "      <td>1.000000</td>\n",
       "      <td>0.008941</td>\n",
       "      <td>0.092704</td>\n",
       "      <td>0.104828</td>\n",
       "      <td>0.046789</td>\n",
       "      <td>0.078099</td>\n",
       "      <td>0.076769</td>\n",
       "      <td>0.132535</td>\n",
       "      <td>-0.003247</td>\n",
       "    </tr>\n",
       "    <tr>\n",
       "      <th>ASISTEN</th>\n",
       "      <td>-0.002560</td>\n",
       "      <td>-0.002560</td>\n",
       "      <td>NaN</td>\n",
       "      <td>-0.002560</td>\n",
       "      <td>-0.001855</td>\n",
       "      <td>NaN</td>\n",
       "      <td>-0.002738</td>\n",
       "      <td>0.004122</td>\n",
       "      <td>-0.501076</td>\n",
       "      <td>0.024660</td>\n",
       "      <td>...</td>\n",
       "      <td>0.027210</td>\n",
       "      <td>0.008941</td>\n",
       "      <td>1.000000</td>\n",
       "      <td>0.037734</td>\n",
       "      <td>0.043387</td>\n",
       "      <td>-0.083793</td>\n",
       "      <td>0.151183</td>\n",
       "      <td>-0.004403</td>\n",
       "      <td>-0.008362</td>\n",
       "      <td>-0.003561</td>\n",
       "    </tr>\n",
       "    <tr>\n",
       "      <th>ESCOLARI</th>\n",
       "      <td>0.000217</td>\n",
       "      <td>0.000217</td>\n",
       "      <td>NaN</td>\n",
       "      <td>0.000217</td>\n",
       "      <td>-0.001253</td>\n",
       "      <td>NaN</td>\n",
       "      <td>-0.000183</td>\n",
       "      <td>-0.001006</td>\n",
       "      <td>-0.008035</td>\n",
       "      <td>-0.001532</td>\n",
       "      <td>...</td>\n",
       "      <td>0.144995</td>\n",
       "      <td>0.092704</td>\n",
       "      <td>0.037734</td>\n",
       "      <td>1.000000</td>\n",
       "      <td>0.716723</td>\n",
       "      <td>0.125303</td>\n",
       "      <td>0.774627</td>\n",
       "      <td>0.063769</td>\n",
       "      <td>0.101105</td>\n",
       "      <td>0.003901</td>\n",
       "    </tr>\n",
       "    <tr>\n",
       "      <th>NIVACAD</th>\n",
       "      <td>-0.015657</td>\n",
       "      <td>-0.015657</td>\n",
       "      <td>NaN</td>\n",
       "      <td>-0.015657</td>\n",
       "      <td>0.054588</td>\n",
       "      <td>NaN</td>\n",
       "      <td>-0.015782</td>\n",
       "      <td>0.045577</td>\n",
       "      <td>-0.025688</td>\n",
       "      <td>0.006802</td>\n",
       "      <td>...</td>\n",
       "      <td>0.157980</td>\n",
       "      <td>0.104828</td>\n",
       "      <td>0.043387</td>\n",
       "      <td>0.716723</td>\n",
       "      <td>1.000000</td>\n",
       "      <td>0.096846</td>\n",
       "      <td>0.840211</td>\n",
       "      <td>0.070109</td>\n",
       "      <td>0.101157</td>\n",
       "      <td>0.072875</td>\n",
       "    </tr>\n",
       "    <tr>\n",
       "      <th>ALFABET</th>\n",
       "      <td>-0.003506</td>\n",
       "      <td>-0.003506</td>\n",
       "      <td>NaN</td>\n",
       "      <td>-0.003505</td>\n",
       "      <td>-0.034017</td>\n",
       "      <td>NaN</td>\n",
       "      <td>-0.003341</td>\n",
       "      <td>-0.024972</td>\n",
       "      <td>0.088047</td>\n",
       "      <td>0.011175</td>\n",
       "      <td>...</td>\n",
       "      <td>0.061759</td>\n",
       "      <td>0.046789</td>\n",
       "      <td>-0.083793</td>\n",
       "      <td>0.125303</td>\n",
       "      <td>0.096846</td>\n",
       "      <td>1.000000</td>\n",
       "      <td>-0.097051</td>\n",
       "      <td>0.077321</td>\n",
       "      <td>0.133512</td>\n",
       "      <td>-0.038854</td>\n",
       "    </tr>\n",
       "    <tr>\n",
       "      <th>ESCOACUM</th>\n",
       "      <td>-0.013477</td>\n",
       "      <td>-0.013477</td>\n",
       "      <td>NaN</td>\n",
       "      <td>-0.013478</td>\n",
       "      <td>0.063322</td>\n",
       "      <td>NaN</td>\n",
       "      <td>-0.013466</td>\n",
       "      <td>0.052100</td>\n",
       "      <td>-0.085397</td>\n",
       "      <td>0.005695</td>\n",
       "      <td>...</td>\n",
       "      <td>0.120413</td>\n",
       "      <td>0.078099</td>\n",
       "      <td>0.151183</td>\n",
       "      <td>0.774627</td>\n",
       "      <td>0.840211</td>\n",
       "      <td>-0.097051</td>\n",
       "      <td>1.000000</td>\n",
       "      <td>0.049415</td>\n",
       "      <td>0.064620</td>\n",
       "      <td>0.084518</td>\n",
       "    </tr>\n",
       "    <tr>\n",
       "      <th>MUN_RES10</th>\n",
       "      <td>0.053232</td>\n",
       "      <td>0.053232</td>\n",
       "      <td>NaN</td>\n",
       "      <td>0.053232</td>\n",
       "      <td>-0.020823</td>\n",
       "      <td>NaN</td>\n",
       "      <td>0.053270</td>\n",
       "      <td>-0.003450</td>\n",
       "      <td>0.028412</td>\n",
       "      <td>-0.000704</td>\n",
       "      <td>...</td>\n",
       "      <td>0.107706</td>\n",
       "      <td>0.076769</td>\n",
       "      <td>-0.004403</td>\n",
       "      <td>0.063769</td>\n",
       "      <td>0.070109</td>\n",
       "      <td>0.077321</td>\n",
       "      <td>0.049415</td>\n",
       "      <td>1.000000</td>\n",
       "      <td>0.569488</td>\n",
       "      <td>-0.022457</td>\n",
       "    </tr>\n",
       "    <tr>\n",
       "      <th>ENT_PAIS_RES10</th>\n",
       "      <td>-0.008587</td>\n",
       "      <td>-0.008587</td>\n",
       "      <td>NaN</td>\n",
       "      <td>-0.008587</td>\n",
       "      <td>-0.006728</td>\n",
       "      <td>NaN</td>\n",
       "      <td>-0.008896</td>\n",
       "      <td>-0.002287</td>\n",
       "      <td>0.042140</td>\n",
       "      <td>0.000010</td>\n",
       "      <td>...</td>\n",
       "      <td>0.186872</td>\n",
       "      <td>0.132535</td>\n",
       "      <td>-0.008362</td>\n",
       "      <td>0.101105</td>\n",
       "      <td>0.101157</td>\n",
       "      <td>0.133512</td>\n",
       "      <td>0.064620</td>\n",
       "      <td>0.569488</td>\n",
       "      <td>1.000000</td>\n",
       "      <td>-0.006807</td>\n",
       "    </tr>\n",
       "    <tr>\n",
       "      <th>TAMLOC</th>\n",
       "      <td>-0.205253</td>\n",
       "      <td>-0.205253</td>\n",
       "      <td>NaN</td>\n",
       "      <td>-0.205257</td>\n",
       "      <td>0.851371</td>\n",
       "      <td>NaN</td>\n",
       "      <td>-0.218260</td>\n",
       "      <td>0.475255</td>\n",
       "      <td>-0.012261</td>\n",
       "      <td>0.008952</td>\n",
       "      <td>...</td>\n",
       "      <td>0.002643</td>\n",
       "      <td>-0.003247</td>\n",
       "      <td>-0.003561</td>\n",
       "      <td>0.003901</td>\n",
       "      <td>0.072875</td>\n",
       "      <td>-0.038854</td>\n",
       "      <td>0.084518</td>\n",
       "      <td>-0.022457</td>\n",
       "      <td>-0.006807</td>\n",
       "      <td>1.000000</td>\n",
       "    </tr>\n",
       "  </tbody>\n",
       "</table>\n",
       "<p>32 rows × 32 columns</p>\n",
       "</div>"
      ],
      "text/plain": [
       "                  ID_VIV  ID_PERSONA  ENT       MUN    LOC50K  COBERTURA  \\\n",
       "ID_VIV          1.000000    1.000000  NaN  1.000000 -0.303399        NaN   \n",
       "ID_PERSONA      1.000000    1.000000  NaN  1.000000 -0.303399        NaN   \n",
       "ENT                  NaN         NaN  NaN       NaN       NaN        NaN   \n",
       "MUN             1.000000    1.000000  NaN  1.000000 -0.303403        NaN   \n",
       "LOC50K         -0.303399   -0.303399  NaN -0.303403  1.000000        NaN   \n",
       "COBERTURA            NaN         NaN  NaN       NaN       NaN        NaN   \n",
       "UPM             0.997366    0.997366  NaN  0.997366 -0.310004        NaN   \n",
       "FACTOR         -0.174642   -0.174642  NaN -0.174646  0.503505        NaN   \n",
       "NUMPER          0.007856    0.007856  NaN  0.007856 -0.017978        NaN   \n",
       "SEXO           -0.001505   -0.001505  NaN -0.001505  0.006181        NaN   \n",
       "EDAD           -0.011607   -0.011607  NaN -0.011607  0.015738        NaN   \n",
       "PARENT         -0.002255   -0.002255  NaN -0.002255 -0.000417        NaN   \n",
       "PARENT_OTRO_C   0.002372    0.002372  NaN  0.002372  0.000329        NaN   \n",
       "IDENT_MADRE    -0.003076   -0.003076  NaN -0.003076  0.004246        NaN   \n",
       "IDENT_PADRE    -0.008833   -0.008833  NaN -0.008833  0.022628        NaN   \n",
       "SERSALUD        0.002774    0.002774  NaN  0.002775 -0.062766        NaN   \n",
       "AFRODES         0.003182    0.003182  NaN  0.003183 -0.018265        NaN   \n",
       "ACTA_NAC       -0.009710   -0.009710  NaN -0.009710  0.008296        NaN   \n",
       "DHSERSAL1      -0.029964   -0.029964  NaN -0.029965  0.089475        NaN   \n",
       "PERTE_INDIGENA -0.024901   -0.024901  NaN -0.024902  0.054208        NaN   \n",
       "ENT_PAIS_NAC   -0.009849   -0.009849  NaN -0.009849  0.000376        NaN   \n",
       "NACIONALIDAD   -0.011379   -0.011379  NaN -0.011379  0.003404        NaN   \n",
       "HLENGUA        -0.011330   -0.011330  NaN -0.011330 -0.001748        NaN   \n",
       "ELENGUA        -0.003980   -0.003980  NaN -0.003979 -0.006623        NaN   \n",
       "ASISTEN        -0.002560   -0.002560  NaN -0.002560 -0.001855        NaN   \n",
       "ESCOLARI        0.000217    0.000217  NaN  0.000217 -0.001253        NaN   \n",
       "NIVACAD        -0.015657   -0.015657  NaN -0.015657  0.054588        NaN   \n",
       "ALFABET        -0.003506   -0.003506  NaN -0.003505 -0.034017        NaN   \n",
       "ESCOACUM       -0.013477   -0.013477  NaN -0.013478  0.063322        NaN   \n",
       "MUN_RES10       0.053232    0.053232  NaN  0.053232 -0.020823        NaN   \n",
       "ENT_PAIS_RES10 -0.008587   -0.008587  NaN -0.008587 -0.006728        NaN   \n",
       "TAMLOC         -0.205253   -0.205253  NaN -0.205257  0.851371        NaN   \n",
       "\n",
       "                     UPM    FACTOR    NUMPER      SEXO  ...   HLENGUA  \\\n",
       "ID_VIV          0.997366 -0.174642  0.007856 -0.001505  ... -0.011330   \n",
       "ID_PERSONA      0.997366 -0.174642  0.007856 -0.001505  ... -0.011330   \n",
       "ENT                  NaN       NaN       NaN       NaN  ...       NaN   \n",
       "MUN             0.997366 -0.174646  0.007856 -0.001505  ... -0.011330   \n",
       "LOC50K         -0.310004  0.503505 -0.017978  0.006181  ... -0.001748   \n",
       "COBERTURA            NaN       NaN       NaN       NaN  ...       NaN   \n",
       "UPM             1.000000 -0.178565  0.007261 -0.001697  ... -0.011945   \n",
       "FACTOR         -0.178565  1.000000 -0.016681  0.008338  ...  0.004829   \n",
       "NUMPER          0.007261 -0.016681  1.000000  0.061884  ...  0.011837   \n",
       "SEXO           -0.001697  0.008338  0.061884  1.000000  ...  0.001554   \n",
       "EDAD           -0.012570  0.013288 -0.332952  0.018901  ...  0.112622   \n",
       "PARENT         -0.002556 -0.001048  0.169333  0.023485  ...  0.096396   \n",
       "PARENT_OTRO_C   0.001660 -0.002958  0.700603  0.100088  ...  0.044955   \n",
       "IDENT_MADRE    -0.002945  0.004976 -0.552496  0.062685  ...  0.000111   \n",
       "IDENT_PADRE    -0.008816  0.022248 -0.506848  0.058935  ...  0.000013   \n",
       "SERSALUD        0.001734 -0.056187  0.039116 -0.016594  ...  0.242939   \n",
       "AFRODES         0.002359 -0.014107 -0.012624 -0.011238  ...  0.111277   \n",
       "ACTA_NAC       -0.009715  0.008235  0.010481  0.004127  ...  0.201917   \n",
       "DHSERSAL1      -0.030688  0.066412 -0.010427 -0.057331  ...  0.030396   \n",
       "PERTE_INDIGENA -0.027607  0.045516 -0.011085 -0.008798  ...  0.086780   \n",
       "ENT_PAIS_NAC   -0.010063  0.000778  0.025186  0.000117  ...  0.193970   \n",
       "NACIONALIDAD   -0.011523  0.002487  0.021356 -0.000045  ...  0.171415   \n",
       "HLENGUA        -0.011945  0.004829  0.011837  0.001554  ...  1.000000   \n",
       "ELENGUA        -0.004568  0.000654  0.016628  0.002381  ...  0.592072   \n",
       "ASISTEN        -0.002738  0.004122 -0.501076  0.024660  ...  0.027210   \n",
       "ESCOLARI       -0.000183 -0.001006 -0.008035 -0.001532  ...  0.144995   \n",
       "NIVACAD        -0.015782  0.045577 -0.025688  0.006802  ...  0.157980   \n",
       "ALFABET        -0.003341 -0.024972  0.088047  0.011175  ...  0.061759   \n",
       "ESCOACUM       -0.013466  0.052100 -0.085397  0.005695  ...  0.120413   \n",
       "MUN_RES10       0.053270 -0.003450  0.028412 -0.000704  ...  0.107706   \n",
       "ENT_PAIS_RES10 -0.008896 -0.002287  0.042140  0.000010  ...  0.186872   \n",
       "TAMLOC         -0.218260  0.475255 -0.012261  0.008952  ...  0.002643   \n",
       "\n",
       "                 ELENGUA   ASISTEN  ESCOLARI   NIVACAD   ALFABET  ESCOACUM  \\\n",
       "ID_VIV         -0.003980 -0.002560  0.000217 -0.015657 -0.003506 -0.013477   \n",
       "ID_PERSONA     -0.003980 -0.002560  0.000217 -0.015657 -0.003506 -0.013477   \n",
       "ENT                  NaN       NaN       NaN       NaN       NaN       NaN   \n",
       "MUN            -0.003979 -0.002560  0.000217 -0.015657 -0.003505 -0.013478   \n",
       "LOC50K         -0.006623 -0.001855 -0.001253  0.054588 -0.034017  0.063322   \n",
       "COBERTURA            NaN       NaN       NaN       NaN       NaN       NaN   \n",
       "UPM            -0.004568 -0.002738 -0.000183 -0.015782 -0.003341 -0.013466   \n",
       "FACTOR          0.000654  0.004122 -0.001006  0.045577 -0.024972  0.052100   \n",
       "NUMPER          0.016628 -0.501076 -0.008035 -0.025688  0.088047 -0.085397   \n",
       "SEXO            0.002381  0.024660 -0.001532  0.006802  0.011175  0.005695   \n",
       "EDAD            0.070988  0.402242  0.079005  0.084190  0.045489  0.072886   \n",
       "PARENT          0.070381 -0.073610  0.042851  0.048898  0.034246  0.030056   \n",
       "PARENT_OTRO_C   0.043157 -0.433253  0.012271  0.023496  0.056554 -0.017910   \n",
       "IDENT_MADRE    -0.008754  0.595966  0.012684 -0.006377 -0.040749  0.044613   \n",
       "IDENT_PADRE    -0.006105  0.524729  0.011433 -0.000917 -0.036887  0.046077   \n",
       "SERSALUD        0.156769  0.016604  0.089990  0.058715  0.057425  0.030342   \n",
       "AFRODES         0.073484  0.016998  0.025607  0.019379  0.017219  0.011601   \n",
       "ACTA_NAC        0.137635  0.006562  0.061422  0.067200  0.033049  0.047798   \n",
       "DHSERSAL1       0.014788  0.052312  0.019234  0.069966 -0.008460  0.074365   \n",
       "PERTE_INDIGENA  0.089704  0.000456  0.024695  0.052400  0.001558  0.052393   \n",
       "ENT_PAIS_NAC    0.130019 -0.015433  0.075175  0.082217  0.031684  0.059703   \n",
       "NACIONALIDAD    0.114642 -0.013087  0.066310  0.073129  0.029811  0.052885   \n",
       "HLENGUA         0.592072  0.027210  0.144995  0.157980  0.061759  0.120413   \n",
       "ELENGUA         1.000000  0.008941  0.092704  0.104828  0.046789  0.078099   \n",
       "ASISTEN         0.008941  1.000000  0.037734  0.043387 -0.083793  0.151183   \n",
       "ESCOLARI        0.092704  0.037734  1.000000  0.716723  0.125303  0.774627   \n",
       "NIVACAD         0.104828  0.043387  0.716723  1.000000  0.096846  0.840211   \n",
       "ALFABET         0.046789 -0.083793  0.125303  0.096846  1.000000 -0.097051   \n",
       "ESCOACUM        0.078099  0.151183  0.774627  0.840211 -0.097051  1.000000   \n",
       "MUN_RES10       0.076769 -0.004403  0.063769  0.070109  0.077321  0.049415   \n",
       "ENT_PAIS_RES10  0.132535 -0.008362  0.101105  0.101157  0.133512  0.064620   \n",
       "TAMLOC         -0.003247 -0.003561  0.003901  0.072875 -0.038854  0.084518   \n",
       "\n",
       "                MUN_RES10  ENT_PAIS_RES10    TAMLOC  \n",
       "ID_VIV           0.053232       -0.008587 -0.205253  \n",
       "ID_PERSONA       0.053232       -0.008587 -0.205253  \n",
       "ENT                   NaN             NaN       NaN  \n",
       "MUN              0.053232       -0.008587 -0.205257  \n",
       "LOC50K          -0.020823       -0.006728  0.851371  \n",
       "COBERTURA             NaN             NaN       NaN  \n",
       "UPM              0.053270       -0.008896 -0.218260  \n",
       "FACTOR          -0.003450       -0.002287  0.475255  \n",
       "NUMPER           0.028412        0.042140 -0.012261  \n",
       "SEXO            -0.000704        0.000010  0.008952  \n",
       "EDAD             0.031443        0.063547  0.020335  \n",
       "PARENT           0.047705        0.066988  0.005955  \n",
       "PARENT_OTRO_C    0.043647        0.053607  0.010256  \n",
       "IDENT_MADRE      0.001377       -0.021517  0.001404  \n",
       "IDENT_PADRE      0.004257       -0.017804  0.022922  \n",
       "SERSALUD         0.078517        0.126190 -0.080531  \n",
       "AFRODES          0.023560        0.042819 -0.022836  \n",
       "ACTA_NAC         0.058472        0.096736  0.009953  \n",
       "DHSERSAL1        0.033307        0.013493  0.104849  \n",
       "PERTE_INDIGENA   0.026352        0.035865  0.075243  \n",
       "ENT_PAIS_NAC     0.051147        0.094038  0.001434  \n",
       "NACIONALIDAD     0.051175        0.084485  0.002842  \n",
       "HLENGUA          0.107706        0.186872  0.002643  \n",
       "ELENGUA          0.076769        0.132535 -0.003247  \n",
       "ASISTEN         -0.004403       -0.008362 -0.003561  \n",
       "ESCOLARI         0.063769        0.101105  0.003901  \n",
       "NIVACAD          0.070109        0.101157  0.072875  \n",
       "ALFABET          0.077321        0.133512 -0.038854  \n",
       "ESCOACUM         0.049415        0.064620  0.084518  \n",
       "MUN_RES10        1.000000        0.569488 -0.022457  \n",
       "ENT_PAIS_RES10   0.569488        1.000000 -0.006807  \n",
       "TAMLOC          -0.022457       -0.006807  1.000000  \n",
       "\n",
       "[32 rows x 32 columns]"
      ]
     },
     "execution_count": 34,
     "metadata": {},
     "output_type": "execute_result"
    }
   ],
   "source": [
    "# Porcentaje de NA por columna:\n",
    "na_por_col = {columna: np.round(100*np.mean(tabla_num[columna].isnull())) for columna in tabla_num}\n",
    "columnas_seleccionadas = [nombre\n",
    "                          for (nombre, porcentaje) in na_por_col.items()\n",
    "                          if porcentaje <= 10]\n",
    "(tabla[columnas_seleccionadas].dropna()).corr()"
   ]
  },
  {
   "cell_type": "code",
   "execution_count": 35,
   "metadata": {},
   "outputs": [],
   "source": [
    "df_nba = pd.read_csv('Datos/Biometricos/nba.csv')\n",
    "df_nfl = pd.read_csv('Datos/Biometricos/nfl.csv')"
   ]
  },
  {
   "cell_type": "code",
   "execution_count": 36,
   "metadata": {},
   "outputs": [
    {
     "data": {
      "text/html": [
       "<div>\n",
       "<style scoped>\n",
       "    .dataframe tbody tr th:only-of-type {\n",
       "        vertical-align: middle;\n",
       "    }\n",
       "\n",
       "    .dataframe tbody tr th {\n",
       "        vertical-align: top;\n",
       "    }\n",
       "\n",
       "    .dataframe thead th {\n",
       "        text-align: right;\n",
       "    }\n",
       "</style>\n",
       "<table border=\"1\" class=\"dataframe\">\n",
       "  <thead>\n",
       "    <tr style=\"text-align: right;\">\n",
       "      <th></th>\n",
       "      <th>edad</th>\n",
       "      <th>estatura</th>\n",
       "      <th>peso</th>\n",
       "    </tr>\n",
       "  </thead>\n",
       "  <tbody>\n",
       "    <tr>\n",
       "      <th>0</th>\n",
       "      <td>23.0</td>\n",
       "      <td>195.58</td>\n",
       "      <td>90.71840</td>\n",
       "    </tr>\n",
       "    <tr>\n",
       "      <th>1</th>\n",
       "      <td>27.0</td>\n",
       "      <td>210.82</td>\n",
       "      <td>106.59412</td>\n",
       "    </tr>\n",
       "    <tr>\n",
       "      <th>2</th>\n",
       "      <td>30.0</td>\n",
       "      <td>208.28</td>\n",
       "      <td>106.59412</td>\n",
       "    </tr>\n",
       "    <tr>\n",
       "      <th>3</th>\n",
       "      <td>29.0</td>\n",
       "      <td>210.82</td>\n",
       "      <td>111.13004</td>\n",
       "    </tr>\n",
       "    <tr>\n",
       "      <th>4</th>\n",
       "      <td>22.0</td>\n",
       "      <td>205.74</td>\n",
       "      <td>106.59412</td>\n",
       "    </tr>\n",
       "  </tbody>\n",
       "</table>\n",
       "</div>"
      ],
      "text/plain": [
       "   edad  estatura       peso\n",
       "0  23.0    195.58   90.71840\n",
       "1  27.0    210.82  106.59412\n",
       "2  30.0    208.28  106.59412\n",
       "3  29.0    210.82  111.13004\n",
       "4  22.0    205.74  106.59412"
      ]
     },
     "execution_count": 36,
     "metadata": {},
     "output_type": "execute_result"
    }
   ],
   "source": [
    "df_nba = df_nba[['age', 'player_height', 'player_weight']]\n",
    "df_nba.columns = ['edad', 'estatura', 'peso']\n",
    "df_nba.head()"
   ]
  },
  {
   "cell_type": "code",
   "execution_count": 37,
   "metadata": {},
   "outputs": [
    {
     "data": {
      "text/html": [
       "<div>\n",
       "<style scoped>\n",
       "    .dataframe tbody tr th:only-of-type {\n",
       "        vertical-align: middle;\n",
       "    }\n",
       "\n",
       "    .dataframe tbody tr th {\n",
       "        vertical-align: top;\n",
       "    }\n",
       "\n",
       "    .dataframe thead th {\n",
       "        text-align: right;\n",
       "    }\n",
       "</style>\n",
       "<table border=\"1\" class=\"dataframe\">\n",
       "  <thead>\n",
       "    <tr style=\"text-align: right;\">\n",
       "      <th></th>\n",
       "      <th>edad</th>\n",
       "      <th>estatura</th>\n",
       "      <th>peso</th>\n",
       "    </tr>\n",
       "  </thead>\n",
       "  <tbody>\n",
       "    <tr>\n",
       "      <th>2</th>\n",
       "      <td>56.0</td>\n",
       "      <td>187.96</td>\n",
       "      <td>104.32616</td>\n",
       "    </tr>\n",
       "    <tr>\n",
       "      <th>3</th>\n",
       "      <td>30.0</td>\n",
       "      <td>185.42</td>\n",
       "      <td>115.66596</td>\n",
       "    </tr>\n",
       "    <tr>\n",
       "      <th>4</th>\n",
       "      <td>25.0</td>\n",
       "      <td>195.58</td>\n",
       "      <td>138.34556</td>\n",
       "    </tr>\n",
       "    <tr>\n",
       "      <th>7</th>\n",
       "      <td>22.0</td>\n",
       "      <td>195.58</td>\n",
       "      <td>113.39800</td>\n",
       "    </tr>\n",
       "    <tr>\n",
       "      <th>11</th>\n",
       "      <td>56.0</td>\n",
       "      <td>175.26</td>\n",
       "      <td>81.64656</td>\n",
       "    </tr>\n",
       "  </tbody>\n",
       "</table>\n",
       "</div>"
      ],
      "text/plain": [
       "    edad  estatura       peso\n",
       "2   56.0    187.96  104.32616\n",
       "3   30.0    185.42  115.66596\n",
       "4   25.0    195.58  138.34556\n",
       "7   22.0    195.58  113.39800\n",
       "11  56.0    175.26   81.64656"
      ]
     },
     "execution_count": 37,
     "metadata": {},
     "output_type": "execute_result"
    }
   ],
   "source": [
    "df_nfl = df_nfl[['Age', 'Height (inches)', 'Weight (lbs)']]\n",
    "df_nfl.columns = ['edad', 'estatura', 'peso']\n",
    "df_nfl['estatura'] = df_nfl['estatura']*2.54\n",
    "df_nfl['peso'] = df_nfl['peso']*0.453592\n",
    "df_nfl = df_nfl[df_nfl['edad'] < 80]\n",
    "df_nfl.head()"
   ]
  },
  {
   "cell_type": "code",
   "execution_count": 38,
   "metadata": {},
   "outputs": [],
   "source": [
    "df_nba.dropna(inplace=True)\n",
    "df_nfl.dropna(inplace=True)"
   ]
  },
  {
   "cell_type": "code",
   "execution_count": 39,
   "metadata": {},
   "outputs": [
    {
     "data": {
      "text/html": [
       "<div>\n",
       "<style scoped>\n",
       "    .dataframe tbody tr th:only-of-type {\n",
       "        vertical-align: middle;\n",
       "    }\n",
       "\n",
       "    .dataframe tbody tr th {\n",
       "        vertical-align: top;\n",
       "    }\n",
       "\n",
       "    .dataframe thead th {\n",
       "        text-align: right;\n",
       "    }\n",
       "</style>\n",
       "<table border=\"1\" class=\"dataframe\">\n",
       "  <thead>\n",
       "    <tr style=\"text-align: right;\">\n",
       "      <th></th>\n",
       "      <th>edad</th>\n",
       "      <th>estatura</th>\n",
       "      <th>peso</th>\n",
       "    </tr>\n",
       "  </thead>\n",
       "  <tbody>\n",
       "    <tr>\n",
       "      <th>edad</th>\n",
       "      <td>1.000000</td>\n",
       "      <td>-0.016669</td>\n",
       "      <td>0.033497</td>\n",
       "    </tr>\n",
       "    <tr>\n",
       "      <th>estatura</th>\n",
       "      <td>-0.016669</td>\n",
       "      <td>1.000000</td>\n",
       "      <td>0.835145</td>\n",
       "    </tr>\n",
       "    <tr>\n",
       "      <th>peso</th>\n",
       "      <td>0.033497</td>\n",
       "      <td>0.835145</td>\n",
       "      <td>1.000000</td>\n",
       "    </tr>\n",
       "  </tbody>\n",
       "</table>\n",
       "</div>"
      ],
      "text/plain": [
       "              edad  estatura      peso\n",
       "edad      1.000000 -0.016669  0.033497\n",
       "estatura -0.016669  1.000000  0.835145\n",
       "peso      0.033497  0.835145  1.000000"
      ]
     },
     "execution_count": 39,
     "metadata": {},
     "output_type": "execute_result"
    }
   ],
   "source": [
    "df_nba.corr()"
   ]
  },
  {
   "cell_type": "code",
   "execution_count": 40,
   "metadata": {},
   "outputs": [
    {
     "data": {
      "text/html": [
       "<div>\n",
       "<style scoped>\n",
       "    .dataframe tbody tr th:only-of-type {\n",
       "        vertical-align: middle;\n",
       "    }\n",
       "\n",
       "    .dataframe tbody tr th {\n",
       "        vertical-align: top;\n",
       "    }\n",
       "\n",
       "    .dataframe thead th {\n",
       "        text-align: right;\n",
       "    }\n",
       "</style>\n",
       "<table border=\"1\" class=\"dataframe\">\n",
       "  <thead>\n",
       "    <tr style=\"text-align: right;\">\n",
       "      <th></th>\n",
       "      <th>edad</th>\n",
       "      <th>estatura</th>\n",
       "      <th>peso</th>\n",
       "    </tr>\n",
       "  </thead>\n",
       "  <tbody>\n",
       "    <tr>\n",
       "      <th>edad</th>\n",
       "      <td>1.000000</td>\n",
       "      <td>-0.021969</td>\n",
       "      <td>-0.200734</td>\n",
       "    </tr>\n",
       "    <tr>\n",
       "      <th>estatura</th>\n",
       "      <td>-0.021969</td>\n",
       "      <td>1.000000</td>\n",
       "      <td>0.699486</td>\n",
       "    </tr>\n",
       "    <tr>\n",
       "      <th>peso</th>\n",
       "      <td>-0.200734</td>\n",
       "      <td>0.699486</td>\n",
       "      <td>1.000000</td>\n",
       "    </tr>\n",
       "  </tbody>\n",
       "</table>\n",
       "</div>"
      ],
      "text/plain": [
       "              edad  estatura      peso\n",
       "edad      1.000000 -0.021969 -0.200734\n",
       "estatura -0.021969  1.000000  0.699486\n",
       "peso     -0.200734  0.699486  1.000000"
      ]
     },
     "execution_count": 40,
     "metadata": {},
     "output_type": "execute_result"
    }
   ],
   "source": [
    "df_nfl.corr()"
   ]
  },
  {
   "cell_type": "code",
   "execution_count": 41,
   "metadata": {},
   "outputs": [
    {
     "data": {
      "image/png": "[encoded data removed]",
      "text/plain": [
       "<Figure size 432x288 with 4 Axes>"
      ]
     },
     "metadata": {
      "needs_background": "light"
     },
     "output_type": "display_data"
    }
   ],
   "source": [
    "df_nba.hist(bins=20, density=True)\n",
    "None"
   ]
  },
  {
   "cell_type": "code",
   "execution_count": 42,
   "metadata": {},
   "outputs": [
    {
     "data": {
      "image/png": "[encoded data removed]",
      "text/plain": [
       "<Figure size 432x288 with 4 Axes>"
      ]
     },
     "metadata": {
      "needs_background": "light"
     },
     "output_type": "display_data"
    }
   ],
   "source": [
    "df_nfl.hist(bins=20, density=True)\n",
    "None"
   ]
  },
  {
   "cell_type": "code",
   "execution_count": 43,
   "metadata": {},
   "outputs": [
    {
     "data": {
      "text/plain": [
       "[<matplotlib.lines.Line2D at 0x213accef198>]"
      ]
     },
     "execution_count": 43,
     "metadata": {},
     "output_type": "execute_result"
    },
    {
     "data": {
      "image/png": "[encoded data removed]",
      "text/plain": [
       "<Figure size 432x288 with 1 Axes>"
      ]
     },
     "metadata": {
      "needs_background": "light"
     },
     "output_type": "display_data"
    }
   ],
   "source": [
    "muestra_nba = df_nba.sample(400)\n",
    "muestra_nfl = df_nfl.sample(400)\n",
    "plt.plot(muestra_nba['estatura'], muestra_nba['peso'], '.', alpha=.1, color='blue')\n",
    "plt.plot(muestra_nfl['estatura'], muestra_nfl['peso'], '.', alpha=.1, color='green')"
   ]
  },
  {
   "cell_type": "markdown",
   "metadata": {},
   "source": [
    "Si $r$ es el coeficiente de correlación de Pearson, la $r^2$ (a veces escrita en mayúscula como $R^2$) es un valor entre 0 y 1 que nos indica el poder explicativo de una variable en términos de la otra."
   ]
  },
  {
   "cell_type": "code",
   "execution_count": 44,
   "metadata": {},
   "outputs": [
    {
     "data": {
      "text/plain": [
       "0.697467171025"
      ]
     },
     "execution_count": 44,
     "metadata": {},
     "output_type": "execute_result"
    }
   ],
   "source": [
    "0.835145**2"
   ]
  },
  {
   "cell_type": "code",
   "execution_count": null,
   "metadata": {},
   "outputs": [],
   "source": []
  }
 ],
 "metadata": {
  "kernelspec": {
   "display_name": "Python 3",
   "language": "python",
   "name": "python3"
  },
  "language_info": {
   "codemirror_mode": {
    "name": "ipython",
    "version": 3
   },
   "file_extension": ".py",
   "mimetype": "text/x-python",
   "name": "python",
   "nbconvert_exporter": "python",
   "pygments_lexer": "ipython3",
   "version": "3.7.6"
  }
 },
 "nbformat": 4,
 "nbformat_minor": 4
}
