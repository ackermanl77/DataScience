{
 "cells": [
  {
   "cell_type": "markdown",
   "metadata": {},
   "source": [
    "# Scores y rankings"
   ]
  },
  {
   "cell_type": "markdown",
   "metadata": {},
   "source": [
    "- Score: Calificación numérica que se calcula a partir de varios atributos (columnas) a cada caso (renglón).\n",
    "- Ranking: Ordenamiento de los casos (renglones) de acuerdo a algún criterio."
   ]
  },
  {
   "cell_type": "markdown",
   "metadata": {},
   "source": [
    "## Scores\n",
    "- Generalmente son combinaciones lineales de los atributos.\n",
    "\n",
    "**Ejemplos**:\n",
    "- Calificaciones de cada persona en la universidad.\n",
    "- Calificación de Steam, que agrega la historia, la jugabilidad, los personajes, etc.\n",
    "- Índice de masa corporal: $\\frac{\\text{peso}}{\\text{estatura}^2}$"
   ]
  },
  {
   "cell_type": "code",
   "execution_count": 1,
   "metadata": {},
   "outputs": [],
   "source": [
    "import itertools\n",
    "import pathlib\n",
    "\n",
    "import matplotlib.pyplot as plt\n",
    "import networkx as nx\n",
    "import numpy as np\n",
    "import pandas as pd\n",
    "from scipy import stats\n",
    "from scipy import special\n",
    "import seaborn as sns"
   ]
  },
  {
   "cell_type": "code",
   "execution_count": 2,
   "metadata": {},
   "outputs": [
    {
     "data": {
      "text/html": [
       "<div>\n",
       "<style scoped>\n",
       "    .dataframe tbody tr th:only-of-type {\n",
       "        vertical-align: middle;\n",
       "    }\n",
       "\n",
       "    .dataframe tbody tr th {\n",
       "        vertical-align: top;\n",
       "    }\n",
       "\n",
       "    .dataframe thead th {\n",
       "        text-align: right;\n",
       "    }\n",
       "</style>\n",
       "<table border=\"1\" class=\"dataframe\">\n",
       "  <thead>\n",
       "    <tr style=\"text-align: right;\">\n",
       "      <th></th>\n",
       "      <th>estatura</th>\n",
       "      <th>peso</th>\n",
       "    </tr>\n",
       "  </thead>\n",
       "  <tbody>\n",
       "    <tr>\n",
       "      <th>0</th>\n",
       "      <td>1.8034</td>\n",
       "      <td>83.900227</td>\n",
       "    </tr>\n",
       "    <tr>\n",
       "      <th>1</th>\n",
       "      <td>1.7780</td>\n",
       "      <td>106.575964</td>\n",
       "    </tr>\n",
       "    <tr>\n",
       "      <th>2</th>\n",
       "      <td>1.8796</td>\n",
       "      <td>104.308390</td>\n",
       "    </tr>\n",
       "    <tr>\n",
       "      <th>3</th>\n",
       "      <td>1.8542</td>\n",
       "      <td>115.646259</td>\n",
       "    </tr>\n",
       "    <tr>\n",
       "      <th>4</th>\n",
       "      <td>1.9558</td>\n",
       "      <td>138.321995</td>\n",
       "    </tr>\n",
       "  </tbody>\n",
       "</table>\n",
       "</div>"
      ],
      "text/plain": [
       "   estatura        peso\n",
       "0    1.8034   83.900227\n",
       "1    1.7780  106.575964\n",
       "2    1.8796  104.308390\n",
       "3    1.8542  115.646259\n",
       "4    1.9558  138.321995"
      ]
     },
     "execution_count": 2,
     "metadata": {},
     "output_type": "execute_result"
    }
   ],
   "source": [
    "nfl = pd.read_csv('Datos/Biometricos/nfl.csv')\n",
    "nfl = nfl[['Height (inches)', 'Weight (lbs)']]\n",
    "nfl.columns = ['estatura', 'peso']\n",
    "nfl['estatura'] = 2.54*nfl['estatura']/100\n",
    "nfl['peso'] = nfl['peso']/2.205\n",
    "nfl = nfl.dropna()\n",
    "nfl.head()"
   ]
  },
  {
   "cell_type": "code",
   "execution_count": 3,
   "metadata": {},
   "outputs": [
    {
     "data": {
      "text/html": [
       "<div>\n",
       "<style scoped>\n",
       "    .dataframe tbody tr th:only-of-type {\n",
       "        vertical-align: middle;\n",
       "    }\n",
       "\n",
       "    .dataframe tbody tr th {\n",
       "        vertical-align: top;\n",
       "    }\n",
       "\n",
       "    .dataframe thead th {\n",
       "        text-align: right;\n",
       "    }\n",
       "</style>\n",
       "<table border=\"1\" class=\"dataframe\">\n",
       "  <thead>\n",
       "    <tr style=\"text-align: right;\">\n",
       "      <th></th>\n",
       "      <th>estatura</th>\n",
       "      <th>peso</th>\n",
       "      <th>imc</th>\n",
       "    </tr>\n",
       "  </thead>\n",
       "  <tbody>\n",
       "    <tr>\n",
       "      <th>0</th>\n",
       "      <td>1.8034</td>\n",
       "      <td>83.900227</td>\n",
       "      <td>25.797582</td>\n",
       "    </tr>\n",
       "    <tr>\n",
       "      <th>1</th>\n",
       "      <td>1.7780</td>\n",
       "      <td>106.575964</td>\n",
       "      <td>33.712872</td>\n",
       "    </tr>\n",
       "    <tr>\n",
       "      <th>2</th>\n",
       "      <td>1.8796</td>\n",
       "      <td>104.308390</td>\n",
       "      <td>29.524896</td>\n",
       "    </tr>\n",
       "    <tr>\n",
       "      <th>3</th>\n",
       "      <td>1.8542</td>\n",
       "      <td>115.646259</td>\n",
       "      <td>33.637091</td>\n",
       "    </tr>\n",
       "    <tr>\n",
       "      <th>4</th>\n",
       "      <td>1.9558</td>\n",
       "      <td>138.321995</td>\n",
       "      <td>36.161161</td>\n",
       "    </tr>\n",
       "  </tbody>\n",
       "</table>\n",
       "</div>"
      ],
      "text/plain": [
       "   estatura        peso        imc\n",
       "0    1.8034   83.900227  25.797582\n",
       "1    1.7780  106.575964  33.712872\n",
       "2    1.8796  104.308390  29.524896\n",
       "3    1.8542  115.646259  33.637091\n",
       "4    1.9558  138.321995  36.161161"
      ]
     },
     "execution_count": 3,
     "metadata": {},
     "output_type": "execute_result"
    }
   ],
   "source": [
    "nfl['imc'] = nfl['peso']/nfl['estatura']**2\n",
    "nfl.head()"
   ]
  },
  {
   "cell_type": "code",
   "execution_count": 4,
   "metadata": {},
   "outputs": [],
   "source": [
    "def categorizar(imc):\n",
    "    if imc < 18.5:\n",
    "        return 'Bajo de peso'\n",
    "    if imc < 25:\n",
    "        return 'Normal'\n",
    "    if imc < 30:\n",
    "        return 'Sobrepeso'\n",
    "    return 'Obesidad'"
   ]
  },
  {
   "cell_type": "code",
   "execution_count": 5,
   "metadata": {},
   "outputs": [
    {
     "data": {
      "text/html": [
       "<div>\n",
       "<style scoped>\n",
       "    .dataframe tbody tr th:only-of-type {\n",
       "        vertical-align: middle;\n",
       "    }\n",
       "\n",
       "    .dataframe tbody tr th {\n",
       "        vertical-align: top;\n",
       "    }\n",
       "\n",
       "    .dataframe thead th {\n",
       "        text-align: right;\n",
       "    }\n",
       "</style>\n",
       "<table border=\"1\" class=\"dataframe\">\n",
       "  <thead>\n",
       "    <tr style=\"text-align: right;\">\n",
       "      <th></th>\n",
       "      <th>estatura</th>\n",
       "      <th>peso</th>\n",
       "      <th>imc</th>\n",
       "      <th>status</th>\n",
       "    </tr>\n",
       "  </thead>\n",
       "  <tbody>\n",
       "    <tr>\n",
       "      <th>0</th>\n",
       "      <td>1.8034</td>\n",
       "      <td>83.900227</td>\n",
       "      <td>25.797582</td>\n",
       "      <td>Sobrepeso</td>\n",
       "    </tr>\n",
       "    <tr>\n",
       "      <th>1</th>\n",
       "      <td>1.7780</td>\n",
       "      <td>106.575964</td>\n",
       "      <td>33.712872</td>\n",
       "      <td>Obesidad</td>\n",
       "    </tr>\n",
       "    <tr>\n",
       "      <th>2</th>\n",
       "      <td>1.8796</td>\n",
       "      <td>104.308390</td>\n",
       "      <td>29.524896</td>\n",
       "      <td>Sobrepeso</td>\n",
       "    </tr>\n",
       "    <tr>\n",
       "      <th>3</th>\n",
       "      <td>1.8542</td>\n",
       "      <td>115.646259</td>\n",
       "      <td>33.637091</td>\n",
       "      <td>Obesidad</td>\n",
       "    </tr>\n",
       "    <tr>\n",
       "      <th>4</th>\n",
       "      <td>1.9558</td>\n",
       "      <td>138.321995</td>\n",
       "      <td>36.161161</td>\n",
       "      <td>Obesidad</td>\n",
       "    </tr>\n",
       "  </tbody>\n",
       "</table>\n",
       "</div>"
      ],
      "text/plain": [
       "   estatura        peso        imc     status\n",
       "0    1.8034   83.900227  25.797582  Sobrepeso\n",
       "1    1.7780  106.575964  33.712872   Obesidad\n",
       "2    1.8796  104.308390  29.524896  Sobrepeso\n",
       "3    1.8542  115.646259  33.637091   Obesidad\n",
       "4    1.9558  138.321995  36.161161   Obesidad"
      ]
     },
     "execution_count": 5,
     "metadata": {},
     "output_type": "execute_result"
    }
   ],
   "source": [
    "nfl['status'] = nfl['imc'].map(categorizar)\n",
    "nfl.head()"
   ]
  },
  {
   "cell_type": "code",
   "execution_count": 6,
   "metadata": {},
   "outputs": [
    {
     "data": {
      "image/png": "[encoded data removed]",
      "text/plain": [
       "<Figure size 432x288 with 1 Axes>"
      ]
     },
     "metadata": {},
     "output_type": "display_data"
    }
   ],
   "source": [
    "sns.set_style('ticks')\n",
    "sns.set_context('paper')\n",
    "sns.scatterplot(x='peso', y='estatura', hue='status', data=nfl)\n",
    "sns.despine()"
   ]
  },
  {
   "cell_type": "code",
   "execution_count": 7,
   "metadata": {},
   "outputs": [
    {
     "data": {
      "text/html": [
       "<div>\n",
       "<style scoped>\n",
       "    .dataframe tbody tr th:only-of-type {\n",
       "        vertical-align: middle;\n",
       "    }\n",
       "\n",
       "    .dataframe tbody tr th {\n",
       "        vertical-align: top;\n",
       "    }\n",
       "\n",
       "    .dataframe thead th {\n",
       "        text-align: right;\n",
       "    }\n",
       "</style>\n",
       "<table border=\"1\" class=\"dataframe\">\n",
       "  <thead>\n",
       "    <tr style=\"text-align: right;\">\n",
       "      <th></th>\n",
       "      <th>estatura</th>\n",
       "      <th>peso</th>\n",
       "      <th>imc</th>\n",
       "      <th>status</th>\n",
       "    </tr>\n",
       "  </thead>\n",
       "  <tbody>\n",
       "    <tr>\n",
       "      <th>0</th>\n",
       "      <td>1.9558</td>\n",
       "      <td>90.71840</td>\n",
       "      <td>23.716276</td>\n",
       "      <td>Normal</td>\n",
       "    </tr>\n",
       "    <tr>\n",
       "      <th>1</th>\n",
       "      <td>2.1082</td>\n",
       "      <td>106.59412</td>\n",
       "      <td>23.983338</td>\n",
       "      <td>Normal</td>\n",
       "    </tr>\n",
       "    <tr>\n",
       "      <th>2</th>\n",
       "      <td>2.0828</td>\n",
       "      <td>106.59412</td>\n",
       "      <td>24.571864</td>\n",
       "      <td>Normal</td>\n",
       "    </tr>\n",
       "    <tr>\n",
       "      <th>3</th>\n",
       "      <td>2.1082</td>\n",
       "      <td>111.13004</td>\n",
       "      <td>25.003906</td>\n",
       "      <td>Sobrepeso</td>\n",
       "    </tr>\n",
       "    <tr>\n",
       "      <th>4</th>\n",
       "      <td>2.0574</td>\n",
       "      <td>106.59412</td>\n",
       "      <td>25.182322</td>\n",
       "      <td>Sobrepeso</td>\n",
       "    </tr>\n",
       "  </tbody>\n",
       "</table>\n",
       "</div>"
      ],
      "text/plain": [
       "   estatura       peso        imc     status\n",
       "0    1.9558   90.71840  23.716276     Normal\n",
       "1    2.1082  106.59412  23.983338     Normal\n",
       "2    2.0828  106.59412  24.571864     Normal\n",
       "3    2.1082  111.13004  25.003906  Sobrepeso\n",
       "4    2.0574  106.59412  25.182322  Sobrepeso"
      ]
     },
     "execution_count": 7,
     "metadata": {},
     "output_type": "execute_result"
    }
   ],
   "source": [
    "nba = pd.read_csv('Datos/Biometricos/nba.csv', index_col=0)\n",
    "nba = nba[['player_height', 'player_weight']]\n",
    "nba.columns = ['estatura', 'peso']\n",
    "nba['estatura'] /= 100\n",
    "nba['imc'] = nba['peso']/nba['estatura']**2\n",
    "nba['status'] = nba['imc'].map(categorizar)\n",
    "nba.head()"
   ]
  },
  {
   "cell_type": "code",
   "execution_count": 8,
   "metadata": {},
   "outputs": [
    {
     "data": {
      "text/plain": [
       "<matplotlib.axes._subplots.AxesSubplot at 0x7ff9625d10f0>"
      ]
     },
     "execution_count": 8,
     "metadata": {},
     "output_type": "execute_result"
    },
    {
     "data": {
      "image/png": "[encoded data removed]",
      "text/plain": [
       "<Figure size 432x288 with 1 Axes>"
      ]
     },
     "metadata": {},
     "output_type": "display_data"
    }
   ],
   "source": [
    "sns.scatterplot(x='peso', y='estatura', hue='status', alpha=0.1, data=nba)"
   ]
  },
  {
   "cell_type": "code",
   "execution_count": 9,
   "metadata": {},
   "outputs": [
    {
     "data": {
      "text/plain": [
       "<matplotlib.axes._subplots.AxesSubplot at 0x7ff9624f4f98>"
      ]
     },
     "execution_count": 9,
     "metadata": {},
     "output_type": "execute_result"
    },
    {
     "data": {
      "image/png": "[encoded data removed]",
      "text/plain": [
       "<Figure size 432x288 with 1 Axes>"
      ]
     },
     "metadata": {},
     "output_type": "display_data"
    }
   ],
   "source": [
    "nfl['origen'] = 'NFL'\n",
    "nba['origen'] = 'NBA'\n",
    "sns.scatterplot(x='peso', y='estatura', hue='origen', alpha=0.05, data=pd.concat([nfl, nba]))"
   ]
  },
  {
   "cell_type": "markdown",
   "metadata": {},
   "source": [
    "## Estándares y proxys"
   ]
  },
  {
   "cell_type": "markdown",
   "metadata": {},
   "source": [
    "- Estándar dorado: aquellos datos que consideramos como verdad absoluta y tangible. En el caso del IMC se trata de la medición exacta de la grasa corporal\n",
    "- Proxy (representante): son datos que aproximan una verdad, como medir qué tan importante es una persona por el número de enlaces en su página de Wikipedia."
   ]
  },
  {
   "cell_type": "markdown",
   "metadata": {},
   "source": [
    "## Scores vs. rankings"
   ]
  },
  {
   "cell_type": "code",
   "execution_count": 10,
   "metadata": {},
   "outputs": [
    {
     "data": {
      "text/plain": [
       "866      46.863283\n",
       "935      46.168557\n",
       "9753     46.103925\n",
       "14133    46.103925\n",
       "9287     45.968325\n",
       "15042    45.638153\n",
       "5890     44.988752\n",
       "13863    44.929189\n",
       "14794    44.929189\n",
       "438      44.863783\n",
       "861      44.849455\n",
       "13321    44.747927\n",
       "4903     44.460443\n",
       "2323     44.287343\n",
       "11599    44.287343\n",
       "6485     44.057994\n",
       "10760    44.030605\n",
       "10803    43.934328\n",
       "5112     43.926084\n",
       "4320     43.812626\n",
       "10789    43.739065\n",
       "3611     43.739065\n",
       "1056     43.739065\n",
       "14025    43.645498\n",
       "91       43.530353\n",
       "7317     43.530353\n",
       "11674    43.530353\n",
       "4660     43.527529\n",
       "14723    43.517129\n",
       "14914    43.388760\n",
       "           ...    \n",
       "12150    22.373963\n",
       "13165    22.373963\n",
       "12723    22.373963\n",
       "16965    22.373963\n",
       "5441     22.373963\n",
       "17025    22.336225\n",
       "10110    22.311422\n",
       "10645    22.311422\n",
       "4278     22.311422\n",
       "9896     22.311422\n",
       "16283    22.238364\n",
       "8090     22.236150\n",
       "11401    22.236150\n",
       "9244     22.147109\n",
       "15378    22.032530\n",
       "12426    21.967164\n",
       "16942    21.967164\n",
       "2399     21.952722\n",
       "7828     21.923122\n",
       "4514     21.893083\n",
       "10654    21.891153\n",
       "4913     21.831564\n",
       "6034     21.822749\n",
       "1113     21.614190\n",
       "215      21.560365\n",
       "5104     21.309272\n",
       "15384    21.289165\n",
       "16290    20.924165\n",
       "3841     20.892410\n",
       "1163      0.109836\n",
       "Name: imc, Length: 17022, dtype: float64"
      ]
     },
     "execution_count": 10,
     "metadata": {},
     "output_type": "execute_result"
    }
   ],
   "source": [
    "nfl['imc'].sort_values(ascending=False)"
   ]
  },
  {
   "cell_type": "markdown",
   "metadata": {},
   "source": [
    "### Z-score\n",
    "\n",
    "Es una forma de normalizar los datos de tal forma que la distribución tenga media 0 y desviación estándar 1.\n",
    "$$Z = \\frac{X - \\mu}{\\sigma}$$"
   ]
  },
  {
   "cell_type": "code",
   "execution_count": 11,
   "metadata": {},
   "outputs": [],
   "source": [
    "def zscore(x):\n",
    "    mu = sum(x)/len(x)\n",
    "    std = (sum((x_i - mu)**2 for x_i in x)/(len(x) - 1))**0.5\n",
    "    z = [(x_i - mu)/std for x_i in x]\n",
    "    return z"
   ]
  },
  {
   "cell_type": "code",
   "execution_count": 12,
   "metadata": {},
   "outputs": [
    {
     "data": {
      "text/plain": [
       "array([-0.97316872, -1.36109617,  0.19061363, ..., -0.58524127,\n",
       "       -0.19731382, -0.19731382])"
      ]
     },
     "execution_count": 12,
     "metadata": {},
     "output_type": "execute_result"
    }
   ],
   "source": [
    "stats.zscore(nfl['estatura'])"
   ]
  },
  {
   "cell_type": "markdown",
   "metadata": {},
   "source": [
    "### Elo Rankings"
   ]
  },
  {
   "cell_type": "markdown",
   "metadata": {},
   "source": [
    "La función *expit* es una función que transforma del intervalo $(-\\infty, \\infty)$ al $(0, 1)$. Se define por:\n",
    "$$f_c(x) = \\frac{1}{1 + \\mathrm{e}^{-c\\,x}}$$\n",
    "\n",
    "Su inversa es *logit*."
   ]
  },
  {
   "cell_type": "code",
   "execution_count": 13,
   "metadata": {},
   "outputs": [
    {
     "data": {
      "text/plain": [
       "[<matplotlib.lines.Line2D at 0x7ff9611bbd30>]"
      ]
     },
     "execution_count": 13,
     "metadata": {},
     "output_type": "execute_result"
    },
    {
     "data": {
      "image/png": "[encoded data removed]",
      "text/plain": [
       "<Figure size 432x288 with 1 Axes>"
      ]
     },
     "metadata": {},
     "output_type": "display_data"
    }
   ],
   "source": [
    "c = 1\n",
    "x = c*np.linspace(-5, 5, num=1000)\n",
    "y = special.expit(x)\n",
    "plt.plot(x, y)"
   ]
  },
  {
   "cell_type": "code",
   "execution_count": 14,
   "metadata": {},
   "outputs": [],
   "source": [
    "partidos = pathlib.Path('Datos/Partidos/')"
   ]
  },
  {
   "cell_type": "code",
   "execution_count": 15,
   "metadata": {},
   "outputs": [
    {
     "data": {
      "text/html": [
       "<div>\n",
       "<style scoped>\n",
       "    .dataframe tbody tr th:only-of-type {\n",
       "        vertical-align: middle;\n",
       "    }\n",
       "\n",
       "    .dataframe tbody tr th {\n",
       "        vertical-align: top;\n",
       "    }\n",
       "\n",
       "    .dataframe thead th {\n",
       "        text-align: right;\n",
       "    }\n",
       "</style>\n",
       "<table border=\"1\" class=\"dataframe\">\n",
       "  <thead>\n",
       "    <tr style=\"text-align: right;\">\n",
       "      <th></th>\n",
       "      <th>Date</th>\n",
       "      <th>HomeTeam</th>\n",
       "      <th>AwayTeam</th>\n",
       "      <th>FTHG</th>\n",
       "      <th>FTAG</th>\n",
       "    </tr>\n",
       "  </thead>\n",
       "  <tbody>\n",
       "    <tr>\n",
       "      <th>0</th>\n",
       "      <td>2008-08-30</td>\n",
       "      <td>Espanol</td>\n",
       "      <td>Valladolid</td>\n",
       "      <td>1</td>\n",
       "      <td>0</td>\n",
       "    </tr>\n",
       "    <tr>\n",
       "      <th>1</th>\n",
       "      <td>2008-08-30</td>\n",
       "      <td>Valencia</td>\n",
       "      <td>Mallorca</td>\n",
       "      <td>3</td>\n",
       "      <td>0</td>\n",
       "    </tr>\n",
       "    <tr>\n",
       "      <th>0</th>\n",
       "      <td>2008-08-30</td>\n",
       "      <td>Espanol</td>\n",
       "      <td>Valladolid</td>\n",
       "      <td>1</td>\n",
       "      <td>0</td>\n",
       "    </tr>\n",
       "    <tr>\n",
       "      <th>1</th>\n",
       "      <td>2008-08-30</td>\n",
       "      <td>Valencia</td>\n",
       "      <td>Mallorca</td>\n",
       "      <td>3</td>\n",
       "      <td>0</td>\n",
       "    </tr>\n",
       "    <tr>\n",
       "      <th>3</th>\n",
       "      <td>2008-08-31</td>\n",
       "      <td>Ath Madrid</td>\n",
       "      <td>Malaga</td>\n",
       "      <td>4</td>\n",
       "      <td>0</td>\n",
       "    </tr>\n",
       "  </tbody>\n",
       "</table>\n",
       "</div>"
      ],
      "text/plain": [
       "        Date    HomeTeam    AwayTeam  FTHG  FTAG\n",
       "0 2008-08-30     Espanol  Valladolid     1     0\n",
       "1 2008-08-30    Valencia    Mallorca     3     0\n",
       "0 2008-08-30     Espanol  Valladolid     1     0\n",
       "1 2008-08-30    Valencia    Mallorca     3     0\n",
       "3 2008-08-31  Ath Madrid      Malaga     4     0"
      ]
     },
     "execution_count": 15,
     "metadata": {},
     "output_type": "execute_result"
    }
   ],
   "source": [
    "tablas = []\n",
    "for archivo in partidos.iterdir():\n",
    "    if archivo.suffix != '.csv': continue\n",
    "    tablas.append(pd.read_csv(archivo, parse_dates=['Date'], dayfirst=True))\n",
    "df = pd.concat(tablas)\n",
    "df = df[['Date', 'HomeTeam', 'AwayTeam', 'FTHG', 'FTAG']]\n",
    "df = df.sort_values('Date')\n",
    "df.head()"
   ]
  },
  {
   "cell_type": "code",
   "execution_count": 16,
   "metadata": {},
   "outputs": [
    {
     "data": {
      "text/html": [
       "<div>\n",
       "<style scoped>\n",
       "    .dataframe tbody tr th:only-of-type {\n",
       "        vertical-align: middle;\n",
       "    }\n",
       "\n",
       "    .dataframe tbody tr th {\n",
       "        vertical-align: top;\n",
       "    }\n",
       "\n",
       "    .dataframe thead th {\n",
       "        text-align: right;\n",
       "    }\n",
       "</style>\n",
       "<table border=\"1\" class=\"dataframe\">\n",
       "  <thead>\n",
       "    <tr style=\"text-align: right;\">\n",
       "      <th></th>\n",
       "      <th>Date</th>\n",
       "      <th>HomeTeam</th>\n",
       "      <th>AwayTeam</th>\n",
       "      <th>FTHG</th>\n",
       "      <th>FTAG</th>\n",
       "    </tr>\n",
       "  </thead>\n",
       "  <tbody>\n",
       "    <tr>\n",
       "      <th>226</th>\n",
       "      <td>2019-02-10</td>\n",
       "      <td>Leganes</td>\n",
       "      <td>Betis</td>\n",
       "      <td>3</td>\n",
       "      <td>0</td>\n",
       "    </tr>\n",
       "    <tr>\n",
       "      <th>227</th>\n",
       "      <td>2019-02-10</td>\n",
       "      <td>Sevilla</td>\n",
       "      <td>Eibar</td>\n",
       "      <td>2</td>\n",
       "      <td>2</td>\n",
       "    </tr>\n",
       "    <tr>\n",
       "      <th>228</th>\n",
       "      <td>2019-02-10</td>\n",
       "      <td>Valencia</td>\n",
       "      <td>Sociedad</td>\n",
       "      <td>0</td>\n",
       "      <td>0</td>\n",
       "    </tr>\n",
       "    <tr>\n",
       "      <th>229</th>\n",
       "      <td>2019-02-11</td>\n",
       "      <td>Alaves</td>\n",
       "      <td>Levante</td>\n",
       "      <td>2</td>\n",
       "      <td>0</td>\n",
       "    </tr>\n",
       "    <tr>\n",
       "      <th>229</th>\n",
       "      <td>2019-02-11</td>\n",
       "      <td>Alaves</td>\n",
       "      <td>Levante</td>\n",
       "      <td>2</td>\n",
       "      <td>0</td>\n",
       "    </tr>\n",
       "  </tbody>\n",
       "</table>\n",
       "</div>"
      ],
      "text/plain": [
       "          Date  HomeTeam  AwayTeam  FTHG  FTAG\n",
       "226 2019-02-10   Leganes     Betis     3     0\n",
       "227 2019-02-10   Sevilla     Eibar     2     2\n",
       "228 2019-02-10  Valencia  Sociedad     0     0\n",
       "229 2019-02-11    Alaves   Levante     2     0\n",
       "229 2019-02-11    Alaves   Levante     2     0"
      ]
     },
     "execution_count": 16,
     "metadata": {},
     "output_type": "execute_result"
    }
   ],
   "source": [
    "df.tail()"
   ]
  },
  {
   "cell_type": "code",
   "execution_count": 17,
   "metadata": {},
   "outputs": [
    {
     "data": {
      "text/html": [
       "<div>\n",
       "<style scoped>\n",
       "    .dataframe tbody tr th:only-of-type {\n",
       "        vertical-align: middle;\n",
       "    }\n",
       "\n",
       "    .dataframe tbody tr th {\n",
       "        vertical-align: top;\n",
       "    }\n",
       "\n",
       "    .dataframe thead th {\n",
       "        text-align: right;\n",
       "    }\n",
       "</style>\n",
       "<table border=\"1\" class=\"dataframe\">\n",
       "  <thead>\n",
       "    <tr style=\"text-align: right;\">\n",
       "      <th></th>\n",
       "      <th>Date</th>\n",
       "      <th>HomeTeam</th>\n",
       "      <th>AwayTeam</th>\n",
       "      <th>FTHG</th>\n",
       "      <th>FTAG</th>\n",
       "      <th>S</th>\n",
       "    </tr>\n",
       "  </thead>\n",
       "  <tbody>\n",
       "    <tr>\n",
       "      <th>0</th>\n",
       "      <td>2008-08-30</td>\n",
       "      <td>Espanol</td>\n",
       "      <td>Valladolid</td>\n",
       "      <td>1</td>\n",
       "      <td>0</td>\n",
       "      <td>1</td>\n",
       "    </tr>\n",
       "    <tr>\n",
       "      <th>1</th>\n",
       "      <td>2008-08-30</td>\n",
       "      <td>Valencia</td>\n",
       "      <td>Mallorca</td>\n",
       "      <td>3</td>\n",
       "      <td>0</td>\n",
       "      <td>1</td>\n",
       "    </tr>\n",
       "    <tr>\n",
       "      <th>0</th>\n",
       "      <td>2008-08-30</td>\n",
       "      <td>Espanol</td>\n",
       "      <td>Valladolid</td>\n",
       "      <td>1</td>\n",
       "      <td>0</td>\n",
       "      <td>1</td>\n",
       "    </tr>\n",
       "    <tr>\n",
       "      <th>1</th>\n",
       "      <td>2008-08-30</td>\n",
       "      <td>Valencia</td>\n",
       "      <td>Mallorca</td>\n",
       "      <td>3</td>\n",
       "      <td>0</td>\n",
       "      <td>1</td>\n",
       "    </tr>\n",
       "    <tr>\n",
       "      <th>3</th>\n",
       "      <td>2008-08-31</td>\n",
       "      <td>Ath Madrid</td>\n",
       "      <td>Malaga</td>\n",
       "      <td>4</td>\n",
       "      <td>0</td>\n",
       "      <td>1</td>\n",
       "    </tr>\n",
       "  </tbody>\n",
       "</table>\n",
       "</div>"
      ],
      "text/plain": [
       "        Date    HomeTeam    AwayTeam  FTHG  FTAG  S\n",
       "0 2008-08-30     Espanol  Valladolid     1     0  1\n",
       "1 2008-08-30    Valencia    Mallorca     3     0  1\n",
       "0 2008-08-30     Espanol  Valladolid     1     0  1\n",
       "1 2008-08-30    Valencia    Mallorca     3     0  1\n",
       "3 2008-08-31  Ath Madrid      Malaga     4     0  1"
      ]
     },
     "execution_count": 17,
     "metadata": {},
     "output_type": "execute_result"
    }
   ],
   "source": [
    "def sgn(x):\n",
    "    if x > 0:\n",
    "        return 1\n",
    "    if x < 0:\n",
    "        return -1\n",
    "    return 0\n",
    "\n",
    "df['S'] = (df['FTHG'] - df['FTAG']).map(sgn)\n",
    "df.head()"
   ]
  },
  {
   "cell_type": "code",
   "execution_count": 18,
   "metadata": {},
   "outputs": [],
   "source": [
    "jugadores = set(df['HomeTeam']).union(df['AwayTeam'])"
   ]
  },
  {
   "cell_type": "code",
   "execution_count": 19,
   "metadata": {},
   "outputs": [],
   "source": [
    "def actualizar_ranking(A, B, S):\n",
    "    mu = 2*special.expit(r[A] - r[B]) - 1\n",
    "    (r[A], r[B]) = (r[A] + k*(S - mu), r[B] + k*(mu - S))"
   ]
  },
  {
   "cell_type": "code",
   "execution_count": 20,
   "metadata": {},
   "outputs": [
    {
     "data": {
      "text/plain": [
       "Barcelona      1.591093\n",
       "Real Madrid    1.329159\n",
       "Ath Madrid     1.073491\n",
       "Sevilla        0.478696\n",
       "Valencia       0.421974\n",
       "Villarreal     0.295338\n",
       "Ath Bilbao     0.228752\n",
       "Sociedad       0.188345\n",
       "Alaves         0.122490\n",
       "Eibar          0.051805\n",
       "Espanol        0.035388\n",
       "Betis          0.014928\n",
       "Getafe         0.009695\n",
       "Girona         0.005108\n",
       "Celta         -0.016605\n",
       "Leganes       -0.076903\n",
       "Huesca        -0.106755\n",
       "Elche         -0.138772\n",
       "Mallorca      -0.139423\n",
       "Levante       -0.155764\n",
       "Tenerife      -0.168681\n",
       "Xerez         -0.171551\n",
       "Hercules      -0.191535\n",
       "Vallecano     -0.206901\n",
       "Numancia      -0.219894\n",
       "Recreativo    -0.224430\n",
       "Valladolid    -0.241690\n",
       "Zaragoza      -0.299326\n",
       "Malaga        -0.320303\n",
       "Cordoba       -0.328618\n",
       "Santander     -0.352861\n",
       "Sp Gijon      -0.363489\n",
       "La Coruna     -0.366203\n",
       "Las Palmas    -0.400461\n",
       "Osasuna       -0.417780\n",
       "Almeria       -0.422289\n",
       "Granada       -0.516031\n",
       "dtype: float64"
      ]
     },
     "execution_count": 20,
     "metadata": {},
     "output_type": "execute_result"
    }
   ],
   "source": [
    "r_inicial, k = 0, .01\n",
    "\n",
    "r = dict.fromkeys(jugadores, r_inicial)\n",
    "for (i, (A, B, S)) in df[['HomeTeam', 'AwayTeam', 'S']].iterrows():\n",
    "    actualizar_ranking(A, B, S)\n",
    "\n",
    "pd.Series(r).sort_values(ascending=False)"
   ]
  },
  {
   "cell_type": "markdown",
   "metadata": {},
   "source": [
    "## Uso de scores para ordenar (generar rankings) en Python"
   ]
  },
  {
   "cell_type": "code",
   "execution_count": 21,
   "metadata": {},
   "outputs": [
    {
     "data": {
      "text/plain": [
       "[{'x': -1, 'y': 1}, {'x': 0, 'y': 0}, {'x': 1, 'y': -1}]"
      ]
     },
     "execution_count": 21,
     "metadata": {},
     "output_type": "execute_result"
    }
   ],
   "source": [
    "class A:\n",
    "    def __repr__(self):\n",
    "        return repr(self.__dict__)\n",
    "\n",
    "a, b, c = A(), A(), A()\n",
    "a.x, a.y = -1, 1\n",
    "b.x, b.y = 0, 0\n",
    "c.x, c.y = 1, -1\n",
    "\n",
    "sorted([a, b, c], key=lambda obj: 2*obj.x + obj.y)"
   ]
  },
  {
   "cell_type": "code",
   "execution_count": 22,
   "metadata": {},
   "outputs": [
    {
     "data": {
      "text/plain": [
       "['c', 'a', 'b']"
      ]
     },
     "execution_count": 22,
     "metadata": {},
     "output_type": "execute_result"
    }
   ],
   "source": [
    "d = {'a': 3, 'b': 8, 'c':-1}\n",
    "sorted(d.keys(), key=d.get)"
   ]
  },
  {
   "cell_type": "markdown",
   "metadata": {},
   "source": [
    "## Mezcla de rankings"
   ]
  },
  {
   "cell_type": "code",
   "execution_count": 23,
   "metadata": {},
   "outputs": [],
   "source": [
    "def borda(rankings, pesos=None):\n",
    "    if pesos is None:\n",
    "        cuantiles = np.linspace(0, 1, num=len(rankings[0]) + 2)[1:-1]\n",
    "        pesos = list(stats.norm(0, 1).ppf(cuantiles))\n",
    "    \n",
    "    mezcla = dict.fromkeys(rankings[0], 0)\n",
    "    for ranking in rankings:\n",
    "        for (elemento, peso) in zip(ranking, pesos):\n",
    "            mezcla[elemento] += peso\n",
    "    return sorted(mezcla.keys(), key=mezcla.get)"
   ]
  },
  {
   "cell_type": "code",
   "execution_count": 24,
   "metadata": {},
   "outputs": [
    {
     "data": {
      "text/plain": [
       "['A', 'B', 'C', 'D', 'E']"
      ]
     },
     "execution_count": 24,
     "metadata": {},
     "output_type": "execute_result"
    }
   ],
   "source": [
    "rankings = [\n",
    "    ['A', 'C', 'B', 'D', 'E'],\n",
    "    ['B', 'A', 'C', 'D', 'E'],\n",
    "    ['A', 'B', 'C', 'E', 'D'],\n",
    "    ['A', 'B', 'D', 'C', 'E']\n",
    "]\n",
    "pesos = [1, 2, 3, 4, 5]\n",
    "\n",
    "borda(rankings, pesos)"
   ]
  },
  {
   "cell_type": "code",
   "execution_count": 25,
   "metadata": {},
   "outputs": [
    {
     "data": {
      "image/png": "[encoded data removed]",
      "text/plain": [
       "<Figure size 432x288 with 1 Axes>"
      ]
     },
     "metadata": {},
     "output_type": "display_data"
    }
   ],
   "source": [
    "elementos = 40\n",
    "N = stats.norm(0, 1)\n",
    "p = np.linspace(0, 1, num=(elementos + 2))[1:-1]\n",
    "x = N.ppf(p)\n",
    "y = N.pdf(x)\n",
    "\n",
    "# Graficar gaussiana\n",
    "a, b = N.ppf([0.001, 0.999])\n",
    "x_grafica = np.linspace(a, b)\n",
    "y_grafica = N.pdf(x_grafica)\n",
    "plt.plot(x_grafica, y_grafica)\n",
    "for xi in x:\n",
    "    plt.axvline(xi, color='red')"
   ]
  },
  {
   "cell_type": "markdown",
   "metadata": {},
   "source": [
    "### Métodos de ranking basados en grafos"
   ]
  },
  {
   "cell_type": "markdown",
   "metadata": {},
   "source": [
    "Un grafo dirigido representa los votos de qué elementos van antes que otros en un ranking. Específicamente, la arista $(u, v)$ representa que hay una restricción para que $u$ preceda a $v$ en el ranking."
   ]
  },
  {
   "cell_type": "code",
   "execution_count": 26,
   "metadata": {},
   "outputs": [
    {
     "data": {
      "image/png": "[encoded data removed]",
      "text/plain": [
       "<Figure size 432x288 with 1 Axes>"
      ]
     },
     "metadata": {},
     "output_type": "display_data"
    }
   ],
   "source": [
    "G = nx.gnm_random_graph(10, 12)\n",
    "H = nx.DiGraph()\n",
    "H.add_nodes_from(G.nodes)\n",
    "for u, v in G.edges:\n",
    "    if np.random.randint(0, 2) == 1:\n",
    "        H.add_edge(u, v)\n",
    "    else:\n",
    "        H.add_edge(v, u)\n",
    "\n",
    "pos = nx.kamada_kawai_layout(G)\n",
    "nx.draw(H, pos, with_labels=True)"
   ]
  },
  {
   "cell_type": "code",
   "execution_count": 27,
   "metadata": {},
   "outputs": [
    {
     "data": {
      "text/plain": [
       "1"
      ]
     },
     "execution_count": 27,
     "metadata": {},
     "output_type": "execute_result"
    }
   ],
   "source": [
    "tiempo = iter(itertools.count(1))\n",
    "next(tiempo)"
   ]
  },
  {
   "cell_type": "code",
   "execution_count": 28,
   "metadata": {},
   "outputs": [
    {
     "data": {
      "text/plain": [
       "2"
      ]
     },
     "execution_count": 28,
     "metadata": {},
     "output_type": "execute_result"
    }
   ],
   "source": [
    "next(tiempo)"
   ]
  },
  {
   "cell_type": "code",
   "execution_count": 29,
   "metadata": {},
   "outputs": [
    {
     "data": {
      "text/plain": [
       "3"
      ]
     },
     "execution_count": 29,
     "metadata": {},
     "output_type": "execute_result"
    }
   ],
   "source": [
    "next(tiempo)"
   ]
  },
  {
   "cell_type": "code",
   "execution_count": 30,
   "metadata": {},
   "outputs": [],
   "source": [
    "def profundidad(G):                    # Recorrido en prof.\n",
    "    def visitar(u):\n",
    "        pre[u] = next(tiempo)          # Descubrimos u\n",
    "        for v in G.neighbors(u):       # Para cada vecino de u\n",
    "            if v in pre: continue      # ...sin descubrir\n",
    "            visitar(v)                 # visitar recursivamente.\n",
    "        post[u] = next(tiempo)         # Finalizamos u\n",
    "    \n",
    "    # Inicializar variables del recorrido\n",
    "    tiempo = itertools.count()\n",
    "    pre, post = {}, {}\n",
    "\n",
    "    # Buscar nodos donde iniciar el recorrido\n",
    "    for r in G.nodes:\n",
    "        if r in pre: continue\n",
    "        visitar(r)\n",
    "    \n",
    "    return pre, post"
   ]
  },
  {
   "cell_type": "code",
   "execution_count": 31,
   "metadata": {},
   "outputs": [
    {
     "data": {
      "text/html": [
       "<div>\n",
       "<style scoped>\n",
       "    .dataframe tbody tr th:only-of-type {\n",
       "        vertical-align: middle;\n",
       "    }\n",
       "\n",
       "    .dataframe tbody tr th {\n",
       "        vertical-align: top;\n",
       "    }\n",
       "\n",
       "    .dataframe thead th {\n",
       "        text-align: right;\n",
       "    }\n",
       "</style>\n",
       "<table border=\"1\" class=\"dataframe\">\n",
       "  <thead>\n",
       "    <tr style=\"text-align: right;\">\n",
       "      <th></th>\n",
       "      <th>pre</th>\n",
       "      <th>post</th>\n",
       "    </tr>\n",
       "  </thead>\n",
       "  <tbody>\n",
       "    <tr>\n",
       "      <th>0</th>\n",
       "      <td>0</td>\n",
       "      <td>1</td>\n",
       "    </tr>\n",
       "    <tr>\n",
       "      <th>1</th>\n",
       "      <td>2</td>\n",
       "      <td>5</td>\n",
       "    </tr>\n",
       "    <tr>\n",
       "      <th>2</th>\n",
       "      <td>3</td>\n",
       "      <td>4</td>\n",
       "    </tr>\n",
       "    <tr>\n",
       "      <th>3</th>\n",
       "      <td>6</td>\n",
       "      <td>9</td>\n",
       "    </tr>\n",
       "    <tr>\n",
       "      <th>4</th>\n",
       "      <td>10</td>\n",
       "      <td>13</td>\n",
       "    </tr>\n",
       "    <tr>\n",
       "      <th>5</th>\n",
       "      <td>14</td>\n",
       "      <td>17</td>\n",
       "    </tr>\n",
       "    <tr>\n",
       "      <th>6</th>\n",
       "      <td>7</td>\n",
       "      <td>8</td>\n",
       "    </tr>\n",
       "    <tr>\n",
       "      <th>7</th>\n",
       "      <td>18</td>\n",
       "      <td>19</td>\n",
       "    </tr>\n",
       "    <tr>\n",
       "      <th>8</th>\n",
       "      <td>15</td>\n",
       "      <td>16</td>\n",
       "    </tr>\n",
       "    <tr>\n",
       "      <th>9</th>\n",
       "      <td>11</td>\n",
       "      <td>12</td>\n",
       "    </tr>\n",
       "  </tbody>\n",
       "</table>\n",
       "</div>"
      ],
      "text/plain": [
       "   pre  post\n",
       "0    0     1\n",
       "1    2     5\n",
       "2    3     4\n",
       "3    6     9\n",
       "4   10    13\n",
       "5   14    17\n",
       "6    7     8\n",
       "7   18    19\n",
       "8   15    16\n",
       "9   11    12"
      ]
     },
     "execution_count": 31,
     "metadata": {},
     "output_type": "execute_result"
    },
    {
     "data": {
      "image/png": "[encoded data removed]",
      "text/plain": [
       "<Figure size 432x288 with 1 Axes>"
      ]
     },
     "metadata": {},
     "output_type": "display_data"
    }
   ],
   "source": [
    "nx.draw(H, pos, with_labels=True)\n",
    "pre, post = profundidad(H)\n",
    "pd.DataFrame({'pre': pre, 'post': post})"
   ]
  },
  {
   "cell_type": "code",
   "execution_count": 32,
   "metadata": {},
   "outputs": [
    {
     "name": "stdout",
     "output_type": "stream",
     "text": [
      "(0 0) (1 (2 2) 1) (3 (6 6) 3) (4 (9 9) 4) (5 (8 8) 5) (7 7)\n"
     ]
    }
   ],
   "source": [
    "parentesis = [None]*(len(G.nodes)*2)\n",
    "for u, t in pre.items():\n",
    "    parentesis[t] = f'({u}'\n",
    "for u, t in post.items():\n",
    "    parentesis[t] = f'{u})'\n",
    "print(*parentesis)"
   ]
  },
  {
   "cell_type": "code",
   "execution_count": 33,
   "metadata": {},
   "outputs": [
    {
     "data": {
      "text/plain": [
       "[0, 2, 1, 6, 3, 9, 4, 8, 5, 7]"
      ]
     },
     "execution_count": 33,
     "metadata": {},
     "output_type": "execute_result"
    }
   ],
   "source": [
    "def toposort(G):\n",
    "    pre, post = profundidad(G)\n",
    "    return sorted(post, key=post.get)\n",
    "\n",
    "toposort(H)"
   ]
  },
  {
   "cell_type": "markdown",
   "metadata": {},
   "source": [
    "## El teorema de imposibilidad de Arrow\n",
    "Denotamos con $A < B$ que el candidato $A$ es preferible a $B$. Un sistema de votación ideal tendría las siguientes características:\n",
    "- **Completez**: Dados dos candidatos $A$ y $B$, el sistema debe decir si $A < B$, $B < A$ ó $A = B$.\n",
    "- **Transitividad**: Si $A < B$ y  $B < C$ entonces $A < C$.\n",
    "- Si todo individuo prefiere $A$ sobre $B$, entonces el sistema rankea $A < B$.\n",
    "- El sistema no debe de depender sólo de una persona (un dictador).\n",
    "- La preferencia de $A$ comparada con $B$ debería ser independiente de las demás alternativas como $C$.\n",
    "\n",
    "El teorema de la imposibilidad de Arrow establece que tal sistema no existe."
   ]
  },
  {
   "cell_type": "markdown",
   "metadata": {},
   "source": [
    "Votante | Rojo | Verde | Azul\n",
    "--------|------|-------|------\n",
    "**x**   |   1  |   2   |  3\n",
    "**y**   |   2  |   3   |  1\n",
    "**z**   |   3  |   1   |  2\n",
    "\n",
    "En esta tabla observamos en cada renglón un ordenamiento de los candidatos **Rojo**, **Verde** y **Azul**.\n",
    "- **Rojo** < **Verde** por mayoría de votos (**x**  y __y__).\n",
    "- **Verde** < **Azul** por mayoría de votos (**x**  y __z__).\n",
    "- Pero **Azul** < **Rojo** según los votos de la mayoría (**y** y __z__)"
   ]
  },
  {
   "cell_type": "code",
   "execution_count": null,
   "metadata": {},
   "outputs": [],
   "source": []
  }
 ],
 "metadata": {
  "kernelspec": {
   "display_name": "Python 3",
   "language": "python",
   "name": "python3"
  },
  "language_info": {
   "codemirror_mode": {
    "name": "ipython",
    "version": 3
   },
   "file_extension": ".py",
   "mimetype": "text/x-python",
   "name": "python",
   "nbconvert_exporter": "python",
   "pygments_lexer": "ipython3",
   "version": "3.7.0"
  }
 },
 "nbformat": 4,
 "nbformat_minor": 4
}
