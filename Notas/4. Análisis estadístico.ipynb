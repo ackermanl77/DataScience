{
 "cells": [
  {
   "cell_type": "code",
   "execution_count": null,
   "metadata": {},
   "outputs": [],
   "source": [
    "import itertools\n",
    "\n",
    "import matplotlib.pyplot as plt\n",
    "import numba\n",
    "import numpy as np\n",
    "from scipy import stats "
   ]
  },
  {
   "cell_type": "markdown",
   "metadata": {},
   "source": [
    "# Análisis estadístico"
   ]
  },
  {
   "cell_type": "markdown",
   "metadata": {},
   "source": [
    "## Introducción a las pruebas de hipótesis\n",
    "Supongamos que se nos da una moneda y al tirarla 30 veces obtenemos 22 soles y 8 águilas. ¿La moneda es justa?\n",
    "- *Hipótesis nula*: El resultado observado se debe al azar.\n",
    "- *Hipótesis alternativa*: La negación de la hipótesis nula.\n",
    "\n",
    "La probabilidad de obtener $k$ soles en $n$ volados donde la probabilidad de obtener sol en un volado es $p$, está dada por:\n",
    "$$\\mathrm{P}(X=k)=\\binom{n}{k} \\, p^k \\, (1 - p)^{n - k}$$\n",
    "\n",
    "*Demostración*. Una sucesión de $n$ volades se puede representar como una sucesión de letras $A$/$S$ (águila o sol). Por ejemplo,\n",
    "$$ASAASSASAAA$$\n",
    "- Si en $n$ volados ocurre $k$ veces sol, es equivalente a seleccionar $k$ símbolos de la sucesión y rellenarlos con $S$ y el resto con $A$. Esto se puede hacer en $\\binom{n}{k}$ formas distintas.\n",
    "- La probabilidad de cada sucesión de $k$ soles en $n$ volados es la probabilidad de obtener $k$ soles y $n -k$ águilas; es decir $p^k\\,(1- p)^{n - k}$.\n",
    "\n",
    "Por lo tanto la probabilidad total de obtener $k$ soles (en cualquier orden) en $n$ volados es $\\binom{n}{k} \\, p^k \\, (1 - p)^{n - k}$. $\\blacksquare$"
   ]
  },
  {
   "cell_type": "code",
   "execution_count": null,
   "metadata": {},
   "outputs": [],
   "source": [
    "n, r = (20, 7)\n",
    "L = list(range(n, n - r, -1))\n",
    "assert len(L) == r\n",
    "assert L[0] == n\n",
    "assert L[-1] == n - r + 1"
   ]
  },
  {
   "cell_type": "code",
   "execution_count": null,
   "metadata": {},
   "outputs": [],
   "source": [
    "def permutaciones_sin_repeticion(n, r):\n",
    "    accum = 1\n",
    "    for x in range(n, n - r, -1):\n",
    "        accum *= x\n",
    "    return accum\n",
    "\n",
    "def factorial(n):\n",
    "    accum = 1\n",
    "    for x in range(2, n + 1):\n",
    "        accum *= x\n",
    "    return accum\n",
    "\n",
    "def combinaciones(n, k):\n",
    "    return permutaciones_sin_repeticion(n, k)//factorial(k)\n",
    "\n",
    "def probabilidad(n, k, p):\n",
    "    return combinaciones(n, k) * p**k * (1 - p)**(n - k)"
   ]
  },
  {
   "cell_type": "code",
   "execution_count": null,
   "metadata": {},
   "outputs": [],
   "source": [
    "import fractions\n",
    "P = probabilidad(30, 22, fractions.Fraction(1/2))\n",
    "print('La probabilidad de 22 soles en 30 volados es', P,', o aprox.', float(P))"
   ]
  },
  {
   "cell_type": "code",
   "execution_count": null,
   "metadata": {},
   "outputs": [],
   "source": [
    "import pandas as pd\n",
    "import matplotlib.pyplot as plt\n",
    "\n",
    "n, p = (30, 1/2)\n",
    "df = pd.DataFrame({\n",
    "    'Cantidad de soles': list(range(31)),\n",
    "    'Probabilidad': [probabilidad(n, k, p) for k in range(31)]})\n",
    "df.head()"
   ]
  },
  {
   "cell_type": "code",
   "execution_count": null,
   "metadata": {},
   "outputs": [],
   "source": [
    "df.plot(x='Cantidad de soles', y='Probabilidad', kind='scatter')"
   ]
  },
  {
   "cell_type": "markdown",
   "metadata": {},
   "source": [
    "Probabilidad de ver entre 9 y 21 soles en 30 volados:"
   ]
  },
  {
   "cell_type": "code",
   "execution_count": null,
   "metadata": {},
   "outputs": [],
   "source": [
    "df[(df['Cantidad de soles'] >= 9) & (df['Cantidad de soles'] <= 21)]['Probabilidad'].sum()"
   ]
  },
  {
   "cell_type": "markdown",
   "metadata": {},
   "source": [
    "Probabilidad de NO ver entre 9 y 21 volados:"
   ]
  },
  {
   "cell_type": "code",
   "execution_count": null,
   "metadata": {},
   "outputs": [],
   "source": [
    "1 - _"
   ]
  },
  {
   "cell_type": "markdown",
   "metadata": {},
   "source": [
    "La probabilidad de observar estos datos con la hipótesis nula $H_0$ se le llama el **p-valor**.\n",
    "- Rechazamos la hipótesis nula cuando el $p$-valor es muy pequeño.\n",
    "- No rechazamos la hipótesis nula cuando el $p$-valor está sobre cierto umbral.\n",
    "\n",
    "Prueba de hipótesis| Aceptar $H_0$ | Rechazar $H_0$\n",
    "-------------------|---------------|---------------\n",
    "$H_0$ es verdadera |     ✓         | Error tipo I (falso positivo)\n",
    "$H_0$ es falsa     | Error tipo II (falso negativo) | ✓\n",
    "\n",
    "<img src=\"https://effectsizefaq.files.wordpress.com/2010/05/type-i-and-type-ii-errors.jpg\" alt=\"Errores de prueba de hipótesis\" width=\"50%\"/>"
   ]
  },
  {
   "cell_type": "markdown",
   "metadata": {},
   "source": [
    "## Método alternativo: simulación"
   ]
  },
  {
   "cell_type": "code",
   "execution_count": null,
   "metadata": {},
   "outputs": [],
   "source": [
    "@numba.jit\n",
    "def calcular_p(n, p, repeticiones=1_000_000):\n",
    "    M = 0\n",
    "    for i in range(repeticiones):\n",
    "        k = np.sum(np.random.random(size=n) < p)\n",
    "        M += int((k > 21) or (k < 8))\n",
    "    return M / repeticiones"
   ]
  },
  {
   "cell_type": "code",
   "execution_count": null,
   "metadata": {},
   "outputs": [],
   "source": [
    "calcular_p(30, 0.5)"
   ]
  },
  {
   "cell_type": "code",
   "execution_count": null,
   "metadata": {},
   "outputs": [],
   "source": [
    "calcular_p(30, 0.5)"
   ]
  },
  {
   "cell_type": "markdown",
   "metadata": {},
   "source": [
    "## Prueba de permutaciones aleatorias para la diferencia de medias"
   ]
  },
  {
   "cell_type": "code",
   "execution_count": null,
   "metadata": {},
   "outputs": [],
   "source": [
    "X = [1.1, 3.0, 2.8, 1.9, 2.5, 2.6]\n",
    "Y = [8.1, 3.5, 5.4, 2.4, 3.0, 4.1]"
   ]
  },
  {
   "cell_type": "code",
   "execution_count": null,
   "metadata": {},
   "outputs": [],
   "source": [
    "def comparar_normales(X, Y):\n",
    "    N_1 = stats.norm(np.mean(X), np.std(X))\n",
    "    N_2 = stats.norm(np.mean(Y), np.std(Y))\n",
    "\n",
    "    a, b = min(itertools.chain(X, Y)), max(itertools.chain(X, Y))\n",
    "    dominio = np.linspace(a, b)\n",
    "    plt.plot(dominio, N_1.pdf(dominio), color='blue')\n",
    "    plt.plot(dominio, N_2.pdf(dominio), color='red')\n",
    "comparar_normales(X, Y)"
   ]
  },
  {
   "cell_type": "code",
   "execution_count": null,
   "metadata": {},
   "outputs": [],
   "source": [
    "X = np.random.normal(loc=8, scale=4, size=30)\n",
    "Y = np.random.normal(loc=8, scale=4, size=40)\n",
    "comparar_normales(X, Y)"
   ]
  },
  {
   "cell_type": "code",
   "execution_count": null,
   "metadata": {},
   "outputs": [],
   "source": [
    "X"
   ]
  },
  {
   "cell_type": "code",
   "execution_count": null,
   "metadata": {},
   "outputs": [],
   "source": [
    "Y"
   ]
  },
  {
   "cell_type": "code",
   "execution_count": null,
   "metadata": {},
   "outputs": [],
   "source": [
    "np.mean(X) - np.mean(Y)"
   ]
  },
  {
   "cell_type": "code",
   "execution_count": null,
   "metadata": {},
   "outputs": [],
   "source": [
    "@numba.jit\n",
    "def prueba_diferencia_medias(X, Y, repeticiones=1_000_000):\n",
    "    Z = np.concatenate([X, Y])\n",
    "    diferencia_obs = np.mean(X) - np.mean(Y)\n",
    "    diferencias = []\n",
    "    for i in range(repeticiones):\n",
    "        np.random.shuffle(Z)\n",
    "        X_simulado = Z[:len(X)]\n",
    "        Y_simulado = Z[len(X):]\n",
    "        diferencias.append(np.mean(X_simulado) - np.mean(Y_simulado))\n",
    "    plt.hist(diferencias, bins=30)\n",
    "    plt.axvline(diferencia_obs, color='red')\n",
    "    return np.sum(np.abs(np.array(diferencias)) >= abs(diferencia_obs))/repeticiones"
   ]
  },
  {
   "cell_type": "code",
   "execution_count": null,
   "metadata": {},
   "outputs": [],
   "source": [
    "prueba_diferencia_medias(X, Y)"
   ]
  },
  {
   "cell_type": "markdown",
   "metadata": {},
   "source": [
    "## Intervalos de confianza para la media"
   ]
  },
  {
   "cell_type": "code",
   "execution_count": null,
   "metadata": {},
   "outputs": [],
   "source": [
    "N = np.random.randint(1, 50, size=20)\n",
    "xbar = [None]*10000\n",
    "for i in range(10000):\n",
    "    sample = N[np.random.randint(len(N), size=len(N))]\n",
    "    xbar[i] = np.mean(sample)\n",
    "\n",
    "plt.hist(xbar, bins=30)"
   ]
  },
  {
   "cell_type": "code",
   "execution_count": null,
   "metadata": {},
   "outputs": [],
   "source": [
    "conf = 95\n",
    "a = (100 - conf)/2\n",
    "b = 100 - a\n",
    "np.percentile(xbar, [a, b])"
   ]
  },
  {
   "cell_type": "code",
   "execution_count": null,
   "metadata": {},
   "outputs": [],
   "source": [
    "np.mean(N)"
   ]
  },
  {
   "cell_type": "code",
   "execution_count": null,
   "metadata": {},
   "outputs": [],
   "source": []
  },
  {
   "cell_type": "code",
   "execution_count": null,
   "metadata": {},
   "outputs": [],
   "source": []
  }
 ],
 "metadata": {
  "kernelspec": {
   "display_name": "Python 3",
   "language": "python",
   "name": "python3"
  },
  "language_info": {
   "codemirror_mode": {
    "name": "ipython",
    "version": 3
   },
   "file_extension": ".py",
   "mimetype": "text/x-python",
   "name": "python",
   "nbconvert_exporter": "python",
   "pygments_lexer": "ipython3",
   "version": "3.7.6"
  }
 },
 "nbformat": 4,
 "nbformat_minor": 4
}
