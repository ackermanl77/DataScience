{
 "cells": [
  {
   "cell_type": "markdown",
   "metadata": {},
   "source": [
    "# Introducción a la Ciencia de Datos"
   ]
  },
  {
   "cell_type": "markdown",
   "metadata": {},
   "source": [
    "## 1. Qué es la Ciencia de Datos\n",
    "\n",
    "> Por un largo tiempo pensé que era un estadístico interesado en las inferencias de lo particular a lo general. Pero según he visto la estadística matemática evolucionar, he tenido motivo para reflexionar y dudar... En resumidas cuentas he llegado a sentir que mi interés central está en el **análisis de datos**, que en mi entendimiento incluye, entre otras cosas: procedimientos para analizar datos, técnicas para interpretar los resultados de dichos procedimientos, maneras de planificar la recolección de datos para que su análisis sea más fácil, preciso o exacto, y toda la maquinaria y resultados de la estadística (matemática) que aplica para el análisis de datos.\n",
    "> <div align=\"right\">(John W. Tukey - 1962)</div>"
   ]
  },
  {
   "cell_type": "markdown",
   "metadata": {},
   "source": [
    "### Como combinación de aptitudes\n",
    "- **Estadística** Para analizar y explorar conjuntos de datos, visualizarlos, y probar hipótesis en ellos. \n",
    "- **Programación** Para el diseño y análsis de algoritmos que escalen bien con la cantidad de datos; extracción procesamiento automático de datos; técnicas de aprendizaje automático.\n",
    "- **Conocimiento de dominio** De la ciencia o negocio en donde se trate de aplicar la ciencia de datos provienen los retos que hay que enfrentar así como los métodos para evaluar el éxito sobre estos mismos.\n",
    "- **Comunicación** Para entender los problemas de dominio y presentar resultados de forma efectiva."
   ]
  },
  {
   "cell_type": "markdown",
   "metadata": {},
   "source": [
    "### Como paradigma científico\n",
    "- **Ciencia experimental** Basada en el razonamiento inductivo; se registran y varían las condiciones en las que ocurre un fenómeno para su posible reproducción.\n",
    "- **Ciencia teórica** Basada en el razonamiento deductivo; se proponen modelos matemáticos (ecuaciones elegantes) que permiten explicar o predecir fenómenos.\n",
    "- **Ciencia computacional** Se realizan simulaciones computarizadas de los fenómenos para tratar de entenderlos y hacer predicciones sobre ellos. Estas simulaciones están basadas en modelos matemáticos o computacionales (programas con reglas simples).\n",
    "- **Ciencia basada en datos** Se hace un uso intensivo de los datos para crear sistemas de predicción efectivos aunque posiblemente carentes de interpretación. En esencia, los modelos son los conjuntos de datos en sí mismos."
   ]
  },
  {
   "cell_type": "markdown",
   "metadata": {},
   "source": [
    "## 2. Taxonomía de datos"
   ]
  },
  {
   "cell_type": "markdown",
   "metadata": {},
   "source": [
    "### Escalas de medición\n",
    "\n",
    "Escala       |Qué mide                |Operaciones                |Ejemplos \n",
    "------------:|------------------------|---------------------------|--------\n",
    "**Nominal**  |Clasificación, membresía|$=$, $\\ne$, agrupar, contar|Colores, especies\n",
    "**Ordinal**  |Comparación, nivel      |$<$, $>$, ordenar          |Grado de estudios, niv. socioeconómico\n",
    "**Intervalo**|Diferencia, afinidad    |$+$, $-$, promedio         |Fechas, temperatura (°C)\n",
    "**Razón**    |Magnitud, cantidad      |$\\times$, $\\div$           |Distancia, masa, duración, ángulo, temperatura (°K)\n",
    "\n",
    "- Los datos booleanos (Sí/No) son usualmente considerados nominales.\n",
    "- Una famosa escala ordinal es la **escala de Likert**, usada comunmente en encuestas:\n",
    "    - *Totalmente en desacuerdo*\n",
    "    - *En desacuerdo*\n",
    "    - *Ni de acuerdo ni en desacuerdo*\n",
    "    - *De acuerdo*\n",
    "    - *Totalmente de acuerdo*\n",
    "- Las escalas de razón se denominan así porque existe un punto de referencia absoluto (el cero) de manera que cualesquiera dos datos en esta escala se pueden expresar como *razón* la una de la otra."
   ]
  },
  {
   "cell_type": "markdown",
   "metadata": {},
   "source": [
    "### Modelo de datos\n",
    "- Los **datos estructurados** son aquellos que están organizados en tablas, como los que se suelen encontrar en bases de datos relacionales y hojas de cálculo.\n",
    "- Los **datos semiestructurados** no se pueden organizar en tablas pero sí preservan una estructura semántica; por ejemplo, las páginas web están escritas en HTML, con marcas que identifican listas, tablas, títulos, etc.\n",
    "- Los **datos sin estructura** no poseen información semántica; ejemplos: imágenes, sonidos, videos, y texto plano."
   ]
  },
  {
   "cell_type": "markdown",
   "metadata": {},
   "source": [
    "## 3. Representación de tablas en Python"
   ]
  },
  {
   "cell_type": "markdown",
   "metadata": {},
   "source": [
    "En la práctica los datos estructurados se organizan en tablas donde cada renglón representa una **observación** y cada columna una **variable**. Ejemplo:\n",
    "\n",
    "|Nombre |Fecha     |Peso (kg)|Score    |Color|\n",
    "|-------|----------|---------|---------|-----|\n",
    "|Adrián |2018-09-27|30       |Pasivo   |Azul |\n",
    "|Beatriz|2013-03-17|40       |Promotor |Rojo |\n",
    "|Carlos |NA        |83       |Detractor|Verde|\n",
    "|Daniela|2014-12-25|29       |Pasivo   |Café |\n",
    "|Ernesto|2090-01-01|50       |NA       |Negro|\n",
    "\n",
    "En el contexto de las bases de datos a las observaciones se les llama **registros** y a las variables **campos**. Para su representación en Python, una tabla se puede entender como una colección de renglones o columnas."
   ]
  },
  {
   "cell_type": "markdown",
   "metadata": {},
   "source": [
    "### Representación por renglones"
   ]
  },
  {
   "cell_type": "code",
   "execution_count": 1,
   "metadata": {},
   "outputs": [
    {
     "name": "stdout",
     "output_type": "stream",
     "text": [
      "Nombre: Carlos\n",
      "Fecha: None\n",
      "Peso (kg): 83\n",
      "Score: Detractor\n",
      "Color: Verde\n"
     ]
    }
   ],
   "source": [
    "import datetime\n",
    "fecha = datetime.datetime.fromisoformat\n",
    "\n",
    "# Crear una tabla\n",
    "tabla_renglones = [\n",
    "    ('Adrián', fecha('2018-09-27'), 30, 'Pasivo', 'Azul' ),\n",
    "    ('Beatriz', fecha('2013-03-17'), 40, 'Promotor', 'Rojo'),\n",
    "    ('Carlos', None, 83, 'Detractor', 'Verde'),\n",
    "    ('Daniela', fecha('2014-12-25'), 29, 'Pasivo', 'Café'),\n",
    "    ('Ernesto', fecha('2090-01-01'), 50, None, 'Negro'),\n",
    "]\n",
    "\n",
    "# Buscar un registro particular:\n",
    "for registro in tabla_renglones:\n",
    "    if registro[0] == 'Carlos':\n",
    "        break\n",
    "else:\n",
    "    raise KeyError('Registro no encontrado')\n",
    "\n",
    "columnas = ['Nombre', 'Fecha', 'Peso (kg)', 'Score', 'Color']\n",
    "for col, val in zip(columnas, registro):\n",
    "    print(f'{col}: {str(val)}')"
   ]
  },
  {
   "cell_type": "markdown",
   "metadata": {},
   "source": [
    "### Representación por columnas\n",
    "La representación como colección de columnas es mejor si pretendemos hacer análsis sobre las mismas, como calcular promedios, graficar distribuciones, etc."
   ]
  },
  {
   "cell_type": "code",
   "execution_count": 2,
   "metadata": {},
   "outputs": [
    {
     "name": "stdout",
     "output_type": "stream",
     "text": [
      "Registros: 5\n",
      "Peso mínimo: 29\n",
      "Peso promedio: 46.4\n",
      "Peso máximo: 83\n"
     ]
    }
   ],
   "source": [
    "# Crear la tabla\n",
    "tabla_columnas = {\n",
    "    'Nombre': ['Adrián', 'Beatriz', 'Carlos', 'Daniela', 'Ernesto'],\n",
    "    'Fecha': [fecha('2018-09-27'), fecha('2013-03-17'),\n",
    "              None, fecha('2014-12-25'), fecha('2090-01-01')],\n",
    "    'Peso (kg)': [30, 40, 83, 29, 50],\n",
    "    'Promotor': ['Pasivo', 'Promotor', 'Detractor', 'Pasigo', None],\n",
    "    'Color': ['Azul', 'Rojo', 'Verde', 'Café', 'Negro']\n",
    "}\n",
    "\n",
    "# Analizar la columna Peso (kg)\n",
    "columna = tabla_columnas['Peso (kg)']\n",
    "print('Registros:', len(columna))\n",
    "print('Peso mínimo:', min(columna))\n",
    "print('Peso promedio:', sum(columna)/len(columna))\n",
    "print('Peso máximo:', max(columna))"
   ]
  },
  {
   "cell_type": "markdown",
   "metadata": {},
   "source": [
    "### Uso de pandas\n",
    "La biblioteca [pandas][1] está dedicada al análisis de datos en Python, y su característica fundamental es que provee una estructura de datos, llamada *DataFrame*, para representar tablas de forma eficiente y permite hacer operaciones avanzadas con ellas.\n",
    "\n",
    "[1]:https://pandas.pydata.org/"
   ]
  },
  {
   "cell_type": "code",
   "execution_count": 3,
   "metadata": {},
   "outputs": [
    {
     "data": {
      "text/html": [
       "<div>\n",
       "<style scoped>\n",
       "    .dataframe tbody tr th:only-of-type {\n",
       "        vertical-align: middle;\n",
       "    }\n",
       "\n",
       "    .dataframe tbody tr th {\n",
       "        vertical-align: top;\n",
       "    }\n",
       "\n",
       "    .dataframe thead th {\n",
       "        text-align: right;\n",
       "    }\n",
       "</style>\n",
       "<table border=\"1\" class=\"dataframe\">\n",
       "  <thead>\n",
       "    <tr style=\"text-align: right;\">\n",
       "      <th></th>\n",
       "      <th>Nombre</th>\n",
       "      <th>Fecha</th>\n",
       "      <th>Peso (kg)</th>\n",
       "      <th>Promotor</th>\n",
       "      <th>Color</th>\n",
       "    </tr>\n",
       "  </thead>\n",
       "  <tbody>\n",
       "    <tr>\n",
       "      <th>0</th>\n",
       "      <td>Adrián</td>\n",
       "      <td>2018-09-27</td>\n",
       "      <td>30</td>\n",
       "      <td>Pasivo</td>\n",
       "      <td>Azul</td>\n",
       "    </tr>\n",
       "    <tr>\n",
       "      <th>1</th>\n",
       "      <td>Beatriz</td>\n",
       "      <td>2013-03-17</td>\n",
       "      <td>40</td>\n",
       "      <td>Promotor</td>\n",
       "      <td>Rojo</td>\n",
       "    </tr>\n",
       "    <tr>\n",
       "      <th>2</th>\n",
       "      <td>Carlos</td>\n",
       "      <td>NaT</td>\n",
       "      <td>83</td>\n",
       "      <td>Detractor</td>\n",
       "      <td>Verde</td>\n",
       "    </tr>\n",
       "    <tr>\n",
       "      <th>3</th>\n",
       "      <td>Daniela</td>\n",
       "      <td>2014-12-25</td>\n",
       "      <td>29</td>\n",
       "      <td>Pasigo</td>\n",
       "      <td>Café</td>\n",
       "    </tr>\n",
       "    <tr>\n",
       "      <th>4</th>\n",
       "      <td>Ernesto</td>\n",
       "      <td>2090-01-01</td>\n",
       "      <td>50</td>\n",
       "      <td>None</td>\n",
       "      <td>Negro</td>\n",
       "    </tr>\n",
       "  </tbody>\n",
       "</table>\n",
       "</div>"
      ],
      "text/plain": [
       "    Nombre      Fecha  Peso (kg)   Promotor  Color\n",
       "0   Adrián 2018-09-27         30     Pasivo   Azul\n",
       "1  Beatriz 2013-03-17         40   Promotor   Rojo\n",
       "2   Carlos        NaT         83  Detractor  Verde\n",
       "3  Daniela 2014-12-25         29     Pasigo   Café\n",
       "4  Ernesto 2090-01-01         50       None  Negro"
      ]
     },
     "execution_count": 3,
     "metadata": {},
     "output_type": "execute_result"
    }
   ],
   "source": [
    "# Por convención se importa pandas como pd\n",
    "import pandas as pd\n",
    "\n",
    "# Mandamos la representación por columnas al método constructor\n",
    "tabla = pd.DataFrame(tabla_columnas)\n",
    "tabla"
   ]
  },
  {
   "cell_type": "code",
   "execution_count": 4,
   "metadata": {},
   "outputs": [
    {
     "data": {
      "text/html": [
       "<div>\n",
       "<style scoped>\n",
       "    .dataframe tbody tr th:only-of-type {\n",
       "        vertical-align: middle;\n",
       "    }\n",
       "\n",
       "    .dataframe tbody tr th {\n",
       "        vertical-align: top;\n",
       "    }\n",
       "\n",
       "    .dataframe thead th {\n",
       "        text-align: right;\n",
       "    }\n",
       "</style>\n",
       "<table border=\"1\" class=\"dataframe\">\n",
       "  <thead>\n",
       "    <tr style=\"text-align: right;\">\n",
       "      <th></th>\n",
       "      <th>Nombre</th>\n",
       "      <th>Fecha</th>\n",
       "      <th>Peso (kg)</th>\n",
       "      <th>Promotor</th>\n",
       "      <th>Color</th>\n",
       "    </tr>\n",
       "  </thead>\n",
       "  <tbody>\n",
       "    <tr>\n",
       "      <th>2</th>\n",
       "      <td>Carlos</td>\n",
       "      <td>NaT</td>\n",
       "      <td>83</td>\n",
       "      <td>Detractor</td>\n",
       "      <td>Verde</td>\n",
       "    </tr>\n",
       "  </tbody>\n",
       "</table>\n",
       "</div>"
      ],
      "text/plain": [
       "   Nombre Fecha  Peso (kg)   Promotor  Color\n",
       "2  Carlos   NaT         83  Detractor  Verde"
      ]
     },
     "execution_count": 4,
     "metadata": {},
     "output_type": "execute_result"
    }
   ],
   "source": [
    "seleccion = (tabla['Nombre'] == 'Carlos')\n",
    "tabla[seleccion]"
   ]
  },
  {
   "cell_type": "code",
   "execution_count": 5,
   "metadata": {},
   "outputs": [
    {
     "data": {
      "text/plain": [
       "count     5.000000\n",
       "mean     46.400000\n",
       "std      22.165288\n",
       "min      29.000000\n",
       "25%      30.000000\n",
       "50%      40.000000\n",
       "75%      50.000000\n",
       "max      83.000000\n",
       "Name: Peso (kg), dtype: float64"
      ]
     },
     "execution_count": 5,
     "metadata": {},
     "output_type": "execute_result"
    }
   ],
   "source": [
    "tabla['Peso (kg)'].describe()"
   ]
  },
  {
   "cell_type": "code",
   "execution_count": 6,
   "metadata": {},
   "outputs": [
    {
     "data": {
      "text/html": [
       "<div>\n",
       "<style scoped>\n",
       "    .dataframe tbody tr th:only-of-type {\n",
       "        vertical-align: middle;\n",
       "    }\n",
       "\n",
       "    .dataframe tbody tr th {\n",
       "        vertical-align: top;\n",
       "    }\n",
       "\n",
       "    .dataframe thead th {\n",
       "        text-align: right;\n",
       "    }\n",
       "</style>\n",
       "<table border=\"1\" class=\"dataframe\">\n",
       "  <thead>\n",
       "    <tr style=\"text-align: right;\">\n",
       "      <th></th>\n",
       "      <th>Nombre</th>\n",
       "      <th>Fecha</th>\n",
       "    </tr>\n",
       "  </thead>\n",
       "  <tbody>\n",
       "    <tr>\n",
       "      <th>0</th>\n",
       "      <td>Adrián</td>\n",
       "      <td>2018-09-27</td>\n",
       "    </tr>\n",
       "    <tr>\n",
       "      <th>1</th>\n",
       "      <td>Beatriz</td>\n",
       "      <td>2013-03-17</td>\n",
       "    </tr>\n",
       "    <tr>\n",
       "      <th>2</th>\n",
       "      <td>Carlos</td>\n",
       "      <td>NaT</td>\n",
       "    </tr>\n",
       "    <tr>\n",
       "      <th>3</th>\n",
       "      <td>Daniela</td>\n",
       "      <td>2014-12-25</td>\n",
       "    </tr>\n",
       "    <tr>\n",
       "      <th>4</th>\n",
       "      <td>Ernesto</td>\n",
       "      <td>2090-01-01</td>\n",
       "    </tr>\n",
       "  </tbody>\n",
       "</table>\n",
       "</div>"
      ],
      "text/plain": [
       "    Nombre      Fecha\n",
       "0   Adrián 2018-09-27\n",
       "1  Beatriz 2013-03-17\n",
       "2   Carlos        NaT\n",
       "3  Daniela 2014-12-25\n",
       "4  Ernesto 2090-01-01"
      ]
     },
     "execution_count": 6,
     "metadata": {},
     "output_type": "execute_result"
    }
   ],
   "source": [
    "# Seleccionar columnas\n",
    "tabla[['Nombre', 'Fecha']]"
   ]
  },
  {
   "cell_type": "code",
   "execution_count": 7,
   "metadata": {},
   "outputs": [
    {
     "data": {
      "text/html": [
       "<div>\n",
       "<style scoped>\n",
       "    .dataframe tbody tr th:only-of-type {\n",
       "        vertical-align: middle;\n",
       "    }\n",
       "\n",
       "    .dataframe tbody tr th {\n",
       "        vertical-align: top;\n",
       "    }\n",
       "\n",
       "    .dataframe thead th {\n",
       "        text-align: right;\n",
       "    }\n",
       "</style>\n",
       "<table border=\"1\" class=\"dataframe\">\n",
       "  <thead>\n",
       "    <tr style=\"text-align: right;\">\n",
       "      <th></th>\n",
       "      <th>Nombre</th>\n",
       "      <th>Fecha</th>\n",
       "      <th>Peso (kg)</th>\n",
       "      <th>Promotor</th>\n",
       "      <th>Color</th>\n",
       "    </tr>\n",
       "  </thead>\n",
       "  <tbody>\n",
       "    <tr>\n",
       "      <th>0</th>\n",
       "      <td>Adrián</td>\n",
       "      <td>2018-09-27</td>\n",
       "      <td>30</td>\n",
       "      <td>Pasivo</td>\n",
       "      <td>Azul</td>\n",
       "    </tr>\n",
       "    <tr>\n",
       "      <th>1</th>\n",
       "      <td>Beatriz</td>\n",
       "      <td>2013-03-17</td>\n",
       "      <td>40</td>\n",
       "      <td>Promotor</td>\n",
       "      <td>Rojo</td>\n",
       "    </tr>\n",
       "    <tr>\n",
       "      <th>3</th>\n",
       "      <td>Daniela</td>\n",
       "      <td>2014-12-25</td>\n",
       "      <td>29</td>\n",
       "      <td>Pasigo</td>\n",
       "      <td>Café</td>\n",
       "    </tr>\n",
       "  </tbody>\n",
       "</table>\n",
       "</div>"
      ],
      "text/plain": [
       "    Nombre      Fecha  Peso (kg)  Promotor Color\n",
       "0   Adrián 2018-09-27         30    Pasivo  Azul\n",
       "1  Beatriz 2013-03-17         40  Promotor  Rojo\n",
       "3  Daniela 2014-12-25         29    Pasigo  Café"
      ]
     },
     "execution_count": 7,
     "metadata": {},
     "output_type": "execute_result"
    }
   ],
   "source": [
    "# Seleccionar renglones\n",
    "seleccion = (tabla['Peso (kg)'] < 50)\n",
    "tabla[seleccion]"
   ]
  },
  {
   "cell_type": "code",
   "execution_count": 8,
   "metadata": {},
   "outputs": [
    {
     "data": {
      "text/html": [
       "<div>\n",
       "<style scoped>\n",
       "    .dataframe tbody tr th:only-of-type {\n",
       "        vertical-align: middle;\n",
       "    }\n",
       "\n",
       "    .dataframe tbody tr th {\n",
       "        vertical-align: top;\n",
       "    }\n",
       "\n",
       "    .dataframe thead th {\n",
       "        text-align: right;\n",
       "    }\n",
       "</style>\n",
       "<table border=\"1\" class=\"dataframe\">\n",
       "  <thead>\n",
       "    <tr style=\"text-align: right;\">\n",
       "      <th></th>\n",
       "      <th>Nombre</th>\n",
       "      <th>Fecha</th>\n",
       "      <th>Peso (kg)</th>\n",
       "      <th>Promotor</th>\n",
       "      <th>Color</th>\n",
       "    </tr>\n",
       "  </thead>\n",
       "  <tbody>\n",
       "    <tr>\n",
       "      <th>1</th>\n",
       "      <td>Beatriz</td>\n",
       "      <td>2013-03-17</td>\n",
       "      <td>40</td>\n",
       "      <td>Promotor</td>\n",
       "      <td>Rojo</td>\n",
       "    </tr>\n",
       "    <tr>\n",
       "      <th>2</th>\n",
       "      <td>Carlos</td>\n",
       "      <td>NaT</td>\n",
       "      <td>83</td>\n",
       "      <td>Detractor</td>\n",
       "      <td>Verde</td>\n",
       "    </tr>\n",
       "    <tr>\n",
       "      <th>4</th>\n",
       "      <td>Ernesto</td>\n",
       "      <td>2090-01-01</td>\n",
       "      <td>50</td>\n",
       "      <td>None</td>\n",
       "      <td>Negro</td>\n",
       "    </tr>\n",
       "  </tbody>\n",
       "</table>\n",
       "</div>"
      ],
      "text/plain": [
       "    Nombre      Fecha  Peso (kg)   Promotor  Color\n",
       "1  Beatriz 2013-03-17         40   Promotor   Rojo\n",
       "2   Carlos        NaT         83  Detractor  Verde\n",
       "4  Ernesto 2090-01-01         50       None  Negro"
      ]
     },
     "execution_count": 8,
     "metadata": {},
     "output_type": "execute_result"
    }
   ],
   "source": [
    "# Combinación de condicionales con operadores booleanos\n",
    "tabla[~(tabla['Peso (kg)'] < 50) | (tabla['Promotor'] == 'Promotor')]"
   ]
  },
  {
   "cell_type": "code",
   "execution_count": 9,
   "metadata": {},
   "outputs": [
    {
     "data": {
      "text/html": [
       "<div>\n",
       "<style scoped>\n",
       "    .dataframe tbody tr th:only-of-type {\n",
       "        vertical-align: middle;\n",
       "    }\n",
       "\n",
       "    .dataframe tbody tr th {\n",
       "        vertical-align: top;\n",
       "    }\n",
       "\n",
       "    .dataframe thead th {\n",
       "        text-align: right;\n",
       "    }\n",
       "</style>\n",
       "<table border=\"1\" class=\"dataframe\">\n",
       "  <thead>\n",
       "    <tr style=\"text-align: right;\">\n",
       "      <th></th>\n",
       "      <th>Nombre</th>\n",
       "      <th>Fecha</th>\n",
       "      <th>Peso (kg)</th>\n",
       "      <th>Promotor</th>\n",
       "      <th>Color</th>\n",
       "      <th>Peso (lb)</th>\n",
       "    </tr>\n",
       "  </thead>\n",
       "  <tbody>\n",
       "    <tr>\n",
       "      <th>0</th>\n",
       "      <td>Adrián</td>\n",
       "      <td>2018-09-27</td>\n",
       "      <td>30</td>\n",
       "      <td>Pasivo</td>\n",
       "      <td>Azul</td>\n",
       "      <td>66.13860</td>\n",
       "    </tr>\n",
       "    <tr>\n",
       "      <th>1</th>\n",
       "      <td>Beatriz</td>\n",
       "      <td>2013-03-17</td>\n",
       "      <td>40</td>\n",
       "      <td>Promotor</td>\n",
       "      <td>Rojo</td>\n",
       "      <td>88.18480</td>\n",
       "    </tr>\n",
       "    <tr>\n",
       "      <th>2</th>\n",
       "      <td>Carlos</td>\n",
       "      <td>NaT</td>\n",
       "      <td>83</td>\n",
       "      <td>Detractor</td>\n",
       "      <td>Verde</td>\n",
       "      <td>182.98346</td>\n",
       "    </tr>\n",
       "    <tr>\n",
       "      <th>3</th>\n",
       "      <td>Daniela</td>\n",
       "      <td>2014-12-25</td>\n",
       "      <td>29</td>\n",
       "      <td>Pasigo</td>\n",
       "      <td>Café</td>\n",
       "      <td>63.93398</td>\n",
       "    </tr>\n",
       "    <tr>\n",
       "      <th>4</th>\n",
       "      <td>Ernesto</td>\n",
       "      <td>2090-01-01</td>\n",
       "      <td>50</td>\n",
       "      <td>None</td>\n",
       "      <td>Negro</td>\n",
       "      <td>110.23100</td>\n",
       "    </tr>\n",
       "  </tbody>\n",
       "</table>\n",
       "</div>"
      ],
      "text/plain": [
       "    Nombre      Fecha  Peso (kg)   Promotor  Color  Peso (lb)\n",
       "0   Adrián 2018-09-27         30     Pasivo   Azul   66.13860\n",
       "1  Beatriz 2013-03-17         40   Promotor   Rojo   88.18480\n",
       "2   Carlos        NaT         83  Detractor  Verde  182.98346\n",
       "3  Daniela 2014-12-25         29     Pasigo   Café   63.93398\n",
       "4  Ernesto 2090-01-01         50       None  Negro  110.23100"
      ]
     },
     "execution_count": 9,
     "metadata": {},
     "output_type": "execute_result"
    }
   ],
   "source": [
    "# Procesamiento de columnas\n",
    "tabla['Peso (lb)'] = tabla['Peso (kg)']*2.20462\n",
    "tabla"
   ]
  }
 ],
 "metadata": {
  "kernelspec": {
   "display_name": "Python 3",
   "language": "python",
   "name": "python3"
  },
  "language_info": {
   "codemirror_mode": {
    "name": "ipython",
    "version": 2
   },
   "file_extension": ".py",
   "mimetype": "text/x-python",
   "name": "python",
   "nbconvert_exporter": "python",
   "pygments_lexer": "ipython2",
   "version": "2.7.15"
  }
 },
 "nbformat": 4,
 "nbformat_minor": 2
}
