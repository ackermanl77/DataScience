{
 "cells": [
  {
   "cell_type": "markdown",
   "metadata": {},
   "source": [
    "# Reconciliación de datos\n",
    "\n",
    "Los datos generalmente presentan muchos tipos de problemas:\n",
    "- A veces faltan datos (NA) quizá por que los encuestados no respondieron algunas preguntas.\n",
    "- Algunas ocasiones los datos están mal codificados, haciendo que, por ejeplo, una fecha aparezca en el lugar del peso de un jugador de la NFL\n",
    "- Otras ocasiones los encuestadores tienen límites máximos respecto a los valores que pueden codificar, así, personas de más de 100 años se les pone 99.\n",
    "- A veces en un conjunto de datos se usa el sistema métrico decimal y en otros el sistema inglés.\n",
    "\n",
    "Arreglar estos problemas se le conoce como reconsiliación de datos o *limpieza de datos*."
   ]
  },
  {
   "cell_type": "markdown",
   "metadata": {},
   "source": [
    "## 1. Lenguajes y software para ciencia de datos\n",
    "- [Python](https://youtu.be/fk8ATuMUltU). Es básicamente el estándar, y sigue ganando popularidad.\n",
    "- [R](https://cran.r-project.org/). Fue el lenguaje dominante para hacer estadística hasta hace poco.\n",
    "- [Microsoft Excel](https://products.office.com/es-MX/). Es el caballito de batalla para limpiar datos.\n",
    "\n",
    "**Menciones honoríficas**\n",
    "- [SAS](https://www.sas.com/es_mx/home.html). Líder en la industria de Analítica (según ellos). Es un software con su propio lenguaje de dominio.\n",
    "- [SPSS](https://www.ibm.com/analytics/mx/es/technology/spss/index.html). Es una interfaz gráfica para usar métodos de estadística y aprendizaje automático.\n",
    "- [Matlab](https://www.mathworks.com/products/matlab.html). Entorno de desarrollo para cómputo científico.\n",
    "- [Mathematica](https://www.wolfram.com/mathematica/). Un sistema de álgebra computacional con esteroides. Hace de todo, pero no es específico de ciencia de datos.\n"
   ]
  },
  {
   "cell_type": "markdown",
   "metadata": {},
   "source": [
    "## Tecnologías para almacenar datos\n",
    "Se le da preferencia a las tecnologías opensource sobre los formatos propietarios.\n",
    "- CSV. Significa valores separados por comas por sus siglas en inglés. Está regido por https://tools.ietf.org/html/rfc4180\n",
    "- JSON. Es la manera en que se transportan estructuras de datos de JavaScript a través de Internet. Especificación: https://tools.ietf.org/html/rfc4627\n",
    "- XML. Inspirado en HTML y popular en Java. Sumamente verbal. \n",
    "- SQLite. Es un sistema de base de datos de cero configuración, se usa en Android, aplicaciones de escritorio, y es recomendado como estándar por el gobierno de USA."
   ]
  },
  {
   "cell_type": "code",
   "execution_count": 1,
   "metadata": {},
   "outputs": [],
   "source": [
    "import random\n",
    "import sqlite3\n",
    "\n",
    "import numpy as np\n",
    "import pandas as pd"
   ]
  },
  {
   "cell_type": "code",
   "execution_count": 2,
   "metadata": {},
   "outputs": [],
   "source": [
    "con = sqlite3.connect('Datos/ejemplo.db')"
   ]
  },
  {
   "cell_type": "code",
   "execution_count": 3,
   "metadata": {},
   "outputs": [
    {
     "ename": "OperationalError",
     "evalue": "table ejemplo already exists",
     "output_type": "error",
     "traceback": [
      "\u001b[1;31m---------------------------------------------------------------------------\u001b[0m",
      "\u001b[1;31mOperationalError\u001b[0m                          Traceback (most recent call last)",
      "\u001b[1;32m<ipython-input-3-5d3b4629b643>\u001b[0m in \u001b[0;36m<module>\u001b[1;34m\u001b[0m\n\u001b[0;32m      5\u001b[0m         \u001b[0mcampo3\u001b[0m \u001b[0mTEXT\u001b[0m\u001b[1;33m,\u001b[0m\u001b[1;33m\u001b[0m\u001b[1;33m\u001b[0m\u001b[0m\n\u001b[0;32m      6\u001b[0m     PRIMARY KEY (campo1)) \n\u001b[1;32m----> 7\u001b[1;33m ''')\n\u001b[0m\u001b[0;32m      8\u001b[0m \u001b[1;33m\u001b[0m\u001b[0m\n\u001b[0;32m      9\u001b[0m \u001b[0mcampo1\u001b[0m \u001b[1;33m=\u001b[0m \u001b[0mrange\u001b[0m\u001b[1;33m(\u001b[0m\u001b[1;36m1\u001b[0m\u001b[1;33m,\u001b[0m \u001b[1;36m101\u001b[0m\u001b[1;33m)\u001b[0m\u001b[1;33m\u001b[0m\u001b[1;33m\u001b[0m\u001b[0m\n",
      "\u001b[1;31mOperationalError\u001b[0m: table ejemplo already exists"
     ]
    }
   ],
   "source": [
    "con.execute('''\n",
    "    CREATE TABLE ejemplo (\n",
    "        campo1 INTEGER ,\n",
    "        campo2 REAL,\n",
    "        campo3 TEXT,\n",
    "    PRIMARY KEY (campo1)) \n",
    "''')\n",
    "\n",
    "campo1 = range(1, 101)\n",
    "campo2 = [random.random() for k in range(100)]\n",
    "campo3 = ['Hola' for k in range(100)]\n",
    "\n",
    "for renglon in zip(campo1, campo2, campo3):\n",
    "    con.execute(\n",
    "        '''\n",
    "        INSERT INTO ejemplo\n",
    "        VALUES (?, ?, ?)\n",
    "        ''',\n",
    "        renglon)\n",
    "con.commit()"
   ]
  },
  {
   "cell_type": "code",
   "execution_count": null,
   "metadata": {},
   "outputs": [],
   "source": [
    "list(con.execute('SELECT * FROM ejemplo WHERE campo2 > 0.9'))"
   ]
  },
  {
   "cell_type": "markdown",
   "metadata": {},
   "source": [
    "## Detección de errores y artefactos en los datos"
   ]
  },
  {
   "cell_type": "markdown",
   "metadata": {},
   "source": [
    "- **Errores**: datos que están permanentemente inaccesibles.\n",
    "- **Artefactos**: datos que presentan problemas sistemáticos que surgen de del procesamiento, codificación, etc."
   ]
  },
  {
   "cell_type": "code",
   "execution_count": null,
   "metadata": {},
   "outputs": [],
   "source": []
  }
 ],
 "metadata": {
  "kernelspec": {
   "display_name": "Python 3",
   "language": "python",
   "name": "python3"
  },
  "language_info": {
   "codemirror_mode": {
    "name": "ipython",
    "version": 3
   },
   "file_extension": ".py",
   "mimetype": "text/x-python",
   "name": "python",
   "nbconvert_exporter": "python",
   "pygments_lexer": "ipython3",
   "version": "3.7.6"
  }
 },
 "nbformat": 4,
 "nbformat_minor": 4
}
