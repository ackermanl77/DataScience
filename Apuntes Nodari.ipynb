{
 "cells": [
  {
   "cell_type": "markdown",
   "metadata": {},
   "source": [
    "# Pasos para la descripciónde un problema\n",
    "    1. Descripción y comprensión del problema 'verbal'\n",
    "    2. Objetos\n",
    "    3. parametros de los objetos = entrada de datos\n",
    "    4. restricciones\n",
    "    5. funcion objetivo"
   ]
  },
  {
   "cell_type": "markdown",
   "metadata": {},
   "source": [
    "### Ejemplo problema del viajero\n",
    "\n",
    "\n",
    "- Descripción\n",
    "    - Objetos -> ciudades\n",
    "    - parametros -> numero de ciudades, distancia entre ciudades\n",
    "    - restricciones -> pasar una vez por cada ciudad\n",
    "                        visitar todas las ciudades\n",
    "                        regresar al punto de inicio\n",
    "        - Las restricciones definen el conjunto de soluciones factibles\n",
    "    - funcion-objetivo -> minimizar la distancia recorrida\n",
    "        - El costo sería de:\n",
    "            - $$ C(i_{1}, i_{2}, i_{3},\\cdots, i_{n}) = \\sum_{j=1}^{n} d_{i_{j} i_{j+1}} + d_{i_{n} i_{1}} $$"
   ]
  },
  {
   "cell_type": "markdown",
   "metadata": {},
   "source": [
    "## Definiciones"
   ]
  },
  {
   "cell_type": "markdown",
   "metadata": {},
   "source": [
    "- 1.Grafo\n",
    "    - Un grafo es la unión de dos conjuntos( Un conjunto de certices y uno de aristas)\n",
    "        - 1.1 Grafo dirigido\n",
    "            - $$ e_{ij} \\neq e_{ji}$$\n",
    "        - 1.2 Grafo no dirigido\n",
    "            - $$ e_{ij} = e_{ji}$$"
   ]
  },
  {
   "cell_type": "markdown",
   "metadata": {},
   "source": [
    "- 2.Arbol\n",
    "    - Un arbol es un grafo conectado(de un vertice cualquiera hacia otro en el arbol existe un camino) sin ciclos|"
   ]
  },
  {
   "cell_type": "markdown",
   "metadata": {},
   "source": [
    "- 3.Camino\n",
    "    - Un camino es una secuencia finita de aristas\n",
    "        - Representado con aristas $$ C_{i_{1},i_{n}} = e_{i_{1}i_{2}}, e_{i_{2}i_{3}}, e_{i_{3}i_{4}},\\cdots, e_{i_{n-1}i_{n}} $$\n",
    "        - Representado con vertices $$ C = (V_{i_{1}},V_{i_{2}}), (V_{i_{2}},V_{i_{3}}), (V_{i_{3}},V_{i_{4}}),\\cdots, (V_{i_{k-1}},V_{i_{k}})  $$"
   ]
  },
  {
   "cell_type": "markdown",
   "metadata": {},
   "source": [
    "- 4.Ciclo\n",
    "    - Un ciclo es un camino desde el vertice de inicio al vertice final donde el vertice de inicio es el mismo que el final\n",
    "        - Representado con aristas $$ C_{i_{1},i_{n}} = e_{i_{1}i_{2}}, e_{i_{2}i_{3}}, e_{i_{3}i_{4}},\\cdots, e_{i_{n-1}i_{n}} $$ donde $ i_{n}=i_{1} $\n",
    "        - Representado con vertices $$ C = (V_{i_{1}},V_{i_{2}}), (V_{i_{2}},V_{i_{3}}), (V_{i_{3}},V_{i_{4}}),\\cdots, (V_{i_{k-1}},V_{i_{k}}) $$ donde $ V_{i_{k}}=V_{i_{1}} $"
   ]
  },
  {
   "cell_type": "markdown",
   "metadata": {},
   "source": [
    "- 5.Arbol enraizado\n",
    "    - Es un arbol con una estructura especial(con una raiz es un vertice especial(No tiene antecedor) y cualquier vertice del arbol es un sucesor de este(un vertice es sucesor directo de otro si existe un arco(arista) entre estos) y esta definición se aplica recursivamente sobre el arbol(Cada vertice tiene solo un precesor directo y cada uno de estos puede tener uno o mas sucesores directos))"
   ]
  },
  {
   "cell_type": "markdown",
   "metadata": {},
   "source": [
    "- 6.Arbol binario\n",
    "    - En teoría de grafos, se usa la siguiente definición: «Un árbol binario es un grafo conexo, acíclico y no dirigido tal que el grado de cada vértice no es mayor a 3». De esta forma solo existe un camino entre un par de nodos.\n",
    "    - Un árbol binario con enraizado es como un grafo que tiene uno de sus vértices, llamado raíz, de grado no mayor a 2. Con la raíz escogida, cada vértice tendrá un único padre, y nunca más de dos hijos. Si rehusamos el requerimiento de la conectividad, permitiendo múltiples componentes conectados en el grafo, llamaremos a esta última estructura un bosque'. \n",
    "    - En teoría de grafos, un árbol es un grafo en el que cualesquier dos vértices están conectados por exactamente un camino. Un bosque es una unión disjunta de árboles. Un árbol a veces recibe el nombre de árbol libre.\n",
    "    - Un arbol binario completo es aquel donde cualquier vertice que no es hoja tiene dos hojas"
   ]
  },
  {
   "cell_type": "markdown",
   "metadata": {},
   "source": [
    "- 7.Grafo plano\n",
    "    - Es un grafo donde no se intersectan las aristas. En general, puede determinarse que un grafo no es plano, si en su diseño puede encontrase una estructura análoga (conocida como menor) a $K_{5}$ o a $K_{3,3}$."
   ]
  },
  {
   "cell_type": "markdown",
   "metadata": {},
   "source": [
    "- 8.Grafo bipartito\n",
    "    - Un grafo G es bipartito si puede expresarse como $$ G = \\{ V_{1}\\cup V_{2}, E \\} $$ (es decir, sus vértices son la unión de dos grupos de vértices), bajo las siguientes condiciones:\n",
    "         - $V_{1}$ y $V_{2}$ son disjuntos y no vacíos.\n",
    "         - Cada arista de E une un vértice de $V_{1}$ con uno de $V_{2}$.\n",
    "         - No existen aristas uniendo dos elementos de $V_{1}$ ; análogamente para $V_{2}$."
   ]
  },
  {
   "cell_type": "markdown",
   "metadata": {},
   "source": [
    "## Recorrido en arboles"
   ]
  },
  {
   "cell_type": "markdown",
   "metadata": {},
   "source": [
    "- Inorden: (izquierdo, raíz, derecho). Para recorrer un árbol binario no vacío en inorden (simétrico), hay que realizar las siguientes operaciones recursivamente en cada nodo:\n",
    "    - Atraviese el sub-árbol izquierdo\n",
    "    - Visite la raíz\n",
    "    - Atraviese el sub-árbol derecho"
   ]
  },
  {
   "cell_type": "markdown",
   "metadata": {},
   "source": [
    "- Preorden: (raíz, izquierdo, derecho). Para recorrer un árbol binario no vacío en preorden, hay que realizar las siguientes operaciones recursivamente en cada nodo, comenzando con el nodo de raíz:\n",
    "    - Visite la raíz\n",
    "    - Atraviese el sub-árbol izquierdo\n",
    "    - Atraviese el sub-árbol derecho"
   ]
  },
  {
   "cell_type": "markdown",
   "metadata": {},
   "source": [
    "- Postorden: (izquierdo, derecho, raíz). Para recorrer un árbol binario no vacío en postorden, hay que realizar las siguientes operaciones recursivamente en cada nodo:\n",
    "    - Atraviese el sub-árbol izquierdo\n",
    "    - Atraviese el sub-árbol derecho\n",
    "    - Visite la raíz"
   ]
  },
  {
   "cell_type": "markdown",
   "metadata": {},
   "source": [
    "## Algoritmo pasos\n",
    "    1.Descripción informal del algoritmo\n",
    "    2.Pseudocodigo\n",
    "    3.Implementación del pseudocodigo"
   ]
  },
  {
   "cell_type": "markdown",
   "metadata": {},
   "source": [
    "### Ejemplo de busqueda lineal\n",
    "    1. Descripción del problema: Dado un arreglo de n elementos y un elemento d, decir si d esta en el arreglo o no.\n",
    "    2. Objetos: Arreglo\n",
    "    3. Parametros: arreglo y numero d a encontrar\n",
    "    4. Restricciones: ninguna\n",
    "    5. función-objetivo: decir si el numero a encontrar esta en el arreglo o no"
   ]
  },
  {
   "cell_type": "markdown",
   "metadata": {},
   "source": [
    "### Ejemplo de busqueda lineal\n",
    "- Descripción informal: Verificamos elemento por elementode el arreglo y verificamos si el numero dado esta en el arreglo y acaba cuando el elemento es encontrado o todos los elementos del arreglo fueron verificados "
   ]
  },
  {
   "cell_type": "markdown",
   "metadata": {},
   "source": [
    "***\n",
    "    Procedure busqueda(lista[1,...n],d:=elemento a encontrar) {\n",
    "      encontrado:=no\n",
    "      for i:=1 to n{\n",
    "          if(lista[i]=d){\n",
    "              encontrado:=si\n",
    "              break;\n",
    "          }\n",
    "       }\n",
    "       if(encontrado=si){\n",
    "           print(\"numero encontrado\")  \n",
    "       }else{\n",
    "           print(\"numero d no esta en la lista\")\n",
    "       }\n",
    "     }\n",
    "***"
   ]
  },
  {
   "cell_type": "markdown",
   "metadata": {},
   "source": [
    "## Complejidad\n",
    "   - En caso peor son n comparaciones\n",
    "   - En caso promedio son n/2 comparaciones"
   ]
  },
  {
   "cell_type": "markdown",
   "metadata": {},
   "source": [
    "## Validez\n",
    "  - Caso 1: Si el elemento esta en la lista su indice es j cuando i=j entonces regresa el elemento en el indice j.\n",
    "  - Caso 2: Si no esta en la lista se comprueban todos los elementos del arreglo y se imprime que no esta en el arreglo"
   ]
  },
  {
   "cell_type": "markdown",
   "metadata": {},
   "source": [
    "## Busqueda binaria\n",
    "- Paso 1: Dada una lista ordenada de n elementos verificar si el elemento a buscar es mayor que el primer elemento y el ultimo elemento es mayor al numero que se busca si se cumplen estas condiciones entonces dividimos la lista en dos partes y repetimos el mismo procedimiento en los otras dos listas en caso de encontrar el numero terminamos el ciclo y devolvemos que se encontro el numero y la posición en caso contrario se repite este porcedimiento hasta tener listas de un solo elemento si el numero no esta en estas listas se termina el algoritmo y regresa que el numero no esta en el arreglo"
   ]
  },
  {
   "cell_type": "markdown",
   "metadata": {},
   "source": [
    "***\n",
    "    Procedure busqueda_binaria(lista[1,...n],d=elemento a encontrar) {\n",
    "        if(lista[1]>d or lista[n]<d){\n",
    "            encontrado:=no\n",
    "        }else{\n",
    "            if(lista[1]=d){\n",
    "                encontrado:=si\n",
    "            }\n",
    "            else if(lista[n//2]=d){\n",
    "                encontrado:=si\n",
    "            }\n",
    "            else if(lista[n]=d){\n",
    "                encontrado:=si\n",
    "            }else{\n",
    "                if(lista[n//2]>d){\n",
    "                    lista:=lista[1:n//2]\n",
    "                    busqueda_binaria(lista,d)\n",
    "                }else{\n",
    "                    lista:=lista[n//2:n]\n",
    "                    busqueda_binaria(lista,d)\n",
    "                }\n",
    "            }\n",
    "           return encontrado\n",
    "     }\n",
    "***"
   ]
  },
  {
   "cell_type": "markdown",
   "metadata": {},
   "source": [
    "***\n",
    "    Procedure bubbleSort(lista[1,...n]) {\n",
    "        for(i:=1;i<=n-1,i++){\n",
    "            for(j:=i+1;j<=n;j++){\n",
    "                if(lista[i]>lista[j]){\n",
    "                    swap(lista[i],lista[j])\n",
    "                }\n",
    "            }\n",
    "        }\n",
    "        return lista\n",
    "     }\n",
    "***\n",
    "***     \n",
    "      Procedure swap(x,y) {\n",
    "       temp:=x\n",
    "       x:=y\n",
    "       y:=temp\n",
    "     }\n",
    "***"
   ]
  },
  {
   "cell_type": "markdown",
   "metadata": {},
   "source": [
    "- Dada una lista de n elementos supuestamente ordenada se debe ir comparando desde el elemento i=1 hasta n \n",
    "     - Si el elemento i<n entonces i es el minimo y se aplica el mismo proceso para i+1 hasta n\n",
    "     - Si despues de aplicar las comparaciones se comprueba que cada uno de los elementos estan ordenados de forma adecuada(no creciente,no decreciente)"
   ]
  },
  {
   "cell_type": "markdown",
   "metadata": {},
   "source": [
    "## Validez\n",
    "   - Para n=1 \n",
    "        - La lista esta ordenada\n",
    "   - H.I.\n",
    "       - La lista que devuelve el algoritmo despues de la iteración i esta ordenada\n",
    "   - P.D.\n",
    "       - La lista que devuelve el algoritmo en la iteración i+1 esta ordenada\n",
    "   \n",
    "   - Por la construcción del algoritmo posiciona el elemento i+1 como el minimo de los elementos de la lista actual\n",
    "     $lista_{i+1}$ es el elemento minimo entre i+1 y n\n",
    "     $\\Rightarrow$ la lista actual consiste $lista_{j_{i+1}} > lista_{j_{i}}$ $\\Rightarrow$\n",
    "     $lista_{j_{1}} \\leq lista_{j_{2}} \\leq \\dots \\leq lista_{j_{i}} \\leq lista_{j_{i+1}}$"
   ]
  },
  {
   "cell_type": "markdown",
   "metadata": {},
   "source": [
    "***\n",
    "    Procedure MergeSort(lista[1,...n]) {\n",
    "        if(n>1){\n",
    "               return merge(mergesort(lista[1,...n//2]), mergesort(lista[n//2+1,...,n])\n",
    "         }else{\n",
    "              return lista\n",
    "         }\n",
    "     }\n",
    "     \n",
    "      Procedure Merge(x[1,..,k],y[1,..,l]){\n",
    "          if(k:=0){\n",
    "              return y[1,...,l]\n",
    "          }\n",
    "          if(l:=0){\n",
    "              return x[1,...,k]\n",
    "          }\n",
    "          if(x[1] <= y[1]){\n",
    "              return x[1] o merge(x[2,...,k],y[1,...,l]) \n",
    "          }else{\n",
    "              return y[1] o merge(x[1,...,k],y[2,...,l]) \n",
    "          }\n",
    "     }\n",
    "***\n",
    "- Donde o significa concatenación"
   ]
  },
  {
   "cell_type": "markdown",
   "metadata": {},
   "source": [
    "## Validez\n",
    "  - "
   ]
  },
  {
   "cell_type": "markdown",
   "metadata": {},
   "source": [
    "# Greedy algorithms"
   ]
  },
  {
   "cell_type": "markdown",
   "metadata": {},
   "source": [
    "  - El algoritmo voraz consiste en generar una solución factible por iteraciones\n",
    "  - Solución factible es un arreglo de los objetos del problema que satisfacen las restricciones\n",
    "  - Complejidad temporal de un algoritmo voraz para un problema de n objetos es n por el costo de decisión para cada una de las n iteraciones $O(n)$.Cantidad de objetos de el problema dado es igual que el número de iteraciones\n",
    "      - numero de elementos x costo de selección\n",
    "  - En cada iteración se toma una decisión para comprobar si al tomar el siguiente elemento se genera una solución factible"
   ]
  },
  {
   "cell_type": "markdown",
   "metadata": {},
   "source": [
    "***\n",
    "    Algorithm Greedy(a[1,...,n]){\n",
    "          solution={}\n",
    "          for i:=1 to n do{\n",
    "              x=Select(a)\n",
    "              if Feasible(solution,x) then{\n",
    "                  solution:=Union(solution,x) \n",
    "              }\n",
    "          }\n",
    "          return solution\n",
    "     }\n",
    "***"
   ]
  },
  {
   "cell_type": "markdown",
   "metadata": {},
   "source": [
    "## Problema del viajero\n",
    " - Solución factible es una permutación de n elementos si el numero de elementos es n (en cada iteración toma una decisión final sobre que elemento incluir en el arreglo)\n",
    " - Solución factible completa incluye n elementos \n",
    " - Elegimos cualquier ciudad que no este en el conjunto \n",
    "     -  $$ \\mathbb{G} = \\emptyset $$\n",
    "     -  $$ \\mathbb{G} = i_{1},i_{2},\\cdots,i_{j}$$\n",
    "     -  $$ i_{j} \\notin \\mathbb{G_{j-1}} $$"
   ]
  },
  {
   "cell_type": "markdown",
   "metadata": {},
   "source": [
    "***\n",
    "   - Algorithm TSP(a[[1:n][1:n]]){\n",
    "   - j:=1\n",
    "   - $\\mathbb{G} = \\emptyset$\n",
    "   - for $a_{ji}=2$ to n\n",
    "      - if $i \\notin \\mathbb{G}$ and $i\\neq j$ then \n",
    "        - $t:=i$\n",
    "      - for $k:=i$ to n\n",
    "        - if $ a_{jk}<a{it}$ then\n",
    "            - $t:=k$\n",
    "   - $\\mathbb{G_{j+1}} := \\mathbb{G} \\cup {a_{jk}}$\n",
    "   - $j:=j+1$\n",
    "***   "
   ]
  },
  {
   "cell_type": "markdown",
   "metadata": {},
   "source": [
    "- maximo numero de aristas grafo dirigido=$(n-1)^{2}$\n",
    "- maximo numero de aristas grafo no dirigido=$\\frac{(n-1)^{2}}{2}$\n",
    "- función objetivo: Encontrar el camino con el peso minimo total"
   ]
  },
  {
   "cell_type": "markdown",
   "metadata": {},
   "source": [
    "## Problema de la mochila"
   ]
  },
  {
   "cell_type": "markdown",
   "metadata": {},
   "source": [
    "- Objetos: n \n",
    "- parametros: cada objeto tiene un peso $w_{i}$ y un beneficio $p_{i}$ y la mochila tiene una capacidad $M$\n",
    "- restricciones: $\\sum_{i=1}^{n} w_{i}x_{i} < M$\n",
    "- función objetivo: max $\\sum_{i=1}^{n} p_{i}x_{i}$ \n",
    "    - donde $0 \\leq x_{i} \\leq 1$ y $1 \\leq i \\leq n$"
   ]
  },
  {
   "cell_type": "markdown",
   "metadata": {},
   "source": [
    "   - Si una fracción $x_{i}$, $0 \\leq x_{i} \\leq 1$ de el objeto i es colocada en la mochila, entonces una ganancia de $p_{i}x_{i}$ es obtenida. El objetivo es obtener una forma de llenar la mochila tal que la ganancia sea la maxima\n",
    "   - Una solución factible es cualquier conjunto $(x_{1},\\dots,x_{k})$\n",
    "   - Una solución optima es una solución factible para la cual la ganancia es la maxima"
   ]
  },
  {
   "cell_type": "markdown",
   "metadata": {},
   "source": [
    "- Existen tres diferentes medidads de optimización\n",
    "  - total de ganancia\n",
    "  - capacidad utilizada\n",
    "  - proporción de ganacia acumulada a la capacidad usada"
   ]
  },
  {
   "cell_type": "markdown",
   "metadata": {},
   "source": [
    "### Lema 4.1: En el caso de que la suma de todos los pesos es $\\leq m$ entonces $x_{i}=1$,  $1 \\leq i \\leq n$ es una solución optima\n",
    "  - Demostración: Supongamos que la suma de los pasos exceda a m. Ahora todos los $x_{i}$'s no pueden ser 1. Otra observación a hacer es:"
   ]
  },
  {
   "cell_type": "markdown",
   "metadata": {},
   "source": [
    "### Lema 4.2 Todas las soluciones optimas van a llenar la mochila exactamente\n",
    "  - Lema 4.2 es verdadero ya que siempre podemos incrementar la contribución de algun objeto i por una cantidad fraccional hasta que el total de peso sea exactamente m"
   ]
  },
  {
   "cell_type": "markdown",
   "metadata": {},
   "source": [
    "***\n",
    "    procedure GREEDY _KNAPSACK(P, W. M, X, n){\n",
    "       //P(l :n) and W(l :n) contain the profits and weights respectively of then/\n",
    "       //objects ordered so that P(i)/W(i) => P(i + l)/(W(i + 1). M is the//\n",
    "       //knapsack size and X(l :n) is the solution vector/\n",
    "        real P(l:n), W(l:n), X(l:n), M. cu;\n",
    "        integer i, n ;\n",
    "        X:=0 //initialize solution to zero/\n",
    "        cu:=M //cu = remaining knapsack capacity//\n",
    "        for i := 1 to n do\n",
    "            if W(i) > cu then \n",
    "                exit \n",
    "            endif\n",
    "        X(i) - 1\n",
    "        cu := cu - W(i)\n",
    "        repeat\n",
    "        if i <= n then \n",
    "            X(i):= cu/W(i) \n",
    "        endif\n",
    "    end GREEDY _KNAPSACK\n",
    "***"
   ]
  },
  {
   "cell_type": "markdown",
   "metadata": {},
   "source": [
    "### Teorema 4.3 Si $p_{1}/w_{1} \\geq p_{2}/w_{2} \\geq \\dots \\geq p_{n}/w_{n}$ entonces el algoritmo GREEDY_KNASPACK genera una solución optima a la instancia dada de el problema de la mochila\n",
    "   - Demostración: Sea $X=(x_{1},x_{2},\\dots,x_{n})$ la solución generada por el algoritmo. Si todos los $x_{i}$´s igualan a 1 entonces claramente la solución es optima. Por lo tanto sea j el ultimo indice tal que $x_{j} \\neq 1$. De el algoritmo se sigue que $x_{i}=1$ para $1 \\leq i \\leq j$ , $x_{i}=0$ para $j < i \\leq n$ y $0 \\leq x_{j} < 1$. Sea $Y=(y_{1},y_{2}\\dots,y_{n})$ una solución optima tal que $$\\sum w_{i}y_{1} = M $$ Ahora sea k el menor indice tal que $y_{k} \\neq x_{k}$. Para ver esto hay que considerar tres posibilidades 1.$k<j$, 2.$k=j$, 3.$k>j$\n",
    "      1. Si $k<j$ entonces $x_{k}=1$. Pero $y_{k} \\neq x_{k}$ y $y_{k}<x_{k}$\n",
    "      2. Si $k=j$ entonces ya que $\\sum w_{i}x_{i} = M$ y $y_{i}=x_{i}$ para $1 \\leq i < j$ se sigue que o $y_{k}<x_{k}$ o $\\sum w_{i}y_{i} > M$\n",
    "      3. Si $k>j$ entonces $\\sum w_{i}y_{i} > M$ lo cual no es posible"
   ]
  },
  {
   "cell_type": "markdown",
   "metadata": {},
   "source": [
    "- Ahora supongamos que incrementamos $y_{k}$ a $x_{k}$  y decrementamos tantos de $(y_{k+1},\\dots,y_{n})$ como sea necesario para que la capacidad sea M aun. Esto nos da una nueva solución \n",
    "     - $z=(z_{i},\\dots,z_{n})$ con $z_{i}=x_{i}$ para $1 \\leq i \\leq k$ \n",
    "          y \n",
    "     - $\\sum_{k< i\\leq n} w_{i}(y_{i}-z_{i}) = w_{k}(z_{k}-y_{k})$. Entonces para z tenemos que \n",
    "     - $\\sum_{1 \\leq i\\leq n} p_{i}z_{i} = \\sum_{1 \\leq i\\leq n} p_{i}y_{i} + (z_{k}-y_{k})w_{k}p_{k}/w_{k} - \\sum_{k < i \\leq n}(y_{i}-z_{i})w_{i}p_{i}/w_{i} \\geq \\sum_{1 \\leq i \\leq n} p_{i}y_{i} + [(z_{k}-y_{k})w_{k} - \\sum_{k < i \\leq n}(y_{i}-z_{i})w_{i}]p_{k}/w_{k}= \\sum_{1 \\leq i \\leq n} p{i}y_{i}$"
   ]
  },
  {
   "cell_type": "markdown",
   "metadata": {},
   "source": [
    "- Si $\\sum p_{i}z_{i} > \\sum p_{i}y{i}$ entonces $y$ no puede ser una solución optima\n",
    "    - Si las sumas son iguales entonces o $z=x$ y X es optima o  $z \\neq x$ \n",
    "    - en el ultimo caso $Y$ no es optima o y se transforma en X, demostrando que X es optima tambien "
   ]
  },
  {
   "cell_type": "markdown",
   "metadata": {},
   "source": [
    "## Jobs scheduling"
   ]
  },
  {
   "cell_type": "markdown",
   "metadata": {},
   "source": [
    "- Objetos: n-trabajos\n",
    "- parametros: cada trabajo i tiene una fecha limite $d_{i}$ y un beneficio $p_{i}$ y son procesados en una maquina en una unidad de tiempo\n",
    "- restricciones: Para que el trabajo sea completado uno tiene que procesar el trabajo en una maquina por una unidad de tiempo. Solamente una maquina esta disponible.\n",
    "- función objetivo: max $\\sum_{i \\in J} p_{i}$"
   ]
  },
  {
   "cell_type": "markdown",
   "metadata": {},
   "source": [
    "- Solución factible: Es una función que asigna a cada trabajo un único intervalo de ejecución tal que en este intervalo de tiempo no existe otro trabajo en proceso.\n",
    "- Solución optima: Es una solución factible tal que el beneficio sea el maximo teniendo en cuenta que si el trabajo es realizado despues de su fecha limite su ganancia es cero\n",
    "- Conjunto factible: subconjunto de trabajos tal que para este subconjunto existe una solución factible que contiene todos estos trabajos tal que en esta solución esten todos los trabajos y ademas todos estos trabajos se cumplen antes o en su fecha limite"
   ]
  },
  {
   "cell_type": "markdown",
   "metadata": {},
   "source": [
    "- Solucion asociada: A la permutación $J$ se requiere que para cada trabajo empieza en el tiempo i-1 y finaliza en el tiempo i\n",
    "- $S(i_{1},\\dots,i_{k})$ una permutación de J $\\Rightarrow$ todas las tareas termina a su fecha limite el conjunto J es factible"
   ]
  },
  {
   "cell_type": "markdown",
   "metadata": {},
   "source": [
    "***\n",
    "    procedure GREEDY _JOB(D, J, n)\n",
    "        //J is an output variable. It is the set of jobs to be completed by//\n",
    "        //their deadlines//\n",
    "        j := {1}\n",
    "        L:=0\n",
    "        for i := 2 to n do\n",
    "            if all jobs in J U {i} can be completed by their deadlines then \n",
    "                J := J U {i}\n",
    "             else\n",
    "                 L := L U {i}\n",
    "         repeat\n",
    "         S:=F(J[n]) U L\n",
    "         //Agregar los trabajos de L en el mismo orden a la solución F(J[n]) al final de F(J[n])\n",
    "     end GREEDY _JOB\n",
    "***"
   ]
  },
  {
   "cell_type": "markdown",
   "metadata": {},
   "source": [
    "### Teorema 4.4 Sea $J$ el conjunto de trabajos y $\\sigma = i_{1},i_{2},\\dots,i_{k}$ una permutación de trabajos en $J$ tal que $d_{i_{1}} \\leq d_{i_{2}} \\leq \\dots \\leq d_{i_{k}}$. J es un conjunto factible si y solo si los trabajosen J pueden ser procesados en el orden de $\\sigma$ sin violar ninguna fecha limite"
   ]
  },
  {
   "cell_type": "markdown",
   "metadata": {},
   "source": [
    "- Prueba Claramente si los trabajos en $J$ pueden ser procesados en el orden $\\sigma$ sin violar ninguna fecha limite entonces $J$ es un conjunto factible. Por lo  tanto solo debemos demostrar que $J$ es factible entonces $\\sigma$ representa un orden posible en el cual los trabajos pueden ser procesados. Si $J$ es factible entonces existe $\\sigma' = r_{1},r_{2},\\dots,r_{k}$ tal que $d_{r_{j}}\\geq j$,$1 \\leq j \\leq k$. Asumamos que $\\sigma' \\neq \\sigma$. Entonces sea a el menor indice tal que $r_{a} \\neq i_{a}$. Claramente $b>a$. En $\\sigma'$ podemos intercambiar $r_{a}$ y $r_{b}$. Ya que $d_{r_{a}} \\geq d_{r_{b}}$ la permutación resultante $\\sigma'' = s_{1},s_{2},\\dots,s_{k}$ representa el orden en el cual los trabajos pueden ser procesados sin violar una fecha limite. Continuando de esta manera $\\sigma'$ puede ser transformada en $\\sigma$ sin volar ninguna fecha limite.Por lo tanto el teorema esta probado.\n",
    "- El teorema de arriba es verdadero incluso si los trabajos tiene distintos tiempos de procesamiento $t_{i} \\geq 0$"
   ]
  },
  {
   "cell_type": "markdown",
   "metadata": {},
   "source": [
    "## Teorema 4.5 El metodo voraz descrito arriba siempre obtiene una solución optima para el problema de calendarización de trabajos"
   ]
  },
  {
   "cell_type": "markdown",
   "metadata": {},
   "source": [
    "- Prueba "
   ]
  },
  {
   "cell_type": "markdown",
   "metadata": {},
   "source": [
    "## SPANNING TREES"
   ]
  },
  {
   "cell_type": "markdown",
   "metadata": {},
   "source": [
    "### Def: Sea $G=(V,E)$  un grafo no dirigido . Un subgrafo $T=(V,E')$ de $G$ es un spanning tree de $G$ si y solo si $T$ es un arbol."
   ]
  },
  {
   "cell_type": "markdown",
   "metadata": {},
   "source": [
    "### Un spanning tree es un subgrafo minimo $G'$ de $G$ tal que $V(G')=V(G)$ y $G'$ esta conectado(por un subgrafo minimo nos referimos a uno con el menor numero de aristas). Cualquier grafo conectado con n vertices debe tener al menos n-1 aristas y todos los grafos con n-1 aristas son arboles. "
   ]
  },
  {
   "cell_type": "markdown",
   "metadata": {},
   "source": [
    "### PRIM"
   ]
  },
  {
   "cell_type": "markdown",
   "metadata": {},
   "source": [
    "- El conjunto de aristas elegidos hasta el momento generan un arbol. El siguiente vertice $(u,v)$ a ser incluido en A es el arista con costo minimo que no esta en $A$ con la propiedad de que $A \\cup \\{(u,v)\\}$ es tambien un arbol\n",
    "- El algoritmo va a comenzar con un arbol que incluye solo el arista de costo minimo de $G$ "
   ]
  },
  {
   "cell_type": "markdown",
   "metadata": {},
   "source": [
    "***\n",
    "    procedure PRIM(E,COST,n,T,mincost)\n",
    "      //E es el conjunto de vertices en G\n",
    "      //COST(n,n) es la matriz de adjacencia de costos de una matriz de un grafo de n vertices\n",
    "      //tal que el COST(i,j) es o un numero real positivo o + infinito si no exite la arista (i,j)\n",
    "      //Un spanning tree minimo es computado y almacenado como un conjunto de aristas en el arreglo\n",
    "      //T(1:n - 1,2).(T(i,1),T(i,2)) es una arista en el min-cost spanning tree. El costo final es asignado a mincost\n",
    "      real COST(n,n),mincost;\n",
    "      integer NEAR(n),n,i,j,k,l,T(1:n - 1,2)\n",
    "      (k,l) <- arista con costo minimo\n",
    "      mincost <- COST(k,l)\n",
    "      (T(1,1),T(1,2)) <- (k,l)\n",
    "      for i <- 1 to n do\n",
    "          if COST(i,l)<COST(i,k) then \n",
    "              NEAR(I)<-l\n",
    "          else\n",
    "              NEAR(i)<-k\n",
    "          endif\n",
    "       repeat\n",
    "       NEAR(k) <- NEAR(l)<-0\n",
    "       for i <- 2 to n-1 do \n",
    "           Sea j el indice tal que NEAR(j) != 0 y COST(j,NEAR(j)) sea minimo\n",
    "           (T(i,1),T(i,2)) <- (j,NEAR(j))\n",
    "           mincost <- mincost + COST(j,NEAR(j))\n",
    "           NEAR(j) <-0\n",
    "           for k<-1 to n do\n",
    "               if NEAR(k) != 0 y COST(k,NEAR(k)) > COST(k,j) then\n",
    "                   NEAR(k) <- j\n",
    "               endif\n",
    "           repeat\n",
    "        repeat\n",
    "        if mincost => infinito then \n",
    "            print(\"no spanning tree\")\n",
    "        endif\n",
    "    end PRIM\n",
    "***"
   ]
  },
  {
   "cell_type": "markdown",
   "metadata": {},
   "source": []
  },
  {
   "cell_type": "markdown",
   "metadata": {},
   "source": []
  },
  {
   "cell_type": "markdown",
   "metadata": {},
   "source": []
  },
  {
   "cell_type": "markdown",
   "metadata": {},
   "source": [
    "### KRUSKAL"
   ]
  },
  {
   "cell_type": "markdown",
   "metadata": {},
   "source": []
  },
  {
   "cell_type": "markdown",
   "metadata": {},
   "source": []
  },
  {
   "cell_type": "markdown",
   "metadata": {},
   "source": []
  },
  {
   "cell_type": "markdown",
   "metadata": {},
   "source": []
  },
  {
   "cell_type": "markdown",
   "metadata": {},
   "source": []
  },
  {
   "cell_type": "markdown",
   "metadata": {},
   "source": [
    "### DIJKSTRA"
   ]
  },
  {
   "cell_type": "markdown",
   "metadata": {},
   "source": [
    "***\n",
    "- procedure DIJKSTRA(G:wigthed connected simple graph, with all weigths possitive)\n",
    "    - G has vertices $ a = v_{0}, v_{1},...,v_{n}=z $ and lengths $ w(v_{i},v_{j})$ where $w(v_{i},v_{j})= \\infty$ if $\\{v_{i},v_{j}\\}$ is not  a vertex in G\n",
    "    - for $i = 1$ to $n$\n",
    "        - $L(v_{i})=\\infty$\n",
    "    - $L(a) = 0$\n",
    "    - $S = \\emptyset$\n",
    "    - while $z \\notin S$\n",
    "        - $u = $ a vertex not in $S$ with $L(u)$ minimal\n",
    "        - $S = S \\cup \\{u\\}$\n",
    "        - for all vertices $v \\notin S$\n",
    "            - if $L(u) + w(u,v) < L(v)$ then\n",
    "             - $ L(v) = L(u) + w(u,v)$\n",
    "             - \\{this add a vertex v to S with minimal label and updates the labels of vertices $\\notin S$\\}\n",
    "    - return $L(z) \\hspace{.2cm} \\{ L(z) = $ length of a shortest path from $a$ to $z$ \\}\n",
    "- end DIJKSTRA\n",
    "***"
   ]
  },
  {
   "cell_type": "markdown",
   "metadata": {},
   "source": [
    "- Complejidad es $O(n^2)$\n",
    "    - The algorithm uses no more than $n-1$ iterations where $n$ is the number of vertices in the graph because one vertex to the distinguished set at each iteration. We are done if we can estimate the number of operations used for each iteration. We can identify the ertex not in $S_{k}$ with the label using no more than $n-1$ comparisons. Then we use an addition and a comparison to update the label of each vertex $\\notin S_{k}$ It follows than no more than $2(n-1)$ operations are used at each iteration, because there are no more than $n-1$ labels to update at each iteration. Because we use no more than $n-1$ iterations, each using no more than $2(n-1)$ operations"
   ]
  },
  {
   "cell_type": "markdown",
   "metadata": {},
   "source": [
    "- Teorema. Al finalizar la ejecución del algoritmo de Dijkstra tenemos que, $\\forall u \\in S$ con $u \\neq a$. \n",
    "    - Cualquier camino camino de $a-u$ tiene peso al menos $L(u):L(u)\\leq p(a-a)$\n",
    "    - Existe un camino de $a$ a $u$ de peso igual a $L(u)$. En particular $L(u)$ es finito : $L(u)<\\infty$"
   ]
  },
  {
   "cell_type": "markdown",
   "metadata": {},
   "source": [
    "- Demostración:\n",
    "     - Sea $i=1$. Inicialmente\n",
    "     - $S_{0} = \\emptyset$, $T_{0}=V$. Es eclaro $z \\notin S_{0}$. Ahora escogemos el vertice $u$ por cuanto su etiqueta es la menor (los demas vértices tiene etiqueta $\\infty > 0$), asi que el vértice $a=u_{0}$ entra y $S_{1} = \\{u_{0}\\}$. Entonces $T_{1} = V \\setminus S$. \n",
    "     - Por hipótesis existe al menos un camino de $a$ a $z$.\n",
    "     - Sea:\n",
    "         - $$a = x_{1},x_{2},\\cdots,x_{m-1},x_{m} = z$$\n",
    "     - dicho camino. Entonces $x_{1} \\in T_{1}$ es un vecino de $u_{0}$, asi que el conjunto de los vecinos $u_{0}$, asi que el conjunot de los vecinos de $u_{0}$, asi que el conjunto de los vecinos de $u_{0}$ por fuera de $S_{0}$ es no vacio. Ahora actualizamos las etiquetas de estos vecinos. Sea $v$ cualquiera de ellos. Su nueva etiqueta es:\n",
    "         - $$min\\{L(v),L(a)+p(a,v)\\} = min\\{\\infty,0+p(a,v)\\} = p(a,v)$$ \n",
    "     - Según esto, la etiqueta de $v$ (que en este momento es $\\infty$) se cambia por el peso de la arista $(a,v)$. Supongamos que $u_{1}$ es un vecino con la menor etiqueta (el vecino mas económico o más cercano a $u_{0}=a$; puede haber mas de uno, esto es,\n",
    "         - $$L(u_{1}) \\leq p(a,x_{1}) \\leq p(a,x_{1}) + p(x_{1},x_{2})+\\cdots+p(x_{m-1},z) = p(a-z) $$\n",
    "     - de modo que la condición $A$ se cumple para $i=1$. Del otro lado, B es verdadera, ya que $a,u$ es un camino $a-u_{1}$ de peso $p(a-u_{1}) = p(a,u_{1}) = L(u'_{1})$. Por lo tanto el teorema es valido para $i=1$"
   ]
  },
  {
   "cell_type": "markdown",
   "metadata": {},
   "source": [
    "- Demostración:     \n",
    "     - Supongamos que este teorema se cumple para todos los vértices $u_{1} \\in S$ con $1 \\leq i \\leq k$. Veamos que este teorema es valido tambien para el vértice $u_{k+1}$\n",
    "     - Consideremos cualquier camino de $a$ a $v=u_{k+1}$. Veamos que $L(v) \\leq p(a-v)$. Supongamos que $y$ es el primer vértice de este camino por fuera de $S_{k+1}$ y sea $u$ el predecesor de $y$ en dicho camino. Entonces $u \\in S_{k+1} = \\{u_{0},u_{1},...,u_{m}\\}$\n",
    "     - De acuerdo con nuestra hipótesi inductiva $L(u) \\leq p(a-u)$. Ademas, $L(v) = L(u_{k+1} \\leq L(y)$, luego\n",
    "         - $L(v) \\leq L(y) \\leq L(u) + p(a,y) \\leq p(a-u) + p(u,y) = p(a-y) \\leq p(a-v) \\leq L(v)$\n",
    "     - lo cual des una contradicción. En consecuencia, la parte A del teorema se cumple para $i=k+1$\n",
    "     - Supongamos que en camino el vertice $y=x_{j}$ es el primero que se encuentra por fuera de $S_{k+1} = \\{u_{0},u_{1},...,u_{k}\\}$. Entonces $y=x_{j}$ es vecino de $u=x_{j-1} \\in S_{k+1}$. \n",
    "     - Por hipótesis inductiva un camino $a,b,...,t,u$ de $a$ a $u$ de peso $L(u)$, luego $L(u)$ es finito. Cuando $u$ entra a $S$ la etiqueta de su vecino $y$ fue actualizada, de modo que $L(y) \\leq L(u)+p(u,y)$ "
   ]
  },
  {
   "cell_type": "markdown",
   "metadata": {},
   "source": [
    "- $\\forall v \\in P$(conjunto de permanentes) tenemos\n",
    "    - Caso base $P_{1}=\\{s\\} \\Rightarrow L(s) = 0$\n",
    "    - Como todos los pesos son positivas siempre el $min\\{L(s),L(s)+w(s,s)\\}=0$\n",
    "    - Supongamos que la etiqueta de $\\forall v_{i} \\in P_{i-1}$ esta etiqueta es la minima.\n",
    "    - P.D. que la etiqueta temporal del vertice actual $v_{i}$ es el costo del camino mas corto de el vertice $s$ a $v_{i}$\n",
    "    - (Definimos etiqueta temporal como el costo de $S$ $\\forall v \\in T_{i}$ $L_{v}$ s el costo mas corto que contiene solo los vertices de $P_{i}$ ) \n",
    "        - $$L_{x} = min\\{L_{x},L_{vy}+a_{yx}\\}$$\n",
    "    - Elegimos el vertice $v$ tenemos que demostra que $L(v)$ es el costo entre $s$ y $v$.\n",
    "    - Ahora supongamos que $\\exists v' \\in T_{i}$ como el camino mas corto ahora\n",
    "         - $L_{v'} \\geq L_{v}$\n",
    "         - $x \\in T_{i}$\n",
    "         - $$L_{x} = min\\{L_{x},L_{v}+a_{vx}\\}$$"
   ]
  },
  {
   "cell_type": "markdown",
   "metadata": {},
   "source": [
    "- Solución factible: Conjunto de vertices etiquetados con etiqueta permanente"
   ]
  },
  {
   "cell_type": "markdown",
   "metadata": {},
   "source": [
    "## Problemas NP_COMPLETOS y NP-DUROS"
   ]
  },
  {
   "cell_type": "markdown",
   "metadata": {},
   "source": [
    "- Algoritmos no deterministas\n",
    "    - un algoritmo en el que el resultado de cada operación esta definida unicamente, algoritmos con esta propiedad son denominados algoritmos deterministas.\n",
    "    - En un marco teórico podemos quitar esta restricción el resultado en cada operación. Podemos permitir que los algoritmos que contienen operaciones cuyo resultado no esta definido unicamente pero esta limitado a un conjunto especifico de posibilidades. La maquina que ejecuta tales operaciones se le permite escoger cualquiera de estos resultados sujetos a una condición de terminación a ser definido mas tarde. Esto lleva a el concepto de un algoritmo nodeterminista.\n",
    "    - (i) choice(S) ... escoge arbitrariamente uno de los elementos en el conjunto $S$\n",
    "    - (ii) failure ... señala una terminación no exitosa\n",
    "    - (iii) success ... señala una terminación exitosa\n",
    "    - La asignación de el estado $X - choice(1:n)$ puede resultar en $X$ siendo asignado cualquiera de los entero de el rango $[1,...,n]$. No hay reglas que especifican como la elección es hecha. Las señales de exito o fracaso se usan para definir la computación del algoritmo. Estas declaraciones son equivalentes a una estado de parada y no puede ser usado para efectuar un retorno. Cuando hay un conjunto de elecciones que lleva a una señal de exito entonces tal conjunto de elecciones siempre se hace y el algoritmo termina exitosamente.\n",
    "    - Un algoritmo no determinista termina no exitosamente si y solo si no exite un conjunto de elecciones que llevan a una señal de termino exitosamente. Los tiempos para computar las elcciones, exito y fracaso son tomadas en $O(1)$. "
   ]
  },
  {
   "cell_type": "markdown",
   "metadata": {},
   "source": [
    "- Lo mejor que podemos esperar para un problema es resolverlo en tiempo líneal.\n",
    "- Definición: $P$ es el conjunto de problemas de decisión resoluble por un algoritmo determinista en tiempo polinomial.\n",
    "- Definición: $NP$ es el conjunto de problemas de decisión resolubles por un algoritmo no determinista en tiempo polinomial."
   ]
  },
  {
   "cell_type": "markdown",
   "metadata": {},
   "source": [
    "- Clase de problemas polinomiales se clasifican como clase $P$ si para este problema existe un algoritmo polinomial\n",
    "- Clase $NP$ = Nondeterministic polynomial: Si cualquier solución factibles se puede generar y evaluar el valor de función objetivo en  tiempo polinomial\n",
    "- No determinista se puede procesar cada rama(solución factible) en forma paralela."
   ]
  },
  {
   "cell_type": "markdown",
   "metadata": {},
   "source": [
    "- Un problema que sea **NP-COMPLETO** tiene la propiedad que puede ser resuelto en tiempo polinomial si y solo si todos los demas problemas **NP-COMPLETO** pueden ser resueltos tambien en tiempo polinomial.\n",
    "- Si un problema **NP-DURO** puede ser resuelto en tiempo polinomial entonces todos los problemas **NP-COMPLETO** pueden ser resueltos en tiempo polinomial.\n",
    "- La relación entre estas clases junto con los calculos no determiistas juntos con el poder de el no determinismo llevan a que No existe problema **NP-COMPLETO** o **NP-DURO** que pueda ser resuelto en tiempo polinomial"
   ]
  },
  {
   "cell_type": "markdown",
   "metadata": {},
   "source": [
    "- **NP-COMPLETO** ES UN PROBLEMA DE CLASE **NP** para el cual no existe un algoritmo de complejidad polinomial y que todos los demas problemas **NP-COMPLETO** tienen la misma complejidad\n",
    "    - **NP-COMPLETO** reconocimiento o decisión(si,no)\n",
    "        - Si existe una solución factible no mayor a \n",
    "        - Si existe una solución factible no menor a \n",
    "    - **NP-DURO** optimización\n",
    "        - Minimizar\n",
    "        - Maximizar"
   ]
  },
  {
   "cell_type": "markdown",
   "metadata": {},
   "source": [
    "- La respuesta del problema de decisión es dada en tiempo polinomial en un problema de optimización y viceversa.\n",
    "    - Sea $X_{opt}$ solución óptima\n",
    "        - Si \n",
    "            - $M < f(X_{opt})$ **No**\n",
    "        - en otro caso \n",
    "            - $M \\geq f(X_{opt})$ **Si** "
   ]
  },
  {
   "cell_type": "markdown",
   "metadata": {},
   "source": [
    "- Teorema\n",
    "    - Supongamos que si un problema $P \\in NP$ y el numero de soluciones factibles de P es un polinomio de $N$ donde $n$ es el numero de objetos de este problema entonces $P \\in P$\n",
    "        - Condiciones \n",
    "            - no de soluciones factibles es $R(n)$, donde $R(n)$ es un polinomio de $n$\n",
    "            - $P \\in NP$\n",
    "        1. Evaluamos las soluciones factibles con un algoritmo $A$\n",
    "        2. Elegimos la solución con min o max en base a la función objetivo"
   ]
  },
  {
   "cell_type": "markdown",
   "metadata": {},
   "source": [
    "- Definición complejidad temporal\n",
    "    - Sea $A_{p}$ un algoritmo para un problema $P$. Complejidad temporal de $A_{p}$ es la función $T(n)$(número de operaciones requeridas por el algoritmo) donde $n$ es el número de objetos de la instancia M.\n",
    "        - Instancia: tamaño del problema es el número de registros o palabras que necesita para representar todos los objetos.(Una instancia comprende todos los parametros del problema)\n",
    "        - Observación: En un problema cualquiera con n objetos y n parametros es un polinomio de n\n",
    "            - Numero de bits para representar un numero $N$ en sistema bianrio $log_{2}(N)$\n",
    "        - Lemma: Una instancia con $n$ objetos es un polinomio de $n$\n",
    "        - Tamaño de un problema: es el numero de registros necesarios para guardar los parametros de la instancia.\n",
    "    - Algoritmo $A_{p}$ para problema $P$\n",
    "        - $$T_{A_{p}}(n)$$"
   ]
  },
  {
   "cell_type": "markdown",
   "metadata": {},
   "source": [
    "- "
   ]
  },
  {
   "cell_type": "markdown",
   "metadata": {},
   "source": [
    "# Programación dinamica"
   ]
  },
  {
   "cell_type": "markdown",
   "metadata": {},
   "source": [
    "- Es un algoritmo diseñado para que pueda ser usado cuando la solución a un problema puedea ser vista como resultado de una secuencia de decisiones.\n",
    "    - Una manera para resolver problemas para los cuales no es posible hacer una secuencia decisiones paso a paso que llevan a una secuencia de decisiones optimas y elegimos la mejor\n",
    "- Programación dinamica reduce considerablemente el total de enumeraciones  al evitar enumarar algunas secuencias de decisiones que no puedan ser optimas.\n",
    "- En programación dinamica una secuencia optima de decisiones es hecha al recurrir explicitamente a el **Principio de Optimalidad**"
   ]
  },
  {
   "cell_type": "markdown",
   "metadata": {},
   "source": [
    "## Principio de optimalidad"
   ]
  },
  {
   "cell_type": "markdown",
   "metadata": {},
   "source": [
    "- El principio de optimalidad declara que una secuencia optima de decisiones tiene la propiedad que cual sea el estado inicial y decisiones, las decisiones restantes deben constituir una secuencia de decisiones optimas conllevan al estado resultante de la primera decisión."
   ]
  },
  {
   "cell_type": "markdown",
   "metadata": {},
   "source": [
    "- Un programa de programación dinamica en cada iteración se expande el subconjunto de la solución actual parcial.\n",
    "    - En base que descartamos soluciones parciales.\n",
    "    - Considerar diferentes decisiones alternativas para garantizar la optimalidad.\n",
    "- Por el principio de optimalidad una solución optima completa no puede tener una subsolución que no sea optima.\n",
    "- La solución optima se genera atraves de las subsoluciones optimas de este problema.\n",
    "    - La base para construir un algoritmo de programación dinamica es crear la formula de recurrencia.\n",
    "        - La formula de recurrencia es una relación que nos proporcina un valor optimo sobre la decisión sobre el objeto atraves de valores optimos de un subproblema de menor dimensión."
   ]
  },
  {
   "cell_type": "markdown",
   "metadata": {},
   "source": [
    "- Def. \n",
    "    - Conjunto parenta optima busca el conunto de soluciones factibles que domine el conjunto total de soluciones factibles"
   ]
  },
  {
   "cell_type": "markdown",
   "metadata": {},
   "source": [
    "### 0/1 Knaspack\n",
    "- Una solución al problema de la mochila puede ser obtenida al hacer una secuencia de decisiones en las variable $x_{1},x_{2},...,x_{n}$. Una decisión sobre la variable $x_{i}$ involucra que decidamos cual de los valores $0$ o $1$ va ser asignado a esta. Asumamos que las decisiones sobre el $x_{i}$ son hechas en el orden $x_{n},x_{n-1},...,x_{1}$. Siguiendo una decisión  sobre $x_{n}$ podemos estar en dos estados posibles: la capacida remanente es $M-w_{n}$ y una ganancia de $p_{n}$ ha sido acumulada. Esta claro que las decisiones restantes $x_{n-1},...,x_{1}$ deben ser optimas a el estado resultante del problema con respecto a la decisión sobre $x_{n}$. En otro caso $x_{n},...,x_{1}$. Por lo tanto el principio de optimalidad se cumple.\n",
    "    - Sea $$f_{n} = max\\{f_{n-1}(M),f_{n-1}(M-w_{n})+p_{n}\\}$$\n",
    "    - Para un arbitrario $f_{i}(X), i > 0$ se generaliza a $$f_{i}=max\\{f_{i-1}(X),f_{i-1}(X-w_{i})+p_{i}\\}$$"
   ]
  },
  {
   "cell_type": "markdown",
   "metadata": {},
   "source": [
    "***\n",
    "- procedure DKP(p,w,n,M)\n",
    "    - $S^0 = \\{(0,0)\\}$\n",
    "    - for $i=1$ to $n-1$ hacer\n",
    "        - $S_{1}^{i} = \\{(P1,W1)|(P1-p_{i},W1-w_{i}) \\in S^{i-1}$ y $W1 \\leq M\\}$\n",
    "        - $S^i = $MERGE_PURGE$(S^{i-1},S_{1}^{i})$\n",
    "    - $(PX,WX) = $ last tuple in $S^{n-1}$\n",
    "    - $(PY,WY) = (P1+p_n,W1+w_n)$ donde $W1$ el mas grande $W$ culaquier tupla en $S^{n-1}$ tal que $W+w_n \\leq M$\n",
    "    \n",
    "    - //hacer el regreso para $x_n,x_{n-1},...,x_1$\n",
    "    - if $PX > PY$ then $x_n = 0$\n",
    "    - else $x_n=1$\n",
    "    - endif\n",
    "    - trace back for $x_{n-1},...,x_1$\n",
    "- end DKP\n",
    "***"
   ]
  },
  {
   "cell_type": "markdown",
   "metadata": {},
   "source": [
    "- Conjunto de tuplas\n",
    "    - $S_{1}^{i}=\\{(P,W)|(P+p_i,W-w_i) \\in S^{i-1}\\}$\n",
    "    - $S^i = \\{S^{i-1} \\cup S_{1}^{i}\\}$"
   ]
  },
  {
   "cell_type": "markdown",
   "metadata": {},
   "source": [
    "- Teorema1:\n",
    "    - Sea $(p,w) \\in S^{i-1}$ y $(p',w') \\in S_{1}^{i}$ $M$ capacidad de la mochila\n",
    "    - $w \\leq w'$ y $p \\geq p'$\n",
    "    - P.D. que basta incluir $(w,p)$ en $S^{i}$ \n",
    "        - Sea $(w^o,p^o)$ tal que \n",
    "        - $$p^o = p+p_{i+1}x_{i+1}+...+p_nx_n$$\n",
    "        - $$w^o = w+w_{i+1}x_{i+1}+...+w_nx_n$$\n",
    "        - $w^o \\leq M$\n",
    "        - Sea $(P^{o'},w^{o'})$ tal que\n",
    "            - $P^{o'} = P' + P^o$ tal que $P_{o'} \\geq p^o$\n",
    "            - $w^{o'} = W' + W^o$ tal que $W_{o'} \\leq w^o$        "
   ]
  },
  {
   "cell_type": "markdown",
   "metadata": {},
   "source": [
    "- Teorema1:\n",
    "    - Sea $(p,w) \\in S^{i-1}$ y $(p',w') \\in S_{1}^{i}$ $M$ capacidad de la mochila\n",
    "    - $w \\geq w'$ y $p \\leq p' \\Rightarrow (w,p)$ esta dominada por $(w',p')$ se puede descartar $(w,p)$ \n",
    "        - $(M,P_{opt})$\n",
    "        - $(M-w,p'')+(w,p)$\n",
    "        - $p'' + p = p_{opt}$\n",
    "        - $(M-w',p'')$\n",
    "        - $(w',p')$\n",
    "        - por $p' \\geq p \\Rightarrow p'+p'' \\geq p_{opt}$"
   ]
  },
  {
   "cell_type": "markdown",
   "metadata": {},
   "source": [
    "- Teorema 2.\n",
    "    - Sea $(w,p) \\in S^{i-1}$ con mayor valor de $w$ el siguiente par $(w+w_1,p+p_1)$ solo se puede generar atraves de \n",
    "    - Sea $(w',p') \\in S^{i-1}$ t.q. $w' < M \\Rightarrow p' > P$\n",
    "    - $p'+p_1 < p+p_1$"
   ]
  },
  {
   "cell_type": "markdown",
   "metadata": {},
   "source": [
    "- El algoritmo de la mochila dinamica no es polinomial $log M$ va creciendo conforme crece la capacida de la mochila $2^{log M} = M$ "
   ]
  },
  {
   "cell_type": "markdown",
   "metadata": {},
   "source": [
    "# El problema del viajero\n",
    "- Sea $G=(V,E)$ un grafo dirigido"
   ]
  },
  {
   "cell_type": "markdown",
   "metadata": {},
   "source": []
  },
  {
   "cell_type": "markdown",
   "metadata": {},
   "source": []
  },
  {
   "cell_type": "markdown",
   "metadata": {},
   "source": []
  },
  {
   "cell_type": "markdown",
   "metadata": {},
   "source": []
  },
  {
   "cell_type": "markdown",
   "metadata": {},
   "source": []
  },
  {
   "cell_type": "markdown",
   "metadata": {},
   "source": [
    "# Flow Shop Scheduling"
   ]
  },
  {
   "cell_type": "markdown",
   "metadata": {},
   "source": [
    "- Usualmente el procesamiento de un trabajo requiere de la ejecución de varias tareas.\n",
    "- En flow shop generalmente podemos tener $n$ trabajos donde cada uno requiere de $m$ tareas $T_{1i},T_{2i},\\cdots,T_{mi}$ con $1 \\leq i \\leq n$ a ser ejecutadas.\n",
    "- La tarea $T_{ij}$ esta para ser realizada en la el procesador $P_{j}$ con $1 \\leq j \\leq m$. El tiempo para completar la tarea $T_{ji}$ es $t_{ji}$. "
   ]
  },
  {
   "cell_type": "markdown",
   "metadata": {},
   "source": []
  },
  {
   "cell_type": "markdown",
   "metadata": {},
   "source": []
  },
  {
   "cell_type": "markdown",
   "metadata": {},
   "source": []
  },
  {
   "cell_type": "markdown",
   "metadata": {},
   "source": []
  },
  {
   "cell_type": "code",
   "execution_count": null,
   "metadata": {},
   "outputs": [],
   "source": []
  },
  {
   "cell_type": "code",
   "execution_count": null,
   "metadata": {},
   "outputs": [],
   "source": []
  },
  {
   "cell_type": "code",
   "execution_count": null,
   "metadata": {},
   "outputs": [],
   "source": []
  },
  {
   "cell_type": "code",
   "execution_count": null,
   "metadata": {},
   "outputs": [],
   "source": []
  },
  {
   "cell_type": "code",
   "execution_count": null,
   "metadata": {},
   "outputs": [],
   "source": []
  },
  {
   "cell_type": "code",
   "execution_count": null,
   "metadata": {},
   "outputs": [],
   "source": []
  },
  {
   "cell_type": "code",
   "execution_count": null,
   "metadata": {},
   "outputs": [],
   "source": []
  },
  {
   "cell_type": "code",
   "execution_count": null,
   "metadata": {},
   "outputs": [],
   "source": []
  }
 ],
 "metadata": {
  "kernelspec": {
   "display_name": "Python 3",
   "language": "python",
   "name": "python3"
  },
  "language_info": {
   "codemirror_mode": {
    "name": "ipython",
    "version": 3
   },
   "file_extension": ".py",
   "mimetype": "text/x-python",
   "name": "python",
   "nbconvert_exporter": "python",
   "pygments_lexer": "ipython3",
   "version": "3.7.3"
  }
 },
 "nbformat": 4,
 "nbformat_minor": 2
}
