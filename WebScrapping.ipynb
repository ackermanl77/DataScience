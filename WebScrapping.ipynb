{
 "cells": [
  {
   "cell_type": "code",
   "execution_count": 1,
   "metadata": {},
   "outputs": [],
   "source": [
    "from requests import get\n",
    "import requests\n",
    "import urllib.request\n",
    "from requests.exceptions import RequestException\n",
    "from contextlib import closing\n",
    "from bs4 import BeautifulSoup\n",
    "import youtube_dl"
   ]
  },
  {
   "cell_type": "code",
   "execution_count": 2,
   "metadata": {},
   "outputs": [],
   "source": [
    "def simple_get(url):\n",
    "    \"\"\"\n",
    "    Attempts to get the content at `url` by making an HTTP GET request.\n",
    "    If the content-type of response is some kind of HTML/XML, return the\n",
    "    text content, otherwise return None.\n",
    "    \"\"\"\n",
    "    try:\n",
    "        with closing(get(url, stream=True)) as resp:\n",
    "            if is_good_response(resp):\n",
    "                return resp.content\n",
    "            else:\n",
    "                return None\n",
    "\n",
    "    except RequestException as e:\n",
    "        log_error('Error during requests to {0} : {1}'.format(url, str(e)))\n",
    "        return None\n",
    "\n",
    "\n",
    "def is_good_response(resp):\n",
    "    \"\"\"\n",
    "    Returns True if the response seems to be HTML, False otherwise.\n",
    "    \"\"\"\n",
    "    content_type = resp.headers['Content-Type'].lower()\n",
    "    return (resp.status_code == 200 \n",
    "            and content_type is not None \n",
    "            and content_type.find('html') > -1)\n",
    "\n",
    "\n",
    "def log_error(e):\n",
    "    \"\"\"\n",
    "    It is always a good idea to log errors. \n",
    "    This function just prints them, but you can\n",
    "    make it do anything.\n",
    "    \"\"\"\n",
    "    print(e)"
   ]
  },
  {
   "cell_type": "code",
   "execution_count": 3,
   "metadata": {},
   "outputs": [
    {
     "data": {
      "text/plain": [
       "37032"
      ]
     },
     "execution_count": 3,
     "metadata": {},
     "output_type": "execute_result"
    }
   ],
   "source": [
    "raw_html = simple_get('https://es.panjiva.com/')\n",
    "len(raw_html)"
   ]
  },
  {
   "cell_type": "code",
   "execution_count": 4,
   "metadata": {},
   "outputs": [
    {
     "name": "stdout",
     "output_type": "stream",
     "text": [
      "Panjiva has joined S&P Global Market Intelligence to bring you unrivaled data on the global supply chain. Receive immediate insights on companies at every stage of the supply chain. From manufacturers and buyers to shipping and logistics, Panjiva supply chain intelligence provides the trade coverage you need to stay ahead of the competition.\n",
      "Nuestra plataforma ofrece visualización de data inteligente  para facilitar el uso de la informacion del comercio exterior de una manera clara y efectiva. \n",
      "\n",
      "\n",
      "The World in 2019 with Panjiva Research \n",
      "\n",
      "\n",
      "  What will 2019 hold for the global supply chain? Panjiva Research looks at what to expect from: the U.S., China, and Europe; the state of numerous multilateral trade deal negotiations; the prospects for the shipping industry; and which countries have the most to win, and lose, from trade.\n",
      "\n",
      "\n",
      "        Our technology gives you immediate insight into the companies involved at every node of international supply chains. From manufacturers and buyers to shipping and logistics, Panjiva allows customers to better understand trade around the globe.\n",
      "      \n",
      "Quiere montar una lista de prospectos para su equipo de ventas? Fácilmente exporta los resultados à excel y compártalos con su equipo para extender su alcance.\n",
      "No importa si está buscando por el nombre del producto o por clasificación, Panjiva lo hace fácil. Soportamos búsqueda a través de la descripción del producto, partida arancelaria (HS/HTS), Numero D-U-N-S®, o ubicación de la empresa.\n",
      "Guarda su búsqueda y recibe alertas por email así que una empresa nueva coincide con sus criterios, o cuando una empresa actual tiene actividad nueva.\n",
      "\n",
      "Herramientas potentes para montar informes que le muestran tendencias de las actividades de importación y exportación en todo el mundo. \n",
      "Descubra nuevas oportunidades y analiza cuales empresas trabajan con sus socios o su competencia. \n",
      "Accede los emails o teléfonos de empleados que toman decisiones en mas de 1 millón de empresas.\n",
      "Conoce su participación en el mercado mediante transparencia de donde compra su competencia, y cuales empresas están implicadas en envíos internacionales.\n",
      "Utilice nuestra  plataforma  para analizar las rutas comerciales e identificar que empresas poseen las cadenas de suministro de mayor riesgo.\n",
      "No importa si está enfocado en compradores, proveedores, NVOCCs, o transportadores, Panjiva lo hace fácil identificar las mejores oportunidades de ventas, aprender más sobre su negocio, y hacer contacto con ellas.\n",
      "Use Xpressfeed™ to push leads directly into your CRM system or feed data about publicly-traded companies into your quant models.\n",
      "May 9, 2019\n",
      "In the US the prices of imports from China have fallen since September, when Washington imposed the 10 percent tariffs, according to research from trade data firm Panjiva. “Our intuition is that Chinese exporters have in some instances lowered the price at which they sell to US buyers in order to share the burden of the tariff,” said Christopher Rogers, an analyst at Panjiva.\n",
      "Más de la prensa \n",
      "November 8, 2018\n",
      "\n",
      "With a handful of U.S. midterm election results left to be declared the Democratic Party has taken control of the House of Representatives while the Republican Party has retained control of the Senate according to Axios data. A period of cohabitation over the next two years may make life more complicated for the administration of […]\n",
      "3359\n"
     ]
    }
   ],
   "source": [
    "html = BeautifulSoup(raw_html, 'html.parser')\n",
    "sum=0\n",
    "for p in html.select('p'):\n",
    "    print(p.text)\n",
    "    sum+=len(p.text)\n",
    "print(sum)"
   ]
  },
  {
   "cell_type": "code",
   "execution_count": 5,
   "metadata": {},
   "outputs": [
    {
     "data": {
      "text/plain": [
       "[<a class=\"responsive-logo\" href=\"/\">Panjiva</a>,\n",
       " <a class=\"logo\" href=\"/\">Panjiva</a>,\n",
       " <a>Soluciones</a>,\n",
       " <a href=\"https://es.panjiva.com/buyers\">Compradores</a>,\n",
       " <a href=\"https://es.panjiva.com/suppliers\">Proveedores</a>,\n",
       " <a href=\"https://es.panjiva.com/logistics\">Logística</a>,\n",
       " <a href=\"https://es.panjiva.com/governments\">Envíos</a>,\n",
       " <a href=\"https://es.panjiva.com/analysts\">Analistas</a>,\n",
       " <a>Productos</a>,\n",
       " <a href=\"https://es.panjiva.com/platform\">Panjiva Platform</a>,\n",
       " <a href=\"https://www.spglobal.com/marketintelligence/en/solutions/market-intelligence-platform\">Market Intelligence Platform</a>,\n",
       " <a href=\"https://www.spglobal.com/marketintelligence/en/solutions/xpressfeedtm\">XpressFeed™</a>,\n",
       " <a href=\"https://es.panjiva.com/technology\">Tecnología</a>,\n",
       " <a>Datos</a>,\n",
       " <a href=\"https://es.panjiva.com/data/united-states-trade-data\">Estados Unidos</a>,\n",
       " <a href=\"https://es.panjiva.com/data/brazil-trade-data\">Brasil </a>,\n",
       " <a href=\"https://es.panjiva.com/data/central-and-south-america-trade-data\">Centro y Sudamerica </a>,\n",
       " <a href=\"https://es.panjiva.com/data/india-trade-data\">India Trade Data</a>,\n",
       " <a href=\"https://es.panjiva.com/data/philippines-trade-data\">Philippines Trade Data</a>,\n",
       " <a href=\"https://es.panjiva.com/data/sri-lanka-trade-data\">Sri Lanka Trade Data</a>,\n",
       " <a href=\"https://es.panjiva.com/data/trendspotting\">Census Data</a>,\n",
       " <a href=\"https://es.panjiva.com/data/research\">Investigaciones de Panjiva</a>,\n",
       " <a class=\"pricing\" href=\"/subscribe\">Precios</a>,\n",
       " <a href=\"/spglobal\">S&amp;P Global</a>,\n",
       " <a href=\"/search\">Buscar</a>,\n",
       " <a><img class=\"language-icon\" src=\"data:image/png;base64,iVBORw0KGgoAAAANSUhEUgAAABAAAAAQCAYAAAAf8/9hAAACKUlEQVQ4EaVTO28TQRCe2T0DEUUELgApCoguikRF4ygEJcYXKGksIZECYRC0KSIaJAoaGlo3NjQU6P4Axq8gY5yeZw0YMBIYAUUgubthvjutOEKFGNk3OzP3fTuvY9ohjW5/1nqmwsQ+k0wjLMRvhKQZhXHt9NL8iyyEnREEwa79h6ZuE/FVdRrnz2ohipWuOv4wXC2Xy1uIJQQA5w9OPSDmpT8AIpG+8VozuUNiDuu5kmBEup9HwzMgSW5KbgZYJMwSMLPVUo4q+EpxoXA5EilpPSNclGarGaBmL2efair6i69r9jezJDhr6t9OnShM4tzsDYqWuaU+CbejY8bLmUtJzUK1aFPu4qWdwkJ95/MX5joicR0YNNuQcAnBkMO678+/V+Z12KpjEbqvj7VNDs/D50QiqeOMSXnpqJi+hmEyHt6SFcnxBjONte5zDpTVX2j7eZ6sEsj0X+MqFufe6c3L+j/S7j251eoNltvtdj5LMEG0x9kGSwJj0vNmnbN0svBKa7zGbNYMc4N37/3U6Q0eBsFAsUQTnJuBBlYJpAnDE+8itJPH0Y+aZvHW2To6f98BOgubjb0ADazBeqJhWlAFI0IAcmNxMSSWpKGpR58sP5vr/eMKXQEGWJPutlQR1rbcy5Jok146cJJNJB+NtQ3NxlOSKrB6IMJu6yrPYMOUpNXpbdQw1iiWZ/Z3m7+zNY90OlY3tjseDVeB1V6l8l8fkyOB/tfP+RebUP6OUMeZxgAAAABJRU5ErkJggg==\"/>Es</a>,\n",
       " <a href=\"https://panjiva.com/\" onclick=\"window.location = $j(this).attr('href') + '?set_session_language=1'; return false\">English</a>,\n",
       " <a href=\"https://cn.panjiva.com/\" onclick=\"window.location = $j(this).attr('href') + '?set_session_language=1'; return false\">中文</a>,\n",
       " <a class=\"demo\" href=\"/request-demo?section=header\">Demo</a>,\n",
       " <a class=\"responsive-demo\" href=\"/request-demo?section=header\">Solicite una Demostración</a>,\n",
       " <a class=\"header-signin-link\" href=\"/account/login\">Login</a>,\n",
       " <a class=\"muted-link\" href=\"https://www.spglobal.com\" target=\"_blank\">\n",
       "             S&amp;P Global Market Intelligence</a>,\n",
       " <a href=\"/request-demo\">Panjiva supply chain intelligence</a>,\n",
       " <a class=\"action-buttons btn btn-cta btn-large request-demo-link\" href=\"/request-demo\" id=\"demo_link\">Demo</a>,\n",
       " <a class=\"action-buttons btn btn-cta btn-large sign-up-link\" href=\"/subscribe\">Solicite una Demostración</a>,\n",
       " <a class=\"logo\" href=\"http://fastcompany.com/\" target=\"_blank\"><img alt=\"Fc_mic\" class=\"noline\" src=\"https://global-assets.panjiva.com/images/homepage_new/fc_mic.5d3fa6dcc420c332.png?5d3fa6dcc420c332\"/></a>,\n",
       " <a href=\"https://www.fastcompany.com/company/panjiva\">Fast Company’s</a>,\n",
       " <a href=\"#\">Watch Demo</a>,\n",
       " <a href=\"\"><img alt=\"Dashboard_in_computer_video\" class=\"noline\" src=\"https://global-assets.panjiva.com/images/homepage_new/dashboard_in_computer_video.3e7784a04e227b18.png?3e7784a04e227b18\"/></a>,\n",
       " <a href=\"\"><img alt=\"Dashboard_in_computer_video\" class=\"noline\" src=\"https://global-assets.panjiva.com/images/homepage_new/dashboard_in_computer_video.3e7784a04e227b18.png?3e7784a04e227b18\"/></a>,\n",
       " <a href=\"/research/2019-outlook-the-year-ahead-for-global-supply-chains/23654\" target=\"_blank\">The World in 2019 with Panjiva Research</a>,\n",
       " <a alt=\"Búsqueda para Proveedores de camisas\" href=\"/data/mexico-trade-data\" title=\"Búsqueda para Proveedores de camisas\"><img alt=\"Captura de pantalla de una búsqueda de proveedores de camisetas \" class=\"noline\" src=\"https://global-assets.panjiva.com/images/homepage_new/screenshot-supplier-search-for-shirts.e2c625fd071e3158.png?e2c625fd071e3158\"/></a>,\n",
       " <a href=\"/data/mexico-trade-data\" title=\"Un ejemplo de Perfil de Panjiva\"><img alt=\"Un ejemplo de Perfil de Panjiva\" class=\"noline\" height=\"599\" src=\"https://global-assets.panjiva.com/images/homepage_new/screenshot-company-profile-7.519d34560b1282b2.png?519d34560b1282b2\" width=\"496\"/></a>,\n",
       " <a href=\"/data/mexico-trade-data\"> plataforma </a>,\n",
       " <a href=\"/api\">Xpressfeed™</a>,\n",
       " <a alt=\"Vista de la red\" href=\"/data/mexico-trade-data\" title=\"Vista de la red\"><img alt=\"Captura de Pantalla del Diagrama de Redes \" class=\"noline\" src=\"https://global-assets.panjiva.com/images/homepage_new/screenshot-network-view-diagram.7445a5edae1c76da.png?7445a5edae1c76da\"/></a>,\n",
       " <a href=\"https://www.france24.com/en/20190509-chinas-exporters-fret-over-trump-tariffs\" target=\"_blank\">China’s exporters fret over Trump tariffs</a>,\n",
       " <a class=\"more-link\" href=\"/about-panjiva/press\">Más de la prensa <span class=\"icon panjiva-icon-right\"></span></a>,\n",
       " <a href=\"http://panjiva.com/blog/2018/11/08/life-after-the-elections-influence-with-limited-impact\">Life After The Elections – Influence With Limited Impact</a>,\n",
       " <a class=\"more-link\" href=\"/blog\">Más del Blog <span class=\"panjiva-icon-right\"></span></a>,\n",
       " <a class=\"action-buttons btn btn-cta btn-large request-demo-link\" href=\"/request-demo\" id=\"demo_link\">Solicite una Demostración</a>,\n",
       " <a class=\"action-buttons btn btn-cta btn-large request-demo-link\" href=\"/request-demo\" id=\"demo_link\">Solicite una Demostración</a>,\n",
       " <a href=\"https://es.panjiva.com/buyers\">Compradores</a>,\n",
       " <a href=\"https://es.panjiva.com/suppliers\">Proveedores</a>,\n",
       " <a href=\"https://es.panjiva.com/logistics\">Logística</a>,\n",
       " <a href=\"https://es.panjiva.com/governments\">Envíos</a>,\n",
       " <a href=\"https://es.panjiva.com/analysts\">Analistas</a>,\n",
       " <a href=\"https://es.panjiva.com/platform\">Panjiva Platform</a>,\n",
       " <a href=\"https://www.spglobal.com/marketintelligence/en/solutions/market-intelligence-platform\">Market Intelligence Platform</a>,\n",
       " <a href=\"https://www.spglobal.com/marketintelligence/en/solutions/xpressfeedtm\">Xpressfeed™</a>,\n",
       " <a href=\"https://es.panjiva.com/technology\">Tecnología</a>,\n",
       " <a href=\"https://es.panjiva.com/data/united-states-trade-data\">Estados Unidos</a>,\n",
       " <a href=\"https://es.panjiva.com/data/brazil-trade-data\">Brasil</a>,\n",
       " <a href=\"https://es.panjiva.com/data/central-and-south-america-trade-data\">Centro &amp; Sudamérica</a>,\n",
       " <a href=\"https://es.panjiva.com/data/india-trade-data\">India</a>,\n",
       " <a href=\"https://es.panjiva.com/data/philippines-trade-data\">Filipinas</a>,\n",
       " <a href=\"https://es.panjiva.com/data/sri-lanka-trade-data\">Sri Lanka</a>,\n",
       " <a href=\"https://es.panjiva.com/data/research\">Investigaciones de Panjiva</a>,\n",
       " <a href=\"/blog\">Blog </a>,\n",
       " <a href=\"/about-panjiva/press\">Prensa</a>,\n",
       " <a href=\"/contact\">Contacto</a>,\n",
       " <a href=\"/jobs\">Empleos</a>,\n",
       " <a class=\"footer-request-demo\" href=\"/request-demo?section=footer\">Request a demo</a>,\n",
       " <a href=\"https://www.spglobal.com/marketintelligence\"><img alt=\"Spg_mi_logo\" class=\"spg-logo\" src=\"https://global-assets.panjiva.com/images/logo/spg_mi_logo.b01ee2fdda59a467.png?b01ee2fdda59a467\"/></a>,\n",
       " <a href=\"https://panjiva.com/\" onclick=\"window.location = $j(this).attr('href') + '?set_session_language=1'; return false\">English</a>,\n",
       " <a href=\"https://cn.panjiva.com/\" onclick=\"window.location = $j(this).attr('href') + '?set_session_language=1'; return false\">中文</a>,\n",
       " <a href=\"/info/terms_of_use\">Condiciones de uso</a>,\n",
       " <a href=\"/info/privacy_policy\">Póliza de Privacidad</a>,\n",
       " <a class=\"sitemap-link\" href=\"/sitemap\">Mapa del Sitio</a>]"
      ]
     },
     "execution_count": 5,
     "metadata": {},
     "output_type": "execute_result"
    }
   ],
   "source": [
    "response = requests.get('https://es.panjiva.com/')\n",
    "soup = BeautifulSoup(response.text, \"html.parser\")\n",
    "soup.findAll('a')"
   ]
  },
  {
   "cell_type": "code",
   "execution_count": 29,
   "metadata": {},
   "outputs": [
    {
     "ename": "HTTPError",
     "evalue": "HTTP Error 404: Not Found",
     "output_type": "error",
     "traceback": [
      "\u001b[1;31m---------------------------------------------------------------------------\u001b[0m",
      "\u001b[1;31mHTTPError\u001b[0m                                 Traceback (most recent call last)",
      "\u001b[1;32m<ipython-input-29-e3cfc47a9ccc>\u001b[0m in \u001b[0;36m<module>\u001b[1;34m\u001b[0m\n\u001b[0;32m      3\u001b[0m     \u001b[0mlink\u001b[0m \u001b[1;33m=\u001b[0m \u001b[0mone_a_tag\u001b[0m\u001b[1;33m[\u001b[0m\u001b[1;34m'href'\u001b[0m\u001b[1;33m]\u001b[0m\u001b[1;33m\u001b[0m\u001b[1;33m\u001b[0m\u001b[0m\n\u001b[0;32m      4\u001b[0m     \u001b[0mdownload_url\u001b[0m \u001b[1;33m=\u001b[0m \u001b[1;34m'https://es.panjiva.com/'\u001b[0m\u001b[1;33m+\u001b[0m \u001b[0mlink\u001b[0m\u001b[1;33m\u001b[0m\u001b[1;33m\u001b[0m\u001b[0m\n\u001b[1;32m----> 5\u001b[1;33m     \u001b[0murllib\u001b[0m\u001b[1;33m.\u001b[0m\u001b[0mrequest\u001b[0m\u001b[1;33m.\u001b[0m\u001b[0murlretrieve\u001b[0m\u001b[1;33m(\u001b[0m\u001b[0mdownload_url\u001b[0m\u001b[1;33m,\u001b[0m\u001b[1;34m'./'\u001b[0m\u001b[1;33m+\u001b[0m\u001b[0mlink\u001b[0m\u001b[1;33m[\u001b[0m\u001b[0mlink\u001b[0m\u001b[1;33m.\u001b[0m\u001b[0mfind\u001b[0m\u001b[1;33m(\u001b[0m\u001b[1;34m'data/united-states-trade-data/'\u001b[0m\u001b[1;33m)\u001b[0m\u001b[1;33m+\u001b[0m\u001b[1;36m1\u001b[0m\u001b[1;33m:\u001b[0m\u001b[1;33m]\u001b[0m\u001b[1;33m)\u001b[0m\u001b[1;33m\u001b[0m\u001b[1;33m\u001b[0m\u001b[0m\n\u001b[0m\u001b[0;32m      6\u001b[0m \u001b[0mtime\u001b[0m\u001b[1;33m.\u001b[0m\u001b[0msleep\u001b[0m\u001b[1;33m(\u001b[0m\u001b[1;36m1\u001b[0m\u001b[1;33m)\u001b[0m \u001b[1;31m#pause the code for a sec\u001b[0m\u001b[1;33m\u001b[0m\u001b[1;33m\u001b[0m\u001b[0m\n",
      "\u001b[1;32m~\\Anaconda3\\lib\\urllib\\request.py\u001b[0m in \u001b[0;36murlretrieve\u001b[1;34m(url, filename, reporthook, data)\u001b[0m\n\u001b[0;32m    245\u001b[0m     \u001b[0murl_type\u001b[0m\u001b[1;33m,\u001b[0m \u001b[0mpath\u001b[0m \u001b[1;33m=\u001b[0m \u001b[0msplittype\u001b[0m\u001b[1;33m(\u001b[0m\u001b[0murl\u001b[0m\u001b[1;33m)\u001b[0m\u001b[1;33m\u001b[0m\u001b[1;33m\u001b[0m\u001b[0m\n\u001b[0;32m    246\u001b[0m \u001b[1;33m\u001b[0m\u001b[0m\n\u001b[1;32m--> 247\u001b[1;33m     \u001b[1;32mwith\u001b[0m \u001b[0mcontextlib\u001b[0m\u001b[1;33m.\u001b[0m\u001b[0mclosing\u001b[0m\u001b[1;33m(\u001b[0m\u001b[0murlopen\u001b[0m\u001b[1;33m(\u001b[0m\u001b[0murl\u001b[0m\u001b[1;33m,\u001b[0m \u001b[0mdata\u001b[0m\u001b[1;33m)\u001b[0m\u001b[1;33m)\u001b[0m \u001b[1;32mas\u001b[0m \u001b[0mfp\u001b[0m\u001b[1;33m:\u001b[0m\u001b[1;33m\u001b[0m\u001b[1;33m\u001b[0m\u001b[0m\n\u001b[0m\u001b[0;32m    248\u001b[0m         \u001b[0mheaders\u001b[0m \u001b[1;33m=\u001b[0m \u001b[0mfp\u001b[0m\u001b[1;33m.\u001b[0m\u001b[0minfo\u001b[0m\u001b[1;33m(\u001b[0m\u001b[1;33m)\u001b[0m\u001b[1;33m\u001b[0m\u001b[1;33m\u001b[0m\u001b[0m\n\u001b[0;32m    249\u001b[0m \u001b[1;33m\u001b[0m\u001b[0m\n",
      "\u001b[1;32m~\\Anaconda3\\lib\\urllib\\request.py\u001b[0m in \u001b[0;36murlopen\u001b[1;34m(url, data, timeout, cafile, capath, cadefault, context)\u001b[0m\n\u001b[0;32m    220\u001b[0m     \u001b[1;32melse\u001b[0m\u001b[1;33m:\u001b[0m\u001b[1;33m\u001b[0m\u001b[1;33m\u001b[0m\u001b[0m\n\u001b[0;32m    221\u001b[0m         \u001b[0mopener\u001b[0m \u001b[1;33m=\u001b[0m \u001b[0m_opener\u001b[0m\u001b[1;33m\u001b[0m\u001b[1;33m\u001b[0m\u001b[0m\n\u001b[1;32m--> 222\u001b[1;33m     \u001b[1;32mreturn\u001b[0m \u001b[0mopener\u001b[0m\u001b[1;33m.\u001b[0m\u001b[0mopen\u001b[0m\u001b[1;33m(\u001b[0m\u001b[0murl\u001b[0m\u001b[1;33m,\u001b[0m \u001b[0mdata\u001b[0m\u001b[1;33m,\u001b[0m \u001b[0mtimeout\u001b[0m\u001b[1;33m)\u001b[0m\u001b[1;33m\u001b[0m\u001b[1;33m\u001b[0m\u001b[0m\n\u001b[0m\u001b[0;32m    223\u001b[0m \u001b[1;33m\u001b[0m\u001b[0m\n\u001b[0;32m    224\u001b[0m \u001b[1;32mdef\u001b[0m \u001b[0minstall_opener\u001b[0m\u001b[1;33m(\u001b[0m\u001b[0mopener\u001b[0m\u001b[1;33m)\u001b[0m\u001b[1;33m:\u001b[0m\u001b[1;33m\u001b[0m\u001b[1;33m\u001b[0m\u001b[0m\n",
      "\u001b[1;32m~\\Anaconda3\\lib\\urllib\\request.py\u001b[0m in \u001b[0;36mopen\u001b[1;34m(self, fullurl, data, timeout)\u001b[0m\n\u001b[0;32m    529\u001b[0m         \u001b[1;32mfor\u001b[0m \u001b[0mprocessor\u001b[0m \u001b[1;32min\u001b[0m \u001b[0mself\u001b[0m\u001b[1;33m.\u001b[0m\u001b[0mprocess_response\u001b[0m\u001b[1;33m.\u001b[0m\u001b[0mget\u001b[0m\u001b[1;33m(\u001b[0m\u001b[0mprotocol\u001b[0m\u001b[1;33m,\u001b[0m \u001b[1;33m[\u001b[0m\u001b[1;33m]\u001b[0m\u001b[1;33m)\u001b[0m\u001b[1;33m:\u001b[0m\u001b[1;33m\u001b[0m\u001b[1;33m\u001b[0m\u001b[0m\n\u001b[0;32m    530\u001b[0m             \u001b[0mmeth\u001b[0m \u001b[1;33m=\u001b[0m \u001b[0mgetattr\u001b[0m\u001b[1;33m(\u001b[0m\u001b[0mprocessor\u001b[0m\u001b[1;33m,\u001b[0m \u001b[0mmeth_name\u001b[0m\u001b[1;33m)\u001b[0m\u001b[1;33m\u001b[0m\u001b[1;33m\u001b[0m\u001b[0m\n\u001b[1;32m--> 531\u001b[1;33m             \u001b[0mresponse\u001b[0m \u001b[1;33m=\u001b[0m \u001b[0mmeth\u001b[0m\u001b[1;33m(\u001b[0m\u001b[0mreq\u001b[0m\u001b[1;33m,\u001b[0m \u001b[0mresponse\u001b[0m\u001b[1;33m)\u001b[0m\u001b[1;33m\u001b[0m\u001b[1;33m\u001b[0m\u001b[0m\n\u001b[0m\u001b[0;32m    532\u001b[0m \u001b[1;33m\u001b[0m\u001b[0m\n\u001b[0;32m    533\u001b[0m         \u001b[1;32mreturn\u001b[0m \u001b[0mresponse\u001b[0m\u001b[1;33m\u001b[0m\u001b[1;33m\u001b[0m\u001b[0m\n",
      "\u001b[1;32m~\\Anaconda3\\lib\\urllib\\request.py\u001b[0m in \u001b[0;36mhttp_response\u001b[1;34m(self, request, response)\u001b[0m\n\u001b[0;32m    639\u001b[0m         \u001b[1;32mif\u001b[0m \u001b[1;32mnot\u001b[0m \u001b[1;33m(\u001b[0m\u001b[1;36m200\u001b[0m \u001b[1;33m<=\u001b[0m \u001b[0mcode\u001b[0m \u001b[1;33m<\u001b[0m \u001b[1;36m300\u001b[0m\u001b[1;33m)\u001b[0m\u001b[1;33m:\u001b[0m\u001b[1;33m\u001b[0m\u001b[1;33m\u001b[0m\u001b[0m\n\u001b[0;32m    640\u001b[0m             response = self.parent.error(\n\u001b[1;32m--> 641\u001b[1;33m                 'http', request, response, code, msg, hdrs)\n\u001b[0m\u001b[0;32m    642\u001b[0m \u001b[1;33m\u001b[0m\u001b[0m\n\u001b[0;32m    643\u001b[0m         \u001b[1;32mreturn\u001b[0m \u001b[0mresponse\u001b[0m\u001b[1;33m\u001b[0m\u001b[1;33m\u001b[0m\u001b[0m\n",
      "\u001b[1;32m~\\Anaconda3\\lib\\urllib\\request.py\u001b[0m in \u001b[0;36merror\u001b[1;34m(self, proto, *args)\u001b[0m\n\u001b[0;32m    567\u001b[0m         \u001b[1;32mif\u001b[0m \u001b[0mhttp_err\u001b[0m\u001b[1;33m:\u001b[0m\u001b[1;33m\u001b[0m\u001b[1;33m\u001b[0m\u001b[0m\n\u001b[0;32m    568\u001b[0m             \u001b[0margs\u001b[0m \u001b[1;33m=\u001b[0m \u001b[1;33m(\u001b[0m\u001b[0mdict\u001b[0m\u001b[1;33m,\u001b[0m \u001b[1;34m'default'\u001b[0m\u001b[1;33m,\u001b[0m \u001b[1;34m'http_error_default'\u001b[0m\u001b[1;33m)\u001b[0m \u001b[1;33m+\u001b[0m \u001b[0morig_args\u001b[0m\u001b[1;33m\u001b[0m\u001b[1;33m\u001b[0m\u001b[0m\n\u001b[1;32m--> 569\u001b[1;33m             \u001b[1;32mreturn\u001b[0m \u001b[0mself\u001b[0m\u001b[1;33m.\u001b[0m\u001b[0m_call_chain\u001b[0m\u001b[1;33m(\u001b[0m\u001b[1;33m*\u001b[0m\u001b[0margs\u001b[0m\u001b[1;33m)\u001b[0m\u001b[1;33m\u001b[0m\u001b[1;33m\u001b[0m\u001b[0m\n\u001b[0m\u001b[0;32m    570\u001b[0m \u001b[1;33m\u001b[0m\u001b[0m\n\u001b[0;32m    571\u001b[0m \u001b[1;31m# XXX probably also want an abstract factory that knows when it makes\u001b[0m\u001b[1;33m\u001b[0m\u001b[1;33m\u001b[0m\u001b[1;33m\u001b[0m\u001b[0m\n",
      "\u001b[1;32m~\\Anaconda3\\lib\\urllib\\request.py\u001b[0m in \u001b[0;36m_call_chain\u001b[1;34m(self, chain, kind, meth_name, *args)\u001b[0m\n\u001b[0;32m    501\u001b[0m         \u001b[1;32mfor\u001b[0m \u001b[0mhandler\u001b[0m \u001b[1;32min\u001b[0m \u001b[0mhandlers\u001b[0m\u001b[1;33m:\u001b[0m\u001b[1;33m\u001b[0m\u001b[1;33m\u001b[0m\u001b[0m\n\u001b[0;32m    502\u001b[0m             \u001b[0mfunc\u001b[0m \u001b[1;33m=\u001b[0m \u001b[0mgetattr\u001b[0m\u001b[1;33m(\u001b[0m\u001b[0mhandler\u001b[0m\u001b[1;33m,\u001b[0m \u001b[0mmeth_name\u001b[0m\u001b[1;33m)\u001b[0m\u001b[1;33m\u001b[0m\u001b[1;33m\u001b[0m\u001b[0m\n\u001b[1;32m--> 503\u001b[1;33m             \u001b[0mresult\u001b[0m \u001b[1;33m=\u001b[0m \u001b[0mfunc\u001b[0m\u001b[1;33m(\u001b[0m\u001b[1;33m*\u001b[0m\u001b[0margs\u001b[0m\u001b[1;33m)\u001b[0m\u001b[1;33m\u001b[0m\u001b[1;33m\u001b[0m\u001b[0m\n\u001b[0m\u001b[0;32m    504\u001b[0m             \u001b[1;32mif\u001b[0m \u001b[0mresult\u001b[0m \u001b[1;32mis\u001b[0m \u001b[1;32mnot\u001b[0m \u001b[1;32mNone\u001b[0m\u001b[1;33m:\u001b[0m\u001b[1;33m\u001b[0m\u001b[1;33m\u001b[0m\u001b[0m\n\u001b[0;32m    505\u001b[0m                 \u001b[1;32mreturn\u001b[0m \u001b[0mresult\u001b[0m\u001b[1;33m\u001b[0m\u001b[1;33m\u001b[0m\u001b[0m\n",
      "\u001b[1;32m~\\Anaconda3\\lib\\urllib\\request.py\u001b[0m in \u001b[0;36mhttp_error_default\u001b[1;34m(self, req, fp, code, msg, hdrs)\u001b[0m\n\u001b[0;32m    647\u001b[0m \u001b[1;32mclass\u001b[0m \u001b[0mHTTPDefaultErrorHandler\u001b[0m\u001b[1;33m(\u001b[0m\u001b[0mBaseHandler\u001b[0m\u001b[1;33m)\u001b[0m\u001b[1;33m:\u001b[0m\u001b[1;33m\u001b[0m\u001b[1;33m\u001b[0m\u001b[0m\n\u001b[0;32m    648\u001b[0m     \u001b[1;32mdef\u001b[0m \u001b[0mhttp_error_default\u001b[0m\u001b[1;33m(\u001b[0m\u001b[0mself\u001b[0m\u001b[1;33m,\u001b[0m \u001b[0mreq\u001b[0m\u001b[1;33m,\u001b[0m \u001b[0mfp\u001b[0m\u001b[1;33m,\u001b[0m \u001b[0mcode\u001b[0m\u001b[1;33m,\u001b[0m \u001b[0mmsg\u001b[0m\u001b[1;33m,\u001b[0m \u001b[0mhdrs\u001b[0m\u001b[1;33m)\u001b[0m\u001b[1;33m:\u001b[0m\u001b[1;33m\u001b[0m\u001b[1;33m\u001b[0m\u001b[0m\n\u001b[1;32m--> 649\u001b[1;33m         \u001b[1;32mraise\u001b[0m \u001b[0mHTTPError\u001b[0m\u001b[1;33m(\u001b[0m\u001b[0mreq\u001b[0m\u001b[1;33m.\u001b[0m\u001b[0mfull_url\u001b[0m\u001b[1;33m,\u001b[0m \u001b[0mcode\u001b[0m\u001b[1;33m,\u001b[0m \u001b[0mmsg\u001b[0m\u001b[1;33m,\u001b[0m \u001b[0mhdrs\u001b[0m\u001b[1;33m,\u001b[0m \u001b[0mfp\u001b[0m\u001b[1;33m)\u001b[0m\u001b[1;33m\u001b[0m\u001b[1;33m\u001b[0m\u001b[0m\n\u001b[0m\u001b[0;32m    650\u001b[0m \u001b[1;33m\u001b[0m\u001b[0m\n\u001b[0;32m    651\u001b[0m \u001b[1;32mclass\u001b[0m \u001b[0mHTTPRedirectHandler\u001b[0m\u001b[1;33m(\u001b[0m\u001b[0mBaseHandler\u001b[0m\u001b[1;33m)\u001b[0m\u001b[1;33m:\u001b[0m\u001b[1;33m\u001b[0m\u001b[1;33m\u001b[0m\u001b[0m\n",
      "\u001b[1;31mHTTPError\u001b[0m: HTTP Error 404: Not Found"
     ]
    }
   ],
   "source": [
    "for i in range(36,len(soup.findAll('a'))+1): #'a' tags are for links\n",
    "    one_a_tag = soup.findAll('a')[i]\n",
    "    link = one_a_tag['href']\n",
    "    download_url = 'https://es.panjiva.com/'+ link\n",
    "    urllib.request.urlretrieve(download_url,'./'+link[link.find('data/united-states-trade-data/')+1:]) \n",
    "time.sleep(1) #pause the code for a sec"
   ]
  },
  {
   "cell_type": "code",
   "execution_count": 18,
   "metadata": {},
   "outputs": [],
   "source": [
    "base = \"https://www.youtube.com/results?search_query=\"\n",
    "qstring = \"iridescent\""
   ]
  },
  {
   "cell_type": "code",
   "execution_count": 19,
   "metadata": {},
   "outputs": [],
   "source": [
    "r = requests.get(base+qstring)"
   ]
  },
  {
   "cell_type": "code",
   "execution_count": 20,
   "metadata": {},
   "outputs": [],
   "source": [
    "page = r.text\n",
    "soup=BeautifulSoup(page,'html.parser')"
   ]
  },
  {
   "cell_type": "code",
   "execution_count": 21,
   "metadata": {},
   "outputs": [],
   "source": [
    "vids = soup.findAll('a',attrs={'class':'yt-uix-tile-link'})"
   ]
  },
  {
   "cell_type": "code",
   "execution_count": 22,
   "metadata": {},
   "outputs": [],
   "source": [
    "videolist=[]\n",
    "for v in vids:\n",
    "    tmp = 'https://www.youtube.com' + v['href']\n",
    "    videolist.append(tmp)"
   ]
  },
  {
   "cell_type": "code",
   "execution_count": 23,
   "metadata": {},
   "outputs": [],
   "source": [
    "import pytube"
   ]
  },
  {
   "cell_type": "code",
   "execution_count": 24,
   "metadata": {},
   "outputs": [
    {
     "data": {
      "text/plain": [
       "['https://www.youtube.com/watch?v=xLYiIBCN9ec',\n",
       " 'https://www.youtube.com/watch?v=uCaXDOgQus0',\n",
       " 'https://www.youtube.com/watch?v=OH28Ban18PQ',\n",
       " 'https://www.youtube.com/watch?v=oqsxlLU_ebI',\n",
       " 'https://www.youtube.com/watch?v=652hxe68c4U',\n",
       " 'https://www.youtube.com/watch?v=_XguY2xHR-U',\n",
       " 'https://www.youtube.com/watch?v=6QkT_k6VwZk',\n",
       " 'https://www.youtube.com/watch?v=5qF_qbaWt3Q',\n",
       " 'https://www.youtube.com/watch?v=kXYiU_JCYtU',\n",
       " 'https://www.youtube.com/watch?v=yZIummTz9mM',\n",
       " 'https://www.youtube.com/watch?v=0NOIQxcCzzI',\n",
       " 'https://www.youtube.com/watch?v=hk6RSfF1eRM',\n",
       " 'https://www.youtube.com/watch?v=rdpx7rvv3dw',\n",
       " 'https://www.youtube.com/watch?v=qjciw3HhnDg',\n",
       " 'https://www.youtube.com/watch?v=hxdKrAYDkfM',\n",
       " 'https://www.youtube.com/watch?v=xLYiIBCN9ec&list=RDxLYiIBCN9ec&start_radio=1',\n",
       " 'https://www.youtube.com/watch?v=b7BzNOLIp0Q',\n",
       " 'https://www.youtube.com/watch?v=lEALQ-5ERm4',\n",
       " 'https://www.youtube.com/watch?v=JHhjc6Gg8no',\n",
       " 'https://www.youtube.com/watch?v=pou5vK6F9GY']"
      ]
     },
     "execution_count": 24,
     "metadata": {},
     "output_type": "execute_result"
    }
   ],
   "source": [
    "videolist"
   ]
  },
  {
   "cell_type": "code",
   "execution_count": 28,
   "metadata": {},
   "outputs": [
    {
     "data": {
      "text/plain": [
       "'C:\\\\Users\\\\Admin\\\\Documents\\\\Iridescent (Official Video) - Linkin Park.mp4'"
      ]
     },
     "execution_count": 28,
     "metadata": {},
     "output_type": "execute_result"
    }
   ],
   "source": [
    "yt = pytube.YouTube(videolist[0])\n",
    "stream = yt.streams.first()\n",
    "stream.download()"
   ]
  },
  {
   "cell_type": "code",
   "execution_count": null,
   "metadata": {},
   "outputs": [],
   "source": []
  },
  {
   "cell_type": "code",
   "execution_count": null,
   "metadata": {},
   "outputs": [],
   "source": []
  },
  {
   "cell_type": "code",
   "execution_count": null,
   "metadata": {},
   "outputs": [],
   "source": []
  },
  {
   "cell_type": "code",
   "execution_count": null,
   "metadata": {},
   "outputs": [],
   "source": []
  },
  {
   "cell_type": "code",
   "execution_count": null,
   "metadata": {},
   "outputs": [],
   "source": []
  },
  {
   "cell_type": "code",
   "execution_count": null,
   "metadata": {},
   "outputs": [],
   "source": []
  },
  {
   "cell_type": "code",
   "execution_count": null,
   "metadata": {},
   "outputs": [],
   "source": []
  },
  {
   "cell_type": "code",
   "execution_count": null,
   "metadata": {},
   "outputs": [],
   "source": []
  },
  {
   "cell_type": "code",
   "execution_count": null,
   "metadata": {},
   "outputs": [],
   "source": []
  },
  {
   "cell_type": "code",
   "execution_count": null,
   "metadata": {},
   "outputs": [],
   "source": []
  },
  {
   "cell_type": "code",
   "execution_count": null,
   "metadata": {},
   "outputs": [],
   "source": []
  },
  {
   "cell_type": "code",
   "execution_count": null,
   "metadata": {},
   "outputs": [],
   "source": []
  }
 ],
 "metadata": {
  "kernelspec": {
   "display_name": "Python 3",
   "language": "python",
   "name": "python3"
  },
  "language_info": {
   "codemirror_mode": {
    "name": "ipython",
    "version": 3
   },
   "file_extension": ".py",
   "mimetype": "text/x-python",
   "name": "python",
   "nbconvert_exporter": "python",
   "pygments_lexer": "ipython3",
   "version": "3.7.3"
  }
 },
 "nbformat": 4,
 "nbformat_minor": 2
}
