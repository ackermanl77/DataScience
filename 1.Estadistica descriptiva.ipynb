{
 "cells": [
  {
   "cell_type": "code",
   "execution_count": 1,
   "metadata": {},
   "outputs": [],
   "source": [
    "import collections\n",
    "import math\n",
    "import matplotlib.pyplot as plt\n",
    "import numpy as np\n",
    "import pandas as pd"
   ]
  },
  {
   "cell_type": "markdown",
   "metadata": {},
   "source": [
    "# Estadistica descriptiva\n",
    "Concierne a la manera de desribir un conjunto de datos"
   ]
  },
  {
   "cell_type": "markdown",
   "metadata": {},
   "source": [
    "## 1. Medidas de tendencia central\n",
    "\n",
    "La media se denota $\\mu$ si es parámetro, o $\\bar{x}$ si es estadistico, y se calcula así, donde\n",
    "$$ x = (x_{0})$$:\n",
    "$$ \\bar{x} = \\frac{\\sum_{i=1}^{n-1} x_{i}}{n} $$"
   ]
  },
  {
   "cell_type": "code",
   "execution_count": 2,
   "metadata": {},
   "outputs": [],
   "source": [
    "N = 100000\n",
    "poblacion = np.random.randint(0,1000,size=N)"
   ]
  },
  {
   "cell_type": "code",
   "execution_count": 3,
   "metadata": {},
   "outputs": [
    {
     "data": {
      "text/plain": [
       "array([869, 958, 923, ...,  32, 719, 683])"
      ]
     },
     "execution_count": 3,
     "metadata": {},
     "output_type": "execute_result"
    }
   ],
   "source": [
    "poblacion"
   ]
  },
  {
   "cell_type": "code",
   "execution_count": 4,
   "metadata": {},
   "outputs": [
    {
     "name": "stdout",
     "output_type": "stream",
     "text": [
      "La media de la poblacion es:  498.91537\n"
     ]
    }
   ],
   "source": [
    "print(\"La media de la poblacion es: \",np.mean(poblacion))"
   ]
  },
  {
   "cell_type": "code",
   "execution_count": 5,
   "metadata": {},
   "outputs": [],
   "source": [
    "muestras = poblacion.reshape((1000,100))"
   ]
  },
  {
   "cell_type": "code",
   "execution_count": 6,
   "metadata": {},
   "outputs": [
    {
     "data": {
      "text/plain": [
       "array([[869, 958, 923, ..., 182, 342, 649],\n",
       "       [202,  91, 805, ..., 778, 970, 354],\n",
       "       [228, 239, 719, ..., 666, 944,  96],\n",
       "       ...,\n",
       "       [928, 115, 972, ..., 574, 431, 220],\n",
       "       [178, 558, 171, ...,   6, 536, 795],\n",
       "       [ 73, 659, 758, ...,  32, 719, 683]])"
      ]
     },
     "execution_count": 6,
     "metadata": {},
     "output_type": "execute_result"
    }
   ],
   "source": [
    "muestras"
   ]
  },
  {
   "cell_type": "code",
   "execution_count": 7,
   "metadata": {},
   "outputs": [],
   "source": [
    "l=[]\n",
    "for muestra in muestras:\n",
    "    l.append(np.mean(muestra))"
   ]
  },
  {
   "cell_type": "code",
   "execution_count": 8,
   "metadata": {},
   "outputs": [
    {
     "name": "stdout",
     "output_type": "stream",
     "text": [
      "1000\n"
     ]
    }
   ],
   "source": [
    "medias_muestrales=np.mean(muestras,axis=1)\n",
    "print(len(medias_muestrales))\n",
    "#medias_muestrales"
   ]
  },
  {
   "cell_type": "code",
   "execution_count": 9,
   "metadata": {},
   "outputs": [
    {
     "data": {
      "image/png": "[encoded data removed]",
      "text/plain": [
       "<Figure size 432x288 with 1 Axes>"
      ]
     },
     "metadata": {
      "needs_background": "light"
     },
     "output_type": "display_data"
    }
   ],
   "source": [
    "plt.hist(poblacion,bins=1000)\n",
    "plt.show()"
   ]
  },
  {
   "cell_type": "code",
   "execution_count": 10,
   "metadata": {},
   "outputs": [
    {
     "data": {
      "image/png": "[encoded data removed]",
      "text/plain": [
       "<Figure size 432x288 with 1 Axes>"
      ]
     },
     "metadata": {
      "needs_background": "light"
     },
     "output_type": "display_data"
    }
   ],
   "source": [
    "plt.hist(muestras[1])\n",
    "plt.show()"
   ]
  },
  {
   "cell_type": "code",
   "execution_count": 11,
   "metadata": {},
   "outputs": [
    {
     "data": {
      "image/png": "[encoded data removed]",
      "text/plain": [
       "<Figure size 432x288 with 1 Axes>"
      ]
     },
     "metadata": {
      "needs_background": "light"
     },
     "output_type": "display_data"
    }
   ],
   "source": [
    "plt.hist(muestras[1],bins=15)\n",
    "plt.show()"
   ]
  },
  {
   "cell_type": "code",
   "execution_count": 12,
   "metadata": {},
   "outputs": [
    {
     "data": {
      "image/png": "[encoded data removed]",
      "text/plain": [
       "<Figure size 432x288 with 1 Axes>"
      ]
     },
     "metadata": {
      "needs_background": "light"
     },
     "output_type": "display_data"
    }
   ],
   "source": [
    "plt.hist(medias_muestrales,bins=50)\n",
    "plt.show()"
   ]
  },
  {
   "cell_type": "markdown",
   "metadata": {},
   "source": [
    "¡Oh! [El teorema del limite central](https://es.wikipedia.org/wiki/Teorema_del_l%C3%ADmite_central) ha aparecido"
   ]
  },
  {
   "cell_type": "markdown",
   "metadata": {},
   "source": [
    "Problemas con la media es sensible a valores atípicos. Ejemplo:"
   ]
  },
  {
   "cell_type": "code",
   "execution_count": 13,
   "metadata": {},
   "outputs": [
    {
     "data": {
      "text/plain": [
       "22400.0"
      ]
     },
     "execution_count": 13,
     "metadata": {},
     "output_type": "execute_result"
    }
   ],
   "source": [
    "salarios = [14_000 , 20_000, 25_000, 35_000, 18_000]\n",
    "np.mean(salarios)"
   ]
  },
  {
   "cell_type": "code",
   "execution_count": 14,
   "metadata": {},
   "outputs": [
    {
     "data": {
      "text/plain": [
       "2918196444.3333335"
      ]
     },
     "execution_count": 14,
     "metadata": {},
     "output_type": "execute_result"
    }
   ],
   "source": [
    "salarios.append(17_509_066_666)\n",
    "np.mean(salarios)"
   ]
  },
  {
   "cell_type": "markdown",
   "metadata": {},
   "source": [
    "## La mediana\n",
    "Es el valor que se encuentra justo a la mitad de nuestros datos cuando los ordenamos de menor a mayor. \n",
    "Si la cantidad de datos es par, tomamos el promedio entre los dos de la mitad"
   ]
  },
  {
   "cell_type": "code",
   "execution_count": 15,
   "metadata": {},
   "outputs": [
    {
     "data": {
      "text/plain": [
       "[14000, 18000, 20000, 25000, 35000, 17509066666]"
      ]
     },
     "execution_count": 15,
     "metadata": {},
     "output_type": "execute_result"
    }
   ],
   "source": [
    "salarios.sort()\n",
    "salarios"
   ]
  },
  {
   "cell_type": "code",
   "execution_count": 16,
   "metadata": {},
   "outputs": [
    {
     "data": {
      "text/plain": [
       "25000"
      ]
     },
     "execution_count": 16,
     "metadata": {},
     "output_type": "execute_result"
    }
   ],
   "source": [
    "salarios[len(salarios)//2]"
   ]
  },
  {
   "cell_type": "code",
   "execution_count": 17,
   "metadata": {},
   "outputs": [
    {
     "data": {
      "text/plain": [
       "22500.0"
      ]
     },
     "execution_count": 17,
     "metadata": {},
     "output_type": "execute_result"
    }
   ],
   "source": [
    "np.median(salarios)"
   ]
  },
  {
   "cell_type": "markdown",
   "metadata": {},
   "source": [
    "## La moda \n",
    "Es el valor más común. Sólo sirve con variables categóricas. Mejor sacar una tabla de frecuencias"
   ]
  },
  {
   "cell_type": "code",
   "execution_count": 18,
   "metadata": {},
   "outputs": [],
   "source": [
    "colores = np.random.choice(['Rojo','Verde','Azul'],size=1000)"
   ]
  },
  {
   "cell_type": "code",
   "execution_count": 19,
   "metadata": {},
   "outputs": [],
   "source": [
    "cuenta = {}\n",
    "for color in colores:\n",
    "    if color not in cuenta.keys():\n",
    "        cuenta[color] = 1\n",
    "    else:\n",
    "        cuenta[color]+=1"
   ]
  },
  {
   "cell_type": "code",
   "execution_count": 20,
   "metadata": {},
   "outputs": [
    {
     "data": {
      "text/plain": [
       "{'Rojo': 369, 'Azul': 304, 'Verde': 327}"
      ]
     },
     "execution_count": 20,
     "metadata": {},
     "output_type": "execute_result"
    }
   ],
   "source": [
    "cuenta"
   ]
  },
  {
   "cell_type": "code",
   "execution_count": 21,
   "metadata": {},
   "outputs": [
    {
     "data": {
      "text/plain": [
       "Counter({'Rojo': 369, 'Azul': 304, 'Verde': 327})"
      ]
     },
     "execution_count": 21,
     "metadata": {},
     "output_type": "execute_result"
    }
   ],
   "source": [
    "cuenta = collections.Counter(colores)\n",
    "cuenta"
   ]
  },
  {
   "cell_type": "markdown",
   "metadata": {},
   "source": [
    "## Comparación de las tres medidas"
   ]
  },
  {
   "cell_type": "code",
   "execution_count": 22,
   "metadata": {},
   "outputs": [
    {
     "data": {
      "text/plain": [
       "<matplotlib.lines.Line2D at 0x15b6b4750b8>"
      ]
     },
     "execution_count": 22,
     "metadata": {},
     "output_type": "execute_result"
    },
    {
     "data": {
      "image/png": "[encoded data removed]",
      "text/plain": [
       "<Figure size 432x288 with 1 Axes>"
      ]
     },
     "metadata": {
      "needs_background": "light"
     },
     "output_type": "display_data"
    }
   ],
   "source": [
    "plt.hist(poblacion,color='silver')\n",
    "plt.axvline(np.mean(poblacion),color='green')\n",
    "plt.axvline(np.median(poblacion),color='red')\n",
    "moda = collections.Counter(poblacion).most_common(1)[0][0]\n",
    "plt.axvline(moda,color='blue')"
   ]
  },
  {
   "cell_type": "code",
   "execution_count": 23,
   "metadata": {},
   "outputs": [
    {
     "data": {
      "text/plain": [
       "<matplotlib.lines.Line2D at 0x15b6b455748>"
      ]
     },
     "execution_count": 23,
     "metadata": {},
     "output_type": "execute_result"
    },
    {
     "data": {
      "image/png": "[encoded data removed]",
      "text/plain": [
       "<Figure size 432x288 with 1 Axes>"
      ]
     },
     "metadata": {
      "needs_background": "light"
     },
     "output_type": "display_data"
    }
   ],
   "source": [
    "poblacion = np.random.exponential(size=100000)\n",
    "plt.hist(poblacion,bins=100, color='silver',density=True)\n",
    "plt.axvline(np.mean(poblacion),color='green')\n",
    "plt.axvline(np.median(poblacion),color='red')\n",
    "#moda = collections.Counter(poblacion).most_common(1)[0][0]\n",
    "#plt.axvline(moda,color='blue')"
   ]
  },
  {
   "cell_type": "code",
   "execution_count": 24,
   "metadata": {},
   "outputs": [
    {
     "data": {
      "text/plain": [
       "<matplotlib.lines.Line2D at 0x15b6b4c9278>"
      ]
     },
     "execution_count": 24,
     "metadata": {},
     "output_type": "execute_result"
    },
    {
     "data": {
      "image/png": "[encoded data removed]",
      "text/plain": [
       "<Figure size 432x288 with 1 Axes>"
      ]
     },
     "metadata": {
      "needs_background": "light"
     },
     "output_type": "display_data"
    }
   ],
   "source": [
    "poblacion = np.random.normal(size=100000)\n",
    "plt.hist(poblacion,bins=100, color='silver',density=True)\n",
    "plt.axvline(np.mean(poblacion),color='green')\n",
    "plt.axvline(np.median(poblacion),color='red')\n",
    "#moda = collections.Counter(poblacion).most_common(1)[0][0]\n",
    "#plt.axvline(moda,color='blue')"
   ]
  },
  {
   "cell_type": "markdown",
   "metadata": {},
   "source": [
    "## Medidas de dispersión"
   ]
  },
  {
   "cell_type": "markdown",
   "metadata": {},
   "source": [
    "La varianza de una muestra es el promedio de las distancias de los valores alrededor de la media... con algunos detallitos\n",
    "\n",
    "\n",
    "$$ \\sigma = \\sqrt{\\frac{\\sum_{i=1}^n {(x_i - \\bar{x})}^2}{n}} $$"
   ]
  },
  {
   "cell_type": "code",
   "execution_count": 25,
   "metadata": {},
   "outputs": [
    {
     "data": {
      "image/png": "[encoded data removed]",
      "text/plain": [
       "<Figure size 1080x648 with 1 Axes>"
      ]
     },
     "metadata": {
      "needs_background": "light"
     },
     "output_type": "display_data"
    }
   ],
   "source": [
    "sigma = 7.5\n",
    "poblacion = np.random.normal(0,sigma,size=1_000_000)\n",
    "plt.figure(figsize=(15,9))\n",
    "plt.hist(poblacion,bins=100,color='blue',density=True)\n",
    "plt.axvline(sigma,color='red')\n",
    "plt.axvline(-sigma,color='yellow')\n",
    "plt.show()"
   ]
  },
  {
   "cell_type": "code",
   "execution_count": 26,
   "metadata": {},
   "outputs": [],
   "source": [
    "poblacion = pd.Series([1,1,1,1,1,2,3,4,5,5,5,5,5,5])\n",
    "muestra = pd.Series([1,2,3,4,5])"
   ]
  },
  {
   "cell_type": "code",
   "execution_count": 27,
   "metadata": {},
   "outputs": [],
   "source": [
    "def desviacion_estandar(x):\n",
    "    n = len(x)\n",
    "    m = sum(x)/n\n",
    "    return math.sqrt(sum((xi-m)**2 for xi in x)/n)"
   ]
  },
  {
   "cell_type": "code",
   "execution_count": 28,
   "metadata": {},
   "outputs": [
    {
     "data": {
      "text/plain": [
       "1.8070158058105024"
      ]
     },
     "execution_count": 28,
     "metadata": {},
     "output_type": "execute_result"
    }
   ],
   "source": [
    "desviacion_estandar(poblacion)"
   ]
  },
  {
   "cell_type": "code",
   "execution_count": 29,
   "metadata": {},
   "outputs": [
    {
     "data": {
      "text/plain": [
       "1.4142135623730951"
      ]
     },
     "execution_count": 29,
     "metadata": {},
     "output_type": "execute_result"
    }
   ],
   "source": [
    "desviacion_estandar(muestra)"
   ]
  },
  {
   "cell_type": "code",
   "execution_count": 30,
   "metadata": {},
   "outputs": [],
   "source": [
    "def desviacion_estandar1(x):\n",
    "    n = len(x)\n",
    "    m = sum(x)/n\n",
    "    return (sum((xi-m)**2 for xi in x)/(n-1))**(1/2)"
   ]
  },
  {
   "cell_type": "code",
   "execution_count": 31,
   "metadata": {},
   "outputs": [
    {
     "data": {
      "text/plain": [
       "1.5811388300841898"
      ]
     },
     "execution_count": 31,
     "metadata": {},
     "output_type": "execute_result"
    }
   ],
   "source": [
    "desviacion_estandar1(muestra)"
   ]
  },
  {
   "cell_type": "markdown",
   "metadata": {},
   "source": [
    "**Leccion para llevar en el corazón:** Para describir una distribución, lo minimo aceptable es describirla como $\\mu \\pm \\sigma$"
   ]
  },
  {
   "cell_type": "markdown",
   "metadata": {},
   "source": [
    "## Correlación"
   ]
  },
  {
   "cell_type": "code",
   "execution_count": 32,
   "metadata": {},
   "outputs": [
    {
     "data": {
      "text/html": [
       "<div>\n",
       "<style scoped>\n",
       "    .dataframe tbody tr th:only-of-type {\n",
       "        vertical-align: middle;\n",
       "    }\n",
       "\n",
       "    .dataframe tbody tr th {\n",
       "        vertical-align: top;\n",
       "    }\n",
       "\n",
       "    .dataframe thead th {\n",
       "        text-align: right;\n",
       "    }\n",
       "</style>\n",
       "<table border=\"1\" class=\"dataframe\">\n",
       "  <thead>\n",
       "    <tr style=\"text-align: right;\">\n",
       "      <th></th>\n",
       "      <th>ID_VIV</th>\n",
       "      <th>ID_PERSONA</th>\n",
       "      <th>ENT</th>\n",
       "      <th>NOM_ENT</th>\n",
       "      <th>MUN</th>\n",
       "      <th>NOM_MUN</th>\n",
       "      <th>LOC50K</th>\n",
       "      <th>NOM_LOC</th>\n",
       "      <th>COBERTURA</th>\n",
       "      <th>ESTRATO</th>\n",
       "      <th>...</th>\n",
       "      <th>HIJOS_NAC_VIVOS</th>\n",
       "      <th>HIJOS_FALLECIDOS</th>\n",
       "      <th>HIJOS_SOBREVIV</th>\n",
       "      <th>FECHA_NAC_M</th>\n",
       "      <th>FECHA_NAC_A</th>\n",
       "      <th>SOBREVIVENCIA</th>\n",
       "      <th>EDAD_MORIR_D</th>\n",
       "      <th>EDAD_MORIR_M</th>\n",
       "      <th>EDAD_MORIR_A</th>\n",
       "      <th>TAMLOC</th>\n",
       "    </tr>\n",
       "  </thead>\n",
       "  <tbody>\n",
       "    <tr>\n",
       "      <th>0</th>\n",
       "      <td>170010000001</td>\n",
       "      <td>17001000000101</td>\n",
       "      <td>17</td>\n",
       "      <td>Morelos</td>\n",
       "      <td>1</td>\n",
       "      <td>Amacuzac</td>\n",
       "      <td>0</td>\n",
       "      <td>Localidad de menos de 50 mil habitantes</td>\n",
       "      <td>2</td>\n",
       "      <td>17-001-08</td>\n",
       "      <td>...</td>\n",
       "      <td>NaN</td>\n",
       "      <td>NaN</td>\n",
       "      <td>NaN</td>\n",
       "      <td>NaN</td>\n",
       "      <td>NaN</td>\n",
       "      <td>NaN</td>\n",
       "      <td>NaN</td>\n",
       "      <td>NaN</td>\n",
       "      <td>NaN</td>\n",
       "      <td>2</td>\n",
       "    </tr>\n",
       "    <tr>\n",
       "      <th>1</th>\n",
       "      <td>170010000002</td>\n",
       "      <td>17001000000201</td>\n",
       "      <td>17</td>\n",
       "      <td>Morelos</td>\n",
       "      <td>1</td>\n",
       "      <td>Amacuzac</td>\n",
       "      <td>0</td>\n",
       "      <td>Localidad de menos de 50 mil habitantes</td>\n",
       "      <td>2</td>\n",
       "      <td>17-001-06</td>\n",
       "      <td>...</td>\n",
       "      <td>7.0</td>\n",
       "      <td>0.0</td>\n",
       "      <td>7.0</td>\n",
       "      <td>8.0</td>\n",
       "      <td>1978.0</td>\n",
       "      <td>1.0</td>\n",
       "      <td>NaN</td>\n",
       "      <td>NaN</td>\n",
       "      <td>NaN</td>\n",
       "      <td>1</td>\n",
       "    </tr>\n",
       "    <tr>\n",
       "      <th>2</th>\n",
       "      <td>170010000003</td>\n",
       "      <td>17001000000303</td>\n",
       "      <td>17</td>\n",
       "      <td>Morelos</td>\n",
       "      <td>1</td>\n",
       "      <td>Amacuzac</td>\n",
       "      <td>0</td>\n",
       "      <td>Localidad de menos de 50 mil habitantes</td>\n",
       "      <td>2</td>\n",
       "      <td>17-001-08</td>\n",
       "      <td>...</td>\n",
       "      <td>NaN</td>\n",
       "      <td>NaN</td>\n",
       "      <td>NaN</td>\n",
       "      <td>NaN</td>\n",
       "      <td>NaN</td>\n",
       "      <td>NaN</td>\n",
       "      <td>NaN</td>\n",
       "      <td>NaN</td>\n",
       "      <td>NaN</td>\n",
       "      <td>2</td>\n",
       "    </tr>\n",
       "    <tr>\n",
       "      <th>3</th>\n",
       "      <td>170010000003</td>\n",
       "      <td>17001000000301</td>\n",
       "      <td>17</td>\n",
       "      <td>Morelos</td>\n",
       "      <td>1</td>\n",
       "      <td>Amacuzac</td>\n",
       "      <td>0</td>\n",
       "      <td>Localidad de menos de 50 mil habitantes</td>\n",
       "      <td>2</td>\n",
       "      <td>17-001-08</td>\n",
       "      <td>...</td>\n",
       "      <td>NaN</td>\n",
       "      <td>NaN</td>\n",
       "      <td>NaN</td>\n",
       "      <td>NaN</td>\n",
       "      <td>NaN</td>\n",
       "      <td>NaN</td>\n",
       "      <td>NaN</td>\n",
       "      <td>NaN</td>\n",
       "      <td>NaN</td>\n",
       "      <td>2</td>\n",
       "    </tr>\n",
       "    <tr>\n",
       "      <th>4</th>\n",
       "      <td>170010000003</td>\n",
       "      <td>17001000000302</td>\n",
       "      <td>17</td>\n",
       "      <td>Morelos</td>\n",
       "      <td>1</td>\n",
       "      <td>Amacuzac</td>\n",
       "      <td>0</td>\n",
       "      <td>Localidad de menos de 50 mil habitantes</td>\n",
       "      <td>2</td>\n",
       "      <td>17-001-08</td>\n",
       "      <td>...</td>\n",
       "      <td>1.0</td>\n",
       "      <td>0.0</td>\n",
       "      <td>1.0</td>\n",
       "      <td>10.0</td>\n",
       "      <td>2012.0</td>\n",
       "      <td>1.0</td>\n",
       "      <td>NaN</td>\n",
       "      <td>NaN</td>\n",
       "      <td>NaN</td>\n",
       "      <td>2</td>\n",
       "    </tr>\n",
       "  </tbody>\n",
       "</table>\n",
       "<p>5 rows × 86 columns</p>\n",
       "</div>"
      ],
      "text/plain": [
       "         ID_VIV      ID_PERSONA  ENT  NOM_ENT  MUN   NOM_MUN  LOC50K  \\\n",
       "0  170010000001  17001000000101   17  Morelos    1  Amacuzac       0   \n",
       "1  170010000002  17001000000201   17  Morelos    1  Amacuzac       0   \n",
       "2  170010000003  17001000000303   17  Morelos    1  Amacuzac       0   \n",
       "3  170010000003  17001000000301   17  Morelos    1  Amacuzac       0   \n",
       "4  170010000003  17001000000302   17  Morelos    1  Amacuzac       0   \n",
       "\n",
       "                                   NOM_LOC  COBERTURA    ESTRATO  ...  \\\n",
       "0  Localidad de menos de 50 mil habitantes          2  17-001-08  ...   \n",
       "1  Localidad de menos de 50 mil habitantes          2  17-001-06  ...   \n",
       "2  Localidad de menos de 50 mil habitantes          2  17-001-08  ...   \n",
       "3  Localidad de menos de 50 mil habitantes          2  17-001-08  ...   \n",
       "4  Localidad de menos de 50 mil habitantes          2  17-001-08  ...   \n",
       "\n",
       "   HIJOS_NAC_VIVOS  HIJOS_FALLECIDOS  HIJOS_SOBREVIV  FECHA_NAC_M  \\\n",
       "0              NaN               NaN             NaN          NaN   \n",
       "1              7.0               0.0             7.0          8.0   \n",
       "2              NaN               NaN             NaN          NaN   \n",
       "3              NaN               NaN             NaN          NaN   \n",
       "4              1.0               0.0             1.0         10.0   \n",
       "\n",
       "   FECHA_NAC_A  SOBREVIVENCIA  EDAD_MORIR_D  EDAD_MORIR_M  EDAD_MORIR_A  \\\n",
       "0          NaN            NaN           NaN           NaN           NaN   \n",
       "1       1978.0            1.0           NaN           NaN           NaN   \n",
       "2          NaN            NaN           NaN           NaN           NaN   \n",
       "3          NaN            NaN           NaN           NaN           NaN   \n",
       "4       2012.0            1.0           NaN           NaN           NaN   \n",
       "\n",
       "   TAMLOC  \n",
       "0       2  \n",
       "1       1  \n",
       "2       2  \n",
       "3       2  \n",
       "4       2  \n",
       "\n",
       "[5 rows x 86 columns]"
      ]
     },
     "execution_count": 32,
     "metadata": {},
     "output_type": "execute_result"
    }
   ],
   "source": [
    "tabla = pd.read_csv('Datos/TR_PERSONA17.CSV',encoding='latin1')\n",
    "tabla.head()"
   ]
  },
  {
   "cell_type": "code",
   "execution_count": 33,
   "metadata": {},
   "outputs": [
    {
     "name": "stdout",
     "output_type": "stream",
     "text": [
      "<class 'pandas.core.frame.DataFrame'>\n",
      "RangeIndex: 368976 entries, 0 to 368975\n",
      "Data columns (total 86 columns):\n",
      "ID_VIV                368976 non-null int64\n",
      "ID_PERSONA            368976 non-null int64\n",
      "ENT                   368976 non-null int64\n",
      "NOM_ENT               368976 non-null object\n",
      "MUN                   368976 non-null int64\n",
      "NOM_MUN               368976 non-null object\n",
      "LOC50K                368976 non-null int64\n",
      "NOM_LOC               368976 non-null object\n",
      "COBERTURA             368976 non-null int64\n",
      "ESTRATO               368976 non-null object\n",
      "UPM                   368976 non-null int64\n",
      "FACTOR                368976 non-null int64\n",
      "NUMPER                368976 non-null int64\n",
      "SEXO                  368976 non-null int64\n",
      "EDAD                  368976 non-null int64\n",
      "PARENT                368976 non-null int64\n",
      "PARENT_OTRO_C         368976 non-null int64\n",
      "IDENT_MADRE           368976 non-null int64\n",
      "IDENT_PADRE           368976 non-null int64\n",
      "SERSALUD              368976 non-null int64\n",
      "AFRODES               368976 non-null int64\n",
      "ACTA_NAC              368976 non-null int64\n",
      "DHSERSAL1             368976 non-null int64\n",
      "DHSERSAL2             7466 non-null float64\n",
      "PERTE_INDIGENA        368976 non-null int64\n",
      "ENT_PAIS_NAC          368976 non-null int64\n",
      "NACIONALIDAD          368976 non-null int64\n",
      "HLENGUA               350144 non-null float64\n",
      "QDIALECT_C            7988 non-null float64\n",
      "QDIALECT_INALI        7988 non-null float64\n",
      "HESPANOL              7988 non-null float64\n",
      "ELENGUA               342156 non-null float64\n",
      "ASISTEN               350144 non-null float64\n",
      "MUN_ASI               101491 non-null float64\n",
      "NOM_MUN_ASI           101491 non-null object\n",
      "ENT_PAIS_ASI          101508 non-null float64\n",
      "TIE_TRASLADO_ESCU     101508 non-null float64\n",
      "MED_TRASLADO_ESC1     96560 non-null float64\n",
      "MED_TRASLADO_ESC2     2413 non-null float64\n",
      "MED_TRASLADO_ESC3     46 non-null float64\n",
      "ESCOLARI              350144 non-null float64\n",
      "NIVACAD               350144 non-null float64\n",
      "ALFABET               336768 non-null float64\n",
      "ESCOACUM              350144 non-null float64\n",
      "MUN_RES10             333438 non-null float64\n",
      "NOM_MUN_RES10         333438 non-null object\n",
      "ENT_PAIS_RES10        336768 non-null float64\n",
      "SITUA_CONYUGAL        289751 non-null float64\n",
      "IDENT_PAREJA          161328 non-null float64\n",
      "CONACT                289751 non-null float64\n",
      "OCUPACION_C           141399 non-null float64\n",
      "SITUACION_TRAB        141399 non-null float64\n",
      "AGUINALDO             97511 non-null float64\n",
      "VACACIONES            97511 non-null float64\n",
      "SERVICIO_MEDICO       97511 non-null float64\n",
      "UTILIDADES            97511 non-null float64\n",
      "INCAP_SUELDO          97511 non-null float64\n",
      "SAR_AFORE             97511 non-null float64\n",
      "CREDITO_VIVIENDA      97511 non-null float64\n",
      "INGTRMEN              141399 non-null float64\n",
      "ACTIVIDADES_C         141399 non-null float64\n",
      "MUN_TRAB              141294 non-null float64\n",
      "NOM_MUN_TRAB          141294 non-null object\n",
      "ENT_PAIS_TRAB         141399 non-null float64\n",
      "TIE_TRASLADO_TRAB     141399 non-null float64\n",
      "MED_TRASLADO_TRAB1    124378 non-null float64\n",
      "MED_TRASLADO_TRAB2    4037 non-null float64\n",
      "MED_TRASLADO_TRAB3    119 non-null float64\n",
      "ACTI_SIN_PAGO1        289751 non-null float64\n",
      "ACTI_SIN_PAGO2        289751 non-null float64\n",
      "ACTI_SIN_PAGO3        289751 non-null float64\n",
      "ACTI_SIN_PAGO4        289751 non-null float64\n",
      "ACTI_SIN_PAGO5        289751 non-null float64\n",
      "ACTI_SIN_PAGO6        289751 non-null float64\n",
      "ACTI_SIN_PAGO7        289751 non-null float64\n",
      "ACTI_SIN_PAGO8        289751 non-null float64\n",
      "HIJOS_NAC_VIVOS       150724 non-null float64\n",
      "HIJOS_FALLECIDOS      104844 non-null float64\n",
      "HIJOS_SOBREVIV        104844 non-null float64\n",
      "FECHA_NAC_M           104823 non-null float64\n",
      "FECHA_NAC_A           104823 non-null float64\n",
      "SOBREVIVENCIA         104823 non-null float64\n",
      "EDAD_MORIR_D          740 non-null float64\n",
      "EDAD_MORIR_M          321 non-null float64\n",
      "EDAD_MORIR_A          624 non-null float64\n",
      "TAMLOC                368976 non-null int64\n",
      "dtypes: float64(56), int64(23), object(7)\n",
      "memory usage: 242.1+ MB\n"
     ]
    }
   ],
   "source": [
    "tabla.info()"
   ]
  },
  {
   "cell_type": "code",
   "execution_count": 34,
   "metadata": {},
   "outputs": [
    {
     "data": {
      "text/html": [
       "<div>\n",
       "<style scoped>\n",
       "    .dataframe tbody tr th:only-of-type {\n",
       "        vertical-align: middle;\n",
       "    }\n",
       "\n",
       "    .dataframe tbody tr th {\n",
       "        vertical-align: top;\n",
       "    }\n",
       "\n",
       "    .dataframe thead th {\n",
       "        text-align: right;\n",
       "    }\n",
       "</style>\n",
       "<table border=\"1\" class=\"dataframe\">\n",
       "  <thead>\n",
       "    <tr style=\"text-align: right;\">\n",
       "      <th></th>\n",
       "      <th>EDAD</th>\n",
       "      <th>INGTRMEN</th>\n",
       "    </tr>\n",
       "  </thead>\n",
       "  <tbody>\n",
       "    <tr>\n",
       "      <th>0</th>\n",
       "      <td>30</td>\n",
       "      <td>10000.0</td>\n",
       "    </tr>\n",
       "    <tr>\n",
       "      <th>1</th>\n",
       "      <td>71</td>\n",
       "      <td>NaN</td>\n",
       "    </tr>\n",
       "    <tr>\n",
       "      <th>2</th>\n",
       "      <td>2</td>\n",
       "      <td>NaN</td>\n",
       "    </tr>\n",
       "    <tr>\n",
       "      <th>3</th>\n",
       "      <td>23</td>\n",
       "      <td>4286.0</td>\n",
       "    </tr>\n",
       "    <tr>\n",
       "      <th>4</th>\n",
       "      <td>24</td>\n",
       "      <td>4286.0</td>\n",
       "    </tr>\n",
       "  </tbody>\n",
       "</table>\n",
       "</div>"
      ],
      "text/plain": [
       "   EDAD  INGTRMEN\n",
       "0    30   10000.0\n",
       "1    71       NaN\n",
       "2     2       NaN\n",
       "3    23    4286.0\n",
       "4    24    4286.0"
      ]
     },
     "execution_count": 34,
     "metadata": {},
     "output_type": "execute_result"
    }
   ],
   "source": [
    "tabla = tabla[['EDAD','INGTRMEN']]\n",
    "tabla.head()"
   ]
  },
  {
   "cell_type": "code",
   "execution_count": 35,
   "metadata": {},
   "outputs": [
    {
     "name": "stdout",
     "output_type": "stream",
     "text": [
      "<class 'pandas.core.frame.DataFrame'>\n",
      "RangeIndex: 368976 entries, 0 to 368975\n",
      "Data columns (total 2 columns):\n",
      "EDAD        368976 non-null int64\n",
      "INGTRMEN    141399 non-null float64\n",
      "dtypes: float64(1), int64(1)\n",
      "memory usage: 5.6 MB\n"
     ]
    }
   ],
   "source": [
    "tabla.info()"
   ]
  },
  {
   "cell_type": "code",
   "execution_count": 36,
   "metadata": {},
   "outputs": [],
   "source": [
    "tabla = tabla.dropna()\n",
    "tabla = tabla[(tabla['EDAD']<90)&(tabla['INGTRMEN']<500_000)]"
   ]
  },
  {
   "cell_type": "code",
   "execution_count": 37,
   "metadata": {},
   "outputs": [
    {
     "data": {
      "text/plain": [
       "[<matplotlib.lines.Line2D at 0x15b6a20a5c0>]"
      ]
     },
     "execution_count": 37,
     "metadata": {},
     "output_type": "execute_result"
    },
    {
     "data": {
      "image/png": "[encoded data removed]",
      "text/plain": [
       "<Figure size 432x288 with 1 Axes>"
      ]
     },
     "metadata": {
      "needs_background": "light"
     },
     "output_type": "display_data"
    }
   ],
   "source": [
    "plt.plot(tabla['EDAD'],tabla['INGTRMEN'])"
   ]
  },
  {
   "cell_type": "code",
   "execution_count": 38,
   "metadata": {},
   "outputs": [
    {
     "data": {
      "text/plain": [
       "[<matplotlib.lines.Line2D at 0x15b69b4ca90>]"
      ]
     },
     "execution_count": 38,
     "metadata": {},
     "output_type": "execute_result"
    },
    {
     "data": {
      "image/png": "[encoded data removed]",
      "text/plain": [
       "<Figure size 432x288 with 1 Axes>"
      ]
     },
     "metadata": {
      "needs_background": "light"
     },
     "output_type": "display_data"
    }
   ],
   "source": [
    "muestra = tabla.sample(400)\n",
    "plt.plot(muestra['EDAD'], muestra['INGTRMEN'], marker='.', linestyle='none')"
   ]
  },
  {
   "cell_type": "markdown",
   "metadata": {},
   "source": [
    "-Covarianza\n",
    "$$ \\mathrm{Cov}(x,y) = \\frac{\\sum_{i=1}^n (x_i - \\bar{x})(y_i - \\bar{y})}{n-1} $$\n",
    "\n",
    "-Coeficiente de correlacion de Pearson:\n",
    "$$r = \\frac{\\mathrm{Cov}(x,y)}{\\sigma_x \\, \\sigma_y} $$"
   ]
  },
  {
   "cell_type": "code",
   "execution_count": 39,
   "metadata": {},
   "outputs": [],
   "source": [
    "def pearson(x,y):\n",
    "    n = len(x)\n",
    "    assert n == len(y)\n",
    "    media_x = sum(x)/n\n",
    "    media_y = sum(y)/n\n",
    "    covarianza = sum((x[i] - media_x)*(y[i] - media_y) for i in range(n))\n",
    "    desviacion_x = (sum((x[i] - media_x)**2 for i in range(n)))**.5\n",
    "    desviacion_y = (sum((y[i] - media_y)**2 for i in range(n)))**.5\n",
    "    return covarianza/(desviacion_x*desviacion_y)"
   ]
  },
  {
   "cell_type": "code",
   "execution_count": 40,
   "metadata": {},
   "outputs": [
    {
     "data": {
      "text/plain": [
       "0.05270366257486169"
      ]
     },
     "execution_count": 40,
     "metadata": {},
     "output_type": "execute_result"
    }
   ],
   "source": [
    "x = list(tabla['EDAD'])\n",
    "y = list(tabla['INGTRMEN'])\n",
    "pearson(x, y)"
   ]
  },
  {
   "cell_type": "code",
   "execution_count": 41,
   "metadata": {},
   "outputs": [
    {
     "data": {
      "text/plain": [
       "array([[1.        , 0.05270366],\n",
       "       [0.05270366, 1.        ]])"
      ]
     },
     "execution_count": 41,
     "metadata": {},
     "output_type": "execute_result"
    }
   ],
   "source": [
    "np.corrcoef(x,y)"
   ]
  },
  {
   "cell_type": "code",
   "execution_count": 42,
   "metadata": {},
   "outputs": [
    {
     "data": {
      "text/html": [
       "<div>\n",
       "<style scoped>\n",
       "    .dataframe tbody tr th:only-of-type {\n",
       "        vertical-align: middle;\n",
       "    }\n",
       "\n",
       "    .dataframe tbody tr th {\n",
       "        vertical-align: top;\n",
       "    }\n",
       "\n",
       "    .dataframe thead th {\n",
       "        text-align: right;\n",
       "    }\n",
       "</style>\n",
       "<table border=\"1\" class=\"dataframe\">\n",
       "  <thead>\n",
       "    <tr style=\"text-align: right;\">\n",
       "      <th></th>\n",
       "      <th>ID_VIV</th>\n",
       "      <th>ID_PERSONA</th>\n",
       "      <th>ENT</th>\n",
       "      <th>NOM_ENT</th>\n",
       "      <th>MUN</th>\n",
       "      <th>NOM_MUN</th>\n",
       "      <th>LOC50K</th>\n",
       "      <th>NOM_LOC</th>\n",
       "      <th>COBERTURA</th>\n",
       "      <th>ESTRATO</th>\n",
       "      <th>...</th>\n",
       "      <th>HIJOS_NAC_VIVOS</th>\n",
       "      <th>HIJOS_FALLECIDOS</th>\n",
       "      <th>HIJOS_SOBREVIV</th>\n",
       "      <th>FECHA_NAC_M</th>\n",
       "      <th>FECHA_NAC_A</th>\n",
       "      <th>SOBREVIVENCIA</th>\n",
       "      <th>EDAD_MORIR_D</th>\n",
       "      <th>EDAD_MORIR_M</th>\n",
       "      <th>EDAD_MORIR_A</th>\n",
       "      <th>TAMLOC</th>\n",
       "    </tr>\n",
       "  </thead>\n",
       "  <tbody>\n",
       "    <tr>\n",
       "      <th>0</th>\n",
       "      <td>170010000001</td>\n",
       "      <td>17001000000101</td>\n",
       "      <td>17</td>\n",
       "      <td>Morelos</td>\n",
       "      <td>1</td>\n",
       "      <td>Amacuzac</td>\n",
       "      <td>0</td>\n",
       "      <td>Localidad de menos de 50 mil habitantes</td>\n",
       "      <td>2</td>\n",
       "      <td>17-001-08</td>\n",
       "      <td>...</td>\n",
       "      <td>NaN</td>\n",
       "      <td>NaN</td>\n",
       "      <td>NaN</td>\n",
       "      <td>NaN</td>\n",
       "      <td>NaN</td>\n",
       "      <td>NaN</td>\n",
       "      <td>NaN</td>\n",
       "      <td>NaN</td>\n",
       "      <td>NaN</td>\n",
       "      <td>2</td>\n",
       "    </tr>\n",
       "    <tr>\n",
       "      <th>1</th>\n",
       "      <td>170010000002</td>\n",
       "      <td>17001000000201</td>\n",
       "      <td>17</td>\n",
       "      <td>Morelos</td>\n",
       "      <td>1</td>\n",
       "      <td>Amacuzac</td>\n",
       "      <td>0</td>\n",
       "      <td>Localidad de menos de 50 mil habitantes</td>\n",
       "      <td>2</td>\n",
       "      <td>17-001-06</td>\n",
       "      <td>...</td>\n",
       "      <td>7.0</td>\n",
       "      <td>0.0</td>\n",
       "      <td>7.0</td>\n",
       "      <td>8.0</td>\n",
       "      <td>1978.0</td>\n",
       "      <td>1.0</td>\n",
       "      <td>NaN</td>\n",
       "      <td>NaN</td>\n",
       "      <td>NaN</td>\n",
       "      <td>1</td>\n",
       "    </tr>\n",
       "    <tr>\n",
       "      <th>2</th>\n",
       "      <td>170010000003</td>\n",
       "      <td>17001000000303</td>\n",
       "      <td>17</td>\n",
       "      <td>Morelos</td>\n",
       "      <td>1</td>\n",
       "      <td>Amacuzac</td>\n",
       "      <td>0</td>\n",
       "      <td>Localidad de menos de 50 mil habitantes</td>\n",
       "      <td>2</td>\n",
       "      <td>17-001-08</td>\n",
       "      <td>...</td>\n",
       "      <td>NaN</td>\n",
       "      <td>NaN</td>\n",
       "      <td>NaN</td>\n",
       "      <td>NaN</td>\n",
       "      <td>NaN</td>\n",
       "      <td>NaN</td>\n",
       "      <td>NaN</td>\n",
       "      <td>NaN</td>\n",
       "      <td>NaN</td>\n",
       "      <td>2</td>\n",
       "    </tr>\n",
       "    <tr>\n",
       "      <th>3</th>\n",
       "      <td>170010000003</td>\n",
       "      <td>17001000000301</td>\n",
       "      <td>17</td>\n",
       "      <td>Morelos</td>\n",
       "      <td>1</td>\n",
       "      <td>Amacuzac</td>\n",
       "      <td>0</td>\n",
       "      <td>Localidad de menos de 50 mil habitantes</td>\n",
       "      <td>2</td>\n",
       "      <td>17-001-08</td>\n",
       "      <td>...</td>\n",
       "      <td>NaN</td>\n",
       "      <td>NaN</td>\n",
       "      <td>NaN</td>\n",
       "      <td>NaN</td>\n",
       "      <td>NaN</td>\n",
       "      <td>NaN</td>\n",
       "      <td>NaN</td>\n",
       "      <td>NaN</td>\n",
       "      <td>NaN</td>\n",
       "      <td>2</td>\n",
       "    </tr>\n",
       "    <tr>\n",
       "      <th>4</th>\n",
       "      <td>170010000003</td>\n",
       "      <td>17001000000302</td>\n",
       "      <td>17</td>\n",
       "      <td>Morelos</td>\n",
       "      <td>1</td>\n",
       "      <td>Amacuzac</td>\n",
       "      <td>0</td>\n",
       "      <td>Localidad de menos de 50 mil habitantes</td>\n",
       "      <td>2</td>\n",
       "      <td>17-001-08</td>\n",
       "      <td>...</td>\n",
       "      <td>1.0</td>\n",
       "      <td>0.0</td>\n",
       "      <td>1.0</td>\n",
       "      <td>10.0</td>\n",
       "      <td>2012.0</td>\n",
       "      <td>1.0</td>\n",
       "      <td>NaN</td>\n",
       "      <td>NaN</td>\n",
       "      <td>NaN</td>\n",
       "      <td>2</td>\n",
       "    </tr>\n",
       "  </tbody>\n",
       "</table>\n",
       "<p>5 rows × 86 columns</p>\n",
       "</div>"
      ],
      "text/plain": [
       "         ID_VIV      ID_PERSONA  ENT  NOM_ENT  MUN   NOM_MUN  LOC50K  \\\n",
       "0  170010000001  17001000000101   17  Morelos    1  Amacuzac       0   \n",
       "1  170010000002  17001000000201   17  Morelos    1  Amacuzac       0   \n",
       "2  170010000003  17001000000303   17  Morelos    1  Amacuzac       0   \n",
       "3  170010000003  17001000000301   17  Morelos    1  Amacuzac       0   \n",
       "4  170010000003  17001000000302   17  Morelos    1  Amacuzac       0   \n",
       "\n",
       "                                   NOM_LOC  COBERTURA    ESTRATO  ...  \\\n",
       "0  Localidad de menos de 50 mil habitantes          2  17-001-08  ...   \n",
       "1  Localidad de menos de 50 mil habitantes          2  17-001-06  ...   \n",
       "2  Localidad de menos de 50 mil habitantes          2  17-001-08  ...   \n",
       "3  Localidad de menos de 50 mil habitantes          2  17-001-08  ...   \n",
       "4  Localidad de menos de 50 mil habitantes          2  17-001-08  ...   \n",
       "\n",
       "   HIJOS_NAC_VIVOS  HIJOS_FALLECIDOS  HIJOS_SOBREVIV  FECHA_NAC_M  \\\n",
       "0              NaN               NaN             NaN          NaN   \n",
       "1              7.0               0.0             7.0          8.0   \n",
       "2              NaN               NaN             NaN          NaN   \n",
       "3              NaN               NaN             NaN          NaN   \n",
       "4              1.0               0.0             1.0         10.0   \n",
       "\n",
       "   FECHA_NAC_A  SOBREVIVENCIA  EDAD_MORIR_D  EDAD_MORIR_M  EDAD_MORIR_A  \\\n",
       "0          NaN            NaN           NaN           NaN           NaN   \n",
       "1       1978.0            1.0           NaN           NaN           NaN   \n",
       "2          NaN            NaN           NaN           NaN           NaN   \n",
       "3          NaN            NaN           NaN           NaN           NaN   \n",
       "4       2012.0            1.0           NaN           NaN           NaN   \n",
       "\n",
       "   TAMLOC  \n",
       "0       2  \n",
       "1       1  \n",
       "2       2  \n",
       "3       2  \n",
       "4       2  \n",
       "\n",
       "[5 rows x 86 columns]"
      ]
     },
     "execution_count": 42,
     "metadata": {},
     "output_type": "execute_result"
    }
   ],
   "source": [
    "tabla = pd.read_csv('Datos/TR_PERSONA17.CSV',encoding='latin1')\n",
    "tabla.head()"
   ]
  },
  {
   "cell_type": "code",
   "execution_count": 43,
   "metadata": {},
   "outputs": [
    {
     "data": {
      "text/html": [
       "<div>\n",
       "<style scoped>\n",
       "    .dataframe tbody tr th:only-of-type {\n",
       "        vertical-align: middle;\n",
       "    }\n",
       "\n",
       "    .dataframe tbody tr th {\n",
       "        vertical-align: top;\n",
       "    }\n",
       "\n",
       "    .dataframe thead th {\n",
       "        text-align: right;\n",
       "    }\n",
       "</style>\n",
       "<table border=\"1\" class=\"dataframe\">\n",
       "  <thead>\n",
       "    <tr style=\"text-align: right;\">\n",
       "      <th></th>\n",
       "      <th>EDAD</th>\n",
       "      <th>INGTRMEN</th>\n",
       "      <th>ESCOACUM</th>\n",
       "    </tr>\n",
       "  </thead>\n",
       "  <tbody>\n",
       "    <tr>\n",
       "      <th>0</th>\n",
       "      <td>30</td>\n",
       "      <td>10000.0</td>\n",
       "      <td>16.0</td>\n",
       "    </tr>\n",
       "    <tr>\n",
       "      <th>1</th>\n",
       "      <td>71</td>\n",
       "      <td>NaN</td>\n",
       "      <td>6.0</td>\n",
       "    </tr>\n",
       "    <tr>\n",
       "      <th>2</th>\n",
       "      <td>2</td>\n",
       "      <td>NaN</td>\n",
       "      <td>NaN</td>\n",
       "    </tr>\n",
       "    <tr>\n",
       "      <th>3</th>\n",
       "      <td>23</td>\n",
       "      <td>4286.0</td>\n",
       "      <td>9.0</td>\n",
       "    </tr>\n",
       "    <tr>\n",
       "      <th>4</th>\n",
       "      <td>24</td>\n",
       "      <td>4286.0</td>\n",
       "      <td>6.0</td>\n",
       "    </tr>\n",
       "  </tbody>\n",
       "</table>\n",
       "</div>"
      ],
      "text/plain": [
       "   EDAD  INGTRMEN  ESCOACUM\n",
       "0    30   10000.0      16.0\n",
       "1    71       NaN       6.0\n",
       "2     2       NaN       NaN\n",
       "3    23    4286.0       9.0\n",
       "4    24    4286.0       6.0"
      ]
     },
     "execution_count": 43,
     "metadata": {},
     "output_type": "execute_result"
    }
   ],
   "source": [
    "tabla = tabla[['EDAD','INGTRMEN','ESCOACUM']]\n",
    "tabla.head()"
   ]
  },
  {
   "cell_type": "code",
   "execution_count": 44,
   "metadata": {},
   "outputs": [
    {
     "data": {
      "text/plain": [
       "count    350144.000000\n",
       "mean          7.789138\n",
       "std           8.010872\n",
       "min           0.000000\n",
       "25%           3.000000\n",
       "50%           8.000000\n",
       "75%          10.000000\n",
       "max          99.000000\n",
       "Name: ESCOACUM, dtype: float64"
      ]
     },
     "execution_count": 44,
     "metadata": {},
     "output_type": "execute_result"
    }
   ],
   "source": [
    "tabla['ESCOACUM'].describe()"
   ]
  },
  {
   "cell_type": "code",
   "execution_count": 45,
   "metadata": {},
   "outputs": [],
   "source": [
    "tabla = tabla.dropna()\n",
    "tabla = tabla[(tabla['EDAD']<90)&(tabla['INGTRMEN']<500_000)&(tabla['ESCOACUM']<90)]"
   ]
  },
  {
   "cell_type": "code",
   "execution_count": 46,
   "metadata": {},
   "outputs": [
    {
     "data": {
      "text/plain": [
       "[<matplotlib.lines.Line2D at 0x15b69db9ba8>]"
      ]
     },
     "execution_count": 46,
     "metadata": {},
     "output_type": "execute_result"
    },
    {
     "data": {
      "image/png": "[encoded data removed]",
      "text/plain": [
       "<Figure size 432x288 with 1 Axes>"
      ]
     },
     "metadata": {
      "needs_background": "light"
     },
     "output_type": "display_data"
    }
   ],
   "source": [
    "plt.plot(tabla['EDAD'],tabla['ESCOACUM'])"
   ]
  },
  {
   "cell_type": "code",
   "execution_count": 47,
   "metadata": {},
   "outputs": [
    {
     "data": {
      "text/plain": [
       "[<matplotlib.lines.Line2D at 0x15b69b0e438>]"
      ]
     },
     "execution_count": 47,
     "metadata": {},
     "output_type": "execute_result"
    },
    {
     "data": {
      "image/png": "[encoded data removed]",
      "text/plain": [
       "<Figure size 432x288 with 1 Axes>"
      ]
     },
     "metadata": {
      "needs_background": "light"
     },
     "output_type": "display_data"
    }
   ],
   "source": [
    "muestra = tabla.sample(400)\n",
    "plt.plot(muestra['EDAD'], muestra['ESCOACUM'], marker='.', linestyle='none')"
   ]
  },
  {
   "cell_type": "code",
   "execution_count": 48,
   "metadata": {},
   "outputs": [
    {
     "data": {
      "text/plain": [
       "-0.25289121524136815"
      ]
     },
     "execution_count": 48,
     "metadata": {},
     "output_type": "execute_result"
    }
   ],
   "source": [
    "x = list(tabla['EDAD'])\n",
    "y = list(tabla['ESCOACUM'])\n",
    "pearson(x, y)"
   ]
  },
  {
   "cell_type": "code",
   "execution_count": 49,
   "metadata": {},
   "outputs": [
    {
     "data": {
      "text/plain": [
       "[<matplotlib.lines.Line2D at 0x15b01c8a390>]"
      ]
     },
     "execution_count": 49,
     "metadata": {},
     "output_type": "execute_result"
    },
    {
     "data": {
      "image/png": "[encoded data removed]",
      "text/plain": [
       "<Figure size 432x288 with 1 Axes>"
      ]
     },
     "metadata": {
      "needs_background": "light"
     },
     "output_type": "display_data"
    }
   ],
   "source": [
    "muestra = tabla.sample(400)\n",
    "plt.plot(muestra['INGTRMEN'], muestra['ESCOACUM'], marker='.', linestyle='none')"
   ]
  },
  {
   "cell_type": "code",
   "execution_count": 50,
   "metadata": {},
   "outputs": [
    {
     "data": {
      "text/plain": [
       "0.3255209087442133"
      ]
     },
     "execution_count": 50,
     "metadata": {},
     "output_type": "execute_result"
    }
   ],
   "source": [
    "x = list(tabla['ESCOACUM'])\n",
    "y = list(tabla['INGTRMEN'])\n",
    "pearson(x, y)"
   ]
  },
  {
   "cell_type": "code",
   "execution_count": 51,
   "metadata": {},
   "outputs": [
    {
     "data": {
      "text/plain": [
       "Index(['EDAD', 'INGTRMEN', 'ESCOACUM'], dtype='object')"
      ]
     },
     "execution_count": 51,
     "metadata": {},
     "output_type": "execute_result"
    }
   ],
   "source": [
    "tabla.columns"
   ]
  },
  {
   "cell_type": "code",
   "execution_count": 52,
   "metadata": {},
   "outputs": [
    {
     "data": {
      "text/html": [
       "<div>\n",
       "<style scoped>\n",
       "    .dataframe tbody tr th:only-of-type {\n",
       "        vertical-align: middle;\n",
       "    }\n",
       "\n",
       "    .dataframe tbody tr th {\n",
       "        vertical-align: top;\n",
       "    }\n",
       "\n",
       "    .dataframe thead th {\n",
       "        text-align: right;\n",
       "    }\n",
       "</style>\n",
       "<table border=\"1\" class=\"dataframe\">\n",
       "  <thead>\n",
       "    <tr style=\"text-align: right;\">\n",
       "      <th></th>\n",
       "      <th>ID_VIV</th>\n",
       "      <th>ID_PERSONA</th>\n",
       "      <th>ENT</th>\n",
       "      <th>NOM_ENT</th>\n",
       "      <th>MUN</th>\n",
       "      <th>NOM_MUN</th>\n",
       "      <th>LOC50K</th>\n",
       "      <th>NOM_LOC</th>\n",
       "      <th>COBERTURA</th>\n",
       "      <th>ESTRATO</th>\n",
       "      <th>...</th>\n",
       "      <th>HIJOS_NAC_VIVOS</th>\n",
       "      <th>HIJOS_FALLECIDOS</th>\n",
       "      <th>HIJOS_SOBREVIV</th>\n",
       "      <th>FECHA_NAC_M</th>\n",
       "      <th>FECHA_NAC_A</th>\n",
       "      <th>SOBREVIVENCIA</th>\n",
       "      <th>EDAD_MORIR_D</th>\n",
       "      <th>EDAD_MORIR_M</th>\n",
       "      <th>EDAD_MORIR_A</th>\n",
       "      <th>TAMLOC</th>\n",
       "    </tr>\n",
       "  </thead>\n",
       "  <tbody>\n",
       "    <tr>\n",
       "      <th>0</th>\n",
       "      <td>170010000001</td>\n",
       "      <td>17001000000101</td>\n",
       "      <td>17</td>\n",
       "      <td>Morelos</td>\n",
       "      <td>1</td>\n",
       "      <td>Amacuzac</td>\n",
       "      <td>0</td>\n",
       "      <td>Localidad de menos de 50 mil habitantes</td>\n",
       "      <td>2</td>\n",
       "      <td>17-001-08</td>\n",
       "      <td>...</td>\n",
       "      <td>NaN</td>\n",
       "      <td>NaN</td>\n",
       "      <td>NaN</td>\n",
       "      <td>NaN</td>\n",
       "      <td>NaN</td>\n",
       "      <td>NaN</td>\n",
       "      <td>NaN</td>\n",
       "      <td>NaN</td>\n",
       "      <td>NaN</td>\n",
       "      <td>2</td>\n",
       "    </tr>\n",
       "    <tr>\n",
       "      <th>1</th>\n",
       "      <td>170010000002</td>\n",
       "      <td>17001000000201</td>\n",
       "      <td>17</td>\n",
       "      <td>Morelos</td>\n",
       "      <td>1</td>\n",
       "      <td>Amacuzac</td>\n",
       "      <td>0</td>\n",
       "      <td>Localidad de menos de 50 mil habitantes</td>\n",
       "      <td>2</td>\n",
       "      <td>17-001-06</td>\n",
       "      <td>...</td>\n",
       "      <td>7.0</td>\n",
       "      <td>0.0</td>\n",
       "      <td>7.0</td>\n",
       "      <td>8.0</td>\n",
       "      <td>1978.0</td>\n",
       "      <td>1.0</td>\n",
       "      <td>NaN</td>\n",
       "      <td>NaN</td>\n",
       "      <td>NaN</td>\n",
       "      <td>1</td>\n",
       "    </tr>\n",
       "    <tr>\n",
       "      <th>2</th>\n",
       "      <td>170010000003</td>\n",
       "      <td>17001000000303</td>\n",
       "      <td>17</td>\n",
       "      <td>Morelos</td>\n",
       "      <td>1</td>\n",
       "      <td>Amacuzac</td>\n",
       "      <td>0</td>\n",
       "      <td>Localidad de menos de 50 mil habitantes</td>\n",
       "      <td>2</td>\n",
       "      <td>17-001-08</td>\n",
       "      <td>...</td>\n",
       "      <td>NaN</td>\n",
       "      <td>NaN</td>\n",
       "      <td>NaN</td>\n",
       "      <td>NaN</td>\n",
       "      <td>NaN</td>\n",
       "      <td>NaN</td>\n",
       "      <td>NaN</td>\n",
       "      <td>NaN</td>\n",
       "      <td>NaN</td>\n",
       "      <td>2</td>\n",
       "    </tr>\n",
       "    <tr>\n",
       "      <th>3</th>\n",
       "      <td>170010000003</td>\n",
       "      <td>17001000000301</td>\n",
       "      <td>17</td>\n",
       "      <td>Morelos</td>\n",
       "      <td>1</td>\n",
       "      <td>Amacuzac</td>\n",
       "      <td>0</td>\n",
       "      <td>Localidad de menos de 50 mil habitantes</td>\n",
       "      <td>2</td>\n",
       "      <td>17-001-08</td>\n",
       "      <td>...</td>\n",
       "      <td>NaN</td>\n",
       "      <td>NaN</td>\n",
       "      <td>NaN</td>\n",
       "      <td>NaN</td>\n",
       "      <td>NaN</td>\n",
       "      <td>NaN</td>\n",
       "      <td>NaN</td>\n",
       "      <td>NaN</td>\n",
       "      <td>NaN</td>\n",
       "      <td>2</td>\n",
       "    </tr>\n",
       "    <tr>\n",
       "      <th>4</th>\n",
       "      <td>170010000003</td>\n",
       "      <td>17001000000302</td>\n",
       "      <td>17</td>\n",
       "      <td>Morelos</td>\n",
       "      <td>1</td>\n",
       "      <td>Amacuzac</td>\n",
       "      <td>0</td>\n",
       "      <td>Localidad de menos de 50 mil habitantes</td>\n",
       "      <td>2</td>\n",
       "      <td>17-001-08</td>\n",
       "      <td>...</td>\n",
       "      <td>1.0</td>\n",
       "      <td>0.0</td>\n",
       "      <td>1.0</td>\n",
       "      <td>10.0</td>\n",
       "      <td>2012.0</td>\n",
       "      <td>1.0</td>\n",
       "      <td>NaN</td>\n",
       "      <td>NaN</td>\n",
       "      <td>NaN</td>\n",
       "      <td>2</td>\n",
       "    </tr>\n",
       "  </tbody>\n",
       "</table>\n",
       "<p>5 rows × 86 columns</p>\n",
       "</div>"
      ],
      "text/plain": [
       "         ID_VIV      ID_PERSONA  ENT  NOM_ENT  MUN   NOM_MUN  LOC50K  \\\n",
       "0  170010000001  17001000000101   17  Morelos    1  Amacuzac       0   \n",
       "1  170010000002  17001000000201   17  Morelos    1  Amacuzac       0   \n",
       "2  170010000003  17001000000303   17  Morelos    1  Amacuzac       0   \n",
       "3  170010000003  17001000000301   17  Morelos    1  Amacuzac       0   \n",
       "4  170010000003  17001000000302   17  Morelos    1  Amacuzac       0   \n",
       "\n",
       "                                   NOM_LOC  COBERTURA    ESTRATO  ...  \\\n",
       "0  Localidad de menos de 50 mil habitantes          2  17-001-08  ...   \n",
       "1  Localidad de menos de 50 mil habitantes          2  17-001-06  ...   \n",
       "2  Localidad de menos de 50 mil habitantes          2  17-001-08  ...   \n",
       "3  Localidad de menos de 50 mil habitantes          2  17-001-08  ...   \n",
       "4  Localidad de menos de 50 mil habitantes          2  17-001-08  ...   \n",
       "\n",
       "   HIJOS_NAC_VIVOS  HIJOS_FALLECIDOS  HIJOS_SOBREVIV  FECHA_NAC_M  \\\n",
       "0              NaN               NaN             NaN          NaN   \n",
       "1              7.0               0.0             7.0          8.0   \n",
       "2              NaN               NaN             NaN          NaN   \n",
       "3              NaN               NaN             NaN          NaN   \n",
       "4              1.0               0.0             1.0         10.0   \n",
       "\n",
       "   FECHA_NAC_A  SOBREVIVENCIA  EDAD_MORIR_D  EDAD_MORIR_M  EDAD_MORIR_A  \\\n",
       "0          NaN            NaN           NaN           NaN           NaN   \n",
       "1       1978.0            1.0           NaN           NaN           NaN   \n",
       "2          NaN            NaN           NaN           NaN           NaN   \n",
       "3          NaN            NaN           NaN           NaN           NaN   \n",
       "4       2012.0            1.0           NaN           NaN           NaN   \n",
       "\n",
       "   TAMLOC  \n",
       "0       2  \n",
       "1       1  \n",
       "2       2  \n",
       "3       2  \n",
       "4       2  \n",
       "\n",
       "[5 rows x 86 columns]"
      ]
     },
     "execution_count": 52,
     "metadata": {},
     "output_type": "execute_result"
    }
   ],
   "source": [
    "tabla = pd.read_csv('Datos/TR_PERSONA17.CSV',encoding='latin1')\n",
    "tabla.head()"
   ]
  },
  {
   "cell_type": "code",
   "execution_count": 53,
   "metadata": {},
   "outputs": [],
   "source": [
    "numericas = tabla.dtypes == np.dtype('float64')"
   ]
  },
  {
   "cell_type": "code",
   "execution_count": 54,
   "metadata": {},
   "outputs": [
    {
     "data": {
      "text/html": [
       "<div>\n",
       "<style scoped>\n",
       "    .dataframe tbody tr th:only-of-type {\n",
       "        vertical-align: middle;\n",
       "    }\n",
       "\n",
       "    .dataframe tbody tr th {\n",
       "        vertical-align: top;\n",
       "    }\n",
       "\n",
       "    .dataframe thead th {\n",
       "        text-align: right;\n",
       "    }\n",
       "</style>\n",
       "<table border=\"1\" class=\"dataframe\">\n",
       "  <thead>\n",
       "    <tr style=\"text-align: right;\">\n",
       "      <th></th>\n",
       "      <th>DHSERSAL2</th>\n",
       "      <th>HLENGUA</th>\n",
       "      <th>QDIALECT_C</th>\n",
       "      <th>QDIALECT_INALI</th>\n",
       "      <th>HESPANOL</th>\n",
       "      <th>ELENGUA</th>\n",
       "      <th>ASISTEN</th>\n",
       "      <th>MUN_ASI</th>\n",
       "      <th>ENT_PAIS_ASI</th>\n",
       "      <th>TIE_TRASLADO_ESCU</th>\n",
       "      <th>...</th>\n",
       "      <th>ACTI_SIN_PAGO8</th>\n",
       "      <th>HIJOS_NAC_VIVOS</th>\n",
       "      <th>HIJOS_FALLECIDOS</th>\n",
       "      <th>HIJOS_SOBREVIV</th>\n",
       "      <th>FECHA_NAC_M</th>\n",
       "      <th>FECHA_NAC_A</th>\n",
       "      <th>SOBREVIVENCIA</th>\n",
       "      <th>EDAD_MORIR_D</th>\n",
       "      <th>EDAD_MORIR_M</th>\n",
       "      <th>EDAD_MORIR_A</th>\n",
       "    </tr>\n",
       "  </thead>\n",
       "  <tbody>\n",
       "    <tr>\n",
       "      <th>0</th>\n",
       "      <td>NaN</td>\n",
       "      <td>3.0</td>\n",
       "      <td>NaN</td>\n",
       "      <td>NaN</td>\n",
       "      <td>NaN</td>\n",
       "      <td>3.0</td>\n",
       "      <td>7.0</td>\n",
       "      <td>NaN</td>\n",
       "      <td>NaN</td>\n",
       "      <td>NaN</td>\n",
       "      <td>...</td>\n",
       "      <td>4.0</td>\n",
       "      <td>NaN</td>\n",
       "      <td>NaN</td>\n",
       "      <td>NaN</td>\n",
       "      <td>NaN</td>\n",
       "      <td>NaN</td>\n",
       "      <td>NaN</td>\n",
       "      <td>NaN</td>\n",
       "      <td>NaN</td>\n",
       "      <td>NaN</td>\n",
       "    </tr>\n",
       "    <tr>\n",
       "      <th>1</th>\n",
       "      <td>NaN</td>\n",
       "      <td>3.0</td>\n",
       "      <td>NaN</td>\n",
       "      <td>NaN</td>\n",
       "      <td>NaN</td>\n",
       "      <td>3.0</td>\n",
       "      <td>7.0</td>\n",
       "      <td>NaN</td>\n",
       "      <td>NaN</td>\n",
       "      <td>NaN</td>\n",
       "      <td>...</td>\n",
       "      <td>1.0</td>\n",
       "      <td>7.0</td>\n",
       "      <td>0.0</td>\n",
       "      <td>7.0</td>\n",
       "      <td>8.0</td>\n",
       "      <td>1978.0</td>\n",
       "      <td>1.0</td>\n",
       "      <td>NaN</td>\n",
       "      <td>NaN</td>\n",
       "      <td>NaN</td>\n",
       "    </tr>\n",
       "    <tr>\n",
       "      <th>2</th>\n",
       "      <td>NaN</td>\n",
       "      <td>NaN</td>\n",
       "      <td>NaN</td>\n",
       "      <td>NaN</td>\n",
       "      <td>NaN</td>\n",
       "      <td>NaN</td>\n",
       "      <td>NaN</td>\n",
       "      <td>NaN</td>\n",
       "      <td>NaN</td>\n",
       "      <td>NaN</td>\n",
       "      <td>...</td>\n",
       "      <td>NaN</td>\n",
       "      <td>NaN</td>\n",
       "      <td>NaN</td>\n",
       "      <td>NaN</td>\n",
       "      <td>NaN</td>\n",
       "      <td>NaN</td>\n",
       "      <td>NaN</td>\n",
       "      <td>NaN</td>\n",
       "      <td>NaN</td>\n",
       "      <td>NaN</td>\n",
       "    </tr>\n",
       "    <tr>\n",
       "      <th>3</th>\n",
       "      <td>NaN</td>\n",
       "      <td>3.0</td>\n",
       "      <td>NaN</td>\n",
       "      <td>NaN</td>\n",
       "      <td>NaN</td>\n",
       "      <td>3.0</td>\n",
       "      <td>7.0</td>\n",
       "      <td>NaN</td>\n",
       "      <td>NaN</td>\n",
       "      <td>NaN</td>\n",
       "      <td>...</td>\n",
       "      <td>2.0</td>\n",
       "      <td>NaN</td>\n",
       "      <td>NaN</td>\n",
       "      <td>NaN</td>\n",
       "      <td>NaN</td>\n",
       "      <td>NaN</td>\n",
       "      <td>NaN</td>\n",
       "      <td>NaN</td>\n",
       "      <td>NaN</td>\n",
       "      <td>NaN</td>\n",
       "    </tr>\n",
       "    <tr>\n",
       "      <th>4</th>\n",
       "      <td>NaN</td>\n",
       "      <td>3.0</td>\n",
       "      <td>NaN</td>\n",
       "      <td>NaN</td>\n",
       "      <td>NaN</td>\n",
       "      <td>3.0</td>\n",
       "      <td>7.0</td>\n",
       "      <td>NaN</td>\n",
       "      <td>NaN</td>\n",
       "      <td>NaN</td>\n",
       "      <td>...</td>\n",
       "      <td>2.0</td>\n",
       "      <td>1.0</td>\n",
       "      <td>0.0</td>\n",
       "      <td>1.0</td>\n",
       "      <td>10.0</td>\n",
       "      <td>2012.0</td>\n",
       "      <td>1.0</td>\n",
       "      <td>NaN</td>\n",
       "      <td>NaN</td>\n",
       "      <td>NaN</td>\n",
       "    </tr>\n",
       "  </tbody>\n",
       "</table>\n",
       "<p>5 rows × 56 columns</p>\n",
       "</div>"
      ],
      "text/plain": [
       "   DHSERSAL2  HLENGUA  QDIALECT_C  QDIALECT_INALI  HESPANOL  ELENGUA  ASISTEN  \\\n",
       "0        NaN      3.0         NaN             NaN       NaN      3.0      7.0   \n",
       "1        NaN      3.0         NaN             NaN       NaN      3.0      7.0   \n",
       "2        NaN      NaN         NaN             NaN       NaN      NaN      NaN   \n",
       "3        NaN      3.0         NaN             NaN       NaN      3.0      7.0   \n",
       "4        NaN      3.0         NaN             NaN       NaN      3.0      7.0   \n",
       "\n",
       "   MUN_ASI  ENT_PAIS_ASI  TIE_TRASLADO_ESCU  ...  ACTI_SIN_PAGO8  \\\n",
       "0      NaN           NaN                NaN  ...             4.0   \n",
       "1      NaN           NaN                NaN  ...             1.0   \n",
       "2      NaN           NaN                NaN  ...             NaN   \n",
       "3      NaN           NaN                NaN  ...             2.0   \n",
       "4      NaN           NaN                NaN  ...             2.0   \n",
       "\n",
       "   HIJOS_NAC_VIVOS  HIJOS_FALLECIDOS  HIJOS_SOBREVIV  FECHA_NAC_M  \\\n",
       "0              NaN               NaN             NaN          NaN   \n",
       "1              7.0               0.0             7.0          8.0   \n",
       "2              NaN               NaN             NaN          NaN   \n",
       "3              NaN               NaN             NaN          NaN   \n",
       "4              1.0               0.0             1.0         10.0   \n",
       "\n",
       "   FECHA_NAC_A  SOBREVIVENCIA  EDAD_MORIR_D  EDAD_MORIR_M  EDAD_MORIR_A  \n",
       "0          NaN            NaN           NaN           NaN           NaN  \n",
       "1       1978.0            1.0           NaN           NaN           NaN  \n",
       "2          NaN            NaN           NaN           NaN           NaN  \n",
       "3          NaN            NaN           NaN           NaN           NaN  \n",
       "4       2012.0            1.0           NaN           NaN           NaN  \n",
       "\n",
       "[5 rows x 56 columns]"
      ]
     },
     "execution_count": 54,
     "metadata": {},
     "output_type": "execute_result"
    }
   ],
   "source": [
    "columnas_numericas = [key for (key,value) in numericas.to_dict().items() if value]\n",
    "tabla_num = tabla[columnas_numericas]\n",
    "tabla_num.head()"
   ]
  },
  {
   "cell_type": "code",
   "execution_count": 55,
   "metadata": {},
   "outputs": [
    {
     "ename": "MemoryError",
     "evalue": "",
     "output_type": "error",
     "traceback": [
      "\u001b[1;31m---------------------------------------------------------------------------\u001b[0m",
      "\u001b[1;31mMemoryError\u001b[0m                               Traceback (most recent call last)",
      "\u001b[1;32m<ipython-input-55-db34468dfea9>\u001b[0m in \u001b[0;36m<module>\u001b[1;34m\u001b[0m\n\u001b[0;32m      1\u001b[0m \u001b[1;31m#Porcentaje de NA por columna\u001b[0m\u001b[1;33m\u001b[0m\u001b[1;33m\u001b[0m\u001b[1;33m\u001b[0m\u001b[0m\n\u001b[0;32m      2\u001b[0m \u001b[0mna_por_col\u001b[0m \u001b[1;33m=\u001b[0m \u001b[1;33m{\u001b[0m\u001b[0mcolumna\u001b[0m\u001b[1;33m:\u001b[0m \u001b[0mnp\u001b[0m\u001b[1;33m.\u001b[0m\u001b[0mround\u001b[0m\u001b[1;33m(\u001b[0m\u001b[1;36m100\u001b[0m\u001b[1;33m*\u001b[0m \u001b[0mnp\u001b[0m\u001b[1;33m.\u001b[0m\u001b[0mmean\u001b[0m\u001b[1;33m(\u001b[0m\u001b[0mtabla_num\u001b[0m\u001b[1;33m[\u001b[0m\u001b[0mcolumna\u001b[0m\u001b[1;33m]\u001b[0m\u001b[1;33m.\u001b[0m\u001b[0misnull\u001b[0m\u001b[1;33m(\u001b[0m\u001b[1;33m)\u001b[0m\u001b[1;33m)\u001b[0m\u001b[1;33m)\u001b[0m \u001b[1;32mfor\u001b[0m \u001b[0mcolumna\u001b[0m \u001b[1;32min\u001b[0m \u001b[0mtabla_num\u001b[0m\u001b[1;33m}\u001b[0m\u001b[1;33m\u001b[0m\u001b[1;33m\u001b[0m\u001b[0m\n\u001b[1;32m----> 3\u001b[1;33m \u001b[0mnp\u001b[0m\u001b[1;33m.\u001b[0m\u001b[0mcorrcoef\u001b[0m\u001b[1;33m(\u001b[0m\u001b[0mtabla_num\u001b[0m\u001b[1;33m)\u001b[0m\u001b[1;33m\u001b[0m\u001b[1;33m\u001b[0m\u001b[0m\n\u001b[0m",
      "\u001b[1;32m~\\Anaconda3\\lib\\site-packages\\numpy\\lib\\function_base.py\u001b[0m in \u001b[0;36mcorrcoef\u001b[1;34m(x, y, rowvar, bias, ddof)\u001b[0m\n\u001b[0;32m   2520\u001b[0m         warnings.warn('bias and ddof have no effect and are deprecated',\n\u001b[0;32m   2521\u001b[0m                       DeprecationWarning, stacklevel=2)\n\u001b[1;32m-> 2522\u001b[1;33m     \u001b[0mc\u001b[0m \u001b[1;33m=\u001b[0m \u001b[0mcov\u001b[0m\u001b[1;33m(\u001b[0m\u001b[0mx\u001b[0m\u001b[1;33m,\u001b[0m \u001b[0my\u001b[0m\u001b[1;33m,\u001b[0m \u001b[0mrowvar\u001b[0m\u001b[1;33m)\u001b[0m\u001b[1;33m\u001b[0m\u001b[1;33m\u001b[0m\u001b[0m\n\u001b[0m\u001b[0;32m   2523\u001b[0m     \u001b[1;32mtry\u001b[0m\u001b[1;33m:\u001b[0m\u001b[1;33m\u001b[0m\u001b[1;33m\u001b[0m\u001b[0m\n\u001b[0;32m   2524\u001b[0m         \u001b[0md\u001b[0m \u001b[1;33m=\u001b[0m \u001b[0mdiag\u001b[0m\u001b[1;33m(\u001b[0m\u001b[0mc\u001b[0m\u001b[1;33m)\u001b[0m\u001b[1;33m\u001b[0m\u001b[1;33m\u001b[0m\u001b[0m\n",
      "\u001b[1;32m~\\Anaconda3\\lib\\site-packages\\numpy\\lib\\function_base.py\u001b[0m in \u001b[0;36mcov\u001b[1;34m(m, y, rowvar, bias, ddof, fweights, aweights)\u001b[0m\n\u001b[0;32m   2448\u001b[0m     \u001b[1;32melse\u001b[0m\u001b[1;33m:\u001b[0m\u001b[1;33m\u001b[0m\u001b[1;33m\u001b[0m\u001b[0m\n\u001b[0;32m   2449\u001b[0m         \u001b[0mX_T\u001b[0m \u001b[1;33m=\u001b[0m \u001b[1;33m(\u001b[0m\u001b[0mX\u001b[0m\u001b[1;33m*\u001b[0m\u001b[0mw\u001b[0m\u001b[1;33m)\u001b[0m\u001b[1;33m.\u001b[0m\u001b[0mT\u001b[0m\u001b[1;33m\u001b[0m\u001b[1;33m\u001b[0m\u001b[0m\n\u001b[1;32m-> 2450\u001b[1;33m     \u001b[0mc\u001b[0m \u001b[1;33m=\u001b[0m \u001b[0mdot\u001b[0m\u001b[1;33m(\u001b[0m\u001b[0mX\u001b[0m\u001b[1;33m,\u001b[0m \u001b[0mX_T\u001b[0m\u001b[1;33m.\u001b[0m\u001b[0mconj\u001b[0m\u001b[1;33m(\u001b[0m\u001b[1;33m)\u001b[0m\u001b[1;33m)\u001b[0m\u001b[1;33m\u001b[0m\u001b[1;33m\u001b[0m\u001b[0m\n\u001b[0m\u001b[0;32m   2451\u001b[0m     \u001b[0mc\u001b[0m \u001b[1;33m*=\u001b[0m \u001b[0mnp\u001b[0m\u001b[1;33m.\u001b[0m\u001b[0mtrue_divide\u001b[0m\u001b[1;33m(\u001b[0m\u001b[1;36m1\u001b[0m\u001b[1;33m,\u001b[0m \u001b[0mfact\u001b[0m\u001b[1;33m)\u001b[0m\u001b[1;33m\u001b[0m\u001b[1;33m\u001b[0m\u001b[0m\n\u001b[0;32m   2452\u001b[0m     \u001b[1;32mreturn\u001b[0m \u001b[0mc\u001b[0m\u001b[1;33m.\u001b[0m\u001b[0msqueeze\u001b[0m\u001b[1;33m(\u001b[0m\u001b[1;33m)\u001b[0m\u001b[1;33m\u001b[0m\u001b[1;33m\u001b[0m\u001b[0m\n",
      "\u001b[1;31mMemoryError\u001b[0m: "
     ]
    }
   ],
   "source": [
    "#Porcentaje de NA por columna\n",
    "na_por_col = {columna: np.round(100* np.mean(tabla_num[columna].isnull())) for columna in tabla_num}\n",
    "np.corrcoef(tabla_num)"
   ]
  },
  {
   "cell_type": "code",
   "execution_count": null,
   "metadata": {},
   "outputs": [],
   "source": [
    "columnas_seleccionadas = [nombre for (nombre,porcentaje) in na_por_col.items() if porcentaje <=10]\n",
    "(tabla[columnas_seleccionadas].dropna()).corr()"
   ]
  },
  {
   "cell_type": "code",
   "execution_count": null,
   "metadata": {},
   "outputs": [],
   "source": [
    "numericas1 = tabla.dtypes == np.dtype('int64')"
   ]
  },
  {
   "cell_type": "code",
   "execution_count": null,
   "metadata": {},
   "outputs": [],
   "source": [
    "columnas_numericas1 = [key for (key,value) in numericas1.to_dict().items() if value]\n",
    "tabla_num1 = tabla[columnas_numericas1]\n",
    "tabla_num1.head()"
   ]
  },
  {
   "cell_type": "code",
   "execution_count": null,
   "metadata": {},
   "outputs": [],
   "source": [
    "#Porcentaje de NA por columna\n",
    "na_por_col1 = {columna1: np.round(100* np.mean(tabla_num1[columna1].isnull())) for columna1 in tabla_num1}\n",
    "np.corrcoef(na_por_col1)"
   ]
  },
  {
   "cell_type": "code",
   "execution_count": null,
   "metadata": {},
   "outputs": [],
   "source": [
    "columnas_seleccionadas1 = [nombre for (nombre,porcentaje) in na_por_col1.items() if porcentaje <=10]\n",
    "(tabla[columnas_seleccionadas1].dropna()).corr()"
   ]
  },
  {
   "cell_type": "code",
   "execution_count": null,
   "metadata": {},
   "outputs": [],
   "source": [
    "df_nba = pd.read_csv('Kaggle/nba.csv')\n",
    "df_nfl = pd.read_csv('Kaggle/nfl.csv')\n",
    "df_nfl.head()"
   ]
  },
  {
   "cell_type": "code",
   "execution_count": null,
   "metadata": {},
   "outputs": [],
   "source": [
    "df_nba = df_nba[['age','player_height','player_weight']]\n",
    "df_nba.columns = ['edad', 'estatura', 'peso']\n",
    "df_nba.head()"
   ]
  },
  {
   "cell_type": "code",
   "execution_count": null,
   "metadata": {},
   "outputs": [],
   "source": [
    "df_nfl = df_nfl[['Age','Height (inches)','Weight (lbs)']]\n",
    "df_nfl.head()\n",
    "df_nfl.columns = ['edad','altura','peso']\n",
    "df_nfl['altura'] = df_nfl['altura']*2.54\n",
    "df_nfl['peso'] = df_nfl['peso']*.453592\n",
    "df_nfl = df_nfl[df_nfl['edad']<=80]"
   ]
  },
  {
   "cell_type": "code",
   "execution_count": null,
   "metadata": {},
   "outputs": [],
   "source": [
    "df_nba.dropna(inplace=True)\n",
    "df_nfl.dropna(inplace=True)"
   ]
  },
  {
   "cell_type": "code",
   "execution_count": null,
   "metadata": {},
   "outputs": [],
   "source": [
    "df_nba.corr()"
   ]
  },
  {
   "cell_type": "code",
   "execution_count": null,
   "metadata": {},
   "outputs": [],
   "source": [
    "df_nfl.corr()"
   ]
  },
  {
   "cell_type": "code",
   "execution_count": null,
   "metadata": {},
   "outputs": [],
   "source": [
    "df_nba.hist(bins=20, density=True)\n",
    "None"
   ]
  },
  {
   "cell_type": "code",
   "execution_count": null,
   "metadata": {},
   "outputs": [],
   "source": [
    "df_nfl.hist(bins=20, density=True)\n",
    "None"
   ]
  },
  {
   "cell_type": "code",
   "execution_count": null,
   "metadata": {},
   "outputs": [],
   "source": [
    "muestra_nba = df_nba.sample(400)\n",
    "muestra_nfl = df_nfl.sample(400)\n",
    "plt.plot(muestra_nba['player_weight'],muestra_nba['player_height'],'.',alpha=1,color='blue')\n",
    "plt.plot(muestra_nfl['peso'],muestra_nfl['altura'],'.',alpha=1,color='green')"
   ]
  },
  {
   "cell_type": "code",
   "execution_count": null,
   "metadata": {},
   "outputs": [],
   "source": [
    "muestra_nba = df_nba.sample(400)\n",
    "muestra_nfl = df_nfl.sample(400)\n",
    "plt.plot(muestra_nba['player_height'],muestra_nba['player_weight'],'.',alpha=1,color='blue')\n",
    "plt.plot(muestra_nfl['altura'],muestra_nfl['peso'],'.',alpha=1,color='green')"
   ]
  },
  {
   "cell_type": "markdown",
   "metadata": {},
   "source": [
    "Si r es el coeficiente de relación de Pearson , la r^2 (A veces escrita en mayuscula como R^2) es un valor entre 0 y 1 que nos indica el poder explicativo de una variable en terminos de la otra"
   ]
  },
  {
   "cell_type": "code",
   "execution_count": null,
   "metadata": {},
   "outputs": [],
   "source": [
    "0.835145**2"
   ]
  },
  {
   "cell_type": "code",
   "execution_count": null,
   "metadata": {},
   "outputs": [],
   "source": []
  }
 ],
 "metadata": {
  "kernelspec": {
   "display_name": "Python 3",
   "language": "python",
   "name": "python3"
  },
  "language_info": {
   "codemirror_mode": {
    "name": "ipython",
    "version": 3
   },
   "file_extension": ".py",
   "mimetype": "text/x-python",
   "name": "python",
   "nbconvert_exporter": "python",
   "pygments_lexer": "ipython3",
   "version": "3.7.0"
  }
 },
 "nbformat": 4,
 "nbformat_minor": 4
}
