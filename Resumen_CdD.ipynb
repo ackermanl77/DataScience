{
 "cells": [
  {
   "cell_type": "markdown",
   "metadata": {},
   "source": [
    "# Introducción a la Ciencia de Datos"
   ]
  },
  {
   "cell_type": "markdown",
   "metadata": {},
   "source": [
    "## 1. Qué es la Ciencia de Datos\n",
    "\n",
    "> Por un largo tiempo pensé que era un estadístico interesado en las inferencias de lo particular a lo general. Pero según he visto la estadística matemática evolucionar, he tenido motivo para reflexionar y dudar... En resumidas cuentas he llegado a sentir que mi interés central está en el **análisis de datos**, que en mi entendimiento incluye, entre otras cosas: procedimientos para analizar datos, técnicas para interpretar los resultados de dichos procedimientos, maneras de planificar la recolección de datos para que su análisis sea más fácil, preciso o exacto, y toda la maquinaria y resultados de la estadística (matemática) que aplica para el análisis de datos.\n",
    "> <div align=\"right\">(John W. Tukey - 1962)</div>"
   ]
  },
  {
   "cell_type": "markdown",
   "metadata": {},
   "source": [
    "### Como combinación de aptitudes\n",
    "- **Estadística** Para analizar y explorar conjuntos de datos, visualizarlos, y probar hipótesis en ellos. \n",
    "- **Programación** Para el diseño y análsis de algoritmos que escalen bien con la cantidad de datos; extracción procesamiento automático de datos; técnicas de aprendizaje automático.\n",
    "- **Conocimiento de dominio** De la ciencia o negocio en donde se trate de aplicar la ciencia de datos provienen los retos que hay que enfrentar así como los métodos para evaluar el éxito sobre estos mismos.\n",
    "- **Comunicación** Para entender los problemas de dominio y presentar resultados de forma efectiva."
   ]
  },
  {
   "cell_type": "markdown",
   "metadata": {},
   "source": [
    "### Como paradigma científico\n",
    "- **Ciencia experimental** Basada en el razonamiento inductivo; se registran y varían las condiciones en las que ocurre un fenómeno para su posible reproducción.\n",
    "- **Ciencia teórica** Basada en el razonamiento deductivo; se proponen modelos matemáticos (ecuaciones elegantes) que permiten explicar o predecir fenómenos.\n",
    "- **Ciencia computacional** Se realizan simulaciones computarizadas de los fenómenos para tratar de entenderlos y hacer predicciones sobre ellos. Estas simulaciones están basadas en modelos matemáticos o computacionales (programas con reglas simples).\n",
    "- **Ciencia basada en datos** Se hace un uso intensivo de los datos para crear sistemas de predicción efectivos aunque posiblemente carentes de interpretación. En esencia, los modelos son los conjuntos de datos en sí mismos."
   ]
  },
  {
   "cell_type": "markdown",
   "metadata": {},
   "source": [
    "## 2. Taxonomía de datos"
   ]
  },
  {
   "cell_type": "markdown",
   "metadata": {},
   "source": [
    "### Escalas de medición\n",
    "\n",
    "Escala       |Qué mide                |Operaciones                |Ejemplos \n",
    "------------:|------------------------|---------------------------|--------\n",
    "**Nominal**  |Clasificación, membresía|$=$, $\\ne$, agrupar, contar|Colores, especies\n",
    "**Ordinal**  |Comparación, nivel      |$<$, $>$, ordenar          |Grado de estudios, niv. socioeconómico\n",
    "**Intervalo**|Diferencia, afinidad    |$+$, $-$, promedio         |Fechas, temperatura (°C)\n",
    "**Razón**    |Magnitud, cantidad      |$\\times$, $\\div$           |Distancia, masa, duración, ángulo, temperatura (°K)\n",
    "\n",
    "- Los datos booleanos (Sí/No) son usualmente considerados nominales.\n",
    "- Una famosa escala ordinal es la **escala de Likert**, usada comunmente en encuestas:\n",
    "    - *Totalmente en desacuerdo*\n",
    "    - *En desacuerdo*\n",
    "    - *Ni de acuerdo ni en desacuerdo*\n",
    "    - *De acuerdo*\n",
    "    - *Totalmente de acuerdo*\n",
    "- Las escalas de razón se denominan así porque existe un punto de referencia absoluto (el cero) de manera que cualesquiera dos datos en esta escala se pueden expresar como *razón* la una de la otra."
   ]
  },
  {
   "cell_type": "markdown",
   "metadata": {},
   "source": [
    "### Modelo de datos\n",
    "- Los **datos estructurados** son aquellos que están organizados en tablas, como los que se suelen encontrar en bases de datos relacionales y hojas de cálculo.\n",
    "- Los **datos semiestructurados** no se pueden organizar en tablas pero sí preservan una estructura semántica; por ejemplo, las páginas web están escritas en HTML, con marcas que identifican listas, tablas, títulos, etc.\n",
    "- Los **datos sin estructura** no poseen información semántica; ejemplos: imágenes, sonidos, videos, y texto plano"
   ]
  },
  {
   "cell_type": "markdown",
   "metadata": {},
   "source": [
    "## 3. Representación de tablas en Python"
   ]
  },
  {
   "cell_type": "markdown",
   "metadata": {},
   "source": [
    "En la práctica los datos estructurados se organizan en tablas donde cada renglón representa una **observación** y cada columna una **variable**. Ejemplo:\n",
    "\n",
    "|Nombre |Fecha     |Peso (kg)|Score    |Color|\n",
    "|-------|----------|---------|---------|-----|\n",
    "|Adrián |2018-09-27|30       |Pasivo   |Azul |\n",
    "|Beatriz|2013-03-17|40       |Promotor |Rojo |\n",
    "|Carlos |NA        |83       |Detractor|Verde|\n",
    "|Daniela|2014-12-25|29       |Pasivo   |Café |\n",
    "|Ernesto|2090-01-01|50       |NA       |Negro|\n",
    "\n",
    "En el contexto de las bases de datos a las observaciones se les llama **registros** y a las variables **campos**. Para su representación en Python, una tabla se puede entender como una colección de renglones o columnas."
   ]
  },
  {
   "cell_type": "markdown",
   "metadata": {},
   "source": [
    "### Representación por renglones"
   ]
  },
  {
   "cell_type": "code",
   "execution_count": 1,
   "metadata": {},
   "outputs": [],
   "source": [
    "import datetime\n",
    "import collections\n",
    "import math\n",
    "import random\n",
    "import sqlite3\n",
    "import matplotlib.pyplot as plt\n",
    "import numpy as np\n",
    "import pandas as pd\n",
    "import seaborn as sns\n",
    "import itertools\n",
    "import networkx as nx\n",
    "from scipy import stats\n",
    "from scipy import special\n",
    "import pathlib\n",
    "import numba\n",
    "from sklearn import datasets\n",
    "from bokeh.plotting import figure, show, output_file\n",
    "from bokeh.transform import factor_cmap, factor_mark\n",
    "from bokeh.transform import linear_cmap\n",
    "from bokeh.palettes import Category20c\n",
    "from bokeh.transform import cumsum\n",
    "from bokeh.palettes import Spectral6\n",
    "from random import choice\n",
    "from sklearn import linear_model\n",
    "from sklearn import model_selection\n",
    "from sklearn.linear_model import LinearRegression\n",
    "from sklearn import metrics\n",
    "import warnings\n",
    "warnings.filterwarnings(\"ignore\")"
   ]
  },
  {
   "cell_type": "code",
   "execution_count": 2,
   "metadata": {},
   "outputs": [],
   "source": [
    "fecha = datetime.datetime.fromisoformat\n",
    "# Crear una tabla\n",
    "tabla_renglones = [\n",
    "    ('Adrián', fecha('2018-09-27'), 30, 'Pasivo', 'Azul' ),\n",
    "    ('Beatriz', fecha('2013-03-17'), 40, 'Promotor', 'Rojo'),\n",
    "    ('Carlos', None, 83, 'Detractor', 'Verde'),\n",
    "    ('Daniela', fecha('2014-12-25'), 29, 'Pasivo', 'Café'),\n",
    "    ('Ernesto', fecha('2090-01-01'), 50, None, 'Negro'),\n",
    "]"
   ]
  },
  {
   "cell_type": "code",
   "execution_count": 3,
   "metadata": {},
   "outputs": [
    {
     "name": "stdout",
     "output_type": "stream",
     "text": [
      "Nombre: Carlos\n",
      "Fecha: None\n",
      "Peso (kg): 83\n",
      "Score: Detractor\n",
      "Color: Verde\n"
     ]
    }
   ],
   "source": [
    "# Buscar un registro particular:\n",
    "for registro in tabla_renglones:\n",
    "    if registro[0] == 'Carlos':\n",
    "        break\n",
    "else:\n",
    "    raise KeyError('Registro no encontrado')\n",
    "\n",
    "columnas = ['Nombre', 'Fecha', 'Peso (kg)', 'Score', 'Color']\n",
    "for col, val in zip(columnas, registro):\n",
    "    print(f'{col}: {str(val)}')"
   ]
  },
  {
   "cell_type": "markdown",
   "metadata": {},
   "source": [
    "### Representación por columnas\n",
    "La representación como colección de columnas es mejor si pretendemos hacer análsis sobre las mismas, como calcular promedios, graficar distribuciones, etc."
   ]
  },
  {
   "cell_type": "code",
   "execution_count": 4,
   "metadata": {},
   "outputs": [],
   "source": [
    "# Crear la tabla\n",
    "tabla_columnas = {\n",
    "    'Nombre': ['Adrián', 'Beatriz', 'Carlos', 'Daniela', 'Ernesto'],\n",
    "    'Fecha': [fecha('2018-09-27'), fecha('2013-03-17'),\n",
    "              None, fecha('2014-12-25'), fecha('2090-01-01')],\n",
    "    'Peso (kg)': [30, 40, 83, 29, 50],\n",
    "    'Promotor': ['Pasivo', 'Promotor', 'Detractor', 'Pasigo', None],\n",
    "    'Color': ['Azul', 'Rojo', 'Verde', 'Café', 'Negro']\n",
    "}"
   ]
  },
  {
   "cell_type": "code",
   "execution_count": 5,
   "metadata": {},
   "outputs": [
    {
     "data": {
      "text/plain": [
       "{'Nombre': ['Adrián', 'Beatriz', 'Carlos', 'Daniela', 'Ernesto'],\n",
       " 'Fecha': [datetime.datetime(2018, 9, 27, 0, 0),\n",
       "  datetime.datetime(2013, 3, 17, 0, 0),\n",
       "  None,\n",
       "  datetime.datetime(2014, 12, 25, 0, 0),\n",
       "  datetime.datetime(2090, 1, 1, 0, 0)],\n",
       " 'Peso (kg)': [30, 40, 83, 29, 50],\n",
       " 'Promotor': ['Pasivo', 'Promotor', 'Detractor', 'Pasigo', None],\n",
       " 'Color': ['Azul', 'Rojo', 'Verde', 'Café', 'Negro']}"
      ]
     },
     "execution_count": 5,
     "metadata": {},
     "output_type": "execute_result"
    }
   ],
   "source": [
    "tabla_columnas"
   ]
  },
  {
   "cell_type": "code",
   "execution_count": 6,
   "metadata": {},
   "outputs": [
    {
     "name": "stdout",
     "output_type": "stream",
     "text": [
      "Registros: 5\n",
      "Peso mínimo: 29\n",
      "Peso promedio: 46.4\n",
      "Peso máximo: 83\n"
     ]
    }
   ],
   "source": [
    "# Analizar la columna Peso (kg)\n",
    "columna = tabla_columnas['Peso (kg)']\n",
    "print('Registros:', len(columna))\n",
    "print('Peso mínimo:', min(columna))\n",
    "print('Peso promedio:', sum(columna)/len(columna))\n",
    "print('Peso máximo:', max(columna))"
   ]
  },
  {
   "cell_type": "markdown",
   "metadata": {},
   "source": [
    "### Uso de pandas\n",
    "La biblioteca [pandas][1] está dedicada al análisis de datos en Python, y su característica fundamental es que provee una estructura de datos, llamada *DataFrame*, para representar tablas de forma eficiente y permite hacer operaciones avanzadas con ellas.\n",
    "\n",
    "[1]:https://pandas.pydata.org/"
   ]
  },
  {
   "cell_type": "code",
   "execution_count": 7,
   "metadata": {},
   "outputs": [
    {
     "data": {
      "text/html": [
       "<div>\n",
       "<style scoped>\n",
       "    .dataframe tbody tr th:only-of-type {\n",
       "        vertical-align: middle;\n",
       "    }\n",
       "\n",
       "    .dataframe tbody tr th {\n",
       "        vertical-align: top;\n",
       "    }\n",
       "\n",
       "    .dataframe thead th {\n",
       "        text-align: right;\n",
       "    }\n",
       "</style>\n",
       "<table border=\"1\" class=\"dataframe\">\n",
       "  <thead>\n",
       "    <tr style=\"text-align: right;\">\n",
       "      <th></th>\n",
       "      <th>Nombre</th>\n",
       "      <th>Fecha</th>\n",
       "      <th>Peso (kg)</th>\n",
       "      <th>Promotor</th>\n",
       "      <th>Color</th>\n",
       "    </tr>\n",
       "  </thead>\n",
       "  <tbody>\n",
       "    <tr>\n",
       "      <th>0</th>\n",
       "      <td>Adrián</td>\n",
       "      <td>2018-09-27</td>\n",
       "      <td>30</td>\n",
       "      <td>Pasivo</td>\n",
       "      <td>Azul</td>\n",
       "    </tr>\n",
       "    <tr>\n",
       "      <th>1</th>\n",
       "      <td>Beatriz</td>\n",
       "      <td>2013-03-17</td>\n",
       "      <td>40</td>\n",
       "      <td>Promotor</td>\n",
       "      <td>Rojo</td>\n",
       "    </tr>\n",
       "    <tr>\n",
       "      <th>2</th>\n",
       "      <td>Carlos</td>\n",
       "      <td>NaT</td>\n",
       "      <td>83</td>\n",
       "      <td>Detractor</td>\n",
       "      <td>Verde</td>\n",
       "    </tr>\n",
       "    <tr>\n",
       "      <th>3</th>\n",
       "      <td>Daniela</td>\n",
       "      <td>2014-12-25</td>\n",
       "      <td>29</td>\n",
       "      <td>Pasigo</td>\n",
       "      <td>Café</td>\n",
       "    </tr>\n",
       "    <tr>\n",
       "      <th>4</th>\n",
       "      <td>Ernesto</td>\n",
       "      <td>2090-01-01</td>\n",
       "      <td>50</td>\n",
       "      <td>None</td>\n",
       "      <td>Negro</td>\n",
       "    </tr>\n",
       "  </tbody>\n",
       "</table>\n",
       "</div>"
      ],
      "text/plain": [
       "    Nombre      Fecha  Peso (kg)   Promotor  Color\n",
       "0   Adrián 2018-09-27         30     Pasivo   Azul\n",
       "1  Beatriz 2013-03-17         40   Promotor   Rojo\n",
       "2   Carlos        NaT         83  Detractor  Verde\n",
       "3  Daniela 2014-12-25         29     Pasigo   Café\n",
       "4  Ernesto 2090-01-01         50       None  Negro"
      ]
     },
     "execution_count": 7,
     "metadata": {},
     "output_type": "execute_result"
    }
   ],
   "source": [
    "# Mandamos la representación por columnas al método constructor\n",
    "tabla = pd.DataFrame(tabla_columnas)\n",
    "tabla"
   ]
  },
  {
   "cell_type": "code",
   "execution_count": 8,
   "metadata": {},
   "outputs": [
    {
     "name": "stdout",
     "output_type": "stream",
     "text": [
      "<class 'pandas.core.frame.DataFrame'>\n",
      "RangeIndex: 5 entries, 0 to 4\n",
      "Data columns (total 5 columns):\n",
      "Nombre       5 non-null object\n",
      "Fecha        4 non-null datetime64[ns]\n",
      "Peso (kg)    5 non-null int64\n",
      "Promotor     4 non-null object\n",
      "Color        5 non-null object\n",
      "dtypes: datetime64[ns](1), int64(1), object(3)\n",
      "memory usage: 280.0+ bytes\n"
     ]
    }
   ],
   "source": [
    "tabla.info()"
   ]
  },
  {
   "cell_type": "code",
   "execution_count": 9,
   "metadata": {},
   "outputs": [],
   "source": [
    "tabla['Color'] = tabla['Color'].astype('category')"
   ]
  },
  {
   "cell_type": "code",
   "execution_count": 10,
   "metadata": {},
   "outputs": [],
   "source": [
    "tabla['Fecha'] = pd.to_datetime(tabla['Fecha'])"
   ]
  },
  {
   "cell_type": "code",
   "execution_count": 11,
   "metadata": {},
   "outputs": [
    {
     "name": "stdout",
     "output_type": "stream",
     "text": [
      "<class 'pandas.core.frame.DataFrame'>\n",
      "RangeIndex: 5 entries, 0 to 4\n",
      "Data columns (total 5 columns):\n",
      "Nombre       5 non-null object\n",
      "Fecha        4 non-null datetime64[ns]\n",
      "Peso (kg)    5 non-null int64\n",
      "Promotor     4 non-null object\n",
      "Color        5 non-null category\n",
      "dtypes: category(1), datetime64[ns](1), int64(1), object(2)\n",
      "memory usage: 445.0+ bytes\n"
     ]
    }
   ],
   "source": [
    "tabla.info()"
   ]
  },
  {
   "cell_type": "code",
   "execution_count": 12,
   "metadata": {},
   "outputs": [
    {
     "data": {
      "text/plain": [
       "Nombre          Carlos\n",
       "Fecha              NaT\n",
       "Peso (kg)           83\n",
       "Promotor     Detractor\n",
       "Color            Verde\n",
       "Name: 2, dtype: object"
      ]
     },
     "execution_count": 12,
     "metadata": {},
     "output_type": "execute_result"
    }
   ],
   "source": [
    "tabla.loc[2]"
   ]
  },
  {
   "cell_type": "code",
   "execution_count": 13,
   "metadata": {},
   "outputs": [
    {
     "data": {
      "text/html": [
       "<div>\n",
       "<style scoped>\n",
       "    .dataframe tbody tr th:only-of-type {\n",
       "        vertical-align: middle;\n",
       "    }\n",
       "\n",
       "    .dataframe tbody tr th {\n",
       "        vertical-align: top;\n",
       "    }\n",
       "\n",
       "    .dataframe thead th {\n",
       "        text-align: right;\n",
       "    }\n",
       "</style>\n",
       "<table border=\"1\" class=\"dataframe\">\n",
       "  <thead>\n",
       "    <tr style=\"text-align: right;\">\n",
       "      <th></th>\n",
       "      <th>Nombre</th>\n",
       "      <th>Fecha</th>\n",
       "      <th>Peso (kg)</th>\n",
       "      <th>Promotor</th>\n",
       "      <th>Color</th>\n",
       "    </tr>\n",
       "  </thead>\n",
       "  <tbody>\n",
       "    <tr>\n",
       "      <th>2</th>\n",
       "      <td>Carlos</td>\n",
       "      <td>NaT</td>\n",
       "      <td>83</td>\n",
       "      <td>Detractor</td>\n",
       "      <td>Verde</td>\n",
       "    </tr>\n",
       "  </tbody>\n",
       "</table>\n",
       "</div>"
      ],
      "text/plain": [
       "   Nombre Fecha  Peso (kg)   Promotor  Color\n",
       "2  Carlos   NaT         83  Detractor  Verde"
      ]
     },
     "execution_count": 13,
     "metadata": {},
     "output_type": "execute_result"
    }
   ],
   "source": [
    "seleccion = (tabla['Nombre'] == 'Carlos')\n",
    "tabla[seleccion]"
   ]
  },
  {
   "cell_type": "code",
   "execution_count": 14,
   "metadata": {},
   "outputs": [
    {
     "data": {
      "text/plain": [
       "count     5.000000\n",
       "mean     46.400000\n",
       "std      22.165288\n",
       "min      29.000000\n",
       "25%      30.000000\n",
       "50%      40.000000\n",
       "75%      50.000000\n",
       "max      83.000000\n",
       "Name: Peso (kg), dtype: float64"
      ]
     },
     "execution_count": 14,
     "metadata": {},
     "output_type": "execute_result"
    }
   ],
   "source": [
    "tabla['Peso (kg)'].describe()"
   ]
  },
  {
   "cell_type": "code",
   "execution_count": 15,
   "metadata": {},
   "outputs": [
    {
     "data": {
      "text/html": [
       "<div>\n",
       "<style scoped>\n",
       "    .dataframe tbody tr th:only-of-type {\n",
       "        vertical-align: middle;\n",
       "    }\n",
       "\n",
       "    .dataframe tbody tr th {\n",
       "        vertical-align: top;\n",
       "    }\n",
       "\n",
       "    .dataframe thead th {\n",
       "        text-align: right;\n",
       "    }\n",
       "</style>\n",
       "<table border=\"1\" class=\"dataframe\">\n",
       "  <thead>\n",
       "    <tr style=\"text-align: right;\">\n",
       "      <th></th>\n",
       "      <th>Nombre</th>\n",
       "      <th>Fecha</th>\n",
       "    </tr>\n",
       "  </thead>\n",
       "  <tbody>\n",
       "    <tr>\n",
       "      <th>0</th>\n",
       "      <td>Adrián</td>\n",
       "      <td>2018-09-27</td>\n",
       "    </tr>\n",
       "    <tr>\n",
       "      <th>1</th>\n",
       "      <td>Beatriz</td>\n",
       "      <td>2013-03-17</td>\n",
       "    </tr>\n",
       "    <tr>\n",
       "      <th>2</th>\n",
       "      <td>Carlos</td>\n",
       "      <td>NaT</td>\n",
       "    </tr>\n",
       "    <tr>\n",
       "      <th>3</th>\n",
       "      <td>Daniela</td>\n",
       "      <td>2014-12-25</td>\n",
       "    </tr>\n",
       "    <tr>\n",
       "      <th>4</th>\n",
       "      <td>Ernesto</td>\n",
       "      <td>2090-01-01</td>\n",
       "    </tr>\n",
       "  </tbody>\n",
       "</table>\n",
       "</div>"
      ],
      "text/plain": [
       "    Nombre      Fecha\n",
       "0   Adrián 2018-09-27\n",
       "1  Beatriz 2013-03-17\n",
       "2   Carlos        NaT\n",
       "3  Daniela 2014-12-25\n",
       "4  Ernesto 2090-01-01"
      ]
     },
     "execution_count": 15,
     "metadata": {},
     "output_type": "execute_result"
    }
   ],
   "source": [
    "# Seleccionar columnas\n",
    "tabla[['Nombre', 'Fecha']]"
   ]
  },
  {
   "cell_type": "code",
   "execution_count": 16,
   "metadata": {},
   "outputs": [
    {
     "data": {
      "text/html": [
       "<div>\n",
       "<style scoped>\n",
       "    .dataframe tbody tr th:only-of-type {\n",
       "        vertical-align: middle;\n",
       "    }\n",
       "\n",
       "    .dataframe tbody tr th {\n",
       "        vertical-align: top;\n",
       "    }\n",
       "\n",
       "    .dataframe thead th {\n",
       "        text-align: right;\n",
       "    }\n",
       "</style>\n",
       "<table border=\"1\" class=\"dataframe\">\n",
       "  <thead>\n",
       "    <tr style=\"text-align: right;\">\n",
       "      <th></th>\n",
       "      <th>Nombre</th>\n",
       "      <th>Fecha</th>\n",
       "      <th>Peso (kg)</th>\n",
       "      <th>Promotor</th>\n",
       "      <th>Color</th>\n",
       "    </tr>\n",
       "  </thead>\n",
       "  <tbody>\n",
       "    <tr>\n",
       "      <th>0</th>\n",
       "      <td>Adrián</td>\n",
       "      <td>2018-09-27</td>\n",
       "      <td>30</td>\n",
       "      <td>Pasivo</td>\n",
       "      <td>Azul</td>\n",
       "    </tr>\n",
       "    <tr>\n",
       "      <th>1</th>\n",
       "      <td>Beatriz</td>\n",
       "      <td>2013-03-17</td>\n",
       "      <td>40</td>\n",
       "      <td>Promotor</td>\n",
       "      <td>Rojo</td>\n",
       "    </tr>\n",
       "    <tr>\n",
       "      <th>3</th>\n",
       "      <td>Daniela</td>\n",
       "      <td>2014-12-25</td>\n",
       "      <td>29</td>\n",
       "      <td>Pasigo</td>\n",
       "      <td>Café</td>\n",
       "    </tr>\n",
       "  </tbody>\n",
       "</table>\n",
       "</div>"
      ],
      "text/plain": [
       "    Nombre      Fecha  Peso (kg)  Promotor Color\n",
       "0   Adrián 2018-09-27         30    Pasivo  Azul\n",
       "1  Beatriz 2013-03-17         40  Promotor  Rojo\n",
       "3  Daniela 2014-12-25         29    Pasigo  Café"
      ]
     },
     "execution_count": 16,
     "metadata": {},
     "output_type": "execute_result"
    }
   ],
   "source": [
    "# Seleccionar renglones\n",
    "seleccion = (tabla['Peso (kg)'] < 50)\n",
    "tabla[seleccion]"
   ]
  },
  {
   "cell_type": "code",
   "execution_count": 17,
   "metadata": {},
   "outputs": [
    {
     "data": {
      "text/html": [
       "<div>\n",
       "<style scoped>\n",
       "    .dataframe tbody tr th:only-of-type {\n",
       "        vertical-align: middle;\n",
       "    }\n",
       "\n",
       "    .dataframe tbody tr th {\n",
       "        vertical-align: top;\n",
       "    }\n",
       "\n",
       "    .dataframe thead th {\n",
       "        text-align: right;\n",
       "    }\n",
       "</style>\n",
       "<table border=\"1\" class=\"dataframe\">\n",
       "  <thead>\n",
       "    <tr style=\"text-align: right;\">\n",
       "      <th></th>\n",
       "      <th>Nombre</th>\n",
       "      <th>Fecha</th>\n",
       "      <th>Peso (kg)</th>\n",
       "      <th>Promotor</th>\n",
       "      <th>Color</th>\n",
       "    </tr>\n",
       "  </thead>\n",
       "  <tbody>\n",
       "    <tr>\n",
       "      <th>1</th>\n",
       "      <td>Beatriz</td>\n",
       "      <td>2013-03-17</td>\n",
       "      <td>40</td>\n",
       "      <td>Promotor</td>\n",
       "      <td>Rojo</td>\n",
       "    </tr>\n",
       "    <tr>\n",
       "      <th>2</th>\n",
       "      <td>Carlos</td>\n",
       "      <td>NaT</td>\n",
       "      <td>83</td>\n",
       "      <td>Detractor</td>\n",
       "      <td>Verde</td>\n",
       "    </tr>\n",
       "    <tr>\n",
       "      <th>4</th>\n",
       "      <td>Ernesto</td>\n",
       "      <td>2090-01-01</td>\n",
       "      <td>50</td>\n",
       "      <td>None</td>\n",
       "      <td>Negro</td>\n",
       "    </tr>\n",
       "  </tbody>\n",
       "</table>\n",
       "</div>"
      ],
      "text/plain": [
       "    Nombre      Fecha  Peso (kg)   Promotor  Color\n",
       "1  Beatriz 2013-03-17         40   Promotor   Rojo\n",
       "2   Carlos        NaT         83  Detractor  Verde\n",
       "4  Ernesto 2090-01-01         50       None  Negro"
      ]
     },
     "execution_count": 17,
     "metadata": {},
     "output_type": "execute_result"
    }
   ],
   "source": [
    "# Combinación de condicionales con operadores booleanos\n",
    "tabla[~(tabla['Peso (kg)'] < 50) | (tabla['Promotor'] == 'Promotor')]"
   ]
  },
  {
   "cell_type": "code",
   "execution_count": 18,
   "metadata": {},
   "outputs": [
    {
     "data": {
      "text/html": [
       "<div>\n",
       "<style scoped>\n",
       "    .dataframe tbody tr th:only-of-type {\n",
       "        vertical-align: middle;\n",
       "    }\n",
       "\n",
       "    .dataframe tbody tr th {\n",
       "        vertical-align: top;\n",
       "    }\n",
       "\n",
       "    .dataframe thead th {\n",
       "        text-align: right;\n",
       "    }\n",
       "</style>\n",
       "<table border=\"1\" class=\"dataframe\">\n",
       "  <thead>\n",
       "    <tr style=\"text-align: right;\">\n",
       "      <th></th>\n",
       "      <th>Nombre</th>\n",
       "      <th>Fecha</th>\n",
       "      <th>Peso (kg)</th>\n",
       "      <th>Promotor</th>\n",
       "      <th>Color</th>\n",
       "      <th>Peso (lb)</th>\n",
       "    </tr>\n",
       "  </thead>\n",
       "  <tbody>\n",
       "    <tr>\n",
       "      <th>0</th>\n",
       "      <td>Adrián</td>\n",
       "      <td>2018-09-27</td>\n",
       "      <td>30</td>\n",
       "      <td>Pasivo</td>\n",
       "      <td>Azul</td>\n",
       "      <td>66.13860</td>\n",
       "    </tr>\n",
       "    <tr>\n",
       "      <th>1</th>\n",
       "      <td>Beatriz</td>\n",
       "      <td>2013-03-17</td>\n",
       "      <td>40</td>\n",
       "      <td>Promotor</td>\n",
       "      <td>Rojo</td>\n",
       "      <td>88.18480</td>\n",
       "    </tr>\n",
       "    <tr>\n",
       "      <th>2</th>\n",
       "      <td>Carlos</td>\n",
       "      <td>NaT</td>\n",
       "      <td>83</td>\n",
       "      <td>Detractor</td>\n",
       "      <td>Verde</td>\n",
       "      <td>182.98346</td>\n",
       "    </tr>\n",
       "    <tr>\n",
       "      <th>3</th>\n",
       "      <td>Daniela</td>\n",
       "      <td>2014-12-25</td>\n",
       "      <td>29</td>\n",
       "      <td>Pasigo</td>\n",
       "      <td>Café</td>\n",
       "      <td>63.93398</td>\n",
       "    </tr>\n",
       "    <tr>\n",
       "      <th>4</th>\n",
       "      <td>Ernesto</td>\n",
       "      <td>2090-01-01</td>\n",
       "      <td>50</td>\n",
       "      <td>None</td>\n",
       "      <td>Negro</td>\n",
       "      <td>110.23100</td>\n",
       "    </tr>\n",
       "  </tbody>\n",
       "</table>\n",
       "</div>"
      ],
      "text/plain": [
       "    Nombre      Fecha  Peso (kg)   Promotor  Color  Peso (lb)\n",
       "0   Adrián 2018-09-27         30     Pasivo   Azul   66.13860\n",
       "1  Beatriz 2013-03-17         40   Promotor   Rojo   88.18480\n",
       "2   Carlos        NaT         83  Detractor  Verde  182.98346\n",
       "3  Daniela 2014-12-25         29     Pasigo   Café   63.93398\n",
       "4  Ernesto 2090-01-01         50       None  Negro  110.23100"
      ]
     },
     "execution_count": 18,
     "metadata": {},
     "output_type": "execute_result"
    }
   ],
   "source": [
    "# Procesamiento de columnas\n",
    "tabla['Peso (lb)'] = tabla['Peso (kg)']*2.20462\n",
    "tabla"
   ]
  },
  {
   "cell_type": "code",
   "execution_count": 19,
   "metadata": {},
   "outputs": [
    {
     "data": {
      "text/plain": [
       "\u001b[1;31mInit signature:\u001b[0m \u001b[0mpd\u001b[0m\u001b[1;33m.\u001b[0m\u001b[0mDataFrame\u001b[0m\u001b[1;33m(\u001b[0m\u001b[0mdata\u001b[0m\u001b[1;33m=\u001b[0m\u001b[1;32mNone\u001b[0m\u001b[1;33m,\u001b[0m \u001b[0mindex\u001b[0m\u001b[1;33m=\u001b[0m\u001b[1;32mNone\u001b[0m\u001b[1;33m,\u001b[0m \u001b[0mcolumns\u001b[0m\u001b[1;33m=\u001b[0m\u001b[1;32mNone\u001b[0m\u001b[1;33m,\u001b[0m \u001b[0mdtype\u001b[0m\u001b[1;33m=\u001b[0m\u001b[1;32mNone\u001b[0m\u001b[1;33m,\u001b[0m \u001b[0mcopy\u001b[0m\u001b[1;33m=\u001b[0m\u001b[1;32mFalse\u001b[0m\u001b[1;33m)\u001b[0m\u001b[1;33m\u001b[0m\u001b[1;33m\u001b[0m\u001b[0m\n",
       "\u001b[1;31mDocstring:\u001b[0m     \n",
       "Two-dimensional size-mutable, potentially heterogeneous tabular data\n",
       "structure with labeled axes (rows and columns). Arithmetic operations\n",
       "align on both row and column labels. Can be thought of as a dict-like\n",
       "container for Series objects. The primary pandas data structure.\n",
       "\n",
       "Parameters\n",
       "----------\n",
       "data : ndarray (structured or homogeneous), Iterable, dict, or DataFrame\n",
       "    Dict can contain Series, arrays, constants, or list-like objects\n",
       "\n",
       "    .. versionchanged :: 0.23.0\n",
       "       If data is a dict, argument order is maintained for Python 3.6\n",
       "       and later.\n",
       "\n",
       "index : Index or array-like\n",
       "    Index to use for resulting frame. Will default to RangeIndex if\n",
       "    no indexing information part of input data and no index provided\n",
       "columns : Index or array-like\n",
       "    Column labels to use for resulting frame. Will default to\n",
       "    RangeIndex (0, 1, 2, ..., n) if no column labels are provided\n",
       "dtype : dtype, default None\n",
       "    Data type to force. Only a single dtype is allowed. If None, infer\n",
       "copy : boolean, default False\n",
       "    Copy data from inputs. Only affects DataFrame / 2d ndarray input\n",
       "\n",
       "See Also\n",
       "--------\n",
       "DataFrame.from_records : Constructor from tuples, also record arrays.\n",
       "DataFrame.from_dict : From dicts of Series, arrays, or dicts.\n",
       "DataFrame.from_items : From sequence of (key, value) pairs\n",
       "    pandas.read_csv, pandas.read_table, pandas.read_clipboard.\n",
       "\n",
       "Examples\n",
       "--------\n",
       "Constructing DataFrame from a dictionary.\n",
       "\n",
       ">>> d = {'col1': [1, 2], 'col2': [3, 4]}\n",
       ">>> df = pd.DataFrame(data=d)\n",
       ">>> df\n",
       "   col1  col2\n",
       "0     1     3\n",
       "1     2     4\n",
       "\n",
       "Notice that the inferred dtype is int64.\n",
       "\n",
       ">>> df.dtypes\n",
       "col1    int64\n",
       "col2    int64\n",
       "dtype: object\n",
       "\n",
       "To enforce a single dtype:\n",
       "\n",
       ">>> df = pd.DataFrame(data=d, dtype=np.int8)\n",
       ">>> df.dtypes\n",
       "col1    int8\n",
       "col2    int8\n",
       "dtype: object\n",
       "\n",
       "Constructing DataFrame from numpy ndarray:\n",
       "\n",
       ">>> df2 = pd.DataFrame(np.array([[1, 2, 3], [4, 5, 6], [7, 8, 9]]),\n",
       "...                    columns=['a', 'b', 'c'])\n",
       ">>> df2\n",
       "   a  b  c\n",
       "0  1  2  3\n",
       "1  4  5  6\n",
       "2  7  8  9\n",
       "\u001b[1;31mFile:\u001b[0m           c:\\users\\admin\\anaconda3\\lib\\site-packages\\pandas\\core\\frame.py\n",
       "\u001b[1;31mType:\u001b[0m           type\n",
       "\u001b[1;31mSubclasses:\u001b[0m     SparseDataFrame, SubclassedDataFrame\n"
      ]
     },
     "metadata": {},
     "output_type": "display_data"
    }
   ],
   "source": [
    "?pd.DataFrame"
   ]
  },
  {
   "cell_type": "markdown",
   "metadata": {},
   "source": [
    "# Estadística descriptiva"
   ]
  },
  {
   "cell_type": "markdown",
   "metadata": {},
   "source": [
    "- Una **población** es la colección de *todos* los individuos que se desean estudiar.\n",
    "- Un **censo** es la colección de datos de *cada* miembro de la población.\n",
    "- Una **muestra** es un subconjunto seleccionado de un censo.\n",
    "- Un **parámetro** es un valor numérico que describe alguna característica de la población.\n",
    "- Una **estadística** es un valor numérico que describe alguna característica de una muestra.\n",
    "\n",
    "La **estadística descriptiva** concierne a la manera de describir un conjunto de datos. Esencialmente nos interesan tres aspectos:\n",
    "- Medir la **tendencia central** de los datos para poder describir cómo se ve más o menos un valor típico.\n",
    "- Medir la **dispersión** al rededor de la tendencia central para saber qué tanto nos podemos alejar de un valor típico si elgimos uno al azar.\n",
    "- Medir la **correlación** que existe entre dos variables de un mismo conjunto para saber qué tanto podemos explicar una en términos de la otra."
   ]
  },
  {
   "cell_type": "markdown",
   "metadata": {},
   "source": [
    "## 1. Medidas de tendencia central\n",
    "La media de una población $X = (x_1, x_2, \\ldots, x_n)$ se define por\n",
    "$$X_\\mu = \\frac{\\sum_{i=1}^{n} x_{i}}{n}$$\n",
    "\n",
    "El estimador de la media para una muestra $x$ se define igual, pero se denota con una barra así: $\\bar{x}$.\n",
    "La diferencia entre la media de una población y una muestra la podemos entender mediante una simulación de ejemplo:"
   ]
  },
  {
   "cell_type": "code",
   "execution_count": 20,
   "metadata": {},
   "outputs": [
    {
     "data": {
      "text/plain": [
       "<matplotlib.axes._subplots.AxesSubplot at 0x257b5f347b8>"
      ]
     },
     "execution_count": 20,
     "metadata": {},
     "output_type": "execute_result"
    },
    {
     "data": {
      "image/png": "[encoded data removed]",
      "text/plain": [
       "<Figure size 432x288 with 1 Axes>"
      ]
     },
     "metadata": {
      "needs_background": "light"
     },
     "output_type": "display_data"
    }
   ],
   "source": [
    "# Generamos una población alteatoria distribuida uniformemente:\n",
    "N = 100_000\n",
    "poblacion = pd.Series(np.random.random(size=N), name='valor')\n",
    "# Para entender cómo se distribuyen los valos de esta población basta graficar un histograma:\n",
    "poblacion.hist(bins=30000)"
   ]
  },
  {
   "cell_type": "code",
   "execution_count": 21,
   "metadata": {},
   "outputs": [
    {
     "data": {
      "text/plain": [
       "0.5014573813506904"
      ]
     },
     "execution_count": 21,
     "metadata": {},
     "output_type": "execute_result"
    }
   ],
   "source": [
    "# Así se calcula la media de una serie de Pandas:\n",
    "poblacion.mean()"
   ]
  },
  {
   "cell_type": "code",
   "execution_count": 22,
   "metadata": {},
   "outputs": [
    {
     "data": {
      "image/png": "[encoded data removed]",
      "text/plain": [
       "<Figure size 432x288 with 1 Axes>"
      ]
     },
     "metadata": {
      "needs_background": "light"
     },
     "output_type": "display_data"
    }
   ],
   "source": [
    "# Tomamos 1000 muestras de tamaño 100 de la población\n",
    "muestras = [poblacion.sample(100) for i in range(1000)]\n",
    "\n",
    "# A cada muestra le calculamos la media:\n",
    "medias = [muestra.mean() for muestra in muestras]\n",
    "\n",
    "# Graficamos la distribución de las medias de las muestras:\n",
    "histograma = plt.hist(medias, bins=40)"
   ]
  },
  {
   "cell_type": "markdown",
   "metadata": {},
   "source": [
    "Notamos que las medias muestrales se distribuyen al rededor de la media real."
   ]
  },
  {
   "cell_type": "markdown",
   "metadata": {},
   "source": [
    "Para usar la media hay que tener cuidado de los *valores atípicos*, ya que la media es muy sensible a ellos. Ejemplo:"
   ]
  },
  {
   "cell_type": "code",
   "execution_count": 23,
   "metadata": {},
   "outputs": [
    {
     "data": {
      "text/plain": [
       "array([182, 625, 356, ..., 289, 218, 118])"
      ]
     },
     "execution_count": 23,
     "metadata": {},
     "output_type": "execute_result"
    }
   ],
   "source": [
    "N = 100000\n",
    "poblacion = np.random.randint(0,1000,size=N)\n",
    "poblacion"
   ]
  },
  {
   "cell_type": "code",
   "execution_count": 24,
   "metadata": {},
   "outputs": [
    {
     "name": "stdout",
     "output_type": "stream",
     "text": [
      "La media de la poblacion es:  500.0699\n"
     ]
    }
   ],
   "source": [
    "print(\"La media de la poblacion es: \",np.mean(poblacion))"
   ]
  },
  {
   "cell_type": "code",
   "execution_count": 25,
   "metadata": {},
   "outputs": [],
   "source": [
    "muestras = poblacion.reshape((1000,100))"
   ]
  },
  {
   "cell_type": "code",
   "execution_count": 26,
   "metadata": {},
   "outputs": [],
   "source": [
    "l=[]\n",
    "for muestra in muestras:\n",
    "    l.append(np.mean(muestra))"
   ]
  },
  {
   "cell_type": "code",
   "execution_count": 27,
   "metadata": {},
   "outputs": [
    {
     "name": "stdout",
     "output_type": "stream",
     "text": [
      "1000\n"
     ]
    }
   ],
   "source": [
    "medias_muestrales=np.mean(muestras,axis=1)\n",
    "print(len(medias_muestrales))\n",
    "#medias_muestrales"
   ]
  },
  {
   "cell_type": "code",
   "execution_count": 28,
   "metadata": {},
   "outputs": [
    {
     "data": {
      "image/png": "[encoded data removed]",
      "text/plain": [
       "<Figure size 432x288 with 1 Axes>"
      ]
     },
     "metadata": {
      "needs_background": "light"
     },
     "output_type": "display_data"
    }
   ],
   "source": [
    "plt.hist(poblacion,bins=1000)\n",
    "plt.show()"
   ]
  },
  {
   "cell_type": "code",
   "execution_count": 29,
   "metadata": {},
   "outputs": [
    {
     "data": {
      "image/png": "[encoded data removed]",
      "text/plain": [
       "<Figure size 432x288 with 1 Axes>"
      ]
     },
     "metadata": {
      "needs_background": "light"
     },
     "output_type": "display_data"
    }
   ],
   "source": [
    "plt.hist(muestras[1])\n",
    "plt.show()"
   ]
  },
  {
   "cell_type": "code",
   "execution_count": 30,
   "metadata": {},
   "outputs": [
    {
     "data": {
      "image/png": "[encoded data removed]",
      "text/plain": [
       "<Figure size 432x288 with 1 Axes>"
      ]
     },
     "metadata": {
      "needs_background": "light"
     },
     "output_type": "display_data"
    }
   ],
   "source": [
    "plt.hist(muestras[1],bins=15)\n",
    "plt.show()"
   ]
  },
  {
   "cell_type": "code",
   "execution_count": 31,
   "metadata": {},
   "outputs": [
    {
     "data": {
      "image/png": "[encoded data removed]",
      "text/plain": [
       "<Figure size 432x288 with 1 Axes>"
      ]
     },
     "metadata": {
      "needs_background": "light"
     },
     "output_type": "display_data"
    }
   ],
   "source": [
    "plt.hist(medias_muestrales,bins=50)\n",
    "plt.show()"
   ]
  },
  {
   "cell_type": "markdown",
   "metadata": {},
   "source": [
    "¡Oh! [El teorema del limite central](https://es.wikipedia.org/wiki/Teorema_del_l%C3%ADmite_central) ha aparecido"
   ]
  },
  {
   "cell_type": "markdown",
   "metadata": {},
   "source": [
    "Para usar la media hay que tener cuidado de los *valores atípicos*, ya que la media es muy sensible a ellos. Ejemplo:"
   ]
  },
  {
   "cell_type": "code",
   "execution_count": 32,
   "metadata": {},
   "outputs": [
    {
     "data": {
      "text/plain": [
       "22400.0"
      ]
     },
     "execution_count": 32,
     "metadata": {},
     "output_type": "execute_result"
    }
   ],
   "source": [
    "salarios = [14_000 , 20_000, 25_000, 35_000, 18_000]\n",
    "np.mean(salarios)"
   ]
  },
  {
   "cell_type": "code",
   "execution_count": 33,
   "metadata": {},
   "outputs": [
    {
     "data": {
      "text/plain": [
       "2918196444.3333335"
      ]
     },
     "execution_count": 33,
     "metadata": {},
     "output_type": "execute_result"
    }
   ],
   "source": [
    "salarios.append(17_509_066_666)\n",
    "np.mean(salarios)"
   ]
  },
  {
   "cell_type": "markdown",
   "metadata": {},
   "source": [
    "## La mediana, cuantiles, cuartiles y percentiles"
   ]
  },
  {
   "cell_type": "markdown",
   "metadata": {},
   "source": [
    "## Mediana \n",
    "Es el valor que se encuentra justo a la mitad de nuestros datos cuando los ordenamos de menor a mayor. Si la cantidad de datos es par entonces tomamos el promedio entre los dos de la mitad."
   ]
  },
  {
   "cell_type": "code",
   "execution_count": 34,
   "metadata": {},
   "outputs": [
    {
     "data": {
      "text/plain": [
       "[14000, 18000, 20000, 25000, 35000, 17509066666]"
      ]
     },
     "execution_count": 34,
     "metadata": {},
     "output_type": "execute_result"
    }
   ],
   "source": [
    "salarios.sort()\n",
    "salarios"
   ]
  },
  {
   "cell_type": "code",
   "execution_count": 35,
   "metadata": {},
   "outputs": [
    {
     "data": {
      "text/plain": [
       "25000"
      ]
     },
     "execution_count": 35,
     "metadata": {},
     "output_type": "execute_result"
    }
   ],
   "source": [
    "salarios[len(salarios)//2]"
   ]
  },
  {
   "cell_type": "code",
   "execution_count": 36,
   "metadata": {},
   "outputs": [
    {
     "data": {
      "text/plain": [
       "22500.0"
      ]
     },
     "execution_count": 36,
     "metadata": {},
     "output_type": "execute_result"
    }
   ],
   "source": [
    "np.median(salarios)"
   ]
  },
  {
   "cell_type": "markdown",
   "metadata": {},
   "source": [
    "Más en general, el **estadístico de orden kº** es igual al $k$-ésimo valor más pequeño de una muestra; es decir, el que aparece en la posición $k$ ordenamos la muestra de menor a mayor.\n",
    "Esto nos restringe $k$ a $1 \\le k \\le n$ para una muestra de tamaño $n$. Un concepto similar es el percentil, que es un número tal que "
   ]
  },
  {
   "cell_type": "markdown",
   "metadata": {},
   "source": [
    "## La moda\n",
    "\n",
    "Es el valor más común. Sólo sirve con variables categóricas. Mejor sacar una tabla de frecuencias"
   ]
  },
  {
   "cell_type": "code",
   "execution_count": 37,
   "metadata": {},
   "outputs": [],
   "source": [
    "colores = np.random.choice(['Rojo', 'Verde', 'Azul'], size=1000)"
   ]
  },
  {
   "cell_type": "code",
   "execution_count": 38,
   "metadata": {},
   "outputs": [],
   "source": [
    "cuenta = {}\n",
    "for color in colores:\n",
    "    if color not in cuenta.keys():\n",
    "        cuenta[color] = 1\n",
    "    else:\n",
    "        cuenta[color]+=1"
   ]
  },
  {
   "cell_type": "code",
   "execution_count": 39,
   "metadata": {},
   "outputs": [
    {
     "data": {
      "text/plain": [
       "{'Rojo': 319, 'Verde': 357, 'Azul': 324}"
      ]
     },
     "execution_count": 39,
     "metadata": {},
     "output_type": "execute_result"
    }
   ],
   "source": [
    "cuenta"
   ]
  },
  {
   "cell_type": "code",
   "execution_count": 40,
   "metadata": {},
   "outputs": [
    {
     "data": {
      "text/plain": [
       "Counter({'Rojo': 319, 'Verde': 357, 'Azul': 324})"
      ]
     },
     "execution_count": 40,
     "metadata": {},
     "output_type": "execute_result"
    }
   ],
   "source": [
    "cuenta = collections.Counter(colores)\n",
    "cuenta"
   ]
  },
  {
   "cell_type": "markdown",
   "metadata": {},
   "source": [
    "## Comparación de las tres medidas"
   ]
  },
  {
   "cell_type": "code",
   "execution_count": 41,
   "metadata": {},
   "outputs": [
    {
     "data": {
      "text/plain": [
       "<matplotlib.lines.Line2D at 0x257d512d518>"
      ]
     },
     "execution_count": 41,
     "metadata": {},
     "output_type": "execute_result"
    },
    {
     "data": {
      "image/png": "[encoded data removed]",
      "text/plain": [
       "<Figure size 432x288 with 1 Axes>"
      ]
     },
     "metadata": {
      "needs_background": "light"
     },
     "output_type": "display_data"
    }
   ],
   "source": [
    "plt.hist(poblacion,color='silver')\n",
    "plt.axvline(np.mean(poblacion),color='green')\n",
    "plt.axvline(np.median(poblacion),color='red')\n",
    "moda = collections.Counter(poblacion).most_common(1)[0][0]\n",
    "plt.axvline(moda,color='blue')"
   ]
  },
  {
   "cell_type": "code",
   "execution_count": 42,
   "metadata": {},
   "outputs": [
    {
     "data": {
      "text/plain": [
       "<matplotlib.lines.Line2D at 0x257d50177f0>"
      ]
     },
     "execution_count": 42,
     "metadata": {},
     "output_type": "execute_result"
    },
    {
     "data": {
      "image/png": "[encoded data removed]",
      "text/plain": [
       "<Figure size 432x288 with 1 Axes>"
      ]
     },
     "metadata": {
      "needs_background": "light"
     },
     "output_type": "display_data"
    }
   ],
   "source": [
    "poblacion = np.random.exponential(size=100000)\n",
    "plt.hist(poblacion,bins=100, color='silver',density=True)\n",
    "plt.axvline(np.mean(poblacion),color='green')\n",
    "plt.axvline(np.median(poblacion),color='red')\n",
    "moda = collections.Counter(poblacion).most_common(1)[0][0]\n",
    "plt.axvline(moda,color='blue')"
   ]
  },
  {
   "cell_type": "code",
   "execution_count": 43,
   "metadata": {},
   "outputs": [
    {
     "data": {
      "text/plain": [
       "<matplotlib.lines.Line2D at 0x257d4abc908>"
      ]
     },
     "execution_count": 43,
     "metadata": {},
     "output_type": "execute_result"
    },
    {
     "data": {
      "image/png": "[encoded data removed]",
      "text/plain": [
       "<Figure size 432x288 with 1 Axes>"
      ]
     },
     "metadata": {
      "needs_background": "light"
     },
     "output_type": "display_data"
    }
   ],
   "source": [
    "poblacion = np.random.normal(size=100000)\n",
    "plt.hist(poblacion,bins=100, color='silver',density=True)\n",
    "plt.axvline(np.mean(poblacion),color='green')\n",
    "plt.axvline(np.median(poblacion),color='red')\n",
    "moda = collections.Counter(poblacion).most_common(1)[0][0]\n",
    "plt.axvline(moda,color='blue')"
   ]
  },
  {
   "cell_type": "markdown",
   "metadata": {},
   "source": [
    "## Medidas de dispersión"
   ]
  },
  {
   "cell_type": "markdown",
   "metadata": {},
   "source": [
    "La varianza de una muestra es el promedio de las distancias de los valores alrededor de la media... con algunos detallitos\n",
    "\n",
    "\n",
    "$$ \\sigma = \\sqrt{\\frac{\\sum_{i=1}^n {(x_i - \\bar{x})}^2}{n}} $$"
   ]
  },
  {
   "cell_type": "code",
   "execution_count": 44,
   "metadata": {},
   "outputs": [
    {
     "data": {
      "image/png": "[encoded data removed]",
      "text/plain": [
       "<Figure size 1080x648 with 1 Axes>"
      ]
     },
     "metadata": {
      "needs_background": "light"
     },
     "output_type": "display_data"
    }
   ],
   "source": [
    "sigma = 7.5\n",
    "poblacion = np.random.normal(0,sigma,size=1_000_000)\n",
    "plt.figure(figsize=(15,9))\n",
    "plt.hist(poblacion,bins=100,color='blue',density=True)\n",
    "plt.axvline(sigma,color='red')\n",
    "plt.axvline(-sigma,color='yellow')\n",
    "plt.show()"
   ]
  },
  {
   "cell_type": "code",
   "execution_count": 45,
   "metadata": {},
   "outputs": [],
   "source": [
    "poblacion = pd.Series([1,1,1,1,1,2,3,4,5,5,5,5,5,5])\n",
    "muestra = pd.Series([1,2,3,4,5])"
   ]
  },
  {
   "cell_type": "code",
   "execution_count": 46,
   "metadata": {},
   "outputs": [
    {
     "data": {
      "text/plain": [
       "0     1\n",
       "1     1\n",
       "2     1\n",
       "3     1\n",
       "4     1\n",
       "5     2\n",
       "6     3\n",
       "7     4\n",
       "8     5\n",
       "9     5\n",
       "10    5\n",
       "11    5\n",
       "12    5\n",
       "13    5\n",
       "dtype: int64"
      ]
     },
     "execution_count": 46,
     "metadata": {},
     "output_type": "execute_result"
    }
   ],
   "source": [
    "poblacion"
   ]
  },
  {
   "cell_type": "code",
   "execution_count": 47,
   "metadata": {},
   "outputs": [
    {
     "data": {
      "text/plain": [
       "0    1\n",
       "1    2\n",
       "2    3\n",
       "3    4\n",
       "4    5\n",
       "dtype: int64"
      ]
     },
     "execution_count": 47,
     "metadata": {},
     "output_type": "execute_result"
    }
   ],
   "source": [
    "muestra"
   ]
  },
  {
   "cell_type": "code",
   "execution_count": 48,
   "metadata": {},
   "outputs": [],
   "source": [
    "def desviacion_estandar(x):\n",
    "    n = len(x)\n",
    "    m = sum(x)/n\n",
    "    return math.sqrt(sum((xi - m)**2 for xi in x)/n)"
   ]
  },
  {
   "cell_type": "code",
   "execution_count": 49,
   "metadata": {},
   "outputs": [
    {
     "data": {
      "text/plain": [
       "1.8070158058105024"
      ]
     },
     "execution_count": 49,
     "metadata": {},
     "output_type": "execute_result"
    }
   ],
   "source": [
    "desviacion_estandar(poblacion)"
   ]
  },
  {
   "cell_type": "code",
   "execution_count": 50,
   "metadata": {},
   "outputs": [
    {
     "data": {
      "text/plain": [
       "1.4142135623730951"
      ]
     },
     "execution_count": 50,
     "metadata": {},
     "output_type": "execute_result"
    }
   ],
   "source": [
    "desviacion_estandar(muestra)"
   ]
  },
  {
   "cell_type": "code",
   "execution_count": 51,
   "metadata": {},
   "outputs": [],
   "source": [
    "def desviacion_estandar_muestra(x):\n",
    "    n = len(x)\n",
    "    m = sum(x)/n\n",
    "    return (sum((xi - m)**2 for xi in x)/(n - 1))**(1/2)"
   ]
  },
  {
   "cell_type": "code",
   "execution_count": 52,
   "metadata": {},
   "outputs": [
    {
     "data": {
      "text/plain": [
       "1.5811388300841898"
      ]
     },
     "execution_count": 52,
     "metadata": {},
     "output_type": "execute_result"
    }
   ],
   "source": [
    "desviacion_estandar_muestra(muestra)"
   ]
  },
  {
   "cell_type": "markdown",
   "metadata": {},
   "source": [
    "Lección para llevar en el corazón:** Para describir una distribución, lo mínimo aceptable es describirla como $\\mu \\pm \\sigma$."
   ]
  },
  {
   "cell_type": "markdown",
   "metadata": {},
   "source": [
    "## Correlación"
   ]
  },
  {
   "cell_type": "markdown",
   "metadata": {},
   "source": [
    "# INEGI"
   ]
  },
  {
   "cell_type": "code",
   "execution_count": 53,
   "metadata": {},
   "outputs": [
    {
     "data": {
      "text/html": [
       "<div>\n",
       "<style scoped>\n",
       "    .dataframe tbody tr th:only-of-type {\n",
       "        vertical-align: middle;\n",
       "    }\n",
       "\n",
       "    .dataframe tbody tr th {\n",
       "        vertical-align: top;\n",
       "    }\n",
       "\n",
       "    .dataframe thead th {\n",
       "        text-align: right;\n",
       "    }\n",
       "</style>\n",
       "<table border=\"1\" class=\"dataframe\">\n",
       "  <thead>\n",
       "    <tr style=\"text-align: right;\">\n",
       "      <th></th>\n",
       "      <th>ID_VIV</th>\n",
       "      <th>ID_PERSONA</th>\n",
       "      <th>ENT</th>\n",
       "      <th>NOM_ENT</th>\n",
       "      <th>MUN</th>\n",
       "      <th>NOM_MUN</th>\n",
       "      <th>LOC50K</th>\n",
       "      <th>NOM_LOC</th>\n",
       "      <th>COBERTURA</th>\n",
       "      <th>ESTRATO</th>\n",
       "      <th>...</th>\n",
       "      <th>HIJOS_NAC_VIVOS</th>\n",
       "      <th>HIJOS_FALLECIDOS</th>\n",
       "      <th>HIJOS_SOBREVIV</th>\n",
       "      <th>FECHA_NAC_M</th>\n",
       "      <th>FECHA_NAC_A</th>\n",
       "      <th>SOBREVIVENCIA</th>\n",
       "      <th>EDAD_MORIR_D</th>\n",
       "      <th>EDAD_MORIR_M</th>\n",
       "      <th>EDAD_MORIR_A</th>\n",
       "      <th>TAMLOC</th>\n",
       "    </tr>\n",
       "  </thead>\n",
       "  <tbody>\n",
       "    <tr>\n",
       "      <th>0</th>\n",
       "      <td>170010000001</td>\n",
       "      <td>17001000000101</td>\n",
       "      <td>17</td>\n",
       "      <td>Morelos</td>\n",
       "      <td>1</td>\n",
       "      <td>Amacuzac</td>\n",
       "      <td>0</td>\n",
       "      <td>Localidad de menos de 50 mil habitantes</td>\n",
       "      <td>2</td>\n",
       "      <td>17-001-08</td>\n",
       "      <td>...</td>\n",
       "      <td>NaN</td>\n",
       "      <td>NaN</td>\n",
       "      <td>NaN</td>\n",
       "      <td>NaN</td>\n",
       "      <td>NaN</td>\n",
       "      <td>NaN</td>\n",
       "      <td>NaN</td>\n",
       "      <td>NaN</td>\n",
       "      <td>NaN</td>\n",
       "      <td>2</td>\n",
       "    </tr>\n",
       "    <tr>\n",
       "      <th>1</th>\n",
       "      <td>170010000002</td>\n",
       "      <td>17001000000201</td>\n",
       "      <td>17</td>\n",
       "      <td>Morelos</td>\n",
       "      <td>1</td>\n",
       "      <td>Amacuzac</td>\n",
       "      <td>0</td>\n",
       "      <td>Localidad de menos de 50 mil habitantes</td>\n",
       "      <td>2</td>\n",
       "      <td>17-001-06</td>\n",
       "      <td>...</td>\n",
       "      <td>7.0</td>\n",
       "      <td>0.0</td>\n",
       "      <td>7.0</td>\n",
       "      <td>8.0</td>\n",
       "      <td>1978.0</td>\n",
       "      <td>1.0</td>\n",
       "      <td>NaN</td>\n",
       "      <td>NaN</td>\n",
       "      <td>NaN</td>\n",
       "      <td>1</td>\n",
       "    </tr>\n",
       "    <tr>\n",
       "      <th>2</th>\n",
       "      <td>170010000003</td>\n",
       "      <td>17001000000303</td>\n",
       "      <td>17</td>\n",
       "      <td>Morelos</td>\n",
       "      <td>1</td>\n",
       "      <td>Amacuzac</td>\n",
       "      <td>0</td>\n",
       "      <td>Localidad de menos de 50 mil habitantes</td>\n",
       "      <td>2</td>\n",
       "      <td>17-001-08</td>\n",
       "      <td>...</td>\n",
       "      <td>NaN</td>\n",
       "      <td>NaN</td>\n",
       "      <td>NaN</td>\n",
       "      <td>NaN</td>\n",
       "      <td>NaN</td>\n",
       "      <td>NaN</td>\n",
       "      <td>NaN</td>\n",
       "      <td>NaN</td>\n",
       "      <td>NaN</td>\n",
       "      <td>2</td>\n",
       "    </tr>\n",
       "    <tr>\n",
       "      <th>3</th>\n",
       "      <td>170010000003</td>\n",
       "      <td>17001000000301</td>\n",
       "      <td>17</td>\n",
       "      <td>Morelos</td>\n",
       "      <td>1</td>\n",
       "      <td>Amacuzac</td>\n",
       "      <td>0</td>\n",
       "      <td>Localidad de menos de 50 mil habitantes</td>\n",
       "      <td>2</td>\n",
       "      <td>17-001-08</td>\n",
       "      <td>...</td>\n",
       "      <td>NaN</td>\n",
       "      <td>NaN</td>\n",
       "      <td>NaN</td>\n",
       "      <td>NaN</td>\n",
       "      <td>NaN</td>\n",
       "      <td>NaN</td>\n",
       "      <td>NaN</td>\n",
       "      <td>NaN</td>\n",
       "      <td>NaN</td>\n",
       "      <td>2</td>\n",
       "    </tr>\n",
       "    <tr>\n",
       "      <th>4</th>\n",
       "      <td>170010000003</td>\n",
       "      <td>17001000000302</td>\n",
       "      <td>17</td>\n",
       "      <td>Morelos</td>\n",
       "      <td>1</td>\n",
       "      <td>Amacuzac</td>\n",
       "      <td>0</td>\n",
       "      <td>Localidad de menos de 50 mil habitantes</td>\n",
       "      <td>2</td>\n",
       "      <td>17-001-08</td>\n",
       "      <td>...</td>\n",
       "      <td>1.0</td>\n",
       "      <td>0.0</td>\n",
       "      <td>1.0</td>\n",
       "      <td>10.0</td>\n",
       "      <td>2012.0</td>\n",
       "      <td>1.0</td>\n",
       "      <td>NaN</td>\n",
       "      <td>NaN</td>\n",
       "      <td>NaN</td>\n",
       "      <td>2</td>\n",
       "    </tr>\n",
       "  </tbody>\n",
       "</table>\n",
       "<p>5 rows × 86 columns</p>\n",
       "</div>"
      ],
      "text/plain": [
       "         ID_VIV      ID_PERSONA  ENT  NOM_ENT  MUN   NOM_MUN  LOC50K  \\\n",
       "0  170010000001  17001000000101   17  Morelos    1  Amacuzac       0   \n",
       "1  170010000002  17001000000201   17  Morelos    1  Amacuzac       0   \n",
       "2  170010000003  17001000000303   17  Morelos    1  Amacuzac       0   \n",
       "3  170010000003  17001000000301   17  Morelos    1  Amacuzac       0   \n",
       "4  170010000003  17001000000302   17  Morelos    1  Amacuzac       0   \n",
       "\n",
       "                                   NOM_LOC  COBERTURA    ESTRATO  ...  \\\n",
       "0  Localidad de menos de 50 mil habitantes          2  17-001-08  ...   \n",
       "1  Localidad de menos de 50 mil habitantes          2  17-001-06  ...   \n",
       "2  Localidad de menos de 50 mil habitantes          2  17-001-08  ...   \n",
       "3  Localidad de menos de 50 mil habitantes          2  17-001-08  ...   \n",
       "4  Localidad de menos de 50 mil habitantes          2  17-001-08  ...   \n",
       "\n",
       "   HIJOS_NAC_VIVOS  HIJOS_FALLECIDOS  HIJOS_SOBREVIV  FECHA_NAC_M  \\\n",
       "0              NaN               NaN             NaN          NaN   \n",
       "1              7.0               0.0             7.0          8.0   \n",
       "2              NaN               NaN             NaN          NaN   \n",
       "3              NaN               NaN             NaN          NaN   \n",
       "4              1.0               0.0             1.0         10.0   \n",
       "\n",
       "   FECHA_NAC_A  SOBREVIVENCIA  EDAD_MORIR_D  EDAD_MORIR_M  EDAD_MORIR_A  \\\n",
       "0          NaN            NaN           NaN           NaN           NaN   \n",
       "1       1978.0            1.0           NaN           NaN           NaN   \n",
       "2          NaN            NaN           NaN           NaN           NaN   \n",
       "3          NaN            NaN           NaN           NaN           NaN   \n",
       "4       2012.0            1.0           NaN           NaN           NaN   \n",
       "\n",
       "   TAMLOC  \n",
       "0       2  \n",
       "1       1  \n",
       "2       2  \n",
       "3       2  \n",
       "4       2  \n",
       "\n",
       "[5 rows x 86 columns]"
      ]
     },
     "execution_count": 53,
     "metadata": {},
     "output_type": "execute_result"
    }
   ],
   "source": [
    "tabla = pd.read_csv('Datos/TR_PERSONA17.CSV', encoding='latin1')\n",
    "tabla.head()"
   ]
  },
  {
   "cell_type": "code",
   "execution_count": 54,
   "metadata": {},
   "outputs": [
    {
     "name": "stdout",
     "output_type": "stream",
     "text": [
      "<class 'pandas.core.frame.DataFrame'>\n",
      "RangeIndex: 368976 entries, 0 to 368975\n",
      "Data columns (total 86 columns):\n",
      "ID_VIV                368976 non-null int64\n",
      "ID_PERSONA            368976 non-null int64\n",
      "ENT                   368976 non-null int64\n",
      "NOM_ENT               368976 non-null object\n",
      "MUN                   368976 non-null int64\n",
      "NOM_MUN               368976 non-null object\n",
      "LOC50K                368976 non-null int64\n",
      "NOM_LOC               368976 non-null object\n",
      "COBERTURA             368976 non-null int64\n",
      "ESTRATO               368976 non-null object\n",
      "UPM                   368976 non-null int64\n",
      "FACTOR                368976 non-null int64\n",
      "NUMPER                368976 non-null int64\n",
      "SEXO                  368976 non-null int64\n",
      "EDAD                  368976 non-null int64\n",
      "PARENT                368976 non-null int64\n",
      "PARENT_OTRO_C         368976 non-null int64\n",
      "IDENT_MADRE           368976 non-null int64\n",
      "IDENT_PADRE           368976 non-null int64\n",
      "SERSALUD              368976 non-null int64\n",
      "AFRODES               368976 non-null int64\n",
      "ACTA_NAC              368976 non-null int64\n",
      "DHSERSAL1             368976 non-null int64\n",
      "DHSERSAL2             7466 non-null float64\n",
      "PERTE_INDIGENA        368976 non-null int64\n",
      "ENT_PAIS_NAC          368976 non-null int64\n",
      "NACIONALIDAD          368976 non-null int64\n",
      "HLENGUA               350144 non-null float64\n",
      "QDIALECT_C            7988 non-null float64\n",
      "QDIALECT_INALI        7988 non-null float64\n",
      "HESPANOL              7988 non-null float64\n",
      "ELENGUA               342156 non-null float64\n",
      "ASISTEN               350144 non-null float64\n",
      "MUN_ASI               101491 non-null float64\n",
      "NOM_MUN_ASI           101491 non-null object\n",
      "ENT_PAIS_ASI          101508 non-null float64\n",
      "TIE_TRASLADO_ESCU     101508 non-null float64\n",
      "MED_TRASLADO_ESC1     96560 non-null float64\n",
      "MED_TRASLADO_ESC2     2413 non-null float64\n",
      "MED_TRASLADO_ESC3     46 non-null float64\n",
      "ESCOLARI              350144 non-null float64\n",
      "NIVACAD               350144 non-null float64\n",
      "ALFABET               336768 non-null float64\n",
      "ESCOACUM              350144 non-null float64\n",
      "MUN_RES10             333438 non-null float64\n",
      "NOM_MUN_RES10         333438 non-null object\n",
      "ENT_PAIS_RES10        336768 non-null float64\n",
      "SITUA_CONYUGAL        289751 non-null float64\n",
      "IDENT_PAREJA          161328 non-null float64\n",
      "CONACT                289751 non-null float64\n",
      "OCUPACION_C           141399 non-null float64\n",
      "SITUACION_TRAB        141399 non-null float64\n",
      "AGUINALDO             97511 non-null float64\n",
      "VACACIONES            97511 non-null float64\n",
      "SERVICIO_MEDICO       97511 non-null float64\n",
      "UTILIDADES            97511 non-null float64\n",
      "INCAP_SUELDO          97511 non-null float64\n",
      "SAR_AFORE             97511 non-null float64\n",
      "CREDITO_VIVIENDA      97511 non-null float64\n",
      "INGTRMEN              141399 non-null float64\n",
      "ACTIVIDADES_C         141399 non-null float64\n",
      "MUN_TRAB              141294 non-null float64\n",
      "NOM_MUN_TRAB          141294 non-null object\n",
      "ENT_PAIS_TRAB         141399 non-null float64\n",
      "TIE_TRASLADO_TRAB     141399 non-null float64\n",
      "MED_TRASLADO_TRAB1    124378 non-null float64\n",
      "MED_TRASLADO_TRAB2    4037 non-null float64\n",
      "MED_TRASLADO_TRAB3    119 non-null float64\n",
      "ACTI_SIN_PAGO1        289751 non-null float64\n",
      "ACTI_SIN_PAGO2        289751 non-null float64\n",
      "ACTI_SIN_PAGO3        289751 non-null float64\n",
      "ACTI_SIN_PAGO4        289751 non-null float64\n",
      "ACTI_SIN_PAGO5        289751 non-null float64\n",
      "ACTI_SIN_PAGO6        289751 non-null float64\n",
      "ACTI_SIN_PAGO7        289751 non-null float64\n",
      "ACTI_SIN_PAGO8        289751 non-null float64\n",
      "HIJOS_NAC_VIVOS       150724 non-null float64\n",
      "HIJOS_FALLECIDOS      104844 non-null float64\n",
      "HIJOS_SOBREVIV        104844 non-null float64\n",
      "FECHA_NAC_M           104823 non-null float64\n",
      "FECHA_NAC_A           104823 non-null float64\n",
      "SOBREVIVENCIA         104823 non-null float64\n",
      "EDAD_MORIR_D          740 non-null float64\n",
      "EDAD_MORIR_M          321 non-null float64\n",
      "EDAD_MORIR_A          624 non-null float64\n",
      "TAMLOC                368976 non-null int64\n",
      "dtypes: float64(56), int64(23), object(7)\n",
      "memory usage: 242.1+ MB\n"
     ]
    }
   ],
   "source": [
    "tabla.info()"
   ]
  },
  {
   "cell_type": "code",
   "execution_count": 55,
   "metadata": {},
   "outputs": [
    {
     "data": {
      "text/html": [
       "<div>\n",
       "<style scoped>\n",
       "    .dataframe tbody tr th:only-of-type {\n",
       "        vertical-align: middle;\n",
       "    }\n",
       "\n",
       "    .dataframe tbody tr th {\n",
       "        vertical-align: top;\n",
       "    }\n",
       "\n",
       "    .dataframe thead th {\n",
       "        text-align: right;\n",
       "    }\n",
       "</style>\n",
       "<table border=\"1\" class=\"dataframe\">\n",
       "  <thead>\n",
       "    <tr style=\"text-align: right;\">\n",
       "      <th></th>\n",
       "      <th>EDAD</th>\n",
       "      <th>INGTRMEN</th>\n",
       "      <th>ESCOACUM</th>\n",
       "    </tr>\n",
       "  </thead>\n",
       "  <tbody>\n",
       "    <tr>\n",
       "      <th>0</th>\n",
       "      <td>30</td>\n",
       "      <td>10000.0</td>\n",
       "      <td>16.0</td>\n",
       "    </tr>\n",
       "    <tr>\n",
       "      <th>1</th>\n",
       "      <td>71</td>\n",
       "      <td>NaN</td>\n",
       "      <td>6.0</td>\n",
       "    </tr>\n",
       "    <tr>\n",
       "      <th>2</th>\n",
       "      <td>2</td>\n",
       "      <td>NaN</td>\n",
       "      <td>NaN</td>\n",
       "    </tr>\n",
       "    <tr>\n",
       "      <th>3</th>\n",
       "      <td>23</td>\n",
       "      <td>4286.0</td>\n",
       "      <td>9.0</td>\n",
       "    </tr>\n",
       "    <tr>\n",
       "      <th>4</th>\n",
       "      <td>24</td>\n",
       "      <td>4286.0</td>\n",
       "      <td>6.0</td>\n",
       "    </tr>\n",
       "  </tbody>\n",
       "</table>\n",
       "</div>"
      ],
      "text/plain": [
       "   EDAD  INGTRMEN  ESCOACUM\n",
       "0    30   10000.0      16.0\n",
       "1    71       NaN       6.0\n",
       "2     2       NaN       NaN\n",
       "3    23    4286.0       9.0\n",
       "4    24    4286.0       6.0"
      ]
     },
     "execution_count": 55,
     "metadata": {},
     "output_type": "execute_result"
    }
   ],
   "source": [
    "tabla = tabla[['EDAD', 'INGTRMEN', 'ESCOACUM']]\n",
    "tabla.head()"
   ]
  },
  {
   "cell_type": "code",
   "execution_count": 56,
   "metadata": {},
   "outputs": [
    {
     "name": "stdout",
     "output_type": "stream",
     "text": [
      "<class 'pandas.core.frame.DataFrame'>\n",
      "RangeIndex: 368976 entries, 0 to 368975\n",
      "Data columns (total 3 columns):\n",
      "EDAD        368976 non-null int64\n",
      "INGTRMEN    141399 non-null float64\n",
      "ESCOACUM    350144 non-null float64\n",
      "dtypes: float64(2), int64(1)\n",
      "memory usage: 8.4 MB\n"
     ]
    }
   ],
   "source": [
    "tabla.info()"
   ]
  },
  {
   "cell_type": "code",
   "execution_count": 57,
   "metadata": {},
   "outputs": [
    {
     "data": {
      "text/plain": [
       "count    350144.000000\n",
       "mean          7.789138\n",
       "std           8.010872\n",
       "min           0.000000\n",
       "25%           3.000000\n",
       "50%           8.000000\n",
       "75%          10.000000\n",
       "max          99.000000\n",
       "Name: ESCOACUM, dtype: float64"
      ]
     },
     "execution_count": 57,
     "metadata": {},
     "output_type": "execute_result"
    }
   ],
   "source": [
    "tabla['ESCOACUM'].describe()"
   ]
  },
  {
   "cell_type": "code",
   "execution_count": 58,
   "metadata": {},
   "outputs": [],
   "source": [
    "tabla = tabla.dropna()  # Quitar todos los renglones que contengan valores nulos\n",
    "tabla = tabla[\n",
    "    (tabla['EDAD'] < 90)\n",
    "    & (tabla['INGTRMEN'] < 500_000)\n",
    "    & (tabla['ESCOACUM'] < 90)\n",
    "]"
   ]
  },
  {
   "cell_type": "code",
   "execution_count": 59,
   "metadata": {},
   "outputs": [
    {
     "data": {
      "text/plain": [
       "[<matplotlib.lines.Line2D at 0x257d4eafdd8>]"
      ]
     },
     "execution_count": 59,
     "metadata": {},
     "output_type": "execute_result"
    },
    {
     "data": {
      "image/png": "[encoded data removed]",
      "text/plain": [
       "<Figure size 432x288 with 1 Axes>"
      ]
     },
     "metadata": {
      "needs_background": "light"
     },
     "output_type": "display_data"
    }
   ],
   "source": [
    "muestra = tabla.sample(400)\n",
    "plt.plot(muestra['ESCOACUM'], muestra['INGTRMEN'], marker='.', linestyle='none')"
   ]
  },
  {
   "cell_type": "markdown",
   "metadata": {},
   "source": [
    "- Covarianza: $$\\mathrm{Cov}(x, y) = \\frac{\\sum_{i=1}^{n}(x_i - \\bar{x}) \\, (y_i - \\bar{y})}{n}$$\n",
    "- Coeficiente de correlación de Pearson:\n",
    "$$r = \\frac{ \\mathrm{Cov}(x, y) }{ \\sigma_{x} \\, \\sigma_{y} }$$"
   ]
  },
  {
   "cell_type": "code",
   "execution_count": 60,
   "metadata": {},
   "outputs": [],
   "source": [
    "def pearson(x, y):\n",
    "    n = len(x)\n",
    "    assert n == len(y)\n",
    "    media_x = sum(x)/n\n",
    "    media_y = sum(y)/n\n",
    "    covarianza = sum((x[i] - media_x)*(y[i] - media_y) for i in range(n))/n\n",
    "    desviacion_x = (sum((x[i] - media_x)**2  for i in range(n))/n)**.5\n",
    "    desviacion_y = (sum((y[i] - media_y)**2  for i in range(n))/n)**.5\n",
    "    return covarianza/(desviacion_x*desviacion_y)"
   ]
  },
  {
   "cell_type": "code",
   "execution_count": 61,
   "metadata": {},
   "outputs": [
    {
     "data": {
      "text/plain": [
       "0.3255209087442133"
      ]
     },
     "execution_count": 61,
     "metadata": {},
     "output_type": "execute_result"
    }
   ],
   "source": [
    "x = list(tabla['INGTRMEN'])\n",
    "y = list(tabla['ESCOACUM'])\n",
    "pearson(x, y)"
   ]
  },
  {
   "cell_type": "code",
   "execution_count": 62,
   "metadata": {},
   "outputs": [
    {
     "data": {
      "text/plain": [
       "Index(['EDAD', 'INGTRMEN', 'ESCOACUM'], dtype='object')"
      ]
     },
     "execution_count": 62,
     "metadata": {},
     "output_type": "execute_result"
    }
   ],
   "source": [
    "tabla.columns"
   ]
  },
  {
   "cell_type": "code",
   "execution_count": 63,
   "metadata": {},
   "outputs": [],
   "source": [
    "tabla = pd.read_csv('Datos/TR_PERSONA17.CSV', encoding='latin1')"
   ]
  },
  {
   "cell_type": "code",
   "execution_count": 64,
   "metadata": {},
   "outputs": [
    {
     "data": {
      "text/html": [
       "<div>\n",
       "<style scoped>\n",
       "    .dataframe tbody tr th:only-of-type {\n",
       "        vertical-align: middle;\n",
       "    }\n",
       "\n",
       "    .dataframe tbody tr th {\n",
       "        vertical-align: top;\n",
       "    }\n",
       "\n",
       "    .dataframe thead th {\n",
       "        text-align: right;\n",
       "    }\n",
       "</style>\n",
       "<table border=\"1\" class=\"dataframe\">\n",
       "  <thead>\n",
       "    <tr style=\"text-align: right;\">\n",
       "      <th></th>\n",
       "      <th>ID_VIV</th>\n",
       "      <th>ID_PERSONA</th>\n",
       "      <th>ENT</th>\n",
       "      <th>MUN</th>\n",
       "      <th>LOC50K</th>\n",
       "      <th>COBERTURA</th>\n",
       "      <th>UPM</th>\n",
       "      <th>FACTOR</th>\n",
       "      <th>NUMPER</th>\n",
       "      <th>SEXO</th>\n",
       "      <th>...</th>\n",
       "      <th>HIJOS_NAC_VIVOS</th>\n",
       "      <th>HIJOS_FALLECIDOS</th>\n",
       "      <th>HIJOS_SOBREVIV</th>\n",
       "      <th>FECHA_NAC_M</th>\n",
       "      <th>FECHA_NAC_A</th>\n",
       "      <th>SOBREVIVENCIA</th>\n",
       "      <th>EDAD_MORIR_D</th>\n",
       "      <th>EDAD_MORIR_M</th>\n",
       "      <th>EDAD_MORIR_A</th>\n",
       "      <th>TAMLOC</th>\n",
       "    </tr>\n",
       "  </thead>\n",
       "  <tbody>\n",
       "    <tr>\n",
       "      <th>0</th>\n",
       "      <td>170010000001</td>\n",
       "      <td>17001000000101</td>\n",
       "      <td>17</td>\n",
       "      <td>1</td>\n",
       "      <td>0</td>\n",
       "      <td>2</td>\n",
       "      <td>139186</td>\n",
       "      <td>2</td>\n",
       "      <td>1</td>\n",
       "      <td>1</td>\n",
       "      <td>...</td>\n",
       "      <td>NaN</td>\n",
       "      <td>NaN</td>\n",
       "      <td>NaN</td>\n",
       "      <td>NaN</td>\n",
       "      <td>NaN</td>\n",
       "      <td>NaN</td>\n",
       "      <td>NaN</td>\n",
       "      <td>NaN</td>\n",
       "      <td>NaN</td>\n",
       "      <td>2</td>\n",
       "    </tr>\n",
       "    <tr>\n",
       "      <th>1</th>\n",
       "      <td>170010000002</td>\n",
       "      <td>17001000000201</td>\n",
       "      <td>17</td>\n",
       "      <td>1</td>\n",
       "      <td>0</td>\n",
       "      <td>2</td>\n",
       "      <td>139224</td>\n",
       "      <td>2</td>\n",
       "      <td>1</td>\n",
       "      <td>3</td>\n",
       "      <td>...</td>\n",
       "      <td>7.0</td>\n",
       "      <td>0.0</td>\n",
       "      <td>7.0</td>\n",
       "      <td>8.0</td>\n",
       "      <td>1978.0</td>\n",
       "      <td>1.0</td>\n",
       "      <td>NaN</td>\n",
       "      <td>NaN</td>\n",
       "      <td>NaN</td>\n",
       "      <td>1</td>\n",
       "    </tr>\n",
       "    <tr>\n",
       "      <th>2</th>\n",
       "      <td>170010000003</td>\n",
       "      <td>17001000000303</td>\n",
       "      <td>17</td>\n",
       "      <td>1</td>\n",
       "      <td>0</td>\n",
       "      <td>2</td>\n",
       "      <td>139169</td>\n",
       "      <td>2</td>\n",
       "      <td>3</td>\n",
       "      <td>3</td>\n",
       "      <td>...</td>\n",
       "      <td>NaN</td>\n",
       "      <td>NaN</td>\n",
       "      <td>NaN</td>\n",
       "      <td>NaN</td>\n",
       "      <td>NaN</td>\n",
       "      <td>NaN</td>\n",
       "      <td>NaN</td>\n",
       "      <td>NaN</td>\n",
       "      <td>NaN</td>\n",
       "      <td>2</td>\n",
       "    </tr>\n",
       "    <tr>\n",
       "      <th>3</th>\n",
       "      <td>170010000003</td>\n",
       "      <td>17001000000301</td>\n",
       "      <td>17</td>\n",
       "      <td>1</td>\n",
       "      <td>0</td>\n",
       "      <td>2</td>\n",
       "      <td>139169</td>\n",
       "      <td>2</td>\n",
       "      <td>1</td>\n",
       "      <td>1</td>\n",
       "      <td>...</td>\n",
       "      <td>NaN</td>\n",
       "      <td>NaN</td>\n",
       "      <td>NaN</td>\n",
       "      <td>NaN</td>\n",
       "      <td>NaN</td>\n",
       "      <td>NaN</td>\n",
       "      <td>NaN</td>\n",
       "      <td>NaN</td>\n",
       "      <td>NaN</td>\n",
       "      <td>2</td>\n",
       "    </tr>\n",
       "    <tr>\n",
       "      <th>4</th>\n",
       "      <td>170010000003</td>\n",
       "      <td>17001000000302</td>\n",
       "      <td>17</td>\n",
       "      <td>1</td>\n",
       "      <td>0</td>\n",
       "      <td>2</td>\n",
       "      <td>139169</td>\n",
       "      <td>2</td>\n",
       "      <td>2</td>\n",
       "      <td>3</td>\n",
       "      <td>...</td>\n",
       "      <td>1.0</td>\n",
       "      <td>0.0</td>\n",
       "      <td>1.0</td>\n",
       "      <td>10.0</td>\n",
       "      <td>2012.0</td>\n",
       "      <td>1.0</td>\n",
       "      <td>NaN</td>\n",
       "      <td>NaN</td>\n",
       "      <td>NaN</td>\n",
       "      <td>2</td>\n",
       "    </tr>\n",
       "  </tbody>\n",
       "</table>\n",
       "<p>5 rows × 79 columns</p>\n",
       "</div>"
      ],
      "text/plain": [
       "         ID_VIV      ID_PERSONA  ENT  MUN  LOC50K  COBERTURA     UPM  FACTOR  \\\n",
       "0  170010000001  17001000000101   17    1       0          2  139186       2   \n",
       "1  170010000002  17001000000201   17    1       0          2  139224       2   \n",
       "2  170010000003  17001000000303   17    1       0          2  139169       2   \n",
       "3  170010000003  17001000000301   17    1       0          2  139169       2   \n",
       "4  170010000003  17001000000302   17    1       0          2  139169       2   \n",
       "\n",
       "   NUMPER  SEXO  ...  HIJOS_NAC_VIVOS  HIJOS_FALLECIDOS  HIJOS_SOBREVIV  \\\n",
       "0       1     1  ...              NaN               NaN             NaN   \n",
       "1       1     3  ...              7.0               0.0             7.0   \n",
       "2       3     3  ...              NaN               NaN             NaN   \n",
       "3       1     1  ...              NaN               NaN             NaN   \n",
       "4       2     3  ...              1.0               0.0             1.0   \n",
       "\n",
       "   FECHA_NAC_M  FECHA_NAC_A  SOBREVIVENCIA  EDAD_MORIR_D  EDAD_MORIR_M  \\\n",
       "0          NaN          NaN            NaN           NaN           NaN   \n",
       "1          8.0       1978.0            1.0           NaN           NaN   \n",
       "2          NaN          NaN            NaN           NaN           NaN   \n",
       "3          NaN          NaN            NaN           NaN           NaN   \n",
       "4         10.0       2012.0            1.0           NaN           NaN   \n",
       "\n",
       "   EDAD_MORIR_A  TAMLOC  \n",
       "0           NaN       2  \n",
       "1           NaN       1  \n",
       "2           NaN       2  \n",
       "3           NaN       2  \n",
       "4           NaN       2  \n",
       "\n",
       "[5 rows x 79 columns]"
      ]
     },
     "execution_count": 64,
     "metadata": {},
     "output_type": "execute_result"
    }
   ],
   "source": [
    "numericas = (tabla.dtypes == np.dtype('float64')) | (tabla.dtypes == np.dtype('int64'))\n",
    "columnas_numericas = [key for (key, value) in numericas.to_dict().items() if value]\n",
    "tabla_num = tabla[columnas_numericas]\n",
    "tabla_num.head()"
   ]
  },
  {
   "cell_type": "code",
   "execution_count": 65,
   "metadata": {},
   "outputs": [
    {
     "data": {
      "text/plain": [
       "{'ID_VIV': 0.0,\n",
       " 'ID_PERSONA': 0.0,\n",
       " 'ENT': 0.0,\n",
       " 'MUN': 0.0,\n",
       " 'LOC50K': 0.0,\n",
       " 'COBERTURA': 0.0,\n",
       " 'UPM': 0.0,\n",
       " 'FACTOR': 0.0,\n",
       " 'NUMPER': 0.0,\n",
       " 'SEXO': 0.0,\n",
       " 'EDAD': 0.0,\n",
       " 'PARENT': 0.0,\n",
       " 'PARENT_OTRO_C': 0.0,\n",
       " 'IDENT_MADRE': 0.0,\n",
       " 'IDENT_PADRE': 0.0,\n",
       " 'SERSALUD': 0.0,\n",
       " 'AFRODES': 0.0,\n",
       " 'ACTA_NAC': 0.0,\n",
       " 'DHSERSAL1': 0.0,\n",
       " 'DHSERSAL2': 98.0,\n",
       " 'PERTE_INDIGENA': 0.0,\n",
       " 'ENT_PAIS_NAC': 0.0,\n",
       " 'NACIONALIDAD': 0.0,\n",
       " 'HLENGUA': 5.0,\n",
       " 'QDIALECT_C': 98.0,\n",
       " 'QDIALECT_INALI': 98.0,\n",
       " 'HESPANOL': 98.0,\n",
       " 'ELENGUA': 7.0,\n",
       " 'ASISTEN': 5.0,\n",
       " 'MUN_ASI': 72.0,\n",
       " 'ENT_PAIS_ASI': 72.0,\n",
       " 'TIE_TRASLADO_ESCU': 72.0,\n",
       " 'MED_TRASLADO_ESC1': 74.0,\n",
       " 'MED_TRASLADO_ESC2': 99.0,\n",
       " 'MED_TRASLADO_ESC3': 100.0,\n",
       " 'ESCOLARI': 5.0,\n",
       " 'NIVACAD': 5.0,\n",
       " 'ALFABET': 9.0,\n",
       " 'ESCOACUM': 5.0,\n",
       " 'MUN_RES10': 10.0,\n",
       " 'ENT_PAIS_RES10': 9.0,\n",
       " 'SITUA_CONYUGAL': 21.0,\n",
       " 'IDENT_PAREJA': 56.0,\n",
       " 'CONACT': 21.0,\n",
       " 'OCUPACION_C': 62.0,\n",
       " 'SITUACION_TRAB': 62.0,\n",
       " 'AGUINALDO': 74.0,\n",
       " 'VACACIONES': 74.0,\n",
       " 'SERVICIO_MEDICO': 74.0,\n",
       " 'UTILIDADES': 74.0,\n",
       " 'INCAP_SUELDO': 74.0,\n",
       " 'SAR_AFORE': 74.0,\n",
       " 'CREDITO_VIVIENDA': 74.0,\n",
       " 'INGTRMEN': 62.0,\n",
       " 'ACTIVIDADES_C': 62.0,\n",
       " 'MUN_TRAB': 62.0,\n",
       " 'ENT_PAIS_TRAB': 62.0,\n",
       " 'TIE_TRASLADO_TRAB': 62.0,\n",
       " 'MED_TRASLADO_TRAB1': 66.0,\n",
       " 'MED_TRASLADO_TRAB2': 99.0,\n",
       " 'MED_TRASLADO_TRAB3': 100.0,\n",
       " 'ACTI_SIN_PAGO1': 21.0,\n",
       " 'ACTI_SIN_PAGO2': 21.0,\n",
       " 'ACTI_SIN_PAGO3': 21.0,\n",
       " 'ACTI_SIN_PAGO4': 21.0,\n",
       " 'ACTI_SIN_PAGO5': 21.0,\n",
       " 'ACTI_SIN_PAGO6': 21.0,\n",
       " 'ACTI_SIN_PAGO7': 21.0,\n",
       " 'ACTI_SIN_PAGO8': 21.0,\n",
       " 'HIJOS_NAC_VIVOS': 59.0,\n",
       " 'HIJOS_FALLECIDOS': 72.0,\n",
       " 'HIJOS_SOBREVIV': 72.0,\n",
       " 'FECHA_NAC_M': 72.0,\n",
       " 'FECHA_NAC_A': 72.0,\n",
       " 'SOBREVIVENCIA': 72.0,\n",
       " 'EDAD_MORIR_D': 100.0,\n",
       " 'EDAD_MORIR_M': 100.0,\n",
       " 'EDAD_MORIR_A': 100.0,\n",
       " 'TAMLOC': 0.0}"
      ]
     },
     "execution_count": 65,
     "metadata": {},
     "output_type": "execute_result"
    }
   ],
   "source": [
    "# Porcentaje de NA por columna:\n",
    "na_por_col = {columna: np.round(100*np.mean(tabla_num[columna].isnull())) for columna in tabla_num}\n",
    "na_por_col"
   ]
  },
  {
   "cell_type": "code",
   "execution_count": 66,
   "metadata": {},
   "outputs": [
    {
     "data": {
      "text/html": [
       "<div>\n",
       "<style scoped>\n",
       "    .dataframe tbody tr th:only-of-type {\n",
       "        vertical-align: middle;\n",
       "    }\n",
       "\n",
       "    .dataframe tbody tr th {\n",
       "        vertical-align: top;\n",
       "    }\n",
       "\n",
       "    .dataframe thead th {\n",
       "        text-align: right;\n",
       "    }\n",
       "</style>\n",
       "<table border=\"1\" class=\"dataframe\">\n",
       "  <thead>\n",
       "    <tr style=\"text-align: right;\">\n",
       "      <th></th>\n",
       "      <th>ID_VIV</th>\n",
       "      <th>ID_PERSONA</th>\n",
       "      <th>ENT</th>\n",
       "      <th>MUN</th>\n",
       "      <th>LOC50K</th>\n",
       "      <th>COBERTURA</th>\n",
       "      <th>UPM</th>\n",
       "      <th>FACTOR</th>\n",
       "      <th>NUMPER</th>\n",
       "      <th>SEXO</th>\n",
       "      <th>...</th>\n",
       "      <th>HLENGUA</th>\n",
       "      <th>ELENGUA</th>\n",
       "      <th>ASISTEN</th>\n",
       "      <th>ESCOLARI</th>\n",
       "      <th>NIVACAD</th>\n",
       "      <th>ALFABET</th>\n",
       "      <th>ESCOACUM</th>\n",
       "      <th>MUN_RES10</th>\n",
       "      <th>ENT_PAIS_RES10</th>\n",
       "      <th>TAMLOC</th>\n",
       "    </tr>\n",
       "  </thead>\n",
       "  <tbody>\n",
       "    <tr>\n",
       "      <th>ID_VIV</th>\n",
       "      <td>1.000000</td>\n",
       "      <td>1.000000</td>\n",
       "      <td>NaN</td>\n",
       "      <td>1.000000</td>\n",
       "      <td>-0.303399</td>\n",
       "      <td>NaN</td>\n",
       "      <td>0.997366</td>\n",
       "      <td>-0.174642</td>\n",
       "      <td>0.007856</td>\n",
       "      <td>-0.001505</td>\n",
       "      <td>...</td>\n",
       "      <td>-0.011330</td>\n",
       "      <td>-0.003980</td>\n",
       "      <td>-0.002560</td>\n",
       "      <td>0.000217</td>\n",
       "      <td>-0.015657</td>\n",
       "      <td>-0.003506</td>\n",
       "      <td>-0.013477</td>\n",
       "      <td>0.053232</td>\n",
       "      <td>-0.008587</td>\n",
       "      <td>-0.205253</td>\n",
       "    </tr>\n",
       "    <tr>\n",
       "      <th>ID_PERSONA</th>\n",
       "      <td>1.000000</td>\n",
       "      <td>1.000000</td>\n",
       "      <td>NaN</td>\n",
       "      <td>1.000000</td>\n",
       "      <td>-0.303399</td>\n",
       "      <td>NaN</td>\n",
       "      <td>0.997366</td>\n",
       "      <td>-0.174642</td>\n",
       "      <td>0.007856</td>\n",
       "      <td>-0.001505</td>\n",
       "      <td>...</td>\n",
       "      <td>-0.011330</td>\n",
       "      <td>-0.003980</td>\n",
       "      <td>-0.002560</td>\n",
       "      <td>0.000217</td>\n",
       "      <td>-0.015657</td>\n",
       "      <td>-0.003506</td>\n",
       "      <td>-0.013477</td>\n",
       "      <td>0.053232</td>\n",
       "      <td>-0.008587</td>\n",
       "      <td>-0.205253</td>\n",
       "    </tr>\n",
       "    <tr>\n",
       "      <th>ENT</th>\n",
       "      <td>NaN</td>\n",
       "      <td>NaN</td>\n",
       "      <td>NaN</td>\n",
       "      <td>NaN</td>\n",
       "      <td>NaN</td>\n",
       "      <td>NaN</td>\n",
       "      <td>NaN</td>\n",
       "      <td>NaN</td>\n",
       "      <td>NaN</td>\n",
       "      <td>NaN</td>\n",
       "      <td>...</td>\n",
       "      <td>NaN</td>\n",
       "      <td>NaN</td>\n",
       "      <td>NaN</td>\n",
       "      <td>NaN</td>\n",
       "      <td>NaN</td>\n",
       "      <td>NaN</td>\n",
       "      <td>NaN</td>\n",
       "      <td>NaN</td>\n",
       "      <td>NaN</td>\n",
       "      <td>NaN</td>\n",
       "    </tr>\n",
       "    <tr>\n",
       "      <th>MUN</th>\n",
       "      <td>1.000000</td>\n",
       "      <td>1.000000</td>\n",
       "      <td>NaN</td>\n",
       "      <td>1.000000</td>\n",
       "      <td>-0.303403</td>\n",
       "      <td>NaN</td>\n",
       "      <td>0.997366</td>\n",
       "      <td>-0.174646</td>\n",
       "      <td>0.007856</td>\n",
       "      <td>-0.001505</td>\n",
       "      <td>...</td>\n",
       "      <td>-0.011330</td>\n",
       "      <td>-0.003979</td>\n",
       "      <td>-0.002560</td>\n",
       "      <td>0.000217</td>\n",
       "      <td>-0.015657</td>\n",
       "      <td>-0.003505</td>\n",
       "      <td>-0.013478</td>\n",
       "      <td>0.053232</td>\n",
       "      <td>-0.008587</td>\n",
       "      <td>-0.205257</td>\n",
       "    </tr>\n",
       "    <tr>\n",
       "      <th>LOC50K</th>\n",
       "      <td>-0.303399</td>\n",
       "      <td>-0.303399</td>\n",
       "      <td>NaN</td>\n",
       "      <td>-0.303403</td>\n",
       "      <td>1.000000</td>\n",
       "      <td>NaN</td>\n",
       "      <td>-0.310004</td>\n",
       "      <td>0.503505</td>\n",
       "      <td>-0.017978</td>\n",
       "      <td>0.006181</td>\n",
       "      <td>...</td>\n",
       "      <td>-0.001748</td>\n",
       "      <td>-0.006623</td>\n",
       "      <td>-0.001855</td>\n",
       "      <td>-0.001253</td>\n",
       "      <td>0.054588</td>\n",
       "      <td>-0.034017</td>\n",
       "      <td>0.063322</td>\n",
       "      <td>-0.020823</td>\n",
       "      <td>-0.006728</td>\n",
       "      <td>0.851371</td>\n",
       "    </tr>\n",
       "    <tr>\n",
       "      <th>COBERTURA</th>\n",
       "      <td>NaN</td>\n",
       "      <td>NaN</td>\n",
       "      <td>NaN</td>\n",
       "      <td>NaN</td>\n",
       "      <td>NaN</td>\n",
       "      <td>NaN</td>\n",
       "      <td>NaN</td>\n",
       "      <td>NaN</td>\n",
       "      <td>NaN</td>\n",
       "      <td>NaN</td>\n",
       "      <td>...</td>\n",
       "      <td>NaN</td>\n",
       "      <td>NaN</td>\n",
       "      <td>NaN</td>\n",
       "      <td>NaN</td>\n",
       "      <td>NaN</td>\n",
       "      <td>NaN</td>\n",
       "      <td>NaN</td>\n",
       "      <td>NaN</td>\n",
       "      <td>NaN</td>\n",
       "      <td>NaN</td>\n",
       "    </tr>\n",
       "    <tr>\n",
       "      <th>UPM</th>\n",
       "      <td>0.997366</td>\n",
       "      <td>0.997366</td>\n",
       "      <td>NaN</td>\n",
       "      <td>0.997366</td>\n",
       "      <td>-0.310004</td>\n",
       "      <td>NaN</td>\n",
       "      <td>1.000000</td>\n",
       "      <td>-0.178565</td>\n",
       "      <td>0.007261</td>\n",
       "      <td>-0.001697</td>\n",
       "      <td>...</td>\n",
       "      <td>-0.011945</td>\n",
       "      <td>-0.004568</td>\n",
       "      <td>-0.002738</td>\n",
       "      <td>-0.000183</td>\n",
       "      <td>-0.015782</td>\n",
       "      <td>-0.003341</td>\n",
       "      <td>-0.013466</td>\n",
       "      <td>0.053270</td>\n",
       "      <td>-0.008896</td>\n",
       "      <td>-0.218260</td>\n",
       "    </tr>\n",
       "    <tr>\n",
       "      <th>FACTOR</th>\n",
       "      <td>-0.174642</td>\n",
       "      <td>-0.174642</td>\n",
       "      <td>NaN</td>\n",
       "      <td>-0.174646</td>\n",
       "      <td>0.503505</td>\n",
       "      <td>NaN</td>\n",
       "      <td>-0.178565</td>\n",
       "      <td>1.000000</td>\n",
       "      <td>-0.016681</td>\n",
       "      <td>0.008338</td>\n",
       "      <td>...</td>\n",
       "      <td>0.004829</td>\n",
       "      <td>0.000654</td>\n",
       "      <td>0.004122</td>\n",
       "      <td>-0.001006</td>\n",
       "      <td>0.045577</td>\n",
       "      <td>-0.024972</td>\n",
       "      <td>0.052100</td>\n",
       "      <td>-0.003450</td>\n",
       "      <td>-0.002287</td>\n",
       "      <td>0.475255</td>\n",
       "    </tr>\n",
       "    <tr>\n",
       "      <th>NUMPER</th>\n",
       "      <td>0.007856</td>\n",
       "      <td>0.007856</td>\n",
       "      <td>NaN</td>\n",
       "      <td>0.007856</td>\n",
       "      <td>-0.017978</td>\n",
       "      <td>NaN</td>\n",
       "      <td>0.007261</td>\n",
       "      <td>-0.016681</td>\n",
       "      <td>1.000000</td>\n",
       "      <td>0.061884</td>\n",
       "      <td>...</td>\n",
       "      <td>0.011837</td>\n",
       "      <td>0.016628</td>\n",
       "      <td>-0.501076</td>\n",
       "      <td>-0.008035</td>\n",
       "      <td>-0.025688</td>\n",
       "      <td>0.088047</td>\n",
       "      <td>-0.085397</td>\n",
       "      <td>0.028412</td>\n",
       "      <td>0.042140</td>\n",
       "      <td>-0.012261</td>\n",
       "    </tr>\n",
       "    <tr>\n",
       "      <th>SEXO</th>\n",
       "      <td>-0.001505</td>\n",
       "      <td>-0.001505</td>\n",
       "      <td>NaN</td>\n",
       "      <td>-0.001505</td>\n",
       "      <td>0.006181</td>\n",
       "      <td>NaN</td>\n",
       "      <td>-0.001697</td>\n",
       "      <td>0.008338</td>\n",
       "      <td>0.061884</td>\n",
       "      <td>1.000000</td>\n",
       "      <td>...</td>\n",
       "      <td>0.001554</td>\n",
       "      <td>0.002381</td>\n",
       "      <td>0.024660</td>\n",
       "      <td>-0.001532</td>\n",
       "      <td>0.006802</td>\n",
       "      <td>0.011175</td>\n",
       "      <td>0.005695</td>\n",
       "      <td>-0.000704</td>\n",
       "      <td>0.000010</td>\n",
       "      <td>0.008952</td>\n",
       "    </tr>\n",
       "    <tr>\n",
       "      <th>EDAD</th>\n",
       "      <td>-0.011607</td>\n",
       "      <td>-0.011607</td>\n",
       "      <td>NaN</td>\n",
       "      <td>-0.011607</td>\n",
       "      <td>0.015738</td>\n",
       "      <td>NaN</td>\n",
       "      <td>-0.012570</td>\n",
       "      <td>0.013288</td>\n",
       "      <td>-0.332952</td>\n",
       "      <td>0.018901</td>\n",
       "      <td>...</td>\n",
       "      <td>0.112622</td>\n",
       "      <td>0.070988</td>\n",
       "      <td>0.402242</td>\n",
       "      <td>0.079005</td>\n",
       "      <td>0.084190</td>\n",
       "      <td>0.045489</td>\n",
       "      <td>0.072886</td>\n",
       "      <td>0.031443</td>\n",
       "      <td>0.063547</td>\n",
       "      <td>0.020335</td>\n",
       "    </tr>\n",
       "    <tr>\n",
       "      <th>PARENT</th>\n",
       "      <td>-0.002255</td>\n",
       "      <td>-0.002255</td>\n",
       "      <td>NaN</td>\n",
       "      <td>-0.002255</td>\n",
       "      <td>-0.000417</td>\n",
       "      <td>NaN</td>\n",
       "      <td>-0.002556</td>\n",
       "      <td>-0.001048</td>\n",
       "      <td>0.169333</td>\n",
       "      <td>0.023485</td>\n",
       "      <td>...</td>\n",
       "      <td>0.096396</td>\n",
       "      <td>0.070381</td>\n",
       "      <td>-0.073610</td>\n",
       "      <td>0.042851</td>\n",
       "      <td>0.048898</td>\n",
       "      <td>0.034246</td>\n",
       "      <td>0.030056</td>\n",
       "      <td>0.047705</td>\n",
       "      <td>0.066988</td>\n",
       "      <td>0.005955</td>\n",
       "    </tr>\n",
       "    <tr>\n",
       "      <th>PARENT_OTRO_C</th>\n",
       "      <td>0.002372</td>\n",
       "      <td>0.002372</td>\n",
       "      <td>NaN</td>\n",
       "      <td>0.002372</td>\n",
       "      <td>0.000329</td>\n",
       "      <td>NaN</td>\n",
       "      <td>0.001660</td>\n",
       "      <td>-0.002958</td>\n",
       "      <td>0.700603</td>\n",
       "      <td>0.100088</td>\n",
       "      <td>...</td>\n",
       "      <td>0.044955</td>\n",
       "      <td>0.043157</td>\n",
       "      <td>-0.433253</td>\n",
       "      <td>0.012271</td>\n",
       "      <td>0.023496</td>\n",
       "      <td>0.056554</td>\n",
       "      <td>-0.017910</td>\n",
       "      <td>0.043647</td>\n",
       "      <td>0.053607</td>\n",
       "      <td>0.010256</td>\n",
       "    </tr>\n",
       "    <tr>\n",
       "      <th>IDENT_MADRE</th>\n",
       "      <td>-0.003076</td>\n",
       "      <td>-0.003076</td>\n",
       "      <td>NaN</td>\n",
       "      <td>-0.003076</td>\n",
       "      <td>0.004246</td>\n",
       "      <td>NaN</td>\n",
       "      <td>-0.002945</td>\n",
       "      <td>0.004976</td>\n",
       "      <td>-0.552496</td>\n",
       "      <td>0.062685</td>\n",
       "      <td>...</td>\n",
       "      <td>0.000111</td>\n",
       "      <td>-0.008754</td>\n",
       "      <td>0.595966</td>\n",
       "      <td>0.012684</td>\n",
       "      <td>-0.006377</td>\n",
       "      <td>-0.040749</td>\n",
       "      <td>0.044613</td>\n",
       "      <td>0.001377</td>\n",
       "      <td>-0.021517</td>\n",
       "      <td>0.001404</td>\n",
       "    </tr>\n",
       "    <tr>\n",
       "      <th>IDENT_PADRE</th>\n",
       "      <td>-0.008833</td>\n",
       "      <td>-0.008833</td>\n",
       "      <td>NaN</td>\n",
       "      <td>-0.008833</td>\n",
       "      <td>0.022628</td>\n",
       "      <td>NaN</td>\n",
       "      <td>-0.008816</td>\n",
       "      <td>0.022248</td>\n",
       "      <td>-0.506848</td>\n",
       "      <td>0.058935</td>\n",
       "      <td>...</td>\n",
       "      <td>0.000013</td>\n",
       "      <td>-0.006105</td>\n",
       "      <td>0.524729</td>\n",
       "      <td>0.011433</td>\n",
       "      <td>-0.000917</td>\n",
       "      <td>-0.036887</td>\n",
       "      <td>0.046077</td>\n",
       "      <td>0.004257</td>\n",
       "      <td>-0.017804</td>\n",
       "      <td>0.022922</td>\n",
       "    </tr>\n",
       "    <tr>\n",
       "      <th>SERSALUD</th>\n",
       "      <td>0.002774</td>\n",
       "      <td>0.002774</td>\n",
       "      <td>NaN</td>\n",
       "      <td>0.002775</td>\n",
       "      <td>-0.062766</td>\n",
       "      <td>NaN</td>\n",
       "      <td>0.001734</td>\n",
       "      <td>-0.056187</td>\n",
       "      <td>0.039116</td>\n",
       "      <td>-0.016594</td>\n",
       "      <td>...</td>\n",
       "      <td>0.242939</td>\n",
       "      <td>0.156769</td>\n",
       "      <td>0.016604</td>\n",
       "      <td>0.089990</td>\n",
       "      <td>0.058715</td>\n",
       "      <td>0.057425</td>\n",
       "      <td>0.030342</td>\n",
       "      <td>0.078517</td>\n",
       "      <td>0.126190</td>\n",
       "      <td>-0.080531</td>\n",
       "    </tr>\n",
       "    <tr>\n",
       "      <th>AFRODES</th>\n",
       "      <td>0.003182</td>\n",
       "      <td>0.003182</td>\n",
       "      <td>NaN</td>\n",
       "      <td>0.003183</td>\n",
       "      <td>-0.018265</td>\n",
       "      <td>NaN</td>\n",
       "      <td>0.002359</td>\n",
       "      <td>-0.014107</td>\n",
       "      <td>-0.012624</td>\n",
       "      <td>-0.011238</td>\n",
       "      <td>...</td>\n",
       "      <td>0.111277</td>\n",
       "      <td>0.073484</td>\n",
       "      <td>0.016998</td>\n",
       "      <td>0.025607</td>\n",
       "      <td>0.019379</td>\n",
       "      <td>0.017219</td>\n",
       "      <td>0.011601</td>\n",
       "      <td>0.023560</td>\n",
       "      <td>0.042819</td>\n",
       "      <td>-0.022836</td>\n",
       "    </tr>\n",
       "    <tr>\n",
       "      <th>ACTA_NAC</th>\n",
       "      <td>-0.009710</td>\n",
       "      <td>-0.009710</td>\n",
       "      <td>NaN</td>\n",
       "      <td>-0.009710</td>\n",
       "      <td>0.008296</td>\n",
       "      <td>NaN</td>\n",
       "      <td>-0.009715</td>\n",
       "      <td>0.008235</td>\n",
       "      <td>0.010481</td>\n",
       "      <td>0.004127</td>\n",
       "      <td>...</td>\n",
       "      <td>0.201917</td>\n",
       "      <td>0.137635</td>\n",
       "      <td>0.006562</td>\n",
       "      <td>0.061422</td>\n",
       "      <td>0.067200</td>\n",
       "      <td>0.033049</td>\n",
       "      <td>0.047798</td>\n",
       "      <td>0.058472</td>\n",
       "      <td>0.096736</td>\n",
       "      <td>0.009953</td>\n",
       "    </tr>\n",
       "    <tr>\n",
       "      <th>DHSERSAL1</th>\n",
       "      <td>-0.029964</td>\n",
       "      <td>-0.029964</td>\n",
       "      <td>NaN</td>\n",
       "      <td>-0.029965</td>\n",
       "      <td>0.089475</td>\n",
       "      <td>NaN</td>\n",
       "      <td>-0.030688</td>\n",
       "      <td>0.066412</td>\n",
       "      <td>-0.010427</td>\n",
       "      <td>-0.057331</td>\n",
       "      <td>...</td>\n",
       "      <td>0.030396</td>\n",
       "      <td>0.014788</td>\n",
       "      <td>0.052312</td>\n",
       "      <td>0.019234</td>\n",
       "      <td>0.069966</td>\n",
       "      <td>-0.008460</td>\n",
       "      <td>0.074365</td>\n",
       "      <td>0.033307</td>\n",
       "      <td>0.013493</td>\n",
       "      <td>0.104849</td>\n",
       "    </tr>\n",
       "    <tr>\n",
       "      <th>PERTE_INDIGENA</th>\n",
       "      <td>-0.024901</td>\n",
       "      <td>-0.024901</td>\n",
       "      <td>NaN</td>\n",
       "      <td>-0.024902</td>\n",
       "      <td>0.054208</td>\n",
       "      <td>NaN</td>\n",
       "      <td>-0.027607</td>\n",
       "      <td>0.045516</td>\n",
       "      <td>-0.011085</td>\n",
       "      <td>-0.008798</td>\n",
       "      <td>...</td>\n",
       "      <td>0.086780</td>\n",
       "      <td>0.089704</td>\n",
       "      <td>0.000456</td>\n",
       "      <td>0.024695</td>\n",
       "      <td>0.052400</td>\n",
       "      <td>0.001558</td>\n",
       "      <td>0.052393</td>\n",
       "      <td>0.026352</td>\n",
       "      <td>0.035865</td>\n",
       "      <td>0.075243</td>\n",
       "    </tr>\n",
       "    <tr>\n",
       "      <th>ENT_PAIS_NAC</th>\n",
       "      <td>-0.009849</td>\n",
       "      <td>-0.009849</td>\n",
       "      <td>NaN</td>\n",
       "      <td>-0.009849</td>\n",
       "      <td>0.000376</td>\n",
       "      <td>NaN</td>\n",
       "      <td>-0.010063</td>\n",
       "      <td>0.000778</td>\n",
       "      <td>0.025186</td>\n",
       "      <td>0.000117</td>\n",
       "      <td>...</td>\n",
       "      <td>0.193970</td>\n",
       "      <td>0.130019</td>\n",
       "      <td>-0.015433</td>\n",
       "      <td>0.075175</td>\n",
       "      <td>0.082217</td>\n",
       "      <td>0.031684</td>\n",
       "      <td>0.059703</td>\n",
       "      <td>0.051147</td>\n",
       "      <td>0.094038</td>\n",
       "      <td>0.001434</td>\n",
       "    </tr>\n",
       "    <tr>\n",
       "      <th>NACIONALIDAD</th>\n",
       "      <td>-0.011379</td>\n",
       "      <td>-0.011379</td>\n",
       "      <td>NaN</td>\n",
       "      <td>-0.011379</td>\n",
       "      <td>0.003404</td>\n",
       "      <td>NaN</td>\n",
       "      <td>-0.011523</td>\n",
       "      <td>0.002487</td>\n",
       "      <td>0.021356</td>\n",
       "      <td>-0.000045</td>\n",
       "      <td>...</td>\n",
       "      <td>0.171415</td>\n",
       "      <td>0.114642</td>\n",
       "      <td>-0.013087</td>\n",
       "      <td>0.066310</td>\n",
       "      <td>0.073129</td>\n",
       "      <td>0.029811</td>\n",
       "      <td>0.052885</td>\n",
       "      <td>0.051175</td>\n",
       "      <td>0.084485</td>\n",
       "      <td>0.002842</td>\n",
       "    </tr>\n",
       "    <tr>\n",
       "      <th>HLENGUA</th>\n",
       "      <td>-0.011330</td>\n",
       "      <td>-0.011330</td>\n",
       "      <td>NaN</td>\n",
       "      <td>-0.011330</td>\n",
       "      <td>-0.001748</td>\n",
       "      <td>NaN</td>\n",
       "      <td>-0.011945</td>\n",
       "      <td>0.004829</td>\n",
       "      <td>0.011837</td>\n",
       "      <td>0.001554</td>\n",
       "      <td>...</td>\n",
       "      <td>1.000000</td>\n",
       "      <td>0.592072</td>\n",
       "      <td>0.027210</td>\n",
       "      <td>0.144995</td>\n",
       "      <td>0.157980</td>\n",
       "      <td>0.061759</td>\n",
       "      <td>0.120413</td>\n",
       "      <td>0.107706</td>\n",
       "      <td>0.186872</td>\n",
       "      <td>0.002643</td>\n",
       "    </tr>\n",
       "    <tr>\n",
       "      <th>ELENGUA</th>\n",
       "      <td>-0.003980</td>\n",
       "      <td>-0.003980</td>\n",
       "      <td>NaN</td>\n",
       "      <td>-0.003979</td>\n",
       "      <td>-0.006623</td>\n",
       "      <td>NaN</td>\n",
       "      <td>-0.004568</td>\n",
       "      <td>0.000654</td>\n",
       "      <td>0.016628</td>\n",
       "      <td>0.002381</td>\n",
       "      <td>...</td>\n",
       "      <td>0.592072</td>\n",
       "      <td>1.000000</td>\n",
       "      <td>0.008941</td>\n",
       "      <td>0.092704</td>\n",
       "      <td>0.104828</td>\n",
       "      <td>0.046789</td>\n",
       "      <td>0.078099</td>\n",
       "      <td>0.076769</td>\n",
       "      <td>0.132535</td>\n",
       "      <td>-0.003247</td>\n",
       "    </tr>\n",
       "    <tr>\n",
       "      <th>ASISTEN</th>\n",
       "      <td>-0.002560</td>\n",
       "      <td>-0.002560</td>\n",
       "      <td>NaN</td>\n",
       "      <td>-0.002560</td>\n",
       "      <td>-0.001855</td>\n",
       "      <td>NaN</td>\n",
       "      <td>-0.002738</td>\n",
       "      <td>0.004122</td>\n",
       "      <td>-0.501076</td>\n",
       "      <td>0.024660</td>\n",
       "      <td>...</td>\n",
       "      <td>0.027210</td>\n",
       "      <td>0.008941</td>\n",
       "      <td>1.000000</td>\n",
       "      <td>0.037734</td>\n",
       "      <td>0.043387</td>\n",
       "      <td>-0.083793</td>\n",
       "      <td>0.151183</td>\n",
       "      <td>-0.004403</td>\n",
       "      <td>-0.008362</td>\n",
       "      <td>-0.003561</td>\n",
       "    </tr>\n",
       "    <tr>\n",
       "      <th>ESCOLARI</th>\n",
       "      <td>0.000217</td>\n",
       "      <td>0.000217</td>\n",
       "      <td>NaN</td>\n",
       "      <td>0.000217</td>\n",
       "      <td>-0.001253</td>\n",
       "      <td>NaN</td>\n",
       "      <td>-0.000183</td>\n",
       "      <td>-0.001006</td>\n",
       "      <td>-0.008035</td>\n",
       "      <td>-0.001532</td>\n",
       "      <td>...</td>\n",
       "      <td>0.144995</td>\n",
       "      <td>0.092704</td>\n",
       "      <td>0.037734</td>\n",
       "      <td>1.000000</td>\n",
       "      <td>0.716723</td>\n",
       "      <td>0.125303</td>\n",
       "      <td>0.774627</td>\n",
       "      <td>0.063769</td>\n",
       "      <td>0.101105</td>\n",
       "      <td>0.003901</td>\n",
       "    </tr>\n",
       "    <tr>\n",
       "      <th>NIVACAD</th>\n",
       "      <td>-0.015657</td>\n",
       "      <td>-0.015657</td>\n",
       "      <td>NaN</td>\n",
       "      <td>-0.015657</td>\n",
       "      <td>0.054588</td>\n",
       "      <td>NaN</td>\n",
       "      <td>-0.015782</td>\n",
       "      <td>0.045577</td>\n",
       "      <td>-0.025688</td>\n",
       "      <td>0.006802</td>\n",
       "      <td>...</td>\n",
       "      <td>0.157980</td>\n",
       "      <td>0.104828</td>\n",
       "      <td>0.043387</td>\n",
       "      <td>0.716723</td>\n",
       "      <td>1.000000</td>\n",
       "      <td>0.096846</td>\n",
       "      <td>0.840211</td>\n",
       "      <td>0.070109</td>\n",
       "      <td>0.101157</td>\n",
       "      <td>0.072875</td>\n",
       "    </tr>\n",
       "    <tr>\n",
       "      <th>ALFABET</th>\n",
       "      <td>-0.003506</td>\n",
       "      <td>-0.003506</td>\n",
       "      <td>NaN</td>\n",
       "      <td>-0.003505</td>\n",
       "      <td>-0.034017</td>\n",
       "      <td>NaN</td>\n",
       "      <td>-0.003341</td>\n",
       "      <td>-0.024972</td>\n",
       "      <td>0.088047</td>\n",
       "      <td>0.011175</td>\n",
       "      <td>...</td>\n",
       "      <td>0.061759</td>\n",
       "      <td>0.046789</td>\n",
       "      <td>-0.083793</td>\n",
       "      <td>0.125303</td>\n",
       "      <td>0.096846</td>\n",
       "      <td>1.000000</td>\n",
       "      <td>-0.097051</td>\n",
       "      <td>0.077321</td>\n",
       "      <td>0.133512</td>\n",
       "      <td>-0.038854</td>\n",
       "    </tr>\n",
       "    <tr>\n",
       "      <th>ESCOACUM</th>\n",
       "      <td>-0.013477</td>\n",
       "      <td>-0.013477</td>\n",
       "      <td>NaN</td>\n",
       "      <td>-0.013478</td>\n",
       "      <td>0.063322</td>\n",
       "      <td>NaN</td>\n",
       "      <td>-0.013466</td>\n",
       "      <td>0.052100</td>\n",
       "      <td>-0.085397</td>\n",
       "      <td>0.005695</td>\n",
       "      <td>...</td>\n",
       "      <td>0.120413</td>\n",
       "      <td>0.078099</td>\n",
       "      <td>0.151183</td>\n",
       "      <td>0.774627</td>\n",
       "      <td>0.840211</td>\n",
       "      <td>-0.097051</td>\n",
       "      <td>1.000000</td>\n",
       "      <td>0.049415</td>\n",
       "      <td>0.064620</td>\n",
       "      <td>0.084518</td>\n",
       "    </tr>\n",
       "    <tr>\n",
       "      <th>MUN_RES10</th>\n",
       "      <td>0.053232</td>\n",
       "      <td>0.053232</td>\n",
       "      <td>NaN</td>\n",
       "      <td>0.053232</td>\n",
       "      <td>-0.020823</td>\n",
       "      <td>NaN</td>\n",
       "      <td>0.053270</td>\n",
       "      <td>-0.003450</td>\n",
       "      <td>0.028412</td>\n",
       "      <td>-0.000704</td>\n",
       "      <td>...</td>\n",
       "      <td>0.107706</td>\n",
       "      <td>0.076769</td>\n",
       "      <td>-0.004403</td>\n",
       "      <td>0.063769</td>\n",
       "      <td>0.070109</td>\n",
       "      <td>0.077321</td>\n",
       "      <td>0.049415</td>\n",
       "      <td>1.000000</td>\n",
       "      <td>0.569488</td>\n",
       "      <td>-0.022457</td>\n",
       "    </tr>\n",
       "    <tr>\n",
       "      <th>ENT_PAIS_RES10</th>\n",
       "      <td>-0.008587</td>\n",
       "      <td>-0.008587</td>\n",
       "      <td>NaN</td>\n",
       "      <td>-0.008587</td>\n",
       "      <td>-0.006728</td>\n",
       "      <td>NaN</td>\n",
       "      <td>-0.008896</td>\n",
       "      <td>-0.002287</td>\n",
       "      <td>0.042140</td>\n",
       "      <td>0.000010</td>\n",
       "      <td>...</td>\n",
       "      <td>0.186872</td>\n",
       "      <td>0.132535</td>\n",
       "      <td>-0.008362</td>\n",
       "      <td>0.101105</td>\n",
       "      <td>0.101157</td>\n",
       "      <td>0.133512</td>\n",
       "      <td>0.064620</td>\n",
       "      <td>0.569488</td>\n",
       "      <td>1.000000</td>\n",
       "      <td>-0.006807</td>\n",
       "    </tr>\n",
       "    <tr>\n",
       "      <th>TAMLOC</th>\n",
       "      <td>-0.205253</td>\n",
       "      <td>-0.205253</td>\n",
       "      <td>NaN</td>\n",
       "      <td>-0.205257</td>\n",
       "      <td>0.851371</td>\n",
       "      <td>NaN</td>\n",
       "      <td>-0.218260</td>\n",
       "      <td>0.475255</td>\n",
       "      <td>-0.012261</td>\n",
       "      <td>0.008952</td>\n",
       "      <td>...</td>\n",
       "      <td>0.002643</td>\n",
       "      <td>-0.003247</td>\n",
       "      <td>-0.003561</td>\n",
       "      <td>0.003901</td>\n",
       "      <td>0.072875</td>\n",
       "      <td>-0.038854</td>\n",
       "      <td>0.084518</td>\n",
       "      <td>-0.022457</td>\n",
       "      <td>-0.006807</td>\n",
       "      <td>1.000000</td>\n",
       "    </tr>\n",
       "  </tbody>\n",
       "</table>\n",
       "<p>32 rows × 32 columns</p>\n",
       "</div>"
      ],
      "text/plain": [
       "                  ID_VIV  ID_PERSONA  ENT       MUN    LOC50K  COBERTURA  \\\n",
       "ID_VIV          1.000000    1.000000  NaN  1.000000 -0.303399        NaN   \n",
       "ID_PERSONA      1.000000    1.000000  NaN  1.000000 -0.303399        NaN   \n",
       "ENT                  NaN         NaN  NaN       NaN       NaN        NaN   \n",
       "MUN             1.000000    1.000000  NaN  1.000000 -0.303403        NaN   \n",
       "LOC50K         -0.303399   -0.303399  NaN -0.303403  1.000000        NaN   \n",
       "COBERTURA            NaN         NaN  NaN       NaN       NaN        NaN   \n",
       "UPM             0.997366    0.997366  NaN  0.997366 -0.310004        NaN   \n",
       "FACTOR         -0.174642   -0.174642  NaN -0.174646  0.503505        NaN   \n",
       "NUMPER          0.007856    0.007856  NaN  0.007856 -0.017978        NaN   \n",
       "SEXO           -0.001505   -0.001505  NaN -0.001505  0.006181        NaN   \n",
       "EDAD           -0.011607   -0.011607  NaN -0.011607  0.015738        NaN   \n",
       "PARENT         -0.002255   -0.002255  NaN -0.002255 -0.000417        NaN   \n",
       "PARENT_OTRO_C   0.002372    0.002372  NaN  0.002372  0.000329        NaN   \n",
       "IDENT_MADRE    -0.003076   -0.003076  NaN -0.003076  0.004246        NaN   \n",
       "IDENT_PADRE    -0.008833   -0.008833  NaN -0.008833  0.022628        NaN   \n",
       "SERSALUD        0.002774    0.002774  NaN  0.002775 -0.062766        NaN   \n",
       "AFRODES         0.003182    0.003182  NaN  0.003183 -0.018265        NaN   \n",
       "ACTA_NAC       -0.009710   -0.009710  NaN -0.009710  0.008296        NaN   \n",
       "DHSERSAL1      -0.029964   -0.029964  NaN -0.029965  0.089475        NaN   \n",
       "PERTE_INDIGENA -0.024901   -0.024901  NaN -0.024902  0.054208        NaN   \n",
       "ENT_PAIS_NAC   -0.009849   -0.009849  NaN -0.009849  0.000376        NaN   \n",
       "NACIONALIDAD   -0.011379   -0.011379  NaN -0.011379  0.003404        NaN   \n",
       "HLENGUA        -0.011330   -0.011330  NaN -0.011330 -0.001748        NaN   \n",
       "ELENGUA        -0.003980   -0.003980  NaN -0.003979 -0.006623        NaN   \n",
       "ASISTEN        -0.002560   -0.002560  NaN -0.002560 -0.001855        NaN   \n",
       "ESCOLARI        0.000217    0.000217  NaN  0.000217 -0.001253        NaN   \n",
       "NIVACAD        -0.015657   -0.015657  NaN -0.015657  0.054588        NaN   \n",
       "ALFABET        -0.003506   -0.003506  NaN -0.003505 -0.034017        NaN   \n",
       "ESCOACUM       -0.013477   -0.013477  NaN -0.013478  0.063322        NaN   \n",
       "MUN_RES10       0.053232    0.053232  NaN  0.053232 -0.020823        NaN   \n",
       "ENT_PAIS_RES10 -0.008587   -0.008587  NaN -0.008587 -0.006728        NaN   \n",
       "TAMLOC         -0.205253   -0.205253  NaN -0.205257  0.851371        NaN   \n",
       "\n",
       "                     UPM    FACTOR    NUMPER      SEXO  ...   HLENGUA  \\\n",
       "ID_VIV          0.997366 -0.174642  0.007856 -0.001505  ... -0.011330   \n",
       "ID_PERSONA      0.997366 -0.174642  0.007856 -0.001505  ... -0.011330   \n",
       "ENT                  NaN       NaN       NaN       NaN  ...       NaN   \n",
       "MUN             0.997366 -0.174646  0.007856 -0.001505  ... -0.011330   \n",
       "LOC50K         -0.310004  0.503505 -0.017978  0.006181  ... -0.001748   \n",
       "COBERTURA            NaN       NaN       NaN       NaN  ...       NaN   \n",
       "UPM             1.000000 -0.178565  0.007261 -0.001697  ... -0.011945   \n",
       "FACTOR         -0.178565  1.000000 -0.016681  0.008338  ...  0.004829   \n",
       "NUMPER          0.007261 -0.016681  1.000000  0.061884  ...  0.011837   \n",
       "SEXO           -0.001697  0.008338  0.061884  1.000000  ...  0.001554   \n",
       "EDAD           -0.012570  0.013288 -0.332952  0.018901  ...  0.112622   \n",
       "PARENT         -0.002556 -0.001048  0.169333  0.023485  ...  0.096396   \n",
       "PARENT_OTRO_C   0.001660 -0.002958  0.700603  0.100088  ...  0.044955   \n",
       "IDENT_MADRE    -0.002945  0.004976 -0.552496  0.062685  ...  0.000111   \n",
       "IDENT_PADRE    -0.008816  0.022248 -0.506848  0.058935  ...  0.000013   \n",
       "SERSALUD        0.001734 -0.056187  0.039116 -0.016594  ...  0.242939   \n",
       "AFRODES         0.002359 -0.014107 -0.012624 -0.011238  ...  0.111277   \n",
       "ACTA_NAC       -0.009715  0.008235  0.010481  0.004127  ...  0.201917   \n",
       "DHSERSAL1      -0.030688  0.066412 -0.010427 -0.057331  ...  0.030396   \n",
       "PERTE_INDIGENA -0.027607  0.045516 -0.011085 -0.008798  ...  0.086780   \n",
       "ENT_PAIS_NAC   -0.010063  0.000778  0.025186  0.000117  ...  0.193970   \n",
       "NACIONALIDAD   -0.011523  0.002487  0.021356 -0.000045  ...  0.171415   \n",
       "HLENGUA        -0.011945  0.004829  0.011837  0.001554  ...  1.000000   \n",
       "ELENGUA        -0.004568  0.000654  0.016628  0.002381  ...  0.592072   \n",
       "ASISTEN        -0.002738  0.004122 -0.501076  0.024660  ...  0.027210   \n",
       "ESCOLARI       -0.000183 -0.001006 -0.008035 -0.001532  ...  0.144995   \n",
       "NIVACAD        -0.015782  0.045577 -0.025688  0.006802  ...  0.157980   \n",
       "ALFABET        -0.003341 -0.024972  0.088047  0.011175  ...  0.061759   \n",
       "ESCOACUM       -0.013466  0.052100 -0.085397  0.005695  ...  0.120413   \n",
       "MUN_RES10       0.053270 -0.003450  0.028412 -0.000704  ...  0.107706   \n",
       "ENT_PAIS_RES10 -0.008896 -0.002287  0.042140  0.000010  ...  0.186872   \n",
       "TAMLOC         -0.218260  0.475255 -0.012261  0.008952  ...  0.002643   \n",
       "\n",
       "                 ELENGUA   ASISTEN  ESCOLARI   NIVACAD   ALFABET  ESCOACUM  \\\n",
       "ID_VIV         -0.003980 -0.002560  0.000217 -0.015657 -0.003506 -0.013477   \n",
       "ID_PERSONA     -0.003980 -0.002560  0.000217 -0.015657 -0.003506 -0.013477   \n",
       "ENT                  NaN       NaN       NaN       NaN       NaN       NaN   \n",
       "MUN            -0.003979 -0.002560  0.000217 -0.015657 -0.003505 -0.013478   \n",
       "LOC50K         -0.006623 -0.001855 -0.001253  0.054588 -0.034017  0.063322   \n",
       "COBERTURA            NaN       NaN       NaN       NaN       NaN       NaN   \n",
       "UPM            -0.004568 -0.002738 -0.000183 -0.015782 -0.003341 -0.013466   \n",
       "FACTOR          0.000654  0.004122 -0.001006  0.045577 -0.024972  0.052100   \n",
       "NUMPER          0.016628 -0.501076 -0.008035 -0.025688  0.088047 -0.085397   \n",
       "SEXO            0.002381  0.024660 -0.001532  0.006802  0.011175  0.005695   \n",
       "EDAD            0.070988  0.402242  0.079005  0.084190  0.045489  0.072886   \n",
       "PARENT          0.070381 -0.073610  0.042851  0.048898  0.034246  0.030056   \n",
       "PARENT_OTRO_C   0.043157 -0.433253  0.012271  0.023496  0.056554 -0.017910   \n",
       "IDENT_MADRE    -0.008754  0.595966  0.012684 -0.006377 -0.040749  0.044613   \n",
       "IDENT_PADRE    -0.006105  0.524729  0.011433 -0.000917 -0.036887  0.046077   \n",
       "SERSALUD        0.156769  0.016604  0.089990  0.058715  0.057425  0.030342   \n",
       "AFRODES         0.073484  0.016998  0.025607  0.019379  0.017219  0.011601   \n",
       "ACTA_NAC        0.137635  0.006562  0.061422  0.067200  0.033049  0.047798   \n",
       "DHSERSAL1       0.014788  0.052312  0.019234  0.069966 -0.008460  0.074365   \n",
       "PERTE_INDIGENA  0.089704  0.000456  0.024695  0.052400  0.001558  0.052393   \n",
       "ENT_PAIS_NAC    0.130019 -0.015433  0.075175  0.082217  0.031684  0.059703   \n",
       "NACIONALIDAD    0.114642 -0.013087  0.066310  0.073129  0.029811  0.052885   \n",
       "HLENGUA         0.592072  0.027210  0.144995  0.157980  0.061759  0.120413   \n",
       "ELENGUA         1.000000  0.008941  0.092704  0.104828  0.046789  0.078099   \n",
       "ASISTEN         0.008941  1.000000  0.037734  0.043387 -0.083793  0.151183   \n",
       "ESCOLARI        0.092704  0.037734  1.000000  0.716723  0.125303  0.774627   \n",
       "NIVACAD         0.104828  0.043387  0.716723  1.000000  0.096846  0.840211   \n",
       "ALFABET         0.046789 -0.083793  0.125303  0.096846  1.000000 -0.097051   \n",
       "ESCOACUM        0.078099  0.151183  0.774627  0.840211 -0.097051  1.000000   \n",
       "MUN_RES10       0.076769 -0.004403  0.063769  0.070109  0.077321  0.049415   \n",
       "ENT_PAIS_RES10  0.132535 -0.008362  0.101105  0.101157  0.133512  0.064620   \n",
       "TAMLOC         -0.003247 -0.003561  0.003901  0.072875 -0.038854  0.084518   \n",
       "\n",
       "                MUN_RES10  ENT_PAIS_RES10    TAMLOC  \n",
       "ID_VIV           0.053232       -0.008587 -0.205253  \n",
       "ID_PERSONA       0.053232       -0.008587 -0.205253  \n",
       "ENT                   NaN             NaN       NaN  \n",
       "MUN              0.053232       -0.008587 -0.205257  \n",
       "LOC50K          -0.020823       -0.006728  0.851371  \n",
       "COBERTURA             NaN             NaN       NaN  \n",
       "UPM              0.053270       -0.008896 -0.218260  \n",
       "FACTOR          -0.003450       -0.002287  0.475255  \n",
       "NUMPER           0.028412        0.042140 -0.012261  \n",
       "SEXO            -0.000704        0.000010  0.008952  \n",
       "EDAD             0.031443        0.063547  0.020335  \n",
       "PARENT           0.047705        0.066988  0.005955  \n",
       "PARENT_OTRO_C    0.043647        0.053607  0.010256  \n",
       "IDENT_MADRE      0.001377       -0.021517  0.001404  \n",
       "IDENT_PADRE      0.004257       -0.017804  0.022922  \n",
       "SERSALUD         0.078517        0.126190 -0.080531  \n",
       "AFRODES          0.023560        0.042819 -0.022836  \n",
       "ACTA_NAC         0.058472        0.096736  0.009953  \n",
       "DHSERSAL1        0.033307        0.013493  0.104849  \n",
       "PERTE_INDIGENA   0.026352        0.035865  0.075243  \n",
       "ENT_PAIS_NAC     0.051147        0.094038  0.001434  \n",
       "NACIONALIDAD     0.051175        0.084485  0.002842  \n",
       "HLENGUA          0.107706        0.186872  0.002643  \n",
       "ELENGUA          0.076769        0.132535 -0.003247  \n",
       "ASISTEN         -0.004403       -0.008362 -0.003561  \n",
       "ESCOLARI         0.063769        0.101105  0.003901  \n",
       "NIVACAD          0.070109        0.101157  0.072875  \n",
       "ALFABET          0.077321        0.133512 -0.038854  \n",
       "ESCOACUM         0.049415        0.064620  0.084518  \n",
       "MUN_RES10        1.000000        0.569488 -0.022457  \n",
       "ENT_PAIS_RES10   0.569488        1.000000 -0.006807  \n",
       "TAMLOC          -0.022457       -0.006807  1.000000  \n",
       "\n",
       "[32 rows x 32 columns]"
      ]
     },
     "execution_count": 66,
     "metadata": {},
     "output_type": "execute_result"
    }
   ],
   "source": [
    "columnas_seleccionadas = [nombre\n",
    "                          for (nombre, porcentaje) in na_por_col.items()\n",
    "                          if porcentaje <= 10]\n",
    "(tabla[columnas_seleccionadas].dropna()).corr()"
   ]
  },
  {
   "cell_type": "markdown",
   "metadata": {},
   "source": [
    "# NFL"
   ]
  },
  {
   "cell_type": "code",
   "execution_count": 67,
   "metadata": {},
   "outputs": [],
   "source": [
    "df_nba = pd.read_csv('Kaggle/nba.csv')\n",
    "df_nfl = pd.read_csv('Kaggle/nfl.csv')"
   ]
  },
  {
   "cell_type": "code",
   "execution_count": 68,
   "metadata": {},
   "outputs": [
    {
     "data": {
      "text/html": [
       "<div>\n",
       "<style scoped>\n",
       "    .dataframe tbody tr th:only-of-type {\n",
       "        vertical-align: middle;\n",
       "    }\n",
       "\n",
       "    .dataframe tbody tr th {\n",
       "        vertical-align: top;\n",
       "    }\n",
       "\n",
       "    .dataframe thead th {\n",
       "        text-align: right;\n",
       "    }\n",
       "</style>\n",
       "<table border=\"1\" class=\"dataframe\">\n",
       "  <thead>\n",
       "    <tr style=\"text-align: right;\">\n",
       "      <th></th>\n",
       "      <th>Age</th>\n",
       "      <th>Birth Place</th>\n",
       "      <th>Birthday</th>\n",
       "      <th>College</th>\n",
       "      <th>Current Status</th>\n",
       "      <th>Current Team</th>\n",
       "      <th>Experience</th>\n",
       "      <th>Height (inches)</th>\n",
       "      <th>High School</th>\n",
       "      <th>High School Location</th>\n",
       "      <th>Name</th>\n",
       "      <th>Number</th>\n",
       "      <th>Player Id</th>\n",
       "      <th>Position</th>\n",
       "      <th>Weight (lbs)</th>\n",
       "      <th>Years Played</th>\n",
       "    </tr>\n",
       "  </thead>\n",
       "  <tbody>\n",
       "    <tr>\n",
       "      <th>0</th>\n",
       "      <td>NaN</td>\n",
       "      <td>Grand Rapids , MI</td>\n",
       "      <td>5/23/1921</td>\n",
       "      <td>Notre Dame</td>\n",
       "      <td>Retired</td>\n",
       "      <td>NaN</td>\n",
       "      <td>3 Seasons</td>\n",
       "      <td>71.0</td>\n",
       "      <td>NaN</td>\n",
       "      <td>NaN</td>\n",
       "      <td>Evans, Fred</td>\n",
       "      <td>NaN</td>\n",
       "      <td>fredevans/2513736</td>\n",
       "      <td>NaN</td>\n",
       "      <td>185.0</td>\n",
       "      <td>1946 - 1948</td>\n",
       "    </tr>\n",
       "    <tr>\n",
       "      <th>1</th>\n",
       "      <td>NaN</td>\n",
       "      <td>Dayton , OH</td>\n",
       "      <td>12/21/1930</td>\n",
       "      <td>Dayton</td>\n",
       "      <td>Retired</td>\n",
       "      <td>NaN</td>\n",
       "      <td>1 Season</td>\n",
       "      <td>70.0</td>\n",
       "      <td>NaN</td>\n",
       "      <td>NaN</td>\n",
       "      <td>Raiff, Jim</td>\n",
       "      <td>NaN</td>\n",
       "      <td>jimraiff/2523700</td>\n",
       "      <td>NaN</td>\n",
       "      <td>235.0</td>\n",
       "      <td>1954 - 1954</td>\n",
       "    </tr>\n",
       "    <tr>\n",
       "      <th>2</th>\n",
       "      <td>56.0</td>\n",
       "      <td>Temple , TX</td>\n",
       "      <td>9/11/1960</td>\n",
       "      <td>Louisiana Tech</td>\n",
       "      <td>Retired</td>\n",
       "      <td>NaN</td>\n",
       "      <td>1 Season</td>\n",
       "      <td>74.0</td>\n",
       "      <td>NaN</td>\n",
       "      <td>NaN</td>\n",
       "      <td>Fowler, Bobby</td>\n",
       "      <td>NaN</td>\n",
       "      <td>bobbyfowler/2514295</td>\n",
       "      <td>NaN</td>\n",
       "      <td>230.0</td>\n",
       "      <td>1985 - 1985</td>\n",
       "    </tr>\n",
       "    <tr>\n",
       "      <th>3</th>\n",
       "      <td>30.0</td>\n",
       "      <td>New Orleans , LA</td>\n",
       "      <td>9/30/1986</td>\n",
       "      <td>LSU</td>\n",
       "      <td>Retired</td>\n",
       "      <td>NaN</td>\n",
       "      <td>5 Seasons</td>\n",
       "      <td>73.0</td>\n",
       "      <td>NaN</td>\n",
       "      <td>NaN</td>\n",
       "      <td>Johnson, Quinn</td>\n",
       "      <td>NaN</td>\n",
       "      <td>quinnjohnson/79593</td>\n",
       "      <td>NaN</td>\n",
       "      <td>255.0</td>\n",
       "      <td>2009 - 2013</td>\n",
       "    </tr>\n",
       "    <tr>\n",
       "      <th>4</th>\n",
       "      <td>25.0</td>\n",
       "      <td>Detroit , MI</td>\n",
       "      <td>3/31/1992</td>\n",
       "      <td>Central Michigan</td>\n",
       "      <td>Active</td>\n",
       "      <td>Pittsburgh Steelers</td>\n",
       "      <td>3rd season</td>\n",
       "      <td>77.0</td>\n",
       "      <td>Clintondale HS</td>\n",
       "      <td>Clinton Twp.,Macomb Co., MI</td>\n",
       "      <td>Walton, L.T.</td>\n",
       "      <td>96.0</td>\n",
       "      <td>l.t.walton/2552444</td>\n",
       "      <td>DE</td>\n",
       "      <td>305.0</td>\n",
       "      <td>NaN</td>\n",
       "    </tr>\n",
       "  </tbody>\n",
       "</table>\n",
       "</div>"
      ],
      "text/plain": [
       "    Age        Birth Place    Birthday           College Current Status  \\\n",
       "0   NaN  Grand Rapids , MI   5/23/1921        Notre Dame        Retired   \n",
       "1   NaN        Dayton , OH  12/21/1930            Dayton        Retired   \n",
       "2  56.0        Temple , TX   9/11/1960    Louisiana Tech        Retired   \n",
       "3  30.0   New Orleans , LA   9/30/1986               LSU        Retired   \n",
       "4  25.0       Detroit , MI   3/31/1992  Central Michigan         Active   \n",
       "\n",
       "          Current Team  Experience  Height (inches)     High School  \\\n",
       "0                  NaN   3 Seasons             71.0             NaN   \n",
       "1                  NaN    1 Season             70.0             NaN   \n",
       "2                  NaN    1 Season             74.0             NaN   \n",
       "3                  NaN   5 Seasons             73.0             NaN   \n",
       "4  Pittsburgh Steelers  3rd season             77.0  Clintondale HS   \n",
       "\n",
       "          High School Location            Name  Number            Player Id  \\\n",
       "0                          NaN     Evans, Fred     NaN    fredevans/2513736   \n",
       "1                          NaN      Raiff, Jim     NaN     jimraiff/2523700   \n",
       "2                          NaN   Fowler, Bobby     NaN  bobbyfowler/2514295   \n",
       "3                          NaN  Johnson, Quinn     NaN   quinnjohnson/79593   \n",
       "4  Clinton Twp.,Macomb Co., MI    Walton, L.T.    96.0   l.t.walton/2552444   \n",
       "\n",
       "  Position  Weight (lbs) Years Played  \n",
       "0      NaN         185.0  1946 - 1948  \n",
       "1      NaN         235.0  1954 - 1954  \n",
       "2      NaN         230.0  1985 - 1985  \n",
       "3      NaN         255.0  2009 - 2013  \n",
       "4       DE         305.0          NaN  "
      ]
     },
     "execution_count": 68,
     "metadata": {},
     "output_type": "execute_result"
    }
   ],
   "source": [
    "df_nfl.head()"
   ]
  },
  {
   "cell_type": "code",
   "execution_count": 69,
   "metadata": {},
   "outputs": [
    {
     "data": {
      "text/html": [
       "<div>\n",
       "<style scoped>\n",
       "    .dataframe tbody tr th:only-of-type {\n",
       "        vertical-align: middle;\n",
       "    }\n",
       "\n",
       "    .dataframe tbody tr th {\n",
       "        vertical-align: top;\n",
       "    }\n",
       "\n",
       "    .dataframe thead th {\n",
       "        text-align: right;\n",
       "    }\n",
       "</style>\n",
       "<table border=\"1\" class=\"dataframe\">\n",
       "  <thead>\n",
       "    <tr style=\"text-align: right;\">\n",
       "      <th></th>\n",
       "      <th>Unnamed: 0</th>\n",
       "      <th>player_name</th>\n",
       "      <th>team_abbreviation</th>\n",
       "      <th>age</th>\n",
       "      <th>player_height</th>\n",
       "      <th>player_weight</th>\n",
       "      <th>college</th>\n",
       "      <th>country</th>\n",
       "      <th>draft_year</th>\n",
       "      <th>draft_round</th>\n",
       "      <th>...</th>\n",
       "      <th>pts</th>\n",
       "      <th>reb</th>\n",
       "      <th>ast</th>\n",
       "      <th>net_rating</th>\n",
       "      <th>oreb_pct</th>\n",
       "      <th>dreb_pct</th>\n",
       "      <th>usg_pct</th>\n",
       "      <th>ts_pct</th>\n",
       "      <th>ast_pct</th>\n",
       "      <th>season</th>\n",
       "    </tr>\n",
       "  </thead>\n",
       "  <tbody>\n",
       "    <tr>\n",
       "      <th>0</th>\n",
       "      <td>0</td>\n",
       "      <td>Chris Robinson</td>\n",
       "      <td>VAN</td>\n",
       "      <td>23.0</td>\n",
       "      <td>195.58</td>\n",
       "      <td>90.71840</td>\n",
       "      <td>Western Kentucky</td>\n",
       "      <td>USA</td>\n",
       "      <td>1996</td>\n",
       "      <td>2</td>\n",
       "      <td>...</td>\n",
       "      <td>4.6</td>\n",
       "      <td>1.7</td>\n",
       "      <td>1.6</td>\n",
       "      <td>-11.4</td>\n",
       "      <td>0.039</td>\n",
       "      <td>0.088</td>\n",
       "      <td>0.155</td>\n",
       "      <td>0.486</td>\n",
       "      <td>0.156</td>\n",
       "      <td>1996-97</td>\n",
       "    </tr>\n",
       "    <tr>\n",
       "      <th>1</th>\n",
       "      <td>1</td>\n",
       "      <td>Matt Fish</td>\n",
       "      <td>MIA</td>\n",
       "      <td>27.0</td>\n",
       "      <td>210.82</td>\n",
       "      <td>106.59412</td>\n",
       "      <td>North Carolina-Wilmington</td>\n",
       "      <td>USA</td>\n",
       "      <td>1992</td>\n",
       "      <td>2</td>\n",
       "      <td>...</td>\n",
       "      <td>0.3</td>\n",
       "      <td>0.8</td>\n",
       "      <td>0.0</td>\n",
       "      <td>-15.1</td>\n",
       "      <td>0.143</td>\n",
       "      <td>0.267</td>\n",
       "      <td>0.265</td>\n",
       "      <td>0.333</td>\n",
       "      <td>0.000</td>\n",
       "      <td>1996-97</td>\n",
       "    </tr>\n",
       "    <tr>\n",
       "      <th>2</th>\n",
       "      <td>2</td>\n",
       "      <td>Matt Bullard</td>\n",
       "      <td>HOU</td>\n",
       "      <td>30.0</td>\n",
       "      <td>208.28</td>\n",
       "      <td>106.59412</td>\n",
       "      <td>Iowa</td>\n",
       "      <td>USA</td>\n",
       "      <td>Undrafted</td>\n",
       "      <td>Undrafted</td>\n",
       "      <td>...</td>\n",
       "      <td>4.5</td>\n",
       "      <td>1.6</td>\n",
       "      <td>0.9</td>\n",
       "      <td>0.9</td>\n",
       "      <td>0.016</td>\n",
       "      <td>0.115</td>\n",
       "      <td>0.151</td>\n",
       "      <td>0.535</td>\n",
       "      <td>0.099</td>\n",
       "      <td>1996-97</td>\n",
       "    </tr>\n",
       "    <tr>\n",
       "      <th>3</th>\n",
       "      <td>3</td>\n",
       "      <td>Marty Conlon</td>\n",
       "      <td>BOS</td>\n",
       "      <td>29.0</td>\n",
       "      <td>210.82</td>\n",
       "      <td>111.13004</td>\n",
       "      <td>Providence</td>\n",
       "      <td>USA</td>\n",
       "      <td>Undrafted</td>\n",
       "      <td>Undrafted</td>\n",
       "      <td>...</td>\n",
       "      <td>7.8</td>\n",
       "      <td>4.4</td>\n",
       "      <td>1.4</td>\n",
       "      <td>-9.0</td>\n",
       "      <td>0.083</td>\n",
       "      <td>0.152</td>\n",
       "      <td>0.167</td>\n",
       "      <td>0.542</td>\n",
       "      <td>0.101</td>\n",
       "      <td>1996-97</td>\n",
       "    </tr>\n",
       "    <tr>\n",
       "      <th>4</th>\n",
       "      <td>4</td>\n",
       "      <td>Martin Muursepp</td>\n",
       "      <td>DAL</td>\n",
       "      <td>22.0</td>\n",
       "      <td>205.74</td>\n",
       "      <td>106.59412</td>\n",
       "      <td>None</td>\n",
       "      <td>USA</td>\n",
       "      <td>1996</td>\n",
       "      <td>1</td>\n",
       "      <td>...</td>\n",
       "      <td>3.7</td>\n",
       "      <td>1.6</td>\n",
       "      <td>0.5</td>\n",
       "      <td>-14.5</td>\n",
       "      <td>0.109</td>\n",
       "      <td>0.118</td>\n",
       "      <td>0.233</td>\n",
       "      <td>0.482</td>\n",
       "      <td>0.114</td>\n",
       "      <td>1996-97</td>\n",
       "    </tr>\n",
       "  </tbody>\n",
       "</table>\n",
       "<p>5 rows × 22 columns</p>\n",
       "</div>"
      ],
      "text/plain": [
       "   Unnamed: 0      player_name team_abbreviation   age  player_height  \\\n",
       "0           0   Chris Robinson               VAN  23.0         195.58   \n",
       "1           1        Matt Fish               MIA  27.0         210.82   \n",
       "2           2     Matt Bullard               HOU  30.0         208.28   \n",
       "3           3     Marty Conlon               BOS  29.0         210.82   \n",
       "4           4  Martin Muursepp               DAL  22.0         205.74   \n",
       "\n",
       "   player_weight                    college country draft_year draft_round  \\\n",
       "0       90.71840           Western Kentucky     USA       1996           2   \n",
       "1      106.59412  North Carolina-Wilmington     USA       1992           2   \n",
       "2      106.59412                       Iowa     USA  Undrafted   Undrafted   \n",
       "3      111.13004                 Providence     USA  Undrafted   Undrafted   \n",
       "4      106.59412                       None     USA       1996           1   \n",
       "\n",
       "   ...  pts  reb  ast  net_rating  oreb_pct  dreb_pct  usg_pct  ts_pct  \\\n",
       "0  ...  4.6  1.7  1.6       -11.4     0.039     0.088    0.155   0.486   \n",
       "1  ...  0.3  0.8  0.0       -15.1     0.143     0.267    0.265   0.333   \n",
       "2  ...  4.5  1.6  0.9         0.9     0.016     0.115    0.151   0.535   \n",
       "3  ...  7.8  4.4  1.4        -9.0     0.083     0.152    0.167   0.542   \n",
       "4  ...  3.7  1.6  0.5       -14.5     0.109     0.118    0.233   0.482   \n",
       "\n",
       "   ast_pct   season  \n",
       "0    0.156  1996-97  \n",
       "1    0.000  1996-97  \n",
       "2    0.099  1996-97  \n",
       "3    0.101  1996-97  \n",
       "4    0.114  1996-97  \n",
       "\n",
       "[5 rows x 22 columns]"
      ]
     },
     "execution_count": 69,
     "metadata": {},
     "output_type": "execute_result"
    }
   ],
   "source": [
    "df_nba.head()"
   ]
  },
  {
   "cell_type": "code",
   "execution_count": 70,
   "metadata": {},
   "outputs": [
    {
     "data": {
      "text/html": [
       "<div>\n",
       "<style scoped>\n",
       "    .dataframe tbody tr th:only-of-type {\n",
       "        vertical-align: middle;\n",
       "    }\n",
       "\n",
       "    .dataframe tbody tr th {\n",
       "        vertical-align: top;\n",
       "    }\n",
       "\n",
       "    .dataframe thead th {\n",
       "        text-align: right;\n",
       "    }\n",
       "</style>\n",
       "<table border=\"1\" class=\"dataframe\">\n",
       "  <thead>\n",
       "    <tr style=\"text-align: right;\">\n",
       "      <th></th>\n",
       "      <th>edad</th>\n",
       "      <th>estatura</th>\n",
       "      <th>peso</th>\n",
       "    </tr>\n",
       "  </thead>\n",
       "  <tbody>\n",
       "    <tr>\n",
       "      <th>0</th>\n",
       "      <td>23.0</td>\n",
       "      <td>195.58</td>\n",
       "      <td>90.71840</td>\n",
       "    </tr>\n",
       "    <tr>\n",
       "      <th>1</th>\n",
       "      <td>27.0</td>\n",
       "      <td>210.82</td>\n",
       "      <td>106.59412</td>\n",
       "    </tr>\n",
       "    <tr>\n",
       "      <th>2</th>\n",
       "      <td>30.0</td>\n",
       "      <td>208.28</td>\n",
       "      <td>106.59412</td>\n",
       "    </tr>\n",
       "    <tr>\n",
       "      <th>3</th>\n",
       "      <td>29.0</td>\n",
       "      <td>210.82</td>\n",
       "      <td>111.13004</td>\n",
       "    </tr>\n",
       "    <tr>\n",
       "      <th>4</th>\n",
       "      <td>22.0</td>\n",
       "      <td>205.74</td>\n",
       "      <td>106.59412</td>\n",
       "    </tr>\n",
       "  </tbody>\n",
       "</table>\n",
       "</div>"
      ],
      "text/plain": [
       "   edad  estatura       peso\n",
       "0  23.0    195.58   90.71840\n",
       "1  27.0    210.82  106.59412\n",
       "2  30.0    208.28  106.59412\n",
       "3  29.0    210.82  111.13004\n",
       "4  22.0    205.74  106.59412"
      ]
     },
     "execution_count": 70,
     "metadata": {},
     "output_type": "execute_result"
    }
   ],
   "source": [
    "df_nba = df_nba[['age','player_height','player_weight']]\n",
    "df_nba.columns = ['edad', 'estatura', 'peso']\n",
    "df_nba.head()"
   ]
  },
  {
   "cell_type": "code",
   "execution_count": 71,
   "metadata": {},
   "outputs": [
    {
     "data": {
      "text/html": [
       "<div>\n",
       "<style scoped>\n",
       "    .dataframe tbody tr th:only-of-type {\n",
       "        vertical-align: middle;\n",
       "    }\n",
       "\n",
       "    .dataframe tbody tr th {\n",
       "        vertical-align: top;\n",
       "    }\n",
       "\n",
       "    .dataframe thead th {\n",
       "        text-align: right;\n",
       "    }\n",
       "</style>\n",
       "<table border=\"1\" class=\"dataframe\">\n",
       "  <thead>\n",
       "    <tr style=\"text-align: right;\">\n",
       "      <th></th>\n",
       "      <th>edad</th>\n",
       "      <th>estatura</th>\n",
       "      <th>peso</th>\n",
       "    </tr>\n",
       "  </thead>\n",
       "  <tbody>\n",
       "    <tr>\n",
       "      <th>2</th>\n",
       "      <td>56.0</td>\n",
       "      <td>187.96</td>\n",
       "      <td>104.32616</td>\n",
       "    </tr>\n",
       "    <tr>\n",
       "      <th>3</th>\n",
       "      <td>30.0</td>\n",
       "      <td>185.42</td>\n",
       "      <td>115.66596</td>\n",
       "    </tr>\n",
       "    <tr>\n",
       "      <th>4</th>\n",
       "      <td>25.0</td>\n",
       "      <td>195.58</td>\n",
       "      <td>138.34556</td>\n",
       "    </tr>\n",
       "    <tr>\n",
       "      <th>7</th>\n",
       "      <td>22.0</td>\n",
       "      <td>195.58</td>\n",
       "      <td>113.39800</td>\n",
       "    </tr>\n",
       "    <tr>\n",
       "      <th>11</th>\n",
       "      <td>56.0</td>\n",
       "      <td>175.26</td>\n",
       "      <td>81.64656</td>\n",
       "    </tr>\n",
       "  </tbody>\n",
       "</table>\n",
       "</div>"
      ],
      "text/plain": [
       "    edad  estatura       peso\n",
       "2   56.0    187.96  104.32616\n",
       "3   30.0    185.42  115.66596\n",
       "4   25.0    195.58  138.34556\n",
       "7   22.0    195.58  113.39800\n",
       "11  56.0    175.26   81.64656"
      ]
     },
     "execution_count": 71,
     "metadata": {},
     "output_type": "execute_result"
    }
   ],
   "source": [
    "df_nfl = df_nfl[['Age', 'Height (inches)', 'Weight (lbs)']]\n",
    "df_nfl.columns = ['edad', 'estatura', 'peso']\n",
    "df_nfl['estatura'] = df_nfl['estatura']*2.54\n",
    "df_nfl['peso'] = df_nfl['peso']*0.453592\n",
    "df_nfl = df_nfl[df_nfl['edad'] < 80]\n",
    "df_nfl.head()"
   ]
  },
  {
   "cell_type": "code",
   "execution_count": 72,
   "metadata": {},
   "outputs": [],
   "source": [
    "df_nba.dropna(inplace=True)\n",
    "df_nfl.dropna(inplace=True)"
   ]
  },
  {
   "cell_type": "code",
   "execution_count": 73,
   "metadata": {},
   "outputs": [
    {
     "data": {
      "text/html": [
       "<div>\n",
       "<style scoped>\n",
       "    .dataframe tbody tr th:only-of-type {\n",
       "        vertical-align: middle;\n",
       "    }\n",
       "\n",
       "    .dataframe tbody tr th {\n",
       "        vertical-align: top;\n",
       "    }\n",
       "\n",
       "    .dataframe thead th {\n",
       "        text-align: right;\n",
       "    }\n",
       "</style>\n",
       "<table border=\"1\" class=\"dataframe\">\n",
       "  <thead>\n",
       "    <tr style=\"text-align: right;\">\n",
       "      <th></th>\n",
       "      <th>edad</th>\n",
       "      <th>estatura</th>\n",
       "      <th>peso</th>\n",
       "    </tr>\n",
       "  </thead>\n",
       "  <tbody>\n",
       "    <tr>\n",
       "      <th>edad</th>\n",
       "      <td>1.000000</td>\n",
       "      <td>-0.016669</td>\n",
       "      <td>0.033497</td>\n",
       "    </tr>\n",
       "    <tr>\n",
       "      <th>estatura</th>\n",
       "      <td>-0.016669</td>\n",
       "      <td>1.000000</td>\n",
       "      <td>0.835145</td>\n",
       "    </tr>\n",
       "    <tr>\n",
       "      <th>peso</th>\n",
       "      <td>0.033497</td>\n",
       "      <td>0.835145</td>\n",
       "      <td>1.000000</td>\n",
       "    </tr>\n",
       "  </tbody>\n",
       "</table>\n",
       "</div>"
      ],
      "text/plain": [
       "              edad  estatura      peso\n",
       "edad      1.000000 -0.016669  0.033497\n",
       "estatura -0.016669  1.000000  0.835145\n",
       "peso      0.033497  0.835145  1.000000"
      ]
     },
     "execution_count": 73,
     "metadata": {},
     "output_type": "execute_result"
    }
   ],
   "source": [
    "df_nba.corr()"
   ]
  },
  {
   "cell_type": "code",
   "execution_count": 74,
   "metadata": {},
   "outputs": [
    {
     "data": {
      "text/html": [
       "<div>\n",
       "<style scoped>\n",
       "    .dataframe tbody tr th:only-of-type {\n",
       "        vertical-align: middle;\n",
       "    }\n",
       "\n",
       "    .dataframe tbody tr th {\n",
       "        vertical-align: top;\n",
       "    }\n",
       "\n",
       "    .dataframe thead th {\n",
       "        text-align: right;\n",
       "    }\n",
       "</style>\n",
       "<table border=\"1\" class=\"dataframe\">\n",
       "  <thead>\n",
       "    <tr style=\"text-align: right;\">\n",
       "      <th></th>\n",
       "      <th>edad</th>\n",
       "      <th>estatura</th>\n",
       "      <th>peso</th>\n",
       "    </tr>\n",
       "  </thead>\n",
       "  <tbody>\n",
       "    <tr>\n",
       "      <th>edad</th>\n",
       "      <td>1.000000</td>\n",
       "      <td>-0.021969</td>\n",
       "      <td>-0.200734</td>\n",
       "    </tr>\n",
       "    <tr>\n",
       "      <th>estatura</th>\n",
       "      <td>-0.021969</td>\n",
       "      <td>1.000000</td>\n",
       "      <td>0.699486</td>\n",
       "    </tr>\n",
       "    <tr>\n",
       "      <th>peso</th>\n",
       "      <td>-0.200734</td>\n",
       "      <td>0.699486</td>\n",
       "      <td>1.000000</td>\n",
       "    </tr>\n",
       "  </tbody>\n",
       "</table>\n",
       "</div>"
      ],
      "text/plain": [
       "              edad  estatura      peso\n",
       "edad      1.000000 -0.021969 -0.200734\n",
       "estatura -0.021969  1.000000  0.699486\n",
       "peso     -0.200734  0.699486  1.000000"
      ]
     },
     "execution_count": 74,
     "metadata": {},
     "output_type": "execute_result"
    }
   ],
   "source": [
    "df_nfl.corr()"
   ]
  },
  {
   "cell_type": "code",
   "execution_count": 75,
   "metadata": {},
   "outputs": [
    {
     "data": {
      "image/png": "[encoded data removed]",
      "text/plain": [
       "<Figure size 432x288 with 4 Axes>"
      ]
     },
     "metadata": {
      "needs_background": "light"
     },
     "output_type": "display_data"
    }
   ],
   "source": [
    "df_nba.hist(bins=20, density=True)\n",
    "None"
   ]
  },
  {
   "cell_type": "code",
   "execution_count": 76,
   "metadata": {},
   "outputs": [
    {
     "data": {
      "image/png": "[encoded data removed]",
      "text/plain": [
       "<Figure size 432x288 with 4 Axes>"
      ]
     },
     "metadata": {
      "needs_background": "light"
     },
     "output_type": "display_data"
    }
   ],
   "source": [
    "df_nfl.hist(bins=20, density=True)\n",
    "None"
   ]
  },
  {
   "cell_type": "code",
   "execution_count": 77,
   "metadata": {},
   "outputs": [
    {
     "data": {
      "text/plain": [
       "[<matplotlib.lines.Line2D at 0x257d1d9a9e8>]"
      ]
     },
     "execution_count": 77,
     "metadata": {},
     "output_type": "execute_result"
    },
    {
     "data": {
      "image/png": "[encoded data removed]",
      "text/plain": [
       "<Figure size 432x288 with 1 Axes>"
      ]
     },
     "metadata": {
      "needs_background": "light"
     },
     "output_type": "display_data"
    }
   ],
   "source": [
    "muestra_nba = df_nba.sample(400)\n",
    "muestra_nfl = df_nfl.sample(400)\n",
    "plt.plot(muestra_nba['estatura'], muestra_nba['peso'], '.', alpha=.5, color='blue')\n",
    "plt.plot(muestra_nfl['estatura'], muestra_nfl['peso'], '.', alpha=.5, color='green')"
   ]
  },
  {
   "cell_type": "code",
   "execution_count": 78,
   "metadata": {},
   "outputs": [
    {
     "data": {
      "text/plain": [
       "[<matplotlib.lines.Line2D at 0x257d14822b0>]"
      ]
     },
     "execution_count": 78,
     "metadata": {},
     "output_type": "execute_result"
    },
    {
     "data": {
      "image/png": "[encoded data removed]",
      "text/plain": [
       "<Figure size 432x288 with 1 Axes>"
      ]
     },
     "metadata": {
      "needs_background": "light"
     },
     "output_type": "display_data"
    }
   ],
   "source": [
    "muestra_nba = df_nba.sample(400)\n",
    "muestra_nfl = df_nfl.sample(400)\n",
    "plt.plot(muestra_nba['peso'],muestra_nba['estatura'], '.', alpha=.5, color='blue')\n",
    "plt.plot(muestra_nfl['peso'],muestra_nfl['estatura'], '.', alpha=.5, color='green')"
   ]
  },
  {
   "cell_type": "markdown",
   "metadata": {},
   "source": [
    "Si r es el coeficiente de relación de Pearson , la r^2 (A veces escrita en mayuscula como R^2) es un valor entre 0 y 1 que nos indica el poder explicativo de una variable en terminos de la otra"
   ]
  },
  {
   "cell_type": "code",
   "execution_count": 79,
   "metadata": {},
   "outputs": [
    {
     "data": {
      "text/plain": [
       "0.697467171025"
      ]
     },
     "execution_count": 79,
     "metadata": {},
     "output_type": "execute_result"
    }
   ],
   "source": [
    "0.835145**2"
   ]
  },
  {
   "cell_type": "markdown",
   "metadata": {},
   "source": [
    "# Reconciliación de datos\n",
    "\n",
    "Los datos generalmente presentan muchos tipos de problemas:\n",
    "- A veces faltan datos (NA) quizá por que los encuestados no respondieron algunas preguntas.\n",
    "- Algunas ocasiones los datos están mal codificados, haciendo que, por ejeplo, una fecha aparezca en el lugar del peso de un jugador de la NFL\n",
    "- Otras ocasiones los encuestadores tienen límites máximos respecto a los valores que pueden codificar, así, personas de más de 100 años se les pone 99.\n",
    "- A veces en un conjunto de datos se usa el sistema métrico decimal y en otros el sistema inglés.\n",
    "\n",
    "Arreglar estos problemas se le conoce como reconsiliación de datos o *limpieza de datos*."
   ]
  },
  {
   "cell_type": "markdown",
   "metadata": {},
   "source": [
    "## 1. Lenguajes y software para ciencia de datos\n",
    "- [Python](https://youtu.be/fk8ATuMUltU). Es básicamente el estándar, y sigue ganando popularidad.\n",
    "- [R](https://cran.r-project.org/). Fue el lenguaje dominante para hacer estadística hasta hace poco.\n",
    "- [Microsoft Excel](https://products.office.com/es-MX/). Es el caballito de batalla para limpiar datos.\n",
    "\n",
    "**Menciones honoríficas**\n",
    "- [SAS](https://www.sas.com/es_mx/home.html). Líder en la industria de Analítica (según ellos). Es un software con su propio lenguaje de dominio.\n",
    "- [SPSS](https://www.ibm.com/analytics/mx/es/technology/spss/index.html). Es una interfaz gráfica para usar métodos de estadística y aprendizaje automático.\n",
    "- [Matlab](https://www.mathworks.com/products/matlab.html). Entorno de desarrollo para cómputo científico.\n",
    "- [Mathematica](https://www.wolfram.com/mathematica/). Un sistema de álgebra computacional con esteroides. Hace de todo, pero no es específico de ciencia de datos."
   ]
  },
  {
   "cell_type": "markdown",
   "metadata": {},
   "source": [
    "## Tecnologías para almacenar datos\n",
    "Se le da preferencia a las tecnologías opensource sobre los formatos propietarios.\n",
    "- CSV. Significa valores separados por comas por sus siglas en inglés. Está regido por https://tools.ietf.org/html/rfc4180\n",
    "- JSON. Es la manera en que se transportan estructuras de datos de JavaScript a través de Internet. Especificación: https://tools.ietf.org/html/rfc4627\n",
    "- XML. Inspirado en HTML y popular en Java. Sumamente verbal. \n",
    "- SQLite. Es un sistema de base de datos de cero configuración, se usa en Android, aplicaciones de escritorio, y es recomendado como estándar por el gobierno de USA."
   ]
  },
  {
   "cell_type": "code",
   "execution_count": 80,
   "metadata": {},
   "outputs": [],
   "source": [
    "con = sqlite3.connect('Datos/ejemplo.db')"
   ]
  },
  {
   "cell_type": "code",
   "execution_count": 81,
   "metadata": {},
   "outputs": [
    {
     "data": {
      "text/plain": [
       "<sqlite3.Cursor at 0x257d4fbef10>"
      ]
     },
     "execution_count": 81,
     "metadata": {},
     "output_type": "execute_result"
    }
   ],
   "source": [
    "con.execute('DROP TABLE ejemplo')\n",
    "con.execute('''\n",
    "    CREATE TABLE ejemplo (\n",
    "        campo1 INTEGER ,\n",
    "        campo2 REAL,\n",
    "        campo3 TEXT,\n",
    "    PRIMARY KEY (campo1)) \n",
    "''')"
   ]
  },
  {
   "cell_type": "code",
   "execution_count": 82,
   "metadata": {},
   "outputs": [],
   "source": [
    "tabla_aleatoria = pd.DataFrame({\n",
    "    'campo1': range(1,101),\n",
    "    'campo2': np.random.random(size=100),\n",
    "    'campo3': 'Hola'\n",
    "})"
   ]
  },
  {
   "cell_type": "code",
   "execution_count": 83,
   "metadata": {},
   "outputs": [],
   "source": [
    "renglones = tabla_aleatoria.to_records(index=False)\n",
    "renglones = [(int(a),float(b),str(c)) for (a,b,c) in renglones]"
   ]
  },
  {
   "cell_type": "code",
   "execution_count": 84,
   "metadata": {},
   "outputs": [],
   "source": [
    "campo1 = range(1, 101)\n",
    "campo2 = [random.random() for k in range(100)]\n",
    "campo3 = ['Hola' for k in range(100)]"
   ]
  },
  {
   "cell_type": "code",
   "execution_count": 85,
   "metadata": {},
   "outputs": [],
   "source": [
    "for renglon in zip(campo1, campo2, campo3):\n",
    "    con.execute(\n",
    "        '''\n",
    "        INSERT INTO ejemplo\n",
    "        VALUES (?, ?, ?)\n",
    "        ''',\n",
    "        renglon)\n",
    "con.commit()"
   ]
  },
  {
   "cell_type": "code",
   "execution_count": 86,
   "metadata": {},
   "outputs": [
    {
     "data": {
      "text/plain": [
       "[(4, 0.9562311296767627, 'Hola'),\n",
       " (11, 0.9031442569314988, 'Hola'),\n",
       " (41, 0.9969206722005092, 'Hola'),\n",
       " (42, 0.9273098948855493, 'Hola'),\n",
       " (45, 0.9186162003398078, 'Hola'),\n",
       " (67, 0.947328159360771, 'Hola'),\n",
       " (78, 0.9818080005243937, 'Hola'),\n",
       " (85, 0.9133167720298105, 'Hola'),\n",
       " (86, 0.9194046941952848, 'Hola')]"
      ]
     },
     "execution_count": 86,
     "metadata": {},
     "output_type": "execute_result"
    }
   ],
   "source": [
    "list(con.execute('SELECT * FROM ejemplo WHERE campo2 > 0.9'))"
   ]
  },
  {
   "cell_type": "markdown",
   "metadata": {},
   "source": [
    "## Detección de errores y artefactos en los datos"
   ]
  },
  {
   "cell_type": "markdown",
   "metadata": {},
   "source": [
    "- **Errores**: datos que están permanentemente inaccesibles.\n",
    "- **Artefactos**: datos que presentan problemas sistemáticos que surgen de del procesamiento, codificación, etc."
   ]
  },
  {
   "cell_type": "markdown",
   "metadata": {},
   "source": [
    "# Scores and rankings"
   ]
  },
  {
   "cell_type": "markdown",
   "metadata": {},
   "source": [
    "- Score: Calificación numérica que se calcula a partir de varios atributos(columnas) a cada caso(renglón).\n",
    "- Ranking: Ordenamiento de los casos(renglones) de acuerdo a algún criterio."
   ]
  },
  {
   "cell_type": "markdown",
   "metadata": {},
   "source": [
    "## Score\n",
    "- Generalmente son combinaciones lineales de los atributos.\n",
    "\n",
    "**Ejemplos**\n",
    "- Calificaciones de cada persona en la universidad\n",
    "- Calificaciones de Steam, que agrega la historia, la jugabulidad, los personajes, etc.\n",
    "- Indice de masa corporal: $\\frac{peso}{estatura_{}^2}$"
   ]
  },
  {
   "cell_type": "code",
   "execution_count": 87,
   "metadata": {},
   "outputs": [
    {
     "data": {
      "text/html": [
       "<div>\n",
       "<style scoped>\n",
       "    .dataframe tbody tr th:only-of-type {\n",
       "        vertical-align: middle;\n",
       "    }\n",
       "\n",
       "    .dataframe tbody tr th {\n",
       "        vertical-align: top;\n",
       "    }\n",
       "\n",
       "    .dataframe thead th {\n",
       "        text-align: right;\n",
       "    }\n",
       "</style>\n",
       "<table border=\"1\" class=\"dataframe\">\n",
       "  <thead>\n",
       "    <tr style=\"text-align: right;\">\n",
       "      <th></th>\n",
       "      <th>estatura</th>\n",
       "      <th>peso</th>\n",
       "    </tr>\n",
       "  </thead>\n",
       "  <tbody>\n",
       "    <tr>\n",
       "      <th>0</th>\n",
       "      <td>1.8034</td>\n",
       "      <td>83.900227</td>\n",
       "    </tr>\n",
       "    <tr>\n",
       "      <th>1</th>\n",
       "      <td>1.7780</td>\n",
       "      <td>106.575964</td>\n",
       "    </tr>\n",
       "    <tr>\n",
       "      <th>2</th>\n",
       "      <td>1.8796</td>\n",
       "      <td>104.308390</td>\n",
       "    </tr>\n",
       "    <tr>\n",
       "      <th>3</th>\n",
       "      <td>1.8542</td>\n",
       "      <td>115.646259</td>\n",
       "    </tr>\n",
       "    <tr>\n",
       "      <th>4</th>\n",
       "      <td>1.9558</td>\n",
       "      <td>138.321995</td>\n",
       "    </tr>\n",
       "  </tbody>\n",
       "</table>\n",
       "</div>"
      ],
      "text/plain": [
       "   estatura        peso\n",
       "0    1.8034   83.900227\n",
       "1    1.7780  106.575964\n",
       "2    1.8796  104.308390\n",
       "3    1.8542  115.646259\n",
       "4    1.9558  138.321995"
      ]
     },
     "execution_count": 87,
     "metadata": {},
     "output_type": "execute_result"
    }
   ],
   "source": [
    "nfl = pd.read_csv(\"Kaggle/nfl.csv\")\n",
    "nfl = nfl[['Height (inches)', 'Weight (lbs)']]\n",
    "estatura=nfl['Height (inches)'].dropna()\n",
    "peso = nfl['Weight (lbs)'].dropna()\n",
    "nfl.columns = ['estatura', 'peso']\n",
    "nfl['estatura'] = 2.54*nfl['estatura']/100\n",
    "nfl['peso'] = nfl['peso']/2.205\n",
    "nfl = nfl.dropna()\n",
    "nfl.head()"
   ]
  },
  {
   "cell_type": "code",
   "execution_count": 88,
   "metadata": {},
   "outputs": [
    {
     "data": {
      "text/html": [
       "<div>\n",
       "<style scoped>\n",
       "    .dataframe tbody tr th:only-of-type {\n",
       "        vertical-align: middle;\n",
       "    }\n",
       "\n",
       "    .dataframe tbody tr th {\n",
       "        vertical-align: top;\n",
       "    }\n",
       "\n",
       "    .dataframe thead th {\n",
       "        text-align: right;\n",
       "    }\n",
       "</style>\n",
       "<table border=\"1\" class=\"dataframe\">\n",
       "  <thead>\n",
       "    <tr style=\"text-align: right;\">\n",
       "      <th></th>\n",
       "      <th>estatura</th>\n",
       "      <th>peso</th>\n",
       "      <th>imc</th>\n",
       "    </tr>\n",
       "  </thead>\n",
       "  <tbody>\n",
       "    <tr>\n",
       "      <th>0</th>\n",
       "      <td>1.8034</td>\n",
       "      <td>83.900227</td>\n",
       "      <td>25.797582</td>\n",
       "    </tr>\n",
       "    <tr>\n",
       "      <th>1</th>\n",
       "      <td>1.7780</td>\n",
       "      <td>106.575964</td>\n",
       "      <td>33.712872</td>\n",
       "    </tr>\n",
       "    <tr>\n",
       "      <th>2</th>\n",
       "      <td>1.8796</td>\n",
       "      <td>104.308390</td>\n",
       "      <td>29.524896</td>\n",
       "    </tr>\n",
       "    <tr>\n",
       "      <th>3</th>\n",
       "      <td>1.8542</td>\n",
       "      <td>115.646259</td>\n",
       "      <td>33.637091</td>\n",
       "    </tr>\n",
       "    <tr>\n",
       "      <th>4</th>\n",
       "      <td>1.9558</td>\n",
       "      <td>138.321995</td>\n",
       "      <td>36.161161</td>\n",
       "    </tr>\n",
       "  </tbody>\n",
       "</table>\n",
       "</div>"
      ],
      "text/plain": [
       "   estatura        peso        imc\n",
       "0    1.8034   83.900227  25.797582\n",
       "1    1.7780  106.575964  33.712872\n",
       "2    1.8796  104.308390  29.524896\n",
       "3    1.8542  115.646259  33.637091\n",
       "4    1.9558  138.321995  36.161161"
      ]
     },
     "execution_count": 88,
     "metadata": {},
     "output_type": "execute_result"
    }
   ],
   "source": [
    "nfl['imc'] = nfl['peso']/nfl['estatura']**2\n",
    "nfl.head()"
   ]
  },
  {
   "cell_type": "code",
   "execution_count": 89,
   "metadata": {},
   "outputs": [],
   "source": [
    "def categorizar(imc):\n",
    "    if imc < 18.5:\n",
    "        return 'Bajo de peso'\n",
    "    if imc < 25:\n",
    "        return 'Normal'\n",
    "    if imc < 30:\n",
    "        return 'Sobrepeso'\n",
    "    return 'Obesidad'"
   ]
  },
  {
   "cell_type": "code",
   "execution_count": 90,
   "metadata": {},
   "outputs": [
    {
     "data": {
      "text/html": [
       "<div>\n",
       "<style scoped>\n",
       "    .dataframe tbody tr th:only-of-type {\n",
       "        vertical-align: middle;\n",
       "    }\n",
       "\n",
       "    .dataframe tbody tr th {\n",
       "        vertical-align: top;\n",
       "    }\n",
       "\n",
       "    .dataframe thead th {\n",
       "        text-align: right;\n",
       "    }\n",
       "</style>\n",
       "<table border=\"1\" class=\"dataframe\">\n",
       "  <thead>\n",
       "    <tr style=\"text-align: right;\">\n",
       "      <th></th>\n",
       "      <th>estatura</th>\n",
       "      <th>peso</th>\n",
       "      <th>imc</th>\n",
       "      <th>status</th>\n",
       "    </tr>\n",
       "  </thead>\n",
       "  <tbody>\n",
       "    <tr>\n",
       "      <th>0</th>\n",
       "      <td>1.8034</td>\n",
       "      <td>83.900227</td>\n",
       "      <td>25.797582</td>\n",
       "      <td>Sobrepeso</td>\n",
       "    </tr>\n",
       "    <tr>\n",
       "      <th>1</th>\n",
       "      <td>1.7780</td>\n",
       "      <td>106.575964</td>\n",
       "      <td>33.712872</td>\n",
       "      <td>Obesidad</td>\n",
       "    </tr>\n",
       "    <tr>\n",
       "      <th>2</th>\n",
       "      <td>1.8796</td>\n",
       "      <td>104.308390</td>\n",
       "      <td>29.524896</td>\n",
       "      <td>Sobrepeso</td>\n",
       "    </tr>\n",
       "    <tr>\n",
       "      <th>3</th>\n",
       "      <td>1.8542</td>\n",
       "      <td>115.646259</td>\n",
       "      <td>33.637091</td>\n",
       "      <td>Obesidad</td>\n",
       "    </tr>\n",
       "    <tr>\n",
       "      <th>4</th>\n",
       "      <td>1.9558</td>\n",
       "      <td>138.321995</td>\n",
       "      <td>36.161161</td>\n",
       "      <td>Obesidad</td>\n",
       "    </tr>\n",
       "  </tbody>\n",
       "</table>\n",
       "</div>"
      ],
      "text/plain": [
       "   estatura        peso        imc     status\n",
       "0    1.8034   83.900227  25.797582  Sobrepeso\n",
       "1    1.7780  106.575964  33.712872   Obesidad\n",
       "2    1.8796  104.308390  29.524896  Sobrepeso\n",
       "3    1.8542  115.646259  33.637091   Obesidad\n",
       "4    1.9558  138.321995  36.161161   Obesidad"
      ]
     },
     "execution_count": 90,
     "metadata": {},
     "output_type": "execute_result"
    }
   ],
   "source": [
    "nfl['status'] = nfl['imc'].map(categorizar)\n",
    "nfl.head()"
   ]
  },
  {
   "cell_type": "code",
   "execution_count": 91,
   "metadata": {},
   "outputs": [
    {
     "data": {
      "image/png": "[encoded data removed]",
      "text/plain": [
       "<Figure size 432x288 with 1 Axes>"
      ]
     },
     "metadata": {},
     "output_type": "display_data"
    }
   ],
   "source": [
    "sns.set_style('ticks')\n",
    "sns.set_context('paper')\n",
    "sns.scatterplot(x='peso', y='estatura', hue='status', data=nfl)\n",
    "sns.despine()"
   ]
  },
  {
   "cell_type": "code",
   "execution_count": 92,
   "metadata": {},
   "outputs": [
    {
     "data": {
      "text/html": [
       "<div>\n",
       "<style scoped>\n",
       "    .dataframe tbody tr th:only-of-type {\n",
       "        vertical-align: middle;\n",
       "    }\n",
       "\n",
       "    .dataframe tbody tr th {\n",
       "        vertical-align: top;\n",
       "    }\n",
       "\n",
       "    .dataframe thead th {\n",
       "        text-align: right;\n",
       "    }\n",
       "</style>\n",
       "<table border=\"1\" class=\"dataframe\">\n",
       "  <thead>\n",
       "    <tr style=\"text-align: right;\">\n",
       "      <th></th>\n",
       "      <th>estatura</th>\n",
       "      <th>peso</th>\n",
       "      <th>imc</th>\n",
       "      <th>status</th>\n",
       "    </tr>\n",
       "  </thead>\n",
       "  <tbody>\n",
       "    <tr>\n",
       "      <th>0</th>\n",
       "      <td>1.9558</td>\n",
       "      <td>90.71840</td>\n",
       "      <td>23.716276</td>\n",
       "      <td>Normal</td>\n",
       "    </tr>\n",
       "    <tr>\n",
       "      <th>1</th>\n",
       "      <td>2.1082</td>\n",
       "      <td>106.59412</td>\n",
       "      <td>23.983338</td>\n",
       "      <td>Normal</td>\n",
       "    </tr>\n",
       "    <tr>\n",
       "      <th>2</th>\n",
       "      <td>2.0828</td>\n",
       "      <td>106.59412</td>\n",
       "      <td>24.571864</td>\n",
       "      <td>Normal</td>\n",
       "    </tr>\n",
       "    <tr>\n",
       "      <th>3</th>\n",
       "      <td>2.1082</td>\n",
       "      <td>111.13004</td>\n",
       "      <td>25.003906</td>\n",
       "      <td>Sobrepeso</td>\n",
       "    </tr>\n",
       "    <tr>\n",
       "      <th>4</th>\n",
       "      <td>2.0574</td>\n",
       "      <td>106.59412</td>\n",
       "      <td>25.182322</td>\n",
       "      <td>Sobrepeso</td>\n",
       "    </tr>\n",
       "  </tbody>\n",
       "</table>\n",
       "</div>"
      ],
      "text/plain": [
       "   estatura       peso        imc     status\n",
       "0    1.9558   90.71840  23.716276     Normal\n",
       "1    2.1082  106.59412  23.983338     Normal\n",
       "2    2.0828  106.59412  24.571864     Normal\n",
       "3    2.1082  111.13004  25.003906  Sobrepeso\n",
       "4    2.0574  106.59412  25.182322  Sobrepeso"
      ]
     },
     "execution_count": 92,
     "metadata": {},
     "output_type": "execute_result"
    }
   ],
   "source": [
    "nba = pd.read_csv('Kaggle/nba.csv', index_col=0)\n",
    "nba = nba[['player_height', 'player_weight']]\n",
    "nba.columns = ['estatura', 'peso']\n",
    "nba['estatura'] /= 100\n",
    "nba['imc'] = nba['peso']/nba['estatura']**2\n",
    "nba['status'] = nba['imc'].map(categorizar)\n",
    "nba.head()"
   ]
  },
  {
   "cell_type": "code",
   "execution_count": 93,
   "metadata": {},
   "outputs": [
    {
     "data": {
      "text/plain": [
       "<matplotlib.axes._subplots.AxesSubplot at 0x257d521d128>"
      ]
     },
     "execution_count": 93,
     "metadata": {},
     "output_type": "execute_result"
    },
    {
     "data": {
      "image/png": "[encoded data removed]",
      "text/plain": [
       "<Figure size 432x288 with 1 Axes>"
      ]
     },
     "metadata": {},
     "output_type": "display_data"
    }
   ],
   "source": [
    "sns.scatterplot(x='peso', y='estatura', hue='status', alpha=0.1, data=nba)"
   ]
  },
  {
   "cell_type": "code",
   "execution_count": 94,
   "metadata": {},
   "outputs": [
    {
     "data": {
      "text/plain": [
       "<matplotlib.axes._subplots.AxesSubplot at 0x257d22550b8>"
      ]
     },
     "execution_count": 94,
     "metadata": {},
     "output_type": "execute_result"
    },
    {
     "data": {
      "image/png": "[encoded data removed]",
      "text/plain": [
       "<Figure size 432x288 with 1 Axes>"
      ]
     },
     "metadata": {},
     "output_type": "display_data"
    }
   ],
   "source": [
    "nfl['origen'] = 'NFL'\n",
    "nba['origen'] = 'NBA'\n",
    "sns.scatterplot(x='peso', y='estatura', hue='origen', alpha=0.05, data=pd.concat([nfl, nba]))"
   ]
  },
  {
   "cell_type": "markdown",
   "metadata": {},
   "source": [
    "## Estándares y proxys"
   ]
  },
  {
   "cell_type": "markdown",
   "metadata": {},
   "source": [
    "- Estándar dorado: aquellos datos que consideramos como verdad absoluta y tangible. En el caso del IMC se trata de la medición exacta de la grasa corporal\n",
    "- Proxy (representante): son datos que aproximan una verdad, como medir qué tan importante es una persona por el número de enlaces en su página de Wikipedia."
   ]
  },
  {
   "cell_type": "markdown",
   "metadata": {},
   "source": [
    "## Scores vs. rankings"
   ]
  },
  {
   "cell_type": "code",
   "execution_count": 95,
   "metadata": {},
   "outputs": [
    {
     "data": {
      "text/plain": [
       "866      46.863283\n",
       "935      46.168557\n",
       "9753     46.103925\n",
       "14133    46.103925\n",
       "9287     45.968325\n",
       "15042    45.638153\n",
       "5890     44.988752\n",
       "13863    44.929189\n",
       "14794    44.929189\n",
       "438      44.863783\n",
       "861      44.849455\n",
       "13321    44.747927\n",
       "4903     44.460443\n",
       "2323     44.287343\n",
       "11599    44.287343\n",
       "6485     44.057994\n",
       "10760    44.030605\n",
       "10803    43.934328\n",
       "5112     43.926084\n",
       "4320     43.812626\n",
       "10789    43.739065\n",
       "3611     43.739065\n",
       "1056     43.739065\n",
       "14025    43.645498\n",
       "91       43.530353\n",
       "7317     43.530353\n",
       "11674    43.530353\n",
       "4660     43.527529\n",
       "14723    43.517129\n",
       "14914    43.388760\n",
       "           ...    \n",
       "12150    22.373963\n",
       "13165    22.373963\n",
       "12723    22.373963\n",
       "16965    22.373963\n",
       "5441     22.373963\n",
       "17025    22.336225\n",
       "10110    22.311422\n",
       "10645    22.311422\n",
       "4278     22.311422\n",
       "9896     22.311422\n",
       "16283    22.238364\n",
       "8090     22.236150\n",
       "11401    22.236150\n",
       "9244     22.147109\n",
       "15378    22.032530\n",
       "12426    21.967164\n",
       "16942    21.967164\n",
       "2399     21.952722\n",
       "7828     21.923122\n",
       "4514     21.893083\n",
       "10654    21.891153\n",
       "4913     21.831564\n",
       "6034     21.822749\n",
       "1113     21.614190\n",
       "215      21.560365\n",
       "5104     21.309272\n",
       "15384    21.289165\n",
       "16290    20.924165\n",
       "3841     20.892410\n",
       "1163      0.109836\n",
       "Name: imc, Length: 17022, dtype: float64"
      ]
     },
     "execution_count": 95,
     "metadata": {},
     "output_type": "execute_result"
    }
   ],
   "source": [
    "nfl['imc'].sort_values(ascending=False)"
   ]
  },
  {
   "cell_type": "markdown",
   "metadata": {},
   "source": [
    "### Z-score\n",
    "Es una forma de normalizar los datos de tal forma que la distribución tenga media 0 y desviación estandar 1 $$Z = \\frac{X- \\mu }{ \\sigma }$$"
   ]
  },
  {
   "cell_type": "code",
   "execution_count": 96,
   "metadata": {},
   "outputs": [],
   "source": [
    "def zscore(x):\n",
    "    mu = sum(x)/len(x)\n",
    "    std = (sum((x_i - mu)**2 for x_i in x)/(len(x) - 1))**0.5\n",
    "    z = [(x_i - mu)/std for x_i in x]\n",
    "    return z"
   ]
  },
  {
   "cell_type": "code",
   "execution_count": 97,
   "metadata": {},
   "outputs": [
    {
     "data": {
      "text/plain": [
       "array([-0.97316872, -1.36109617,  0.19061363, ..., -0.58524127,\n",
       "       -0.19731382, -0.19731382])"
      ]
     },
     "execution_count": 97,
     "metadata": {},
     "output_type": "execute_result"
    }
   ],
   "source": [
    "stats.zscore(nfl['estatura'])"
   ]
  },
  {
   "cell_type": "code",
   "execution_count": 98,
   "metadata": {},
   "outputs": [
    {
     "data": {
      "text/plain": [
       "[-0.7302967433402214,\n",
       " -1.0954451150103321,\n",
       " 0.3651483716701107,\n",
       " 0.0,\n",
       " 1.4605934866804429]"
      ]
     },
     "execution_count": 98,
     "metadata": {},
     "output_type": "execute_result"
    }
   ],
   "source": [
    "zscore(estatura[:5])"
   ]
  },
  {
   "cell_type": "markdown",
   "metadata": {},
   "source": [
    "## Elo Rankings\n",
    "La función *expit* es una función que transforma del intervalo $(-\\infty, \\infty)$ al $(0, 1)$. Se define por:\n",
    "$$f_c(x) = \\frac{1}{1 + \\mathrm{e}^{-c\\,x}}$$\n",
    "\n",
    "Su inversa es *logit*"
   ]
  },
  {
   "cell_type": "code",
   "execution_count": 99,
   "metadata": {},
   "outputs": [
    {
     "data": {
      "text/plain": [
       "[<matplotlib.lines.Line2D at 0x257d5162f60>]"
      ]
     },
     "execution_count": 99,
     "metadata": {},
     "output_type": "execute_result"
    },
    {
     "data": {
      "image/png": "[encoded data removed]",
      "text/plain": [
       "<Figure size 432x288 with 1 Axes>"
      ]
     },
     "metadata": {},
     "output_type": "display_data"
    }
   ],
   "source": [
    "c=3\n",
    "x = c*np.linspace(-5,5,num=100)\n",
    "y = special.expit(x)\n",
    "plt.plot(x,y)"
   ]
  },
  {
   "cell_type": "code",
   "execution_count": 100,
   "metadata": {},
   "outputs": [],
   "source": [
    "partidos = pathlib.Path('Kaggle/data')"
   ]
  },
  {
   "cell_type": "code",
   "execution_count": 101,
   "metadata": {},
   "outputs": [
    {
     "data": {
      "text/html": [
       "<div>\n",
       "<style scoped>\n",
       "    .dataframe tbody tr th:only-of-type {\n",
       "        vertical-align: middle;\n",
       "    }\n",
       "\n",
       "    .dataframe tbody tr th {\n",
       "        vertical-align: top;\n",
       "    }\n",
       "\n",
       "    .dataframe thead th {\n",
       "        text-align: right;\n",
       "    }\n",
       "</style>\n",
       "<table border=\"1\" class=\"dataframe\">\n",
       "  <thead>\n",
       "    <tr style=\"text-align: right;\">\n",
       "      <th></th>\n",
       "      <th>Date</th>\n",
       "      <th>HomeTeam</th>\n",
       "      <th>AwayTeam</th>\n",
       "      <th>FTHG</th>\n",
       "      <th>FTAG</th>\n",
       "      <th>FTR</th>\n",
       "      <th>HTHG</th>\n",
       "      <th>HTAG</th>\n",
       "      <th>HTR</th>\n",
       "      <th>HS</th>\n",
       "      <th>...</th>\n",
       "      <th>HST</th>\n",
       "      <th>AST</th>\n",
       "      <th>HF</th>\n",
       "      <th>AF</th>\n",
       "      <th>HC</th>\n",
       "      <th>AC</th>\n",
       "      <th>HY</th>\n",
       "      <th>AY</th>\n",
       "      <th>HR</th>\n",
       "      <th>AR</th>\n",
       "    </tr>\n",
       "  </thead>\n",
       "  <tbody>\n",
       "    <tr>\n",
       "      <th>0</th>\n",
       "      <td>2008-08-30</td>\n",
       "      <td>Espanol</td>\n",
       "      <td>Valladolid</td>\n",
       "      <td>1</td>\n",
       "      <td>0</td>\n",
       "      <td>H</td>\n",
       "      <td>0</td>\n",
       "      <td>0</td>\n",
       "      <td>D</td>\n",
       "      <td>10</td>\n",
       "      <td>...</td>\n",
       "      <td>2</td>\n",
       "      <td>1</td>\n",
       "      <td>18</td>\n",
       "      <td>17</td>\n",
       "      <td>1</td>\n",
       "      <td>9</td>\n",
       "      <td>3</td>\n",
       "      <td>5</td>\n",
       "      <td>0</td>\n",
       "      <td>0</td>\n",
       "    </tr>\n",
       "    <tr>\n",
       "      <th>1</th>\n",
       "      <td>2008-08-30</td>\n",
       "      <td>Valencia</td>\n",
       "      <td>Mallorca</td>\n",
       "      <td>3</td>\n",
       "      <td>0</td>\n",
       "      <td>H</td>\n",
       "      <td>2</td>\n",
       "      <td>0</td>\n",
       "      <td>H</td>\n",
       "      <td>17</td>\n",
       "      <td>...</td>\n",
       "      <td>6</td>\n",
       "      <td>2</td>\n",
       "      <td>17</td>\n",
       "      <td>14</td>\n",
       "      <td>5</td>\n",
       "      <td>6</td>\n",
       "      <td>4</td>\n",
       "      <td>0</td>\n",
       "      <td>0</td>\n",
       "      <td>0</td>\n",
       "    </tr>\n",
       "    <tr>\n",
       "      <th>2</th>\n",
       "      <td>2008-08-31</td>\n",
       "      <td>Ath Bilbao</td>\n",
       "      <td>Almeria</td>\n",
       "      <td>1</td>\n",
       "      <td>3</td>\n",
       "      <td>A</td>\n",
       "      <td>0</td>\n",
       "      <td>2</td>\n",
       "      <td>A</td>\n",
       "      <td>10</td>\n",
       "      <td>...</td>\n",
       "      <td>4</td>\n",
       "      <td>5</td>\n",
       "      <td>35</td>\n",
       "      <td>20</td>\n",
       "      <td>2</td>\n",
       "      <td>6</td>\n",
       "      <td>2</td>\n",
       "      <td>4</td>\n",
       "      <td>0</td>\n",
       "      <td>0</td>\n",
       "    </tr>\n",
       "    <tr>\n",
       "      <th>3</th>\n",
       "      <td>2008-08-31</td>\n",
       "      <td>Ath Madrid</td>\n",
       "      <td>Malaga</td>\n",
       "      <td>4</td>\n",
       "      <td>0</td>\n",
       "      <td>H</td>\n",
       "      <td>3</td>\n",
       "      <td>0</td>\n",
       "      <td>H</td>\n",
       "      <td>25</td>\n",
       "      <td>...</td>\n",
       "      <td>9</td>\n",
       "      <td>2</td>\n",
       "      <td>16</td>\n",
       "      <td>13</td>\n",
       "      <td>11</td>\n",
       "      <td>7</td>\n",
       "      <td>1</td>\n",
       "      <td>2</td>\n",
       "      <td>0</td>\n",
       "      <td>0</td>\n",
       "    </tr>\n",
       "    <tr>\n",
       "      <th>4</th>\n",
       "      <td>2008-08-31</td>\n",
       "      <td>Betis</td>\n",
       "      <td>Recreativo</td>\n",
       "      <td>0</td>\n",
       "      <td>1</td>\n",
       "      <td>A</td>\n",
       "      <td>0</td>\n",
       "      <td>1</td>\n",
       "      <td>A</td>\n",
       "      <td>8</td>\n",
       "      <td>...</td>\n",
       "      <td>2</td>\n",
       "      <td>6</td>\n",
       "      <td>17</td>\n",
       "      <td>18</td>\n",
       "      <td>2</td>\n",
       "      <td>2</td>\n",
       "      <td>3</td>\n",
       "      <td>1</td>\n",
       "      <td>0</td>\n",
       "      <td>0</td>\n",
       "    </tr>\n",
       "  </tbody>\n",
       "</table>\n",
       "<p>5 rows × 21 columns</p>\n",
       "</div>"
      ],
      "text/plain": [
       "        Date    HomeTeam    AwayTeam  FTHG  FTAG FTR  HTHG  HTAG HTR  HS  ...  \\\n",
       "0 2008-08-30     Espanol  Valladolid     1     0   H     0     0   D  10  ...   \n",
       "1 2008-08-30    Valencia    Mallorca     3     0   H     2     0   H  17  ...   \n",
       "2 2008-08-31  Ath Bilbao     Almeria     1     3   A     0     2   A  10  ...   \n",
       "3 2008-08-31  Ath Madrid      Malaga     4     0   H     3     0   H  25  ...   \n",
       "4 2008-08-31       Betis  Recreativo     0     1   A     0     1   A   8  ...   \n",
       "\n",
       "   HST  AST  HF  AF  HC  AC  HY  AY  HR  AR  \n",
       "0    2    1  18  17   1   9   3   5   0   0  \n",
       "1    6    2  17  14   5   6   4   0   0   0  \n",
       "2    4    5  35  20   2   6   2   4   0   0  \n",
       "3    9    2  16  13  11   7   1   2   0   0  \n",
       "4    2    6  17  18   2   2   3   1   0   0  \n",
       "\n",
       "[5 rows x 21 columns]"
      ]
     },
     "execution_count": 101,
     "metadata": {},
     "output_type": "execute_result"
    }
   ],
   "source": [
    "tablas=[]\n",
    "for archivo in partidos.iterdir():\n",
    "    if archivo.suffix!='.csv':continue\n",
    "    tablas.append(pd.read_csv(archivo,parse_dates=['Date'],dayfirst=True))\n",
    "df=pd.concat(tablas)\n",
    "#df = df[['HomeTeam','AwayTeam','FTHG','FTAG']]\n",
    "df =df.sort_values('Date')\n",
    "df.head()"
   ]
  },
  {
   "cell_type": "code",
   "execution_count": 102,
   "metadata": {},
   "outputs": [
    {
     "data": {
      "text/html": [
       "<div>\n",
       "<style scoped>\n",
       "    .dataframe tbody tr th:only-of-type {\n",
       "        vertical-align: middle;\n",
       "    }\n",
       "\n",
       "    .dataframe tbody tr th {\n",
       "        vertical-align: top;\n",
       "    }\n",
       "\n",
       "    .dataframe thead th {\n",
       "        text-align: right;\n",
       "    }\n",
       "</style>\n",
       "<table border=\"1\" class=\"dataframe\">\n",
       "  <thead>\n",
       "    <tr style=\"text-align: right;\">\n",
       "      <th></th>\n",
       "      <th>Date</th>\n",
       "      <th>HomeTeam</th>\n",
       "      <th>AwayTeam</th>\n",
       "      <th>FTHG</th>\n",
       "      <th>FTAG</th>\n",
       "      <th>FTR</th>\n",
       "      <th>HTHG</th>\n",
       "      <th>HTAG</th>\n",
       "      <th>HTR</th>\n",
       "      <th>HS</th>\n",
       "      <th>...</th>\n",
       "      <th>HST</th>\n",
       "      <th>AST</th>\n",
       "      <th>HF</th>\n",
       "      <th>AF</th>\n",
       "      <th>HC</th>\n",
       "      <th>AC</th>\n",
       "      <th>HY</th>\n",
       "      <th>AY</th>\n",
       "      <th>HR</th>\n",
       "      <th>AR</th>\n",
       "    </tr>\n",
       "  </thead>\n",
       "  <tbody>\n",
       "    <tr>\n",
       "      <th>227</th>\n",
       "      <td>2019-02-10</td>\n",
       "      <td>Sevilla</td>\n",
       "      <td>Eibar</td>\n",
       "      <td>2</td>\n",
       "      <td>2</td>\n",
       "      <td>D</td>\n",
       "      <td>0</td>\n",
       "      <td>1</td>\n",
       "      <td>A</td>\n",
       "      <td>13</td>\n",
       "      <td>...</td>\n",
       "      <td>4</td>\n",
       "      <td>4</td>\n",
       "      <td>11</td>\n",
       "      <td>7</td>\n",
       "      <td>9</td>\n",
       "      <td>7</td>\n",
       "      <td>4</td>\n",
       "      <td>2</td>\n",
       "      <td>1</td>\n",
       "      <td>0</td>\n",
       "    </tr>\n",
       "    <tr>\n",
       "      <th>228</th>\n",
       "      <td>2019-02-10</td>\n",
       "      <td>Valencia</td>\n",
       "      <td>Sociedad</td>\n",
       "      <td>0</td>\n",
       "      <td>0</td>\n",
       "      <td>D</td>\n",
       "      <td>0</td>\n",
       "      <td>0</td>\n",
       "      <td>D</td>\n",
       "      <td>10</td>\n",
       "      <td>...</td>\n",
       "      <td>4</td>\n",
       "      <td>1</td>\n",
       "      <td>11</td>\n",
       "      <td>18</td>\n",
       "      <td>7</td>\n",
       "      <td>5</td>\n",
       "      <td>2</td>\n",
       "      <td>4</td>\n",
       "      <td>0</td>\n",
       "      <td>0</td>\n",
       "    </tr>\n",
       "    <tr>\n",
       "      <th>225</th>\n",
       "      <td>2019-02-10</td>\n",
       "      <td>Ath Bilbao</td>\n",
       "      <td>Barcelona</td>\n",
       "      <td>0</td>\n",
       "      <td>0</td>\n",
       "      <td>D</td>\n",
       "      <td>0</td>\n",
       "      <td>0</td>\n",
       "      <td>D</td>\n",
       "      <td>13</td>\n",
       "      <td>...</td>\n",
       "      <td>5</td>\n",
       "      <td>2</td>\n",
       "      <td>23</td>\n",
       "      <td>10</td>\n",
       "      <td>6</td>\n",
       "      <td>4</td>\n",
       "      <td>4</td>\n",
       "      <td>2</td>\n",
       "      <td>1</td>\n",
       "      <td>0</td>\n",
       "    </tr>\n",
       "    <tr>\n",
       "      <th>226</th>\n",
       "      <td>2019-02-10</td>\n",
       "      <td>Leganes</td>\n",
       "      <td>Betis</td>\n",
       "      <td>3</td>\n",
       "      <td>0</td>\n",
       "      <td>H</td>\n",
       "      <td>2</td>\n",
       "      <td>0</td>\n",
       "      <td>H</td>\n",
       "      <td>16</td>\n",
       "      <td>...</td>\n",
       "      <td>4</td>\n",
       "      <td>1</td>\n",
       "      <td>22</td>\n",
       "      <td>11</td>\n",
       "      <td>4</td>\n",
       "      <td>4</td>\n",
       "      <td>4</td>\n",
       "      <td>2</td>\n",
       "      <td>0</td>\n",
       "      <td>1</td>\n",
       "    </tr>\n",
       "    <tr>\n",
       "      <th>229</th>\n",
       "      <td>2019-02-11</td>\n",
       "      <td>Alaves</td>\n",
       "      <td>Levante</td>\n",
       "      <td>2</td>\n",
       "      <td>0</td>\n",
       "      <td>H</td>\n",
       "      <td>1</td>\n",
       "      <td>0</td>\n",
       "      <td>H</td>\n",
       "      <td>16</td>\n",
       "      <td>...</td>\n",
       "      <td>4</td>\n",
       "      <td>0</td>\n",
       "      <td>14</td>\n",
       "      <td>18</td>\n",
       "      <td>3</td>\n",
       "      <td>10</td>\n",
       "      <td>3</td>\n",
       "      <td>2</td>\n",
       "      <td>0</td>\n",
       "      <td>0</td>\n",
       "    </tr>\n",
       "  </tbody>\n",
       "</table>\n",
       "<p>5 rows × 21 columns</p>\n",
       "</div>"
      ],
      "text/plain": [
       "          Date    HomeTeam   AwayTeam  FTHG  FTAG FTR  HTHG  HTAG HTR  HS  \\\n",
       "227 2019-02-10     Sevilla      Eibar     2     2   D     0     1   A  13   \n",
       "228 2019-02-10    Valencia   Sociedad     0     0   D     0     0   D  10   \n",
       "225 2019-02-10  Ath Bilbao  Barcelona     0     0   D     0     0   D  13   \n",
       "226 2019-02-10     Leganes      Betis     3     0   H     2     0   H  16   \n",
       "229 2019-02-11      Alaves    Levante     2     0   H     1     0   H  16   \n",
       "\n",
       "     ...  HST  AST  HF  AF  HC  AC  HY  AY  HR  AR  \n",
       "227  ...    4    4  11   7   9   7   4   2   1   0  \n",
       "228  ...    4    1  11  18   7   5   2   4   0   0  \n",
       "225  ...    5    2  23  10   6   4   4   2   1   0  \n",
       "226  ...    4    1  22  11   4   4   4   2   0   1  \n",
       "229  ...    4    0  14  18   3  10   3   2   0   0  \n",
       "\n",
       "[5 rows x 21 columns]"
      ]
     },
     "execution_count": 102,
     "metadata": {},
     "output_type": "execute_result"
    }
   ],
   "source": [
    "df.tail()"
   ]
  },
  {
   "cell_type": "code",
   "execution_count": 103,
   "metadata": {},
   "outputs": [
    {
     "data": {
      "text/html": [
       "<div>\n",
       "<style scoped>\n",
       "    .dataframe tbody tr th:only-of-type {\n",
       "        vertical-align: middle;\n",
       "    }\n",
       "\n",
       "    .dataframe tbody tr th {\n",
       "        vertical-align: top;\n",
       "    }\n",
       "\n",
       "    .dataframe thead th {\n",
       "        text-align: right;\n",
       "    }\n",
       "</style>\n",
       "<table border=\"1\" class=\"dataframe\">\n",
       "  <thead>\n",
       "    <tr style=\"text-align: right;\">\n",
       "      <th></th>\n",
       "      <th>Date</th>\n",
       "      <th>HomeTeam</th>\n",
       "      <th>AwayTeam</th>\n",
       "      <th>FTHG</th>\n",
       "      <th>FTAG</th>\n",
       "      <th>FTR</th>\n",
       "      <th>HTHG</th>\n",
       "      <th>HTAG</th>\n",
       "      <th>HTR</th>\n",
       "      <th>HS</th>\n",
       "      <th>...</th>\n",
       "      <th>AST</th>\n",
       "      <th>HF</th>\n",
       "      <th>AF</th>\n",
       "      <th>HC</th>\n",
       "      <th>AC</th>\n",
       "      <th>HY</th>\n",
       "      <th>AY</th>\n",
       "      <th>HR</th>\n",
       "      <th>AR</th>\n",
       "      <th>S</th>\n",
       "    </tr>\n",
       "  </thead>\n",
       "  <tbody>\n",
       "    <tr>\n",
       "      <th>0</th>\n",
       "      <td>2008-08-30</td>\n",
       "      <td>Espanol</td>\n",
       "      <td>Valladolid</td>\n",
       "      <td>1</td>\n",
       "      <td>0</td>\n",
       "      <td>H</td>\n",
       "      <td>0</td>\n",
       "      <td>0</td>\n",
       "      <td>D</td>\n",
       "      <td>10</td>\n",
       "      <td>...</td>\n",
       "      <td>1</td>\n",
       "      <td>18</td>\n",
       "      <td>17</td>\n",
       "      <td>1</td>\n",
       "      <td>9</td>\n",
       "      <td>3</td>\n",
       "      <td>5</td>\n",
       "      <td>0</td>\n",
       "      <td>0</td>\n",
       "      <td>1</td>\n",
       "    </tr>\n",
       "    <tr>\n",
       "      <th>1</th>\n",
       "      <td>2008-08-30</td>\n",
       "      <td>Valencia</td>\n",
       "      <td>Mallorca</td>\n",
       "      <td>3</td>\n",
       "      <td>0</td>\n",
       "      <td>H</td>\n",
       "      <td>2</td>\n",
       "      <td>0</td>\n",
       "      <td>H</td>\n",
       "      <td>17</td>\n",
       "      <td>...</td>\n",
       "      <td>2</td>\n",
       "      <td>17</td>\n",
       "      <td>14</td>\n",
       "      <td>5</td>\n",
       "      <td>6</td>\n",
       "      <td>4</td>\n",
       "      <td>0</td>\n",
       "      <td>0</td>\n",
       "      <td>0</td>\n",
       "      <td>1</td>\n",
       "    </tr>\n",
       "    <tr>\n",
       "      <th>2</th>\n",
       "      <td>2008-08-31</td>\n",
       "      <td>Ath Bilbao</td>\n",
       "      <td>Almeria</td>\n",
       "      <td>1</td>\n",
       "      <td>3</td>\n",
       "      <td>A</td>\n",
       "      <td>0</td>\n",
       "      <td>2</td>\n",
       "      <td>A</td>\n",
       "      <td>10</td>\n",
       "      <td>...</td>\n",
       "      <td>5</td>\n",
       "      <td>35</td>\n",
       "      <td>20</td>\n",
       "      <td>2</td>\n",
       "      <td>6</td>\n",
       "      <td>2</td>\n",
       "      <td>4</td>\n",
       "      <td>0</td>\n",
       "      <td>0</td>\n",
       "      <td>-1</td>\n",
       "    </tr>\n",
       "    <tr>\n",
       "      <th>3</th>\n",
       "      <td>2008-08-31</td>\n",
       "      <td>Ath Madrid</td>\n",
       "      <td>Malaga</td>\n",
       "      <td>4</td>\n",
       "      <td>0</td>\n",
       "      <td>H</td>\n",
       "      <td>3</td>\n",
       "      <td>0</td>\n",
       "      <td>H</td>\n",
       "      <td>25</td>\n",
       "      <td>...</td>\n",
       "      <td>2</td>\n",
       "      <td>16</td>\n",
       "      <td>13</td>\n",
       "      <td>11</td>\n",
       "      <td>7</td>\n",
       "      <td>1</td>\n",
       "      <td>2</td>\n",
       "      <td>0</td>\n",
       "      <td>0</td>\n",
       "      <td>1</td>\n",
       "    </tr>\n",
       "    <tr>\n",
       "      <th>4</th>\n",
       "      <td>2008-08-31</td>\n",
       "      <td>Betis</td>\n",
       "      <td>Recreativo</td>\n",
       "      <td>0</td>\n",
       "      <td>1</td>\n",
       "      <td>A</td>\n",
       "      <td>0</td>\n",
       "      <td>1</td>\n",
       "      <td>A</td>\n",
       "      <td>8</td>\n",
       "      <td>...</td>\n",
       "      <td>6</td>\n",
       "      <td>17</td>\n",
       "      <td>18</td>\n",
       "      <td>2</td>\n",
       "      <td>2</td>\n",
       "      <td>3</td>\n",
       "      <td>1</td>\n",
       "      <td>0</td>\n",
       "      <td>0</td>\n",
       "      <td>-1</td>\n",
       "    </tr>\n",
       "  </tbody>\n",
       "</table>\n",
       "<p>5 rows × 22 columns</p>\n",
       "</div>"
      ],
      "text/plain": [
       "        Date    HomeTeam    AwayTeam  FTHG  FTAG FTR  HTHG  HTAG HTR  HS  ...  \\\n",
       "0 2008-08-30     Espanol  Valladolid     1     0   H     0     0   D  10  ...   \n",
       "1 2008-08-30    Valencia    Mallorca     3     0   H     2     0   H  17  ...   \n",
       "2 2008-08-31  Ath Bilbao     Almeria     1     3   A     0     2   A  10  ...   \n",
       "3 2008-08-31  Ath Madrid      Malaga     4     0   H     3     0   H  25  ...   \n",
       "4 2008-08-31       Betis  Recreativo     0     1   A     0     1   A   8  ...   \n",
       "\n",
       "   AST  HF  AF  HC  AC  HY  AY  HR  AR  S  \n",
       "0    1  18  17   1   9   3   5   0   0  1  \n",
       "1    2  17  14   5   6   4   0   0   0  1  \n",
       "2    5  35  20   2   6   2   4   0   0 -1  \n",
       "3    2  16  13  11   7   1   2   0   0  1  \n",
       "4    6  17  18   2   2   3   1   0   0 -1  \n",
       "\n",
       "[5 rows x 22 columns]"
      ]
     },
     "execution_count": 103,
     "metadata": {},
     "output_type": "execute_result"
    }
   ],
   "source": [
    "def sgn(x):\n",
    "    if x>0:\n",
    "        return 1\n",
    "    if x<0:\n",
    "        return -1\n",
    "    return 0\n",
    "\n",
    "df['S'] = (df['FTHG']-df['FTAG']).map(sgn)\n",
    "df.head()"
   ]
  },
  {
   "cell_type": "code",
   "execution_count": 104,
   "metadata": {},
   "outputs": [
    {
     "data": {
      "text/plain": [
       "[('Espanol', 'Valladolid', 1),\n",
       " ('Valencia', 'Mallorca', 1),\n",
       " ('Ath Bilbao', 'Almeria', -1),\n",
       " ('Ath Madrid', 'Malaga', 1),\n",
       " ('Betis', 'Recreativo', -1),\n",
       " ('La Coruna', 'Real Madrid', 1),\n",
       " ('Numancia', 'Barcelona', 1),\n",
       " ('Osasuna', 'Villarreal', 0),\n",
       " ('Santander', 'Sevilla', 0),\n",
       " ('Sp Gijon', 'Getafe', -1)]"
      ]
     },
     "execution_count": 104,
     "metadata": {},
     "output_type": "execute_result"
    }
   ],
   "source": [
    "resultados=[]\n",
    "for A,B,S in df[['HomeTeam','AwayTeam','S']].to_records(index=False):\n",
    "    resultados.append((A,B,S))\n",
    "resultados[:10] "
   ]
  },
  {
   "cell_type": "code",
   "execution_count": 105,
   "metadata": {},
   "outputs": [],
   "source": [
    "jugadores = set(df['HomeTeam']).union(df['AwayTeam'])"
   ]
  },
  {
   "cell_type": "code",
   "execution_count": 106,
   "metadata": {},
   "outputs": [],
   "source": [
    "k=100\n",
    "def actualizar_ranking(A,B,S):\n",
    "    x=r[A]-r[B]\n",
    "    p = special.expit(x)\n",
    "    mu = 2*p - 1\n",
    "    dA = k*(S - mu)\n",
    "    dB = k*(mu - S)\n",
    "    (r[A],r[B])= (r[A]+dA,r[B]+dB)"
   ]
  },
  {
   "cell_type": "code",
   "execution_count": 107,
   "metadata": {},
   "outputs": [
    {
     "data": {
      "text/plain": [
       "Barcelona      1.909447\n",
       "Real Madrid    1.422541\n",
       "Ath Madrid     1.334597\n",
       "Valencia       0.784231\n",
       "Sevilla        0.703199\n",
       "Getafe         0.688665\n",
       "Eibar          0.505431\n",
       "Betis          0.460428\n",
       "Alaves         0.455074\n",
       "Sociedad       0.433289\n",
       "Ath Bilbao     0.426534\n",
       "Leganes        0.412890\n",
       "Espanol        0.193192\n",
       "Levante        0.149822\n",
       "Villarreal     0.146868\n",
       "Girona         0.015021\n",
       "Celta         -0.019679\n",
       "Vallecano     -0.025023\n",
       "Elche         -0.072585\n",
       "Valladolid    -0.107101\n",
       "Huesca        -0.123621\n",
       "Xerez         -0.220386\n",
       "Mallorca      -0.234360\n",
       "Sp Gijon      -0.292940\n",
       "Tenerife      -0.374290\n",
       "La Coruna     -0.400446\n",
       "Almeria       -0.512219\n",
       "Zaragoza      -0.536920\n",
       "Hercules      -0.581023\n",
       "Numancia      -0.634719\n",
       "Osasuna       -0.681722\n",
       "Malaga        -0.767550\n",
       "Recreativo    -0.783872\n",
       "Santander     -0.803425\n",
       "Las Palmas    -0.900266\n",
       "Granada       -0.924764\n",
       "Cordoba       -1.040619\n",
       "dtype: float64"
      ]
     },
     "execution_count": 107,
     "metadata": {},
     "output_type": "execute_result"
    }
   ],
   "source": [
    "r_inicial, k = .0001,.1\n",
    "r = dict.fromkeys(jugadores,r_inicial)\n",
    "for (i,(A,B,S)) in df[['HomeTeam','AwayTeam','S']].iterrows():\n",
    "    actualizar_ranking(A,B,S)\n",
    "pd.Series(r).sort_values(ascending=False)"
   ]
  },
  {
   "cell_type": "markdown",
   "metadata": {},
   "source": [
    "## Uso de scores para ordenar(generar rankines) en Python"
   ]
  },
  {
   "cell_type": "code",
   "execution_count": 108,
   "metadata": {},
   "outputs": [
    {
     "data": {
      "text/plain": [
       "[{'x': -1, 'y': 1}, {'x': 0, 'y': 0}, {'x': 1, 'y': -1}]"
      ]
     },
     "execution_count": 108,
     "metadata": {},
     "output_type": "execute_result"
    }
   ],
   "source": [
    "class A:\n",
    "    def __repr__(self):\n",
    "        return repr(self.__dict__)\n",
    "    \n",
    "a, b, c = A(), A(), A()\n",
    "a.x, a.y = -1,1\n",
    "b.x, b.y = 0, 0\n",
    "c.x, c.y = 1,-1\n",
    "\n",
    "sorted([a,b,c],key=lambda obj: obj.x+obj.y)"
   ]
  },
  {
   "cell_type": "code",
   "execution_count": 109,
   "metadata": {},
   "outputs": [
    {
     "data": {
      "text/plain": [
       "['c', 'a', 'b']"
      ]
     },
     "execution_count": 109,
     "metadata": {},
     "output_type": "execute_result"
    }
   ],
   "source": [
    "d = {'a':3,'b':8,'c':-1}\n",
    "sorted(d.keys(),key=d.get)"
   ]
  },
  {
   "cell_type": "code",
   "execution_count": 115,
   "metadata": {},
   "outputs": [],
   "source": [
    "def borda(rankings,pesos):\n",
    "    assert isinstance(rankings,list)\n",
    "    assert len(rankings)>1\n",
    "    assert all(isinstance(ranking,list) for ranking in rankings)\n",
    "    assert all(isinstance(peso,(int,float)) for peso in pesos)\n",
    "    elementos = set(rankings[0])\n",
    "    assert all((elementos==set(ranking)) for ranking in rankings)\n",
    "\n",
    "    mezcla = dict.fromkeys(rankings[0],0)\n",
    "    for ranking in rankings:\n",
    "        for (elemento,peso) in zip(ranking,pesos):\n",
    "            mezcla[elemento] += peso\n",
    "    return mezcla"
   ]
  },
  {
   "cell_type": "code",
   "execution_count": 111,
   "metadata": {},
   "outputs": [],
   "source": [
    "def borda(rankings, pesos=None):\n",
    "    if pesos is None:\n",
    "        cuantiles = np.linspace(0, 1, num=len(rankings[0]) + 2)[1:-1]\n",
    "        pesos = list(stats.norm(0, 1).ppf(cuantiles))\n",
    "    \n",
    "    mezcla = dict.fromkeys(rankings[0], 0)\n",
    "    for ranking in rankings:\n",
    "        for (elemento, peso) in zip(ranking, pesos):\n",
    "            mezcla[elemento] += peso\n",
    "    return sorted(mezcla.keys(), key=mezcla.get)"
   ]
  },
  {
   "cell_type": "code",
   "execution_count": 112,
   "metadata": {},
   "outputs": [
    {
     "data": {
      "text/plain": [
       "['A', 'B', 'C', 'D', 'E']"
      ]
     },
     "execution_count": 112,
     "metadata": {},
     "output_type": "execute_result"
    }
   ],
   "source": [
    "pesos = [1, 2, 3, 4, 5]\n",
    "entrada = [['A','C','B','D','E'],['B','A','C','D','E'],['A','B','C','E','D'],['A','B','D','C','E']]\n",
    "score = borda(entrada,pesos)\n",
    "score"
   ]
  },
  {
   "cell_type": "code",
   "execution_count": 113,
   "metadata": {},
   "outputs": [
    {
     "name": "stdout",
     "output_type": "stream",
     "text": [
      "[0.02439024 0.04878049 0.07317073 0.09756098 0.12195122 0.14634146\n",
      " 0.17073171 0.19512195 0.2195122  0.24390244 0.26829268 0.29268293\n",
      " 0.31707317 0.34146341 0.36585366 0.3902439  0.41463415 0.43902439\n",
      " 0.46341463 0.48780488 0.51219512 0.53658537 0.56097561 0.58536585\n",
      " 0.6097561  0.63414634 0.65853659 0.68292683 0.70731707 0.73170732\n",
      " 0.75609756 0.7804878  0.80487805 0.82926829 0.85365854 0.87804878\n",
      " 0.90243902 0.92682927 0.95121951 0.97560976]\n"
     ]
    },
    {
     "data": {
      "image/png": "[encoded data removed]",
      "text/plain": [
       "<Figure size 432x288 with 1 Axes>"
      ]
     },
     "metadata": {},
     "output_type": "display_data"
    }
   ],
   "source": [
    "elementos = 40\n",
    "N = stats.norm(0, 1)\n",
    "p = np.linspace(0, 1, num=(elementos + 2))[1:-1]\n",
    "print(p)\n",
    "x = N.ppf(p)\n",
    "y = N.pdf(x)\n",
    "\n",
    "# Graficar gaussiana\n",
    "a, b = N.ppf([0.001, 0.999])\n",
    "x_grafica = np.linspace(a, b)\n",
    "y_grafica = N.pdf(x_grafica)\n",
    "plt.plot(x_grafica, y_grafica)\n",
    "for xi in x:\n",
    "    plt.axvline(xi, color='red')"
   ]
  },
  {
   "cell_type": "code",
   "execution_count": 116,
   "metadata": {},
   "outputs": [
    {
     "name": "stdout",
     "output_type": "stream",
     "text": [
      "Pesos -0.97 -0.43 0.00 0.43 0.97\n"
     ]
    },
    {
     "data": {
      "text/plain": [
       "['A', 'B', 'C', 'D', 'E']"
      ]
     },
     "execution_count": 116,
     "metadata": {},
     "output_type": "execute_result"
    }
   ],
   "source": [
    "normal = stats.norm(0,1)\n",
    "cuantiles = np.linspace(0,1,num=len(entrada[0])+2)[1:-1]\n",
    "pesos = stats.norm(0,1).ppf(cuantiles)\n",
    "print('Pesos',*map('{:.2f}'.format,pesos))\n",
    "score = borda(entrada,pesos)\n",
    "sorted(score.keys(),key=score.get)"
   ]
  },
  {
   "cell_type": "markdown",
   "metadata": {},
   "source": [
    "## Metodos de ranking basados en grafos"
   ]
  },
  {
   "cell_type": "markdown",
   "metadata": {},
   "source": [
    "Un grafo dirigido representa los votos de qué elementos van antes que otros en un ranking. Específicamente, la arista $(u, v)$ representa que hay una restricción para que $u$ preceda a $v$ en el ranking."
   ]
  },
  {
   "cell_type": "code",
   "execution_count": 117,
   "metadata": {},
   "outputs": [
    {
     "data": {
      "image/png": "[encoded data removed]",
      "text/plain": [
       "<Figure size 432x288 with 1 Axes>"
      ]
     },
     "metadata": {},
     "output_type": "display_data"
    }
   ],
   "source": [
    "G = nx.gnm_random_graph(10, 12)\n",
    "H = nx.DiGraph()\n",
    "H.add_nodes_from(G.nodes)\n",
    "for u, v in G.edges:\n",
    "    if np.random.randint(0, 2) == 1:\n",
    "        H.add_edge(u, v)\n",
    "    else:\n",
    "        H.add_edge(v, u)\n",
    "\n",
    "pos = nx.kamada_kawai_layout(G)\n",
    "nx.draw(H, pos, with_labels=True)"
   ]
  },
  {
   "cell_type": "code",
   "execution_count": 118,
   "metadata": {},
   "outputs": [
    {
     "data": {
      "text/plain": [
       "{0: array([ 1.        , -0.26853516]),\n",
       " 1: array([-0.14235438,  0.47960152]),\n",
       " 2: array([-0.81294496,  0.40702121]),\n",
       " 3: array([ 0.66246391, -0.19108191]),\n",
       " 4: array([0.07177296, 0.17108022]),\n",
       " 5: array([-0.01255952, -0.318201  ]),\n",
       " 6: array([-0.47513751,  0.27714205]),\n",
       " 7: array([-0.33311084, -0.39480347]),\n",
       " 8: array([ 0.3098338, -0.1188923]),\n",
       " 9: array([-0.26796345, -0.04333115])}"
      ]
     },
     "execution_count": 118,
     "metadata": {},
     "output_type": "execute_result"
    }
   ],
   "source": [
    "pos"
   ]
  },
  {
   "cell_type": "code",
   "execution_count": 119,
   "metadata": {},
   "outputs": [],
   "source": [
    "tiempo = iter(itertools.count())"
   ]
  },
  {
   "cell_type": "code",
   "execution_count": 120,
   "metadata": {},
   "outputs": [],
   "source": [
    "def profundidad(G):\n",
    "    def visitar(u):\n",
    "        pre[u] = next(tiempo)\n",
    "        for v in G.neighbors(u):\n",
    "            if v in pre: continue\n",
    "            visitar(v)\n",
    "        post[u] = next(tiempo)\n",
    "    \n",
    "    tiempo = itertools.count()\n",
    "    pre, post = {}, {}\n",
    "    \n",
    "    for r in G.nodes:\n",
    "        if r in pre: continue\n",
    "        visitar(r)\n",
    "            \n",
    "    return pre,post"
   ]
  },
  {
   "cell_type": "code",
   "execution_count": 121,
   "metadata": {},
   "outputs": [
    {
     "data": {
      "text/html": [
       "<div>\n",
       "<style scoped>\n",
       "    .dataframe tbody tr th:only-of-type {\n",
       "        vertical-align: middle;\n",
       "    }\n",
       "\n",
       "    .dataframe tbody tr th {\n",
       "        vertical-align: top;\n",
       "    }\n",
       "\n",
       "    .dataframe thead th {\n",
       "        text-align: right;\n",
       "    }\n",
       "</style>\n",
       "<table border=\"1\" class=\"dataframe\">\n",
       "  <thead>\n",
       "    <tr style=\"text-align: right;\">\n",
       "      <th></th>\n",
       "      <th>pre</th>\n",
       "      <th>post</th>\n",
       "    </tr>\n",
       "  </thead>\n",
       "  <tbody>\n",
       "    <tr>\n",
       "      <th>0</th>\n",
       "      <td>0</td>\n",
       "      <td>9</td>\n",
       "    </tr>\n",
       "    <tr>\n",
       "      <th>1</th>\n",
       "      <td>10</td>\n",
       "      <td>13</td>\n",
       "    </tr>\n",
       "    <tr>\n",
       "      <th>2</th>\n",
       "      <td>11</td>\n",
       "      <td>12</td>\n",
       "    </tr>\n",
       "    <tr>\n",
       "      <th>3</th>\n",
       "      <td>3</td>\n",
       "      <td>8</td>\n",
       "    </tr>\n",
       "    <tr>\n",
       "      <th>4</th>\n",
       "      <td>14</td>\n",
       "      <td>15</td>\n",
       "    </tr>\n",
       "    <tr>\n",
       "      <th>5</th>\n",
       "      <td>16</td>\n",
       "      <td>17</td>\n",
       "    </tr>\n",
       "    <tr>\n",
       "      <th>6</th>\n",
       "      <td>1</td>\n",
       "      <td>2</td>\n",
       "    </tr>\n",
       "    <tr>\n",
       "      <th>7</th>\n",
       "      <td>4</td>\n",
       "      <td>7</td>\n",
       "    </tr>\n",
       "    <tr>\n",
       "      <th>8</th>\n",
       "      <td>18</td>\n",
       "      <td>19</td>\n",
       "    </tr>\n",
       "    <tr>\n",
       "      <th>9</th>\n",
       "      <td>5</td>\n",
       "      <td>6</td>\n",
       "    </tr>\n",
       "  </tbody>\n",
       "</table>\n",
       "</div>"
      ],
      "text/plain": [
       "   pre  post\n",
       "0    0     9\n",
       "1   10    13\n",
       "2   11    12\n",
       "3    3     8\n",
       "4   14    15\n",
       "5   16    17\n",
       "6    1     2\n",
       "7    4     7\n",
       "8   18    19\n",
       "9    5     6"
      ]
     },
     "execution_count": 121,
     "metadata": {},
     "output_type": "execute_result"
    },
    {
     "data": {
      "image/png": "[encoded data removed]",
      "text/plain": [
       "<Figure size 432x288 with 1 Axes>"
      ]
     },
     "metadata": {},
     "output_type": "display_data"
    }
   ],
   "source": [
    "G = nx.gnm_random_graph(10, 12)\n",
    "H = nx.DiGraph()\n",
    "H.add_nodes_from(G.nodes)\n",
    "for u,v in G.edges:\n",
    "    H.add_node(u)\n",
    "    if np.random.randint(0,2) == 1:\n",
    "        H.add_edge(u,v)\n",
    "    else:\n",
    "        H.add_edge(v,u)\n",
    "\n",
    "pre,post = profundidad(H)\n",
    "pos = nx.kamada_kawai_layout(G)\n",
    "nx.draw(H, pos, with_labels=True)\n",
    "pd.DataFrame({'pre': pre,'post':post})"
   ]
  },
  {
   "cell_type": "code",
   "execution_count": 122,
   "metadata": {},
   "outputs": [
    {
     "data": {
      "text/html": [
       "<div>\n",
       "<style scoped>\n",
       "    .dataframe tbody tr th:only-of-type {\n",
       "        vertical-align: middle;\n",
       "    }\n",
       "\n",
       "    .dataframe tbody tr th {\n",
       "        vertical-align: top;\n",
       "    }\n",
       "\n",
       "    .dataframe thead th {\n",
       "        text-align: right;\n",
       "    }\n",
       "</style>\n",
       "<table border=\"1\" class=\"dataframe\">\n",
       "  <thead>\n",
       "    <tr style=\"text-align: right;\">\n",
       "      <th></th>\n",
       "      <th>pre</th>\n",
       "      <th>post</th>\n",
       "    </tr>\n",
       "  </thead>\n",
       "  <tbody>\n",
       "    <tr>\n",
       "      <th>0</th>\n",
       "      <td>0</td>\n",
       "      <td>9</td>\n",
       "    </tr>\n",
       "    <tr>\n",
       "      <th>1</th>\n",
       "      <td>10</td>\n",
       "      <td>13</td>\n",
       "    </tr>\n",
       "    <tr>\n",
       "      <th>2</th>\n",
       "      <td>11</td>\n",
       "      <td>12</td>\n",
       "    </tr>\n",
       "    <tr>\n",
       "      <th>3</th>\n",
       "      <td>3</td>\n",
       "      <td>8</td>\n",
       "    </tr>\n",
       "    <tr>\n",
       "      <th>4</th>\n",
       "      <td>14</td>\n",
       "      <td>15</td>\n",
       "    </tr>\n",
       "    <tr>\n",
       "      <th>5</th>\n",
       "      <td>16</td>\n",
       "      <td>17</td>\n",
       "    </tr>\n",
       "    <tr>\n",
       "      <th>6</th>\n",
       "      <td>1</td>\n",
       "      <td>2</td>\n",
       "    </tr>\n",
       "    <tr>\n",
       "      <th>7</th>\n",
       "      <td>4</td>\n",
       "      <td>7</td>\n",
       "    </tr>\n",
       "    <tr>\n",
       "      <th>8</th>\n",
       "      <td>18</td>\n",
       "      <td>19</td>\n",
       "    </tr>\n",
       "    <tr>\n",
       "      <th>9</th>\n",
       "      <td>5</td>\n",
       "      <td>6</td>\n",
       "    </tr>\n",
       "  </tbody>\n",
       "</table>\n",
       "</div>"
      ],
      "text/plain": [
       "   pre  post\n",
       "0    0     9\n",
       "1   10    13\n",
       "2   11    12\n",
       "3    3     8\n",
       "4   14    15\n",
       "5   16    17\n",
       "6    1     2\n",
       "7    4     7\n",
       "8   18    19\n",
       "9    5     6"
      ]
     },
     "execution_count": 122,
     "metadata": {},
     "output_type": "execute_result"
    },
    {
     "data": {
      "image/png": "[encoded data removed]",
      "text/plain": [
       "<Figure size 432x288 with 1 Axes>"
      ]
     },
     "metadata": {},
     "output_type": "display_data"
    }
   ],
   "source": [
    "nx.draw(H, pos, with_labels=True)\n",
    "pre, post = profundidad(H)\n",
    "pd.DataFrame({'pre': pre, 'post': post})"
   ]
  },
  {
   "cell_type": "code",
   "execution_count": 123,
   "metadata": {},
   "outputs": [
    {
     "name": "stdout",
     "output_type": "stream",
     "text": [
      "(0 (6 6) (3 (7 (9 9) 7) 3) 0) (1 (2 2) 1) (4 4) (5 5) (8 8)\n"
     ]
    }
   ],
   "source": [
    "parentesis = [None]*(len(G.nodes)*2)\n",
    "for u, t in pre.items():\n",
    "    parentesis[t] = f'({u}'\n",
    "for u, t in post.items():\n",
    "    parentesis[t] = f'{u})'\n",
    "print(*parentesis)"
   ]
  },
  {
   "cell_type": "code",
   "execution_count": 124,
   "metadata": {},
   "outputs": [
    {
     "data": {
      "text/plain": [
       "[6, 9, 7, 3, 0, 2, 1, 4, 5, 8]"
      ]
     },
     "execution_count": 124,
     "metadata": {},
     "output_type": "execute_result"
    }
   ],
   "source": [
    "def toposort(G):\n",
    "    pre, post = profundidad(G)\n",
    "    return sorted(post, key=post.get)\n",
    "\n",
    "toposort(H)"
   ]
  },
  {
   "cell_type": "markdown",
   "metadata": {},
   "source": [
    "## El teorema de imposibilidad de Arrow\n",
    "Denotamos con $A < B$ que el candidato $A$ es preferible a $B$. Un sistema de votación ideal tendría las siguientes características:\n",
    "- **Completez**: Dados dos candidatos $A$ y $B$, el sistema debe decir si $A < B$, $B < A$ ó $A = B$.\n",
    "- **Transitividad**: Si $A < B$ y  $B < C$ entonces $A < C$.\n",
    "- Si todo individuo prefiere $A$ sobre $B$, entonces el sistema rankea $A < B$.\n",
    "- El sistema no debe de depender sólo de una persona (un dictador).\n",
    "- La preferencia de $A$ comparada con $B$ debería ser independiente de las demás alternativas como $C$.\n",
    "\n",
    "El teorema de la imposibilidad de Arrow establece que tal sistema no existe."
   ]
  },
  {
   "cell_type": "markdown",
   "metadata": {},
   "source": [
    "Votante | Rojo | Verde | Azul\n",
    "--------|------|-------|------\n",
    "**x**   |   1  |   2   |  3\n",
    "**y**   |   2  |   3   |  1\n",
    "**z**   |   3  |   1   |  2\n",
    "\n",
    "En esta tabla observamos en cada renglón un ordenamiento de los candidatos **Rojo**, **Verde** y **Azul**.\n",
    "- **Rojo** < **Verde** por mayoría de votos (**x**  y __y__).\n",
    "- **Verde** < **Azul** por mayoría de votos (**x**  y __z__).\n",
    "- Pero **Azul** < **Rojo** según los votos de la mayoría (**y** y __z__)"
   ]
  },
  {
   "cell_type": "markdown",
   "metadata": {},
   "source": [
    "# Análisis estadístico"
   ]
  },
  {
   "cell_type": "markdown",
   "metadata": {},
   "source": [
    "## Introducción a las pruebas de hipótesis\n",
    "Supongamos que se nos da una moneda y al tirarla 30 veces obtenemos 22 soles y 8 águilas. ¿La moneda es justa?\n",
    "- *Hipótesis nula*: El resultado observado se debe al azar.\n",
    "- *Hipótesis alternativa*: La negación de la hipótesis nula.\n",
    "\n",
    "La probabilidad de obtener $k$ soles en $n$ volados donde la probabilidad de obtener sol en un volado es $p$, está dada por:\n",
    "$$\\mathrm{P}(X=k)=\\binom{n}{k} \\, p^k \\, (1 - p)^{n - k}$$\n",
    "\n",
    "*Demostración*. Una sucesión de $n$ volades se puede representar como una sucesión de letras $A$/$S$ (águila o sol). Por ejemplo,\n",
    "$$ASAASSASAAA$$\n",
    "- Si en $n$ volados ocurre $k$ veces sol, es equivalente a seleccionar $k$ símbolos de la sucesión y rellenarlos con $S$ y el resto con $A$. Esto se puede hacer en $\\binom{n}{k}$ formas distintas.\n",
    "- La probabilidad de cada sucesión de $k$ soles en $n$ volados es la probabilidad de obtener $k$ soles y $n -k$ águilas; es decir $p^k\\,(1- p)^{n - k}$.\n",
    "\n",
    "Por lo tanto la probabilidad total de obtener $k$ soles (en cualquier orden) en $n$ volados es $\\binom{n}{k} \\, p^k \\, (1 - p)^{n - k}$. $\\blacksquare$"
   ]
  },
  {
   "cell_type": "code",
   "execution_count": 125,
   "metadata": {},
   "outputs": [],
   "source": [
    "n, r = (20, 7)\n",
    "L = list(range(n, n - r, -1))\n",
    "assert len(L) == r\n",
    "assert L[0] == n\n",
    "assert L[-1] == n - r + 1"
   ]
  },
  {
   "cell_type": "code",
   "execution_count": 126,
   "metadata": {},
   "outputs": [],
   "source": [
    "def permutaciones_sin_repeticion(n, r):\n",
    "    accum = 1\n",
    "    for x in range(n, n - r, -1):\n",
    "        accum *= x\n",
    "    return accum\n",
    "\n",
    "def factorial(n):\n",
    "    accum = 1\n",
    "    for x in range(2, n + 1):\n",
    "        accum *= x\n",
    "    return accum\n",
    "\n",
    "def combinaciones(n, k):\n",
    "    return permutaciones_sin_repeticion(n, k)//factorial(k)\n",
    "\n",
    "def probabilidad(n, k, p):\n",
    "    return combinaciones(n, k) * p**k * (1 - p)**(n - k)"
   ]
  },
  {
   "cell_type": "code",
   "execution_count": 127,
   "metadata": {},
   "outputs": [
    {
     "name": "stdout",
     "output_type": "stream",
     "text": [
      "La probabilidad de 22 soles en 30 volados es 5852925/1073741824 , o aprox. 0.0054509611800313\n"
     ]
    }
   ],
   "source": [
    "import fractions\n",
    "P = probabilidad(30, 22, fractions.Fraction(1/2))\n",
    "print('La probabilidad de 22 soles en 30 volados es', P,', o aprox.', float(P))"
   ]
  },
  {
   "cell_type": "code",
   "execution_count": 128,
   "metadata": {},
   "outputs": [
    {
     "data": {
      "text/html": [
       "<div>\n",
       "<style scoped>\n",
       "    .dataframe tbody tr th:only-of-type {\n",
       "        vertical-align: middle;\n",
       "    }\n",
       "\n",
       "    .dataframe tbody tr th {\n",
       "        vertical-align: top;\n",
       "    }\n",
       "\n",
       "    .dataframe thead th {\n",
       "        text-align: right;\n",
       "    }\n",
       "</style>\n",
       "<table border=\"1\" class=\"dataframe\">\n",
       "  <thead>\n",
       "    <tr style=\"text-align: right;\">\n",
       "      <th></th>\n",
       "      <th>Cantidad de soles</th>\n",
       "      <th>Probabilidad</th>\n",
       "    </tr>\n",
       "  </thead>\n",
       "  <tbody>\n",
       "    <tr>\n",
       "      <th>0</th>\n",
       "      <td>0</td>\n",
       "      <td>9.313226e-10</td>\n",
       "    </tr>\n",
       "    <tr>\n",
       "      <th>1</th>\n",
       "      <td>1</td>\n",
       "      <td>2.793968e-08</td>\n",
       "    </tr>\n",
       "    <tr>\n",
       "      <th>2</th>\n",
       "      <td>2</td>\n",
       "      <td>4.051253e-07</td>\n",
       "    </tr>\n",
       "    <tr>\n",
       "      <th>3</th>\n",
       "      <td>3</td>\n",
       "      <td>3.781170e-06</td>\n",
       "    </tr>\n",
       "    <tr>\n",
       "      <th>4</th>\n",
       "      <td>4</td>\n",
       "      <td>2.552290e-05</td>\n",
       "    </tr>\n",
       "  </tbody>\n",
       "</table>\n",
       "</div>"
      ],
      "text/plain": [
       "   Cantidad de soles  Probabilidad\n",
       "0                  0  9.313226e-10\n",
       "1                  1  2.793968e-08\n",
       "2                  2  4.051253e-07\n",
       "3                  3  3.781170e-06\n",
       "4                  4  2.552290e-05"
      ]
     },
     "execution_count": 128,
     "metadata": {},
     "output_type": "execute_result"
    }
   ],
   "source": [
    "n, p = (30, 1/2)\n",
    "df = pd.DataFrame({\n",
    "    'Cantidad de soles': list(range(31)),\n",
    "    'Probabilidad': [probabilidad(n, k, p) for k in range(31)]})\n",
    "df.head()"
   ]
  },
  {
   "cell_type": "code",
   "execution_count": 129,
   "metadata": {},
   "outputs": [
    {
     "data": {
      "text/plain": [
       "<matplotlib.axes._subplots.AxesSubplot at 0x257d4ccdba8>"
      ]
     },
     "execution_count": 129,
     "metadata": {},
     "output_type": "execute_result"
    },
    {
     "data": {
      "image/png": "[encoded data removed]",
      "text/plain": [
       "<Figure size 432x288 with 1 Axes>"
      ]
     },
     "metadata": {},
     "output_type": "display_data"
    }
   ],
   "source": [
    "df.plot(x='Cantidad de soles', y='Probabilidad', kind='scatter')"
   ]
  },
  {
   "cell_type": "markdown",
   "metadata": {},
   "source": [
    "Probabilidad de ver entre 9 y 21 soles en 30 volados:"
   ]
  },
  {
   "cell_type": "code",
   "execution_count": 130,
   "metadata": {},
   "outputs": [
    {
     "data": {
      "text/plain": [
       "0.983875198289752"
      ]
     },
     "execution_count": 130,
     "metadata": {},
     "output_type": "execute_result"
    }
   ],
   "source": [
    "df[(df['Cantidad de soles'] >= 9) & (df['Cantidad de soles'] <= 21)]['Probabilidad'].sum()"
   ]
  },
  {
   "cell_type": "markdown",
   "metadata": {},
   "source": [
    "Probabilidad de NO ver entre 9 y 21 volados:"
   ]
  },
  {
   "cell_type": "code",
   "execution_count": 131,
   "metadata": {},
   "outputs": [
    {
     "data": {
      "text/plain": [
       "0.016124801710247993"
      ]
     },
     "execution_count": 131,
     "metadata": {},
     "output_type": "execute_result"
    }
   ],
   "source": [
    "1 - _"
   ]
  },
  {
   "cell_type": "markdown",
   "metadata": {},
   "source": [
    "La probabilidad de observar estos datos con la hipótesis nula $H_0$ se le llama el **p-valor**.\n",
    "- Rechazamos la hipótesis nula cuando el $p$-valor es muy pequeño.\n",
    "- No rechazamos la hipótesis nula cuando el $p$-valor está sobre cierto umbral.\n",
    "\n",
    "Prueba de hipótesis| Aceptar $H_0$ | Rechazar $H_0$\n",
    "-------------------|---------------|---------------\n",
    "$H_0$ es verdadera |     ✓         | Error tipo I (falso positivo)\n",
    "$H_0$ es falsa     | Error tipo II (falso negativo) | ✓\n",
    "\n",
    "<img src=\"https://effectsizefaq.files.wordpress.com/2010/05/type-i-and-type-ii-errors.jpg\" alt=\"Errores de prueba de hipótesis\" width=\"50%\"/>"
   ]
  },
  {
   "cell_type": "code",
   "execution_count": 132,
   "metadata": {},
   "outputs": [],
   "source": [
    "@numba.jit\n",
    "def calcular_p(n, p, repeticiones=1_000_000):\n",
    "    M = 0\n",
    "    for i in range(repeticiones):\n",
    "        k = np.sum(np.random.random(size=n) < p)\n",
    "        M += int((k > 21) or (k < 8))\n",
    "    return M / repeticiones"
   ]
  },
  {
   "cell_type": "code",
   "execution_count": 133,
   "metadata": {},
   "outputs": [
    {
     "data": {
      "text/plain": [
       "0.011033"
      ]
     },
     "execution_count": 133,
     "metadata": {},
     "output_type": "execute_result"
    }
   ],
   "source": [
    "calcular_p(30, 0.5)"
   ]
  },
  {
   "cell_type": "code",
   "execution_count": 134,
   "metadata": {},
   "outputs": [
    {
     "data": {
      "text/plain": [
       "0.010737"
      ]
     },
     "execution_count": 134,
     "metadata": {},
     "output_type": "execute_result"
    }
   ],
   "source": [
    "calcular_p(30, 0.5)"
   ]
  },
  {
   "cell_type": "code",
   "execution_count": 135,
   "metadata": {},
   "outputs": [],
   "source": [
    "X = [1.1, 3.0, 2.8, 1.9, 2.5, 2.6]\n",
    "Y = [8.1, 3.5, 5.4, 2.4, 3.0, 4.1]"
   ]
  },
  {
   "cell_type": "code",
   "execution_count": 136,
   "metadata": {},
   "outputs": [
    {
     "data": {
      "image/png": "[encoded data removed]",
      "text/plain": [
       "<Figure size 432x288 with 1 Axes>"
      ]
     },
     "metadata": {},
     "output_type": "display_data"
    }
   ],
   "source": [
    "def comparar_normales(X, Y):\n",
    "    N_1 = stats.norm(np.mean(X), np.std(X))\n",
    "    N_2 = stats.norm(np.mean(Y), np.std(Y))\n",
    "\n",
    "    a, b = min(itertools.chain(X, Y)), max(itertools.chain(X, Y))\n",
    "    dominio = np.linspace(a, b)\n",
    "    plt.plot(dominio, N_1.pdf(dominio), color='blue')\n",
    "    plt.plot(dominio, N_2.pdf(dominio), color='red')\n",
    "comparar_normales(X, Y)"
   ]
  },
  {
   "cell_type": "markdown",
   "metadata": {},
   "source": [
    "# Podemos comparar el area bajo la curva que tienen en común y la que no tienen en común, dado que es menor, las muestras son de distintas poblaciones"
   ]
  },
  {
   "cell_type": "code",
   "execution_count": 137,
   "metadata": {},
   "outputs": [
    {
     "data": {
      "image/png": "[encoded data removed]",
      "text/plain": [
       "<Figure size 432x288 with 1 Axes>"
      ]
     },
     "metadata": {},
     "output_type": "display_data"
    }
   ],
   "source": [
    "X = np.random.normal(loc=8, scale=4, size=30)\n",
    "Y = np.random.normal(loc=8, scale=4, size=40)\n",
    "comparar_normales(X, Y)"
   ]
  },
  {
   "cell_type": "code",
   "execution_count": 138,
   "metadata": {},
   "outputs": [
    {
     "data": {
      "text/plain": [
       "array([ 7.87107816,  9.14565901, 13.66428225, 10.80299933,  7.38232874,\n",
       "        5.81521108, 15.32602988,  6.14871712,  9.41576069,  7.65883064,\n",
       "       16.94873182,  1.83758267, 10.08288364, 14.53795048,  8.07343251,\n",
       "        7.17002412, 13.39435423,  8.02606188, 13.42831422,  9.46140719,\n",
       "        1.15477379, 13.48017222,  7.93171582,  9.62863026,  9.7085961 ,\n",
       "        5.90426893,  5.63553964,  0.27547812, 10.24764526,  4.21863626])"
      ]
     },
     "execution_count": 138,
     "metadata": {},
     "output_type": "execute_result"
    }
   ],
   "source": [
    "X"
   ]
  },
  {
   "cell_type": "code",
   "execution_count": 139,
   "metadata": {},
   "outputs": [
    {
     "data": {
      "text/plain": [
       "array([12.92449804,  9.73883129, 17.55389678, 11.81910351, 10.23846995,\n",
       "        7.68777717,  1.10285379,  8.74589818,  1.71309541,  3.39243642,\n",
       "        9.91018476,  9.81940253,  1.12847172,  8.7772039 ,  7.62409032,\n",
       "        9.46428095,  8.30549292,  9.93162481, 12.21940039,  6.55711111,\n",
       "       16.3420036 ,  9.13550195,  6.87244151, -1.05323235, 12.82381864,\n",
       "        6.25400657,  4.67857251,  7.23039393,  7.79562046,  2.11098784,\n",
       "       10.46949614,  2.43710755,  8.24973282, 13.26166558,  2.7700005 ,\n",
       "       13.23225768,  4.8637983 ,  4.47157321,  7.43520415,  7.73627038])"
      ]
     },
     "execution_count": 139,
     "metadata": {},
     "output_type": "execute_result"
    }
   ],
   "source": [
    "Y"
   ]
  },
  {
   "cell_type": "code",
   "execution_count": null,
   "metadata": {},
   "outputs": [
    {
     "data": {
      "text/plain": [
       "0.9182862471825581"
      ]
     },
     "execution_count": 140,
     "metadata": {},
     "output_type": "execute_result"
    }
   ],
   "source": [
    "np.mean(X) - np.mean(Y)"
   ]
  },
  {
   "cell_type": "code",
   "execution_count": null,
   "metadata": {},
   "outputs": [],
   "source": [
    "@numba.jit\n",
    "def prueba_diferencia_medias(X, Y, repeticiones=1_000_000):\n",
    "    Z = np.concatenate([X, Y])\n",
    "    diferencia_obs = np.mean(X) - np.mean(Y)\n",
    "    diferencias = []\n",
    "    for i in range(repeticiones):\n",
    "        np.random.shuffle(Z)\n",
    "        X_simulado = Z[:len(X)]\n",
    "        Y_simulado = Z[len(X):]\n",
    "        diferencias.append(np.mean(X_simulado) - np.mean(Y_simulado))\n",
    "    plt.hist(diferencias, bins=30)\n",
    "    plt.axvline(diferencia_obs, color='red')\n",
    "    return np.sum(np.abs(np.array(diferencias)) >= abs(diferencia_obs))/repeticiones"
   ]
  },
  {
   "cell_type": "code",
   "execution_count": null,
   "metadata": {},
   "outputs": [],
   "source": [
    "prueba_diferencia_medias(X, Y)"
   ]
  },
  {
   "cell_type": "markdown",
   "metadata": {},
   "source": [
    "### Si está pegada la diferencia real de la simulada las muestras pertenecen a la misma población."
   ]
  },
  {
   "cell_type": "markdown",
   "metadata": {},
   "source": [
    "## Intervalos de confianza para la media"
   ]
  },
  {
   "cell_type": "code",
   "execution_count": null,
   "metadata": {},
   "outputs": [],
   "source": [
    "N = np.random.randint(1, 50, size=20)\n",
    "xbar = [None]*10000\n",
    "for i in range(10000):\n",
    "    sample = N[np.random.randint(len(N), size=len(N))]\n",
    "    xbar[i] = np.mean(sample)\n",
    "\n",
    "plt.hist(xbar, bins=30)"
   ]
  },
  {
   "cell_type": "code",
   "execution_count": null,
   "metadata": {},
   "outputs": [],
   "source": [
    "conf = 95\n",
    "a = (100 - conf)/2\n",
    "b = 100 - a\n",
    "np.percentile(xbar, [a, b])"
   ]
  },
  {
   "cell_type": "code",
   "execution_count": null,
   "metadata": {},
   "outputs": [],
   "source": [
    "np.mean(N)"
   ]
  },
  {
   "cell_type": "code",
   "execution_count": null,
   "metadata": {},
   "outputs": [],
   "source": [
    "def bootstrap_remplazo(N, repeticiones= 100_000):\n",
    "    \n",
    "    print(\"N: \", N)\n",
    "    xbar= np.zeros(repeticiones)\n",
    "    media_Real= np.mean(N)\n",
    "    print(\"Media Real: \", media_Real)\n",
    "    \n",
    "    for i in range(repeticiones):\n",
    "        sample= N[np.random.randint(len(N), size= len(N))]\n",
    "        xbar[i]= np.mean(sample)\n",
    " \n",
    "    results= np.mean(xbar)\n",
    "    print(\"Media de las medias: \", results)\n",
    "    \n",
    "    desviacion_std= np.std(xbar)\n",
    "    print(\"Desviación estándar de medias: \", desviacion_std)\n",
    "\n",
    "    #Graficamos\n",
    "    plt.hist(xbar, 50, facecolor='green')   \n",
    "    plt.axvline(media_Real, color= \"red\" )\n",
    "#     plt.axvline(results, color= \"black\" )\n",
    "    \n",
    "    plt.xlabel('Medias')\n",
    "    plt.ylabel('Cantidad')\n",
    "    plt.title(f'Histograma de Medias')\n",
    "\n",
    "    return results, desviacion_std"
   ]
  },
  {
   "cell_type": "code",
   "execution_count": null,
   "metadata": {},
   "outputs": [],
   "source": [
    "#Creamos los datos\n",
    "max= 50\n",
    "min= 1\n",
    "N= np.random.randint(min, max, size= 20) #enteros positivos porque son turtugas! xD\n",
    "\n",
    "#LLamamos a la función\n",
    "results, desviacion_std= bootstrap_remplazo(N)"
   ]
  },
  {
   "cell_type": "code",
   "execution_count": null,
   "metadata": {},
   "outputs": [],
   "source": [
    "def bootstrap_remplazo(N, repeticiones= 100_000):\n",
    "    \n",
    "    print(\"N: \", N)\n",
    "    xbar= np.zeros(repeticiones)\n",
    "    media_Real= np.mean(N)\n",
    "    print(\"Media Real: \", media_Real)\n",
    "    \n",
    "    for i in range(repeticiones):\n",
    "        sample= N[np.random.randint(len(N), size= len(N))]\n",
    "        xbar[i]= np.mean(sample)\n",
    " \n",
    "    results= np.mean(xbar)\n",
    "    print(\"Media de las medias: \", results)\n",
    "    \n",
    "    desviacion_std= np.std(xbar)\n",
    "    print(\"Desviación estándar de medias: \", desviacion_std)\n",
    "    \n",
    "    confianza= 95\n",
    "    a= (100- confianza)/2\n",
    "    b= 100 - a\n",
    "    percentil= np.percentile(xbar, [a, b])\n",
    "        \n",
    "    print(\"El valor de la media poblacional con un \", confianza, \"% de seguridad está entre: \", percentil)\n",
    "    \n",
    "    return results, desviacion_std"
   ]
  },
  {
   "cell_type": "code",
   "execution_count": null,
   "metadata": {},
   "outputs": [],
   "source": [
    "#Creamos los datos\n",
    "max= 50\n",
    "min= 1\n",
    "N= np.random.randint(min, max, size= 20) #enteros positivos porque son turtugas! xD\n",
    "\n",
    "#LLamamos a la función\n",
    "results, desviacion_std= bootstrap_remplazo(N)"
   ]
  },
  {
   "cell_type": "markdown",
   "metadata": {},
   "source": [
    "# Visualización de datos"
   ]
  },
  {
   "cell_type": "code",
   "execution_count": null,
   "metadata": {},
   "outputs": [],
   "source": [
    "df = pd.read_csv(\"Kaggle/mexican_medical_students_mental_health_data.csv\")\n",
    "df.head()"
   ]
  },
  {
   "cell_type": "code",
   "execution_count": null,
   "metadata": {},
   "outputs": [],
   "source": [
    "df[['height','weight']].plot(x='weight')"
   ]
  },
  {
   "cell_type": "markdown",
   "metadata": {},
   "source": [
    "# ANSCOMBE"
   ]
  },
  {
   "cell_type": "code",
   "execution_count": null,
   "metadata": {},
   "outputs": [],
   "source": [
    "anscombe = pd.read_csv(\"Kaggle/anscombe.csv\")"
   ]
  },
  {
   "cell_type": "code",
   "execution_count": null,
   "metadata": {},
   "outputs": [],
   "source": [
    "anscombe.describe()"
   ]
  },
  {
   "cell_type": "code",
   "execution_count": null,
   "metadata": {},
   "outputs": [],
   "source": [
    "anscombe[['x1','y1']].corr()"
   ]
  },
  {
   "cell_type": "code",
   "execution_count": null,
   "metadata": {},
   "outputs": [],
   "source": [
    "sns.regplot(x='x1',y='y1',data=anscombe)"
   ]
  },
  {
   "cell_type": "code",
   "execution_count": null,
   "metadata": {},
   "outputs": [],
   "source": [
    "fig, ax = plt.subplots(2,2,sharex=True,sharey=True,figsize=(10,10))\n",
    "sns.regplot(x='x1',y='y1',data=anscombe,ax=ax[0,0])\n",
    "sns.regplot(x='x2',y='y2',data=anscombe,ax=ax[1,0])\n",
    "sns.regplot(x='x3',y='y3',data=anscombe,ax=ax[0,1])\n",
    "sns.regplot(x='x4',y='y4',data=anscombe,ax=ax[1,1])"
   ]
  },
  {
   "cell_type": "markdown",
   "metadata": {},
   "source": [
    "## Valores esteticos de la visualización de datos"
   ]
  },
  {
   "cell_type": "markdown",
   "metadata": {},
   "source": [
    "- **Maximizar la razón de datos sobre la tinta**\n",
    "- **MInimizar el factor mentira**"
   ]
  },
  {
   "cell_type": "markdown",
   "metadata": {},
   "source": [
    "## Análisis exploratorio de datos"
   ]
  },
  {
   "cell_type": "markdown",
   "metadata": {},
   "source": [
    "# NHANES"
   ]
  },
  {
   "cell_type": "code",
   "execution_count": null,
   "metadata": {},
   "outputs": [],
   "source": [
    "df = pd.read_csv(\"Kaggle/nhanes.csv\")\n",
    "df.head()"
   ]
  },
  {
   "cell_type": "code",
   "execution_count": null,
   "metadata": {},
   "outputs": [],
   "source": [
    "np.sum(df['Gender'] == 1)"
   ]
  },
  {
   "cell_type": "code",
   "execution_count": null,
   "metadata": {},
   "outputs": [],
   "source": [
    "np.sum(df['Gender'] == 0)"
   ]
  },
  {
   "cell_type": "code",
   "execution_count": null,
   "metadata": {},
   "outputs": [],
   "source": [
    "df['Gender'] = df['Gender'].map({0: 'female',1:'male'}).astype('category')\n",
    "df.head()"
   ]
  },
  {
   "cell_type": "code",
   "execution_count": null,
   "metadata": {},
   "outputs": [],
   "source": [
    "df['Gender'].describe()"
   ]
  },
  {
   "cell_type": "code",
   "execution_count": null,
   "metadata": {},
   "outputs": [],
   "source": [
    "df['Gender'].value_counts()"
   ]
  },
  {
   "cell_type": "code",
   "execution_count": null,
   "metadata": {},
   "outputs": [],
   "source": [
    "df['Age'] = df['Age']/12\n",
    "df.head()"
   ]
  },
  {
   "cell_type": "code",
   "execution_count": null,
   "metadata": {},
   "outputs": [],
   "source": [
    "sns.distplot(df['Age'])"
   ]
  },
  {
   "cell_type": "code",
   "execution_count": null,
   "metadata": {},
   "outputs": [],
   "source": [
    "sns.distplot(df['Age'], kde=False)\n",
    "sns.despine()"
   ]
  },
  {
   "cell_type": "code",
   "execution_count": null,
   "metadata": {},
   "outputs": [],
   "source": [
    "df['Height'].describe()"
   ]
  },
  {
   "cell_type": "code",
   "execution_count": null,
   "metadata": {},
   "outputs": [],
   "source": [
    "sns.distplot(df['Height'], kde=False, bins=30)\n",
    "sns.despine()"
   ]
  },
  {
   "cell_type": "code",
   "execution_count": null,
   "metadata": {},
   "outputs": [],
   "source": [
    "df.corr()"
   ]
  },
  {
   "cell_type": "code",
   "execution_count": null,
   "metadata": {},
   "outputs": [],
   "source": [
    "sns.pairplot(df)"
   ]
  },
  {
   "cell_type": "code",
   "execution_count": null,
   "metadata": {},
   "outputs": [],
   "source": [
    "sns.pairplot(df, hue='Gender' )"
   ]
  },
  {
   "cell_type": "code",
   "execution_count": null,
   "metadata": {},
   "outputs": [],
   "source": [
    "df.loc[df['Arm_circum'].idxmax()]"
   ]
  },
  {
   "cell_type": "code",
   "execution_count": null,
   "metadata": {},
   "outputs": [],
   "source": [
    "df['Arm_circum'].max()"
   ]
  },
  {
   "cell_type": "code",
   "execution_count": null,
   "metadata": {},
   "outputs": [],
   "source": [
    "df.dropna(inplace=True)"
   ]
  },
  {
   "cell_type": "code",
   "execution_count": null,
   "metadata": {},
   "outputs": [],
   "source": [
    "sns.pairplot(df,hue='Gender')"
   ]
  },
  {
   "cell_type": "code",
   "execution_count": null,
   "metadata": {},
   "outputs": [],
   "source": [
    "sns.pairplot(df, hue='Gender', plot_kws={'alpha':0.01})"
   ]
  },
  {
   "cell_type": "code",
   "execution_count": null,
   "metadata": {},
   "outputs": [],
   "source": [
    "df.describe()"
   ]
  },
  {
   "cell_type": "code",
   "execution_count": null,
   "metadata": {},
   "outputs": [],
   "source": [
    "df.loc[df['Arm_circum'].idxmax()]"
   ]
  },
  {
   "cell_type": "code",
   "execution_count": null,
   "metadata": {},
   "outputs": [],
   "source": [
    "df.corr()"
   ]
  },
  {
   "cell_type": "markdown",
   "metadata": {},
   "source": [
    "## Analisis Lego"
   ]
  },
  {
   "cell_type": "code",
   "execution_count": null,
   "metadata": {},
   "outputs": [],
   "source": [
    "sets_df = pd.read_csv(\"Kaggle/Lego/sets.csv\")\n",
    "sets_df.head()"
   ]
  },
  {
   "cell_type": "code",
   "execution_count": null,
   "metadata": {},
   "outputs": [],
   "source": [
    "sets_df['theme_id'] = sets_df['theme_id'].astype('category')"
   ]
  },
  {
   "cell_type": "code",
   "execution_count": null,
   "metadata": {},
   "outputs": [],
   "source": [
    "sets_df.describe()"
   ]
  },
  {
   "cell_type": "code",
   "execution_count": null,
   "metadata": {},
   "outputs": [],
   "source": [
    "sets_df.loc[sets_df['num_parts'].idxmin()]"
   ]
  },
  {
   "cell_type": "code",
   "execution_count": null,
   "metadata": {},
   "outputs": [],
   "source": [
    "themes_df = pd.read_csv(\"Kaggle/Lego/themes.csv\")\n",
    "themes_df.head()"
   ]
  },
  {
   "cell_type": "code",
   "execution_count": null,
   "metadata": {},
   "outputs": [],
   "source": [
    "themes_df['id'] = themes_df['id'].astype('category')"
   ]
  },
  {
   "cell_type": "code",
   "execution_count": null,
   "metadata": {},
   "outputs": [],
   "source": [
    "pd.merge(sets_df,themes_df,left_on='theme_id',right_on='id')"
   ]
  },
  {
   "cell_type": "code",
   "execution_count": null,
   "metadata": {},
   "outputs": [],
   "source": [
    "pd.merge(sets_df,themes_df,left_on='theme_id',right_on='id',suffixes=('_set','_theme'))"
   ]
  },
  {
   "cell_type": "code",
   "execution_count": null,
   "metadata": {},
   "outputs": [],
   "source": [
    "df = pd.merge(sets_df,themes_df,left_on='theme_id',right_on='id',suffixes=('_set','_theme'))[['name_set','year','num_parts','name_theme']]\n",
    "df.head()"
   ]
  },
  {
   "cell_type": "code",
   "execution_count": null,
   "metadata": {},
   "outputs": [],
   "source": [
    "df['name_theme'] = df['name_theme'].astype(str)\n",
    "#df['num_parts'] = df[df['num_parts']>15]\n",
    "plt.pie(df['num_parts'],labels=df['name_theme'])\n",
    "plt.show()"
   ]
  },
  {
   "cell_type": "code",
   "execution_count": null,
   "metadata": {},
   "outputs": [],
   "source": [
    "df.groupby('year')['num_parts'].mean()"
   ]
  },
  {
   "cell_type": "code",
   "execution_count": null,
   "metadata": {},
   "outputs": [],
   "source": [
    "df.groupby('year')['num_parts'].mean().plot()\n",
    "plt.ylabel('num_parts')\n",
    "sns.despine()"
   ]
  },
  {
   "cell_type": "code",
   "execution_count": null,
   "metadata": {},
   "outputs": [],
   "source": [
    "serie_df = pd.DataFrame({'mean':df.groupby('year')['num_parts'].mean()\n",
    ", 'std': df.groupby('year')['num_parts'].std()})\n",
    "serie_df.head()"
   ]
  },
  {
   "cell_type": "code",
   "execution_count": null,
   "metadata": {},
   "outputs": [],
   "source": [
    "serie_df['mean_low'] = serie_df['mean'] - serie_df['std']\n",
    "serie_df['mean_up'] = serie_df['mean'] + serie_df['std']"
   ]
  },
  {
   "cell_type": "code",
   "execution_count": null,
   "metadata": {},
   "outputs": [],
   "source": [
    "serie_df['mean'].plot()\n",
    "plt.fill_between(x=serie_df.index,y1=serie_df['mean_low'],y2=serie_df['mean_up'],color='silver')\n",
    "serie_df['mean'].plot"
   ]
  },
  {
   "cell_type": "code",
   "execution_count": null,
   "metadata": {},
   "outputs": [],
   "source": [
    "serie_df = df.groupby('year').describe()['num_parts']\n",
    "serie_df.head()"
   ]
  },
  {
   "cell_type": "code",
   "execution_count": null,
   "metadata": {},
   "outputs": [],
   "source": [
    "plt.fill_between(x=serie_df.index,y1=serie_df['25%'],y2=serie_df['75%'],color='silver')\n",
    "#plt.plot(serie_df.index,serie_df['mean'],color='red')\n",
    "plt.plot(serie_df.index,serie_df['50%'],color='red')\n",
    "sns.despine()"
   ]
  },
  {
   "cell_type": "code",
   "execution_count": null,
   "metadata": {},
   "outputs": [],
   "source": [
    "df_parts = pd.read_csv(\"Kaggle/Lego/parts.csv\")\n",
    "df_parts_categories = pd.read_csv(\"Kaggle/Lego/part_categories.csv\")"
   ]
  },
  {
   "cell_type": "code",
   "execution_count": null,
   "metadata": {},
   "outputs": [],
   "source": [
    "df = pd.merge(df_parts,df_parts_categories,left_on = 'part_cat_id',right_on='id',suffixes=('_part','_category'))\n",
    "df.head()"
   ]
  },
  {
   "cell_type": "code",
   "execution_count": null,
   "metadata": {},
   "outputs": [],
   "source": [
    "df['name_category'].describe()"
   ]
  },
  {
   "cell_type": "code",
   "execution_count": null,
   "metadata": {},
   "outputs": [],
   "source": [
    "frecuencias = (df['name_category'].value_counts().to_frame().reset_index())\n",
    "frecuencias.columns =['name','freq']"
   ]
  },
  {
   "cell_type": "code",
   "execution_count": null,
   "metadata": {},
   "outputs": [],
   "source": [
    "frecuencias.head()"
   ]
  },
  {
   "cell_type": "code",
   "execution_count": null,
   "metadata": {},
   "outputs": [],
   "source": [
    "sns.set_style('whitegrid')\n",
    "fig, ax = plt.subplots(figsize=(6,11))\n",
    "sns.barplot(x='freq',y='name',data=frecuencias,ax=ax)"
   ]
  },
  {
   "cell_type": "markdown",
   "metadata": {},
   "source": [
    "## Analisis de Iris"
   ]
  },
  {
   "cell_type": "code",
   "execution_count": null,
   "metadata": {},
   "outputs": [],
   "source": [
    "df = sns.load_dataset('iris')"
   ]
  },
  {
   "cell_type": "code",
   "execution_count": null,
   "metadata": {},
   "outputs": [],
   "source": [
    "df['species'].value_counts()"
   ]
  },
  {
   "cell_type": "code",
   "execution_count": null,
   "metadata": {},
   "outputs": [],
   "source": [
    "tablas = dict(iter(df.groupby('species')))\n",
    "tablas.keys()"
   ]
  },
  {
   "cell_type": "code",
   "execution_count": null,
   "metadata": {},
   "outputs": [],
   "source": [
    "tablas['setosa'].head()"
   ]
  },
  {
   "cell_type": "code",
   "execution_count": null,
   "metadata": {},
   "outputs": [],
   "source": [
    "tablas['setosa'].describe()"
   ]
  },
  {
   "cell_type": "code",
   "execution_count": null,
   "metadata": {},
   "outputs": [],
   "source": [
    "tablas['virginica'].head()"
   ]
  },
  {
   "cell_type": "code",
   "execution_count": null,
   "metadata": {},
   "outputs": [],
   "source": [
    "tablas['virginica'].describe()"
   ]
  },
  {
   "cell_type": "code",
   "execution_count": null,
   "metadata": {},
   "outputs": [],
   "source": [
    "tablas['versicolor'].head()"
   ]
  },
  {
   "cell_type": "code",
   "execution_count": null,
   "metadata": {},
   "outputs": [],
   "source": [
    "tablas['virginica'].describe()"
   ]
  },
  {
   "cell_type": "code",
   "execution_count": null,
   "metadata": {},
   "outputs": [],
   "source": [
    "fig,ax=plt.subplots(figsize=(12,8))\n",
    "sns.boxplot(x='species',y='petal_length',data=df)"
   ]
  },
  {
   "cell_type": "code",
   "execution_count": null,
   "metadata": {},
   "outputs": [],
   "source": [
    "fig,ax=plt.subplots(figsize=(12,8))\n",
    "sns.violinplot(x='species',y='petal_length',data=df)"
   ]
  },
  {
   "cell_type": "code",
   "execution_count": null,
   "metadata": {},
   "outputs": [],
   "source": [
    "sns.pairplot(data=df,hue='species')"
   ]
  },
  {
   "cell_type": "markdown",
   "metadata": {},
   "source": [
    "## Analisis de vuelos"
   ]
  },
  {
   "cell_type": "code",
   "execution_count": null,
   "metadata": {},
   "outputs": [],
   "source": [
    "flights = sns.load_dataset(\"flights\")\n",
    "flights.head()"
   ]
  },
  {
   "cell_type": "code",
   "execution_count": null,
   "metadata": {},
   "outputs": [],
   "source": [
    "flights.describe()"
   ]
  },
  {
   "cell_type": "code",
   "execution_count": null,
   "metadata": {},
   "outputs": [],
   "source": [
    "flights = flights.pivot(\"month\",\"year\",\"passengers\")"
   ]
  },
  {
   "cell_type": "code",
   "execution_count": null,
   "metadata": {},
   "outputs": [],
   "source": [
    "fig, ax = plt.subplots(figsize=(10,8))\n",
    "sns.heatmap(flights,ax=ax,cmap='bwr')"
   ]
  },
  {
   "cell_type": "markdown",
   "metadata": {},
   "source": [
    "## Gapminder"
   ]
  },
  {
   "cell_type": "code",
   "execution_count": null,
   "metadata": {},
   "outputs": [],
   "source": [
    "pop_df = pd.read_csv('Kaggle\\Gapminder\\population_total.csv',index_col='country')\n",
    "pop_df.head()"
   ]
  },
  {
   "cell_type": "code",
   "execution_count": null,
   "metadata": {},
   "outputs": [],
   "source": [
    "health_df = pd.read_csv('Kaggle\\Gapminder\\life_expectancy_years.csv',index_col='country')\n",
    "health_df.head()"
   ]
  },
  {
   "cell_type": "code",
   "execution_count": null,
   "metadata": {},
   "outputs": [],
   "source": [
    "gdp_df = pd.read_csv('Kaggle\\Gapminder\\gdppercapita_us_inflation_adjusted.csv',index_col='country')\n",
    "gdp_df.head()"
   ]
  },
  {
   "cell_type": "code",
   "execution_count": null,
   "metadata": {},
   "outputs": [],
   "source": [
    "regions_df = pd.read_excel(\n",
    "    'Kaggle\\Gapminder\\Data Geographies - v1 - by Gapminder.xlsx',\n",
    "    sheet_name=1)\n",
    "regions_df = regions_df[['name','four_regions']].set_index('name')\n",
    "regions_df.head()"
   ]
  },
  {
   "cell_type": "code",
   "execution_count": null,
   "metadata": {},
   "outputs": [],
   "source": [
    "df = pd.DataFrame(\n",
    "    {\n",
    "    'poblacion':pop_df['2017'],\n",
    "    'salud':health_df['2017'],\n",
    "    'PIB':gdp_df['2017'],\n",
    "    'Region':regions_df['four_regions']\n",
    "})\n",
    "df.head()"
   ]
  },
  {
   "cell_type": "code",
   "execution_count": null,
   "metadata": {},
   "outputs": [],
   "source": [
    "df.to_csv(\"Gapminder 2017.csv\")"
   ]
  },
  {
   "cell_type": "code",
   "execution_count": null,
   "metadata": {},
   "outputs": [],
   "source": [
    "sns.scatterplot(x='PIB',y='salud',data=df)"
   ]
  },
  {
   "cell_type": "code",
   "execution_count": null,
   "metadata": {},
   "outputs": [],
   "source": [
    "sns.set_style('white')\n",
    "sns.scatterplot(y='PIB',x='salud',data=df)"
   ]
  },
  {
   "cell_type": "code",
   "execution_count": null,
   "metadata": {},
   "outputs": [],
   "source": [
    "df = pd.DataFrame(\n",
    "    {\n",
    "    'poblacion':pop_df['2017'],\n",
    "    'salud':health_df['2017'],\n",
    "    'PIB':gdp_df['2017'],\n",
    "    'Region':regions_df['four_regions']\n",
    "})\n",
    "df.head()"
   ]
  },
  {
   "cell_type": "code",
   "execution_count": null,
   "metadata": {},
   "outputs": [],
   "source": [
    "sns.set_context('talk')\n",
    "sns.set_style('white')\n",
    "fig,ax = plt.subplots(figsize=(16,10))\n",
    "sns.scatterplot(\n",
    "    x='PIB',\n",
    "    y='salud',\n",
    "    hue='Region',\n",
    "    size='poblacion',\n",
    "    sizes=(200,500),\n",
    "    data=df)\n",
    "ax.set_xscale('log')\n",
    "for pais, datos_pais in df.dropna().iterrows():\n",
    "    ax.text(datos_pais['PIB'],datos_pais['salud'],pais,fontsize=8)\n",
    "sns.despine()\n",
    "plt.savefig('gapminder_clon.svg')"
   ]
  },
  {
   "cell_type": "code",
   "execution_count": null,
   "metadata": {},
   "outputs": [],
   "source": [
    "df['poblacion'].describe()"
   ]
  },
  {
   "cell_type": "code",
   "execution_count": null,
   "metadata": {},
   "outputs": [],
   "source": [
    "sns.distplot(df['poblacion'],bins=30, norm_hist=False)"
   ]
  },
  {
   "cell_type": "code",
   "execution_count": null,
   "metadata": {},
   "outputs": [],
   "source": [
    "p = sns.lmplot(\n",
    "    x='PIB',\n",
    "    y='salud',\n",
    "    hue='Region',\n",
    "    data=df\n",
    " )"
   ]
  },
  {
   "cell_type": "code",
   "execution_count": null,
   "metadata": {},
   "outputs": [],
   "source": [
    "from bokeh.models import HoverTool,ColumnDataSource\n",
    "\n",
    "TOOLTIPS=[\n",
    "            (\"country\", \"${country}\"),\n",
    "            (\"(PIB,salud)\", \"($PIB, $salud)\"),\n",
    "            (\"poblacion\", \"@poblacion\")\n",
    "        ]\n",
    "\n",
    "p = figure(plot_width=1000, plot_height=1000,x_axis_type='log',y_axis_type='log',tooltips=TOOLTIPS)\n",
    "\n",
    "for _, row in df.iterrows():\n",
    "    p.scatter('PIB','salud',source=df,size='poblacion')\n",
    "\n",
    "sns.despine()\n",
    "\n",
    "show(p)"
   ]
  },
  {
   "cell_type": "code",
   "execution_count": null,
   "metadata": {},
   "outputs": [],
   "source": [
    "?ax.text()"
   ]
  },
  {
   "cell_type": "markdown",
   "metadata": {},
   "source": [
    "# Modelos"
   ]
  },
  {
   "cell_type": "markdown",
   "metadata": {},
   "source": [
    "## Navaja de Ockham\n",
    "    - La explicación más simple es la más probable\n",
    "    - Menor cantidad  de supuestos\n",
    "    - Menor cantidad de parámetros\n",
    "    - Principio  estético"
   ]
  },
  {
   "cell_type": "markdown",
   "metadata": {},
   "source": [
    "## Taxonomía de modelos \n",
    "    - Caja negra(redes) vs modelo descriptivo(arbol de decisión)\n",
    "    - Modelos de principio(Agente humano,tenga sentido,sea interpretable) vs orientados a datos\n",
    "    - Estocasticos vs deterministas\n",
    "    - lineal vs no lineal"
   ]
  },
  {
   "cell_type": "markdown",
   "metadata": {},
   "source": [
    "# Modelos base(baseline)"
   ]
  },
  {
   "cell_type": "code",
   "execution_count": null,
   "metadata": {},
   "outputs": [],
   "source": [
    "iris_df = sns.load_dataset('iris')\n",
    "iris_df.head()"
   ]
  },
  {
   "cell_type": "code",
   "execution_count": null,
   "metadata": {},
   "outputs": [],
   "source": [
    "sns.pairplot(iris_df,hue='species')"
   ]
  },
  {
   "cell_type": "code",
   "execution_count": null,
   "metadata": {},
   "outputs": [],
   "source": [
    "iris_df['species'].value_counts()"
   ]
  },
  {
   "cell_type": "code",
   "execution_count": null,
   "metadata": {},
   "outputs": [],
   "source": [
    "def modelo_chango(instancia):\n",
    "    return random.choice(['setosa','virginica','versicolor'])"
   ]
  },
  {
   "cell_type": "code",
   "execution_count": null,
   "metadata": {},
   "outputs": [],
   "source": [
    "instancias = iris_df.drop(columns=['species'])\n",
    "iris_df['predichas']=[\n",
    "    modelo_chango(instancia)\n",
    "    for instancia in instancias.iterrows()\n",
    "]\n",
    "iris_df.head()"
   ]
  },
  {
   "cell_type": "code",
   "execution_count": null,
   "metadata": {},
   "outputs": [],
   "source": [
    "100*np.mean(iris_df['species'] == iris_df['predichas'])"
   ]
  },
  {
   "cell_type": "code",
   "execution_count": null,
   "metadata": {},
   "outputs": [],
   "source": [
    "def modelo_a_ojo(instancia):\n",
    "    petal_length = instancia['petal_length']\n",
    "    if petal_length <= 2.5:\n",
    "        return 'setosa'\n",
    "    elif petal_length <= 4.6:\n",
    "        return 'versicolor'\n",
    "    elif petal_length <= 7:\n",
    "        return 'virginica'\n",
    "    else:\n",
    "        return 'No existe la planta'"
   ]
  },
  {
   "cell_type": "code",
   "execution_count": null,
   "metadata": {},
   "outputs": [],
   "source": [
    "iris_df['predichas'] = [\n",
    "    modelo_a_ojo(renglon)\n",
    "    for indice,renglon in instancias.iterrows()\n",
    "]\n",
    "iris_df.head()"
   ]
  },
  {
   "cell_type": "code",
   "execution_count": null,
   "metadata": {},
   "outputs": [],
   "source": [
    "100*np.mean(iris_df['species'] == iris_df['predichas'])"
   ]
  },
  {
   "cell_type": "code",
   "execution_count": null,
   "metadata": {},
   "outputs": [],
   "source": [
    "iris_df.describe()"
   ]
  },
  {
   "cell_type": "code",
   "execution_count": null,
   "metadata": {},
   "outputs": [],
   "source": []
  },
  {
   "cell_type": "code",
   "execution_count": null,
   "metadata": {},
   "outputs": [],
   "source": []
  },
  {
   "cell_type": "code",
   "execution_count": null,
   "metadata": {},
   "outputs": [],
   "source": []
  },
  {
   "cell_type": "code",
   "execution_count": null,
   "metadata": {},
   "outputs": [],
   "source": []
  },
  {
   "cell_type": "code",
   "execution_count": null,
   "metadata": {},
   "outputs": [],
   "source": []
  },
  {
   "cell_type": "code",
   "execution_count": null,
   "metadata": {},
   "outputs": [],
   "source": []
  },
  {
   "cell_type": "code",
   "execution_count": null,
   "metadata": {},
   "outputs": [],
   "source": []
  },
  {
   "cell_type": "code",
   "execution_count": null,
   "metadata": {},
   "outputs": [],
   "source": []
  },
  {
   "cell_type": "code",
   "execution_count": null,
   "metadata": {},
   "outputs": [],
   "source": []
  },
  {
   "cell_type": "code",
   "execution_count": null,
   "metadata": {},
   "outputs": [],
   "source": []
  },
  {
   "cell_type": "code",
   "execution_count": null,
   "metadata": {},
   "outputs": [],
   "source": []
  },
  {
   "cell_type": "code",
   "execution_count": null,
   "metadata": {},
   "outputs": [],
   "source": []
  },
  {
   "cell_type": "code",
   "execution_count": null,
   "metadata": {},
   "outputs": [],
   "source": []
  },
  {
   "cell_type": "code",
   "execution_count": null,
   "metadata": {},
   "outputs": [],
   "source": []
  },
  {
   "cell_type": "code",
   "execution_count": null,
   "metadata": {},
   "outputs": [],
   "source": []
  },
  {
   "cell_type": "code",
   "execution_count": null,
   "metadata": {},
   "outputs": [],
   "source": []
  },
  {
   "cell_type": "code",
   "execution_count": null,
   "metadata": {},
   "outputs": [],
   "source": []
  },
  {
   "cell_type": "code",
   "execution_count": null,
   "metadata": {},
   "outputs": [],
   "source": []
  },
  {
   "cell_type": "code",
   "execution_count": null,
   "metadata": {},
   "outputs": [],
   "source": []
  },
  {
   "cell_type": "code",
   "execution_count": null,
   "metadata": {},
   "outputs": [],
   "source": []
  },
  {
   "cell_type": "code",
   "execution_count": null,
   "metadata": {},
   "outputs": [],
   "source": []
  },
  {
   "cell_type": "code",
   "execution_count": null,
   "metadata": {},
   "outputs": [],
   "source": []
  }
 ],
 "metadata": {
  "kernelspec": {
   "display_name": "Python 3",
   "language": "python",
   "name": "python3"
  },
  "language_info": {
   "codemirror_mode": {
    "name": "ipython",
    "version": 3
   },
   "file_extension": ".py",
   "mimetype": "text/x-python",
   "name": "python",
   "nbconvert_exporter": "python",
   "pygments_lexer": "ipython3",
   "version": "3.7.6"
  }
 },
 "nbformat": 4,
 "nbformat_minor": 4
}
