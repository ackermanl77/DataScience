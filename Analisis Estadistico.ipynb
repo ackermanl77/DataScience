{
 "cells": [
  {
   "cell_type": "markdown",
   "metadata": {},
   "source": [
    "# Análisis estadístico\n",
    "\n",
    "## Introducción a las pruebas de hipótesis\n",
    "\n",
    "Supongamos que se nos da una moneda y al tirarla 30 veces obtenemos 22 soles y 8 águilas ¿La moneda es justa?\n",
    "\n",
    "- Hipótesis nula: El resultado observado se debe al azar\n",
    "- Hiótesis alternativa: La negación de la hipótesis nula\n",
    "    \n"
   ]
  },
  {
   "cell_type": "markdown",
   "metadata": {},
   "source": [
    "## Método alternativo: simulación"
   ]
  },
  {
   "cell_type": "code",
   "execution_count": 1,
   "metadata": {},
   "outputs": [],
   "source": [
    "import numpy as np\n",
    "import numba\n",
    "from scipy import stats\n",
    "import matplotlib.pyplot as plt\n",
    "import itertools"
   ]
  },
  {
   "cell_type": "code",
   "execution_count": 2,
   "metadata": {},
   "outputs": [
    {
     "data": {
      "text/plain": [
       "9.5e-05"
      ]
     },
     "execution_count": 2,
     "metadata": {},
     "output_type": "execute_result"
    }
   ],
   "source": [
    "@numba.jit\n",
    "def calcular_p(n, p, repeticiones=1_000_000):\n",
    "    M = 0\n",
    "    for i in range(10000):\n",
    "        k = np.sum(np.random.random(size=n) < p)\n",
    "        M += int((k > 21) or (k < 8)) \n",
    "    return M/repeticiones\n",
    "\n",
    "n, p = 30, 0.5\n",
    "calcular_p(n, p)"
   ]
  },
  {
   "cell_type": "code",
   "execution_count": 3,
   "metadata": {},
   "outputs": [
    {
     "data": {
      "text/plain": [
       "0.000108"
      ]
     },
     "execution_count": 3,
     "metadata": {},
     "output_type": "execute_result"
    }
   ],
   "source": [
    "calcular_p(30, .5)"
   ]
  },
  {
   "cell_type": "code",
   "execution_count": 4,
   "metadata": {},
   "outputs": [],
   "source": [
    "X = [1.1, 3.0, 2.8, 1.9, 2.5, 2.6]\n",
    "Y = [8.1, 3.5, 5.4, 2.4, 3.0, 4.1]"
   ]
  },
  {
   "cell_type": "code",
   "execution_count": 5,
   "metadata": {},
   "outputs": [
    {
     "data": {
      "image/png": "[encoded data removed]",
      "text/plain": [
       "<Figure size 432x288 with 1 Axes>"
      ]
     },
     "metadata": {
      "needs_background": "light"
     },
     "output_type": "display_data"
    }
   ],
   "source": [
    "def comparar_normales(X, Y):\n",
    "    N_1 = stats.norm(np.mean(X), np.std(X))\n",
    "    N_2 = stats.norm(np.mean(Y), np.std(Y))\n",
    "\n",
    "    a,b = min(X+Y), max(X+Y)\n",
    "    dominio = np.linspace(a, b)\n",
    "    plt.plot(dominio, N_1.pdf(dominio), color='blue')\n",
    "    plt.plot(dominio, N_2.pdf(dominio), color='red')\n",
    "    \n",
    "comparar_normales(X,Y)"
   ]
  },
  {
   "cell_type": "code",
   "execution_count": 6,
   "metadata": {},
   "outputs": [],
   "source": [
    "def comparar_normales(X, Y):\n",
    "    N_1 = stats.norm(np.mean(X), np.std(X))\n",
    "    N_2 = stats.norm(np.mean(Y), np.std(Y))\n",
    "\n",
    "    a,b = min(itertools.chain((X+Y))), max(itertools.chain((X+Y)))\n",
    "    dominio = np.linspace(a, b)\n",
    "    plt.plot(dominio, N_1.pdf(dominio), color='blue')\n",
    "    plt.plot(dominio, N_2.pdf(dominio), color='red')"
   ]
  },
  {
   "cell_type": "code",
   "execution_count": 7,
   "metadata": {},
   "outputs": [
    {
     "data": {
      "image/png": "[encoded data removed]",
      "text/plain": [
       "<Figure size 432x288 with 1 Axes>"
      ]
     },
     "metadata": {
      "needs_background": "light"
     },
     "output_type": "display_data"
    }
   ],
   "source": [
    "X = np.random.normal(loc = 5, scale = 3, size=30)\n",
    "Y = np.random.normal(loc = 6, scale = 3, size=30)\n",
    "comparar_normales(X, Y)"
   ]
  },
  {
   "cell_type": "code",
   "execution_count": 8,
   "metadata": {},
   "outputs": [
    {
     "data": {
      "text/plain": [
       "array([-1.74725717e+00,  9.71809868e+00,  4.56151043e+00,  5.34765344e+00,\n",
       "        1.82701149e+00,  7.82513208e+00,  3.77089557e+00,  1.70204531e+00,\n",
       "        4.70293899e+00,  9.15724611e+00,  3.27232131e+00,  4.92995035e-02,\n",
       "        6.56029179e+00,  6.67595632e+00, -1.32432188e-03,  9.18387691e+00,\n",
       "        7.44203774e+00,  2.12259862e+00,  7.43574539e+00,  3.79910005e+00,\n",
       "        6.25498524e+00,  3.93355039e+00,  9.05441118e+00,  5.43071221e+00,\n",
       "        7.30680544e-01,  6.70155127e+00,  3.29980660e+00,  4.33328972e+00,\n",
       "        7.52485764e+00,  2.61847765e+00])"
      ]
     },
     "execution_count": 8,
     "metadata": {},
     "output_type": "execute_result"
    }
   ],
   "source": [
    "X"
   ]
  },
  {
   "cell_type": "code",
   "execution_count": 9,
   "metadata": {},
   "outputs": [
    {
     "data": {
      "text/plain": [
       "array([ 7.69067335,  8.17109489,  9.6232107 ,  4.44375221,  1.05428363,\n",
       "        4.25887762, 10.51645821,  6.3569736 ,  5.36588625,  0.35504057,\n",
       "        8.59421232,  3.5219217 ,  7.55326625,  7.64896028,  4.64980392,\n",
       "        4.57067474,  5.66922693,  3.33178468,  7.85638811,  8.0576713 ,\n",
       "        5.11142464,  6.66598884,  2.308162  ,  2.834069  ,  5.55271166,\n",
       "        4.07316557,  4.96504541,  5.83341872,  7.69285457,  5.28445114])"
      ]
     },
     "execution_count": 9,
     "metadata": {},
     "output_type": "execute_result"
    }
   ],
   "source": [
    "Y"
   ]
  },
  {
   "cell_type": "code",
   "execution_count": 10,
   "metadata": {},
   "outputs": [
    {
     "data": {
      "text/plain": [
       "array([-1.74725717e+00,  9.71809868e+00,  4.56151043e+00,  5.34765344e+00,\n",
       "        1.82701149e+00,  7.82513208e+00,  3.77089557e+00,  1.70204531e+00,\n",
       "        4.70293899e+00,  9.15724611e+00,  3.27232131e+00,  4.92995035e-02,\n",
       "        6.56029179e+00,  6.67595632e+00, -1.32432188e-03,  9.18387691e+00,\n",
       "        7.44203774e+00,  2.12259862e+00,  7.43574539e+00,  3.79910005e+00,\n",
       "        6.25498524e+00,  3.93355039e+00,  9.05441118e+00,  5.43071221e+00,\n",
       "        7.30680544e-01,  6.70155127e+00,  3.29980660e+00,  4.33328972e+00,\n",
       "        7.52485764e+00,  2.61847765e+00,  7.69067335e+00,  8.17109489e+00,\n",
       "        9.62321070e+00,  4.44375221e+00,  1.05428363e+00,  4.25887762e+00,\n",
       "        1.05164582e+01,  6.35697360e+00,  5.36588625e+00,  3.55040569e-01,\n",
       "        8.59421232e+00,  3.52192170e+00,  7.55326625e+00,  7.64896028e+00,\n",
       "        4.64980392e+00,  4.57067474e+00,  5.66922693e+00,  3.33178468e+00,\n",
       "        7.85638811e+00,  8.05767130e+00,  5.11142464e+00,  6.66598884e+00,\n",
       "        2.30816200e+00,  2.83406900e+00,  5.55271166e+00,  4.07316557e+00,\n",
       "        4.96504541e+00,  5.83341872e+00,  7.69285457e+00,  5.28445114e+00])"
      ]
     },
     "execution_count": 10,
     "metadata": {},
     "output_type": "execute_result"
    }
   ],
   "source": [
    "Z = np.concatenate([X, Y])\n",
    "Z"
   ]
  },
  {
   "cell_type": "code",
   "execution_count": 11,
   "metadata": {},
   "outputs": [
    {
     "data": {
      "text/plain": [
       "array([ 7.69067335e+00,  9.62321070e+00,  7.52485764e+00,  3.79910005e+00,\n",
       "        5.36588625e+00,  7.82513208e+00,  5.43071221e+00,  4.70293899e+00,\n",
       "        7.69285457e+00,  5.11142464e+00,  7.43574539e+00, -1.32432188e-03,\n",
       "        8.59421232e+00,  3.77089557e+00,  3.52192170e+00,  4.92995035e-02,\n",
       "        5.83341872e+00,  5.55271166e+00,  6.35697360e+00,  3.29980660e+00,\n",
       "        4.07316557e+00, -1.74725717e+00,  7.30680544e-01,  4.56151043e+00,\n",
       "        8.05767130e+00,  2.61847765e+00,  9.71809868e+00,  1.05428363e+00,\n",
       "        5.34765344e+00,  9.18387691e+00,  4.44375221e+00,  1.70204531e+00,\n",
       "        3.27232131e+00,  5.66922693e+00,  4.64980392e+00,  7.85638811e+00,\n",
       "        1.05164582e+01,  4.96504541e+00,  6.25498524e+00,  3.55040569e-01,\n",
       "        3.93355039e+00,  8.17109489e+00,  2.83406900e+00,  6.56029179e+00,\n",
       "        4.25887762e+00,  6.67595632e+00,  6.70155127e+00,  2.30816200e+00,\n",
       "        7.64896028e+00,  4.33328972e+00,  7.55326625e+00,  7.44203774e+00,\n",
       "        2.12259862e+00,  3.33178468e+00,  5.28445114e+00,  9.15724611e+00,\n",
       "        6.66598884e+00,  4.57067474e+00,  9.05441118e+00,  1.82701149e+00])"
      ]
     },
     "execution_count": 11,
     "metadata": {},
     "output_type": "execute_result"
    }
   ],
   "source": [
    "np.random.shuffle(Z)\n",
    "Z"
   ]
  },
  {
   "cell_type": "code",
   "execution_count": 12,
   "metadata": {},
   "outputs": [],
   "source": [
    "@numba.jit\n",
    "def prueba_diferencia_medias(X, Y, repeticiones=1_000_000):\n",
    "    Z = np.concatenate([X, Y])\n",
    "    diferencias=[]\n",
    "    diferencias_obs = np.mean(X) - np.mean(Y)\n",
    "    for i in range(repeticiones):\n",
    "        np.random.shuffle(Z)\n",
    "        X_simulado = Z[:len(X)]\n",
    "        Y_simulado = Z[len(X):]\n",
    "        diferencias.append(np.mean(X_simulado) - np.mean(Y_simulado))\n",
    "    plt.hist(diferencias)\n",
    "    plt.axvline(diferencias_obs,color='red')\n",
    "    #return np.sum(np.abs(np.array(diferencias) - diferencias_obs))/repeticiones\n",
    "    #return np.sum(np.array(diferencias) >= diferencias_obs)/repeticiones    \n",
    "    return np.sum(np.abs(np.array(diferencias)) <= np.abs(diferencias_obs))/repeticiones"
   ]
  },
  {
   "cell_type": "code",
   "execution_count": 13,
   "metadata": {},
   "outputs": [
    {
     "data": {
      "text/plain": [
       "0.965981"
      ]
     },
     "execution_count": 13,
     "metadata": {},
     "output_type": "execute_result"
    },
    {
     "data": {
      "image/png": "[encoded data removed]",
      "text/plain": [
       "<Figure size 432x288 with 1 Axes>"
      ]
     },
     "metadata": {
      "needs_background": "light"
     },
     "output_type": "display_data"
    }
   ],
   "source": [
    "X = np.random.normal(loc=8, scale=3, size=30)\n",
    "Y = np.random.normal(loc=9, scale=3, size=40)\n",
    "\n",
    "prueba_diferencia_medias(X,Y)"
   ]
  },
  {
   "cell_type": "code",
   "execution_count": 14,
   "metadata": {},
   "outputs": [
    {
     "ename": "TypeError",
     "evalue": "object of type 'int' has no len()",
     "output_type": "error",
     "traceback": [
      "\u001b[1;31m---------------------------------------------------------------------------\u001b[0m",
      "\u001b[1;31mTypeError\u001b[0m                                 Traceback (most recent call last)",
      "\u001b[1;32m<ipython-input-14-ef3f9e88f357>\u001b[0m in \u001b[0;36m<module>\u001b[1;34m\u001b[0m\n\u001b[0;32m      2\u001b[0m \u001b[0mxbar\u001b[0m \u001b[1;33m=\u001b[0m \u001b[1;33m[\u001b[0m\u001b[1;32mNone\u001b[0m\u001b[1;33m]\u001b[0m\u001b[1;33m*\u001b[0m\u001b[1;36m100000\u001b[0m\u001b[1;33m\u001b[0m\u001b[1;33m\u001b[0m\u001b[0m\n\u001b[0;32m      3\u001b[0m \u001b[1;32mfor\u001b[0m \u001b[0mi\u001b[0m \u001b[1;32min\u001b[0m \u001b[0mrange\u001b[0m\u001b[1;33m(\u001b[0m\u001b[1;36m100000\u001b[0m\u001b[1;33m)\u001b[0m\u001b[1;33m:\u001b[0m\u001b[1;33m\u001b[0m\u001b[1;33m\u001b[0m\u001b[0m\n\u001b[1;32m----> 4\u001b[1;33m     \u001b[0msample\u001b[0m \u001b[1;33m=\u001b[0m \u001b[0mN\u001b[0m\u001b[1;33m[\u001b[0m\u001b[0mnp\u001b[0m\u001b[1;33m.\u001b[0m\u001b[0mrandom\u001b[0m\u001b[1;33m.\u001b[0m\u001b[0mrandint\u001b[0m\u001b[1;33m(\u001b[0m\u001b[0mlen\u001b[0m\u001b[1;33m(\u001b[0m\u001b[0mN\u001b[0m\u001b[1;33m)\u001b[0m\u001b[1;33m,\u001b[0m\u001b[0msize\u001b[0m\u001b[1;33m=\u001b[0m\u001b[0mlen\u001b[0m\u001b[1;33m(\u001b[0m\u001b[0mN\u001b[0m\u001b[1;33m)\u001b[0m\u001b[1;33m)\u001b[0m\u001b[1;33m]\u001b[0m\u001b[1;33m\u001b[0m\u001b[1;33m\u001b[0m\u001b[0m\n\u001b[0m\u001b[0;32m      5\u001b[0m     \u001b[0mxbar\u001b[0m\u001b[1;33m[\u001b[0m\u001b[0mi\u001b[0m\u001b[1;33m]\u001b[0m \u001b[1;33m=\u001b[0m \u001b[0mnp\u001b[0m\u001b[1;33m.\u001b[0m\u001b[0mmean\u001b[0m\u001b[1;33m(\u001b[0m\u001b[0msample\u001b[0m\u001b[1;33m)\u001b[0m\u001b[1;33m\u001b[0m\u001b[1;33m\u001b[0m\u001b[0m\n\u001b[0;32m      6\u001b[0m \u001b[1;33m\u001b[0m\u001b[0m\n",
      "\u001b[1;31mTypeError\u001b[0m: object of type 'int' has no len()"
     ]
    }
   ],
   "source": [
    "N = np.random.randint(1, 50)\n",
    "xbar = [None]*100000\n",
    "for i in range(100000):\n",
    "    sample = N[np.random.randint(len(N),size=len(N))]\n",
    "    xbar[i] = np.mean(sample)\n",
    "    \n",
    "plt.hist(xbar, bin=30)"
   ]
  },
  {
   "cell_type": "code",
   "execution_count": null,
   "metadata": {},
   "outputs": [],
   "source": [
    "conf = 95\n",
    "a = (100 - conf)/2\n",
    "b = 100 - a\n",
    "np.percentile(xbar, [a,b])"
   ]
  },
  {
   "cell_type": "code",
   "execution_count": null,
   "metadata": {},
   "outputs": [],
   "source": [
    "np.mean(N)"
   ]
  },
  {
   "cell_type": "code",
   "execution_count": null,
   "metadata": {},
   "outputs": [],
   "source": []
  }
 ],
 "metadata": {
  "kernelspec": {
   "display_name": "Python 3",
   "language": "python",
   "name": "python3"
  },
  "language_info": {
   "codemirror_mode": {
    "name": "ipython",
    "version": 3
   },
   "file_extension": ".py",
   "mimetype": "text/x-python",
   "name": "python",
   "nbconvert_exporter": "python",
   "pygments_lexer": "ipython3",
   "version": "3.7.6"
  }
 },
 "nbformat": 4,
 "nbformat_minor": 4
}
