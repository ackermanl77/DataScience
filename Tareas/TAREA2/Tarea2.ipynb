{
 "cells": [
  {
   "cell_type": "markdown",
   "metadata": {},
   "source": [
    "- 2.6 Compare each pair of distributions to decide which one has the greater mean and the greater standard deviation. You do not need to calculate the actual values of $\\mu$ and $\\sigma$, just how they compare with each other.\n",
    "    - (a) \n",
    "        - i. 3; 5; 5; 5; 8; 11; 11; 11; 13.\n",
    "        - ii. 3; 5; 5; 5; 8; 11; 11; 11; 20. \n",
    "            - ii tiene una mayor media y desviación estandar ya que tienen casi los mismos valores que la primera pero un valor mayor por lo tanto la media debería de ser mayor y la desviación tambien\n",
    "\n",
    "    - (b) \n",
    "        - i. -20; 0; 0; 0; 15; 25; 30; 30. \n",
    "            - tiene una mayor media ya que como tiene un numero negativo menor  la media es menor\n",
    "        - ii. -40; 0; 0; 0; 15; 25; 30; 30. > standard deviation\n",
    "            - tiene mayor desviación ya que la diferencia entre el primer punto y el ultimo es mayor que en i \n",
    "\n",
    "    - (c)\n",
    "        - i. 0; 2; 4; 6; 8; 10. \n",
    "        - ii. 20; 22; 24; 26; 28; 30.\n",
    "            - Tiene mayor media ya que la suma debe de dar un numero mas grande que en i y como se divide entre el total de elementos la media es mayor\n",
    "            - i y ii tiene la misma desviación ya que la diferencia entre el primer punto y el ultimo es la misma\n",
    "\n",
    "    - (d) \n",
    "        - i. 100; 200; 300; 400; 500.\n",
    "        - ii. 0; 50; 300; 550; 600.\n",
    "            - ii tiene una mayor desviación ya que la diferencia entre el primer punto y el ultimo es mayor que en i\n",
    "            - i y ii tiene la misma media porque las difenrencia entre cada elemento de ii en i por cada elemento  sigue un patrón en ii 100,150 con respecto a i los primeros dos elementos el elemento de en medio es igual y en i 150,100  respecto a ii los dos ultimos elementos por lo tanto la media en ambas es igual"
   ]
  },
  {
   "cell_type": "markdown",
   "metadata": {},
   "source": [
    "- 2.8 How does the arithmetic and geometric mean compare on random integers?.\n",
    "    - "
   ]
  },
  {
   "cell_type": "markdown",
   "metadata": {},
   "source": [
    "- 2.14 Find some interesting data sets, and compare how similar their means and medians are.\n",
    "    - What are the distributions where the mean and median difer on the most?"
   ]
  },
  {
   "cell_type": "code",
   "execution_count": 1,
   "metadata": {},
   "outputs": [],
   "source": [
    "import collections\n",
    "import math\n",
    "import matplotlib.pyplot as plt\n",
    "import numpy as np\n",
    "import pandas as pd"
   ]
  },
  {
   "cell_type": "code",
   "execution_count": 2,
   "metadata": {},
   "outputs": [],
   "source": [
    "def obtener_valores_enteros_tabla(path):\n",
    "    tabla = pd.read_csv(path)\n",
    "    numericas = tabla.dtypes == np.dtype('int64')\n",
    "    columnas_numericas = [key for (key,value) in numericas.to_dict().items() if value]\n",
    "    tabla_num = tabla[columnas_numericas]\n",
    "    #tabla_num = tabla_num.dropna()\n",
    "    return tabla_num"
   ]
  },
  {
   "cell_type": "code",
   "execution_count": 3,
   "metadata": {},
   "outputs": [],
   "source": [
    "def media_mediana(df):\n",
    "    media = []\n",
    "    mediana = []\n",
    "    for col in df:\n",
    "        media.append(df[col].mean())\n",
    "        mediana.append(df[col].median())\n",
    "        #print('La media de ',col,'es: ',df[col].mean())\n",
    "        #print('La mediana de ',col,'es: ',df[col].median())\n",
    "    return media,mediana"
   ]
  },
  {
   "cell_type": "code",
   "execution_count": 4,
   "metadata": {},
   "outputs": [],
   "source": [
    "def obtener_valores_flotantes_tabla(path):\n",
    "    tabla = pd.read_csv(path)\n",
    "    numericas = tabla.dtypes == np.dtype('float64')\n",
    "    columnas_numericas = [key for (key,value) in numericas.to_dict().items() if value]\n",
    "    tabla_num = tabla[columnas_numericas]\n",
    "    tabla_num = tabla_num.dropna()\n",
    "    return tabla_num"
   ]
  },
  {
   "cell_type": "code",
   "execution_count": 5,
   "metadata": {},
   "outputs": [],
   "source": [
    "def imprimir_media_mediana(df):\n",
    "    for col in df:\n",
    "        print('La media de ',col,'es: ',df[col].mean())\n",
    "        print('La mediana de ',col,'es: ',df[col].median())"
   ]
  },
  {
   "cell_type": "code",
   "execution_count": 6,
   "metadata": {},
   "outputs": [
    {
     "data": {
      "text/html": [
       "<div>\n",
       "<style scoped>\n",
       "    .dataframe tbody tr th:only-of-type {\n",
       "        vertical-align: middle;\n",
       "    }\n",
       "\n",
       "    .dataframe tbody tr th {\n",
       "        vertical-align: top;\n",
       "    }\n",
       "\n",
       "    .dataframe thead th {\n",
       "        text-align: right;\n",
       "    }\n",
       "</style>\n",
       "<table border=\"1\" class=\"dataframe\">\n",
       "  <thead>\n",
       "    <tr style=\"text-align: right;\">\n",
       "      <th></th>\n",
       "      <th>math score</th>\n",
       "      <th>reading score</th>\n",
       "      <th>writing score</th>\n",
       "    </tr>\n",
       "  </thead>\n",
       "  <tbody>\n",
       "    <tr>\n",
       "      <th>0</th>\n",
       "      <td>72</td>\n",
       "      <td>72</td>\n",
       "      <td>74</td>\n",
       "    </tr>\n",
       "    <tr>\n",
       "      <th>1</th>\n",
       "      <td>69</td>\n",
       "      <td>90</td>\n",
       "      <td>88</td>\n",
       "    </tr>\n",
       "    <tr>\n",
       "      <th>2</th>\n",
       "      <td>90</td>\n",
       "      <td>95</td>\n",
       "      <td>93</td>\n",
       "    </tr>\n",
       "    <tr>\n",
       "      <th>3</th>\n",
       "      <td>47</td>\n",
       "      <td>57</td>\n",
       "      <td>44</td>\n",
       "    </tr>\n",
       "    <tr>\n",
       "      <th>4</th>\n",
       "      <td>76</td>\n",
       "      <td>78</td>\n",
       "      <td>75</td>\n",
       "    </tr>\n",
       "  </tbody>\n",
       "</table>\n",
       "</div>"
      ],
      "text/plain": [
       "   math score  reading score  writing score\n",
       "0          72             72             74\n",
       "1          69             90             88\n",
       "2          90             95             93\n",
       "3          47             57             44\n",
       "4          76             78             75"
      ]
     },
     "execution_count": 6,
     "metadata": {},
     "output_type": "execute_result"
    }
   ],
   "source": [
    "# Estos datos son de una muestra acerca de el desempeño de unos estudiantes\n",
    "path1 = 'StudentsPerformance.csv'\n",
    "tabla1 = obtener_valores_enteros_tabla(path1)\n",
    "tabla1.head()"
   ]
  },
  {
   "cell_type": "code",
   "execution_count": 7,
   "metadata": {},
   "outputs": [
    {
     "name": "stdout",
     "output_type": "stream",
     "text": [
      "La media de  math score es:  66.089\n",
      "La mediana de  math score es:  66.0\n",
      "La media de  reading score es:  69.169\n",
      "La mediana de  reading score es:  70.0\n",
      "La media de  writing score es:  68.054\n",
      "La mediana de  writing score es:  69.0\n"
     ]
    }
   ],
   "source": [
    "#Obtenemos la media y mediana de cada columna\n",
    "media1, mediana1 = media_mediana(tabla1)\n",
    "imprimir_media_mediana(tabla1)"
   ]
  },
  {
   "cell_type": "code",
   "execution_count": 8,
   "metadata": {},
   "outputs": [
    {
     "data": {
      "text/plain": [
       "[<matplotlib.lines.Line2D at 0x2014ec5a1d0>]"
      ]
     },
     "execution_count": 8,
     "metadata": {},
     "output_type": "execute_result"
    },
    {
     "data": {
      "image/png": "[encoded data removed]",
      "text/plain": [
       "<Figure size 720x648 with 1 Axes>"
      ]
     },
     "metadata": {
      "needs_background": "light"
     },
     "output_type": "display_data"
    }
   ],
   "source": [
    "#Ahora grafiquemos la media y mediana de cada conjunto de datos\n",
    "plt.figure(figsize=(10,9))\n",
    "plt.plot(mediana1,color='g', marker='d',linestyle='',label = 'mediana')\n",
    "plt.plot(media1,color='m', marker='*',linestyle='',label='media')"
   ]
  },
  {
   "cell_type": "code",
   "execution_count": 9,
   "metadata": {},
   "outputs": [
    {
     "data": {
      "text/html": [
       "<div>\n",
       "<style scoped>\n",
       "    .dataframe tbody tr th:only-of-type {\n",
       "        vertical-align: middle;\n",
       "    }\n",
       "\n",
       "    .dataframe tbody tr th {\n",
       "        vertical-align: top;\n",
       "    }\n",
       "\n",
       "    .dataframe thead th {\n",
       "        text-align: right;\n",
       "    }\n",
       "</style>\n",
       "<table border=\"1\" class=\"dataframe\">\n",
       "  <thead>\n",
       "    <tr style=\"text-align: right;\">\n",
       "      <th></th>\n",
       "      <th>open</th>\n",
       "      <th>high</th>\n",
       "      <th>low</th>\n",
       "      <th>close</th>\n",
       "      <th>change</th>\n",
       "      <th>changePercent</th>\n",
       "      <th>vwap</th>\n",
       "      <th>changeOverTime</th>\n",
       "    </tr>\n",
       "  </thead>\n",
       "  <tbody>\n",
       "    <tr>\n",
       "      <th>0</th>\n",
       "      <td>64.7864</td>\n",
       "      <td>65.4084</td>\n",
       "      <td>63.8145</td>\n",
       "      <td>65.2918</td>\n",
       "      <td>65.291800</td>\n",
       "      <td>0.000</td>\n",
       "      <td>65.0920</td>\n",
       "      <td>0.000000</td>\n",
       "    </tr>\n",
       "    <tr>\n",
       "      <th>1</th>\n",
       "      <td>65.1363</td>\n",
       "      <td>65.2821</td>\n",
       "      <td>63.1537</td>\n",
       "      <td>63.1537</td>\n",
       "      <td>-2.138200</td>\n",
       "      <td>-3.275</td>\n",
       "      <td>63.9612</td>\n",
       "      <td>-0.032747</td>\n",
       "    </tr>\n",
       "    <tr>\n",
       "      <th>2</th>\n",
       "      <td>63.3675</td>\n",
       "      <td>63.4938</td>\n",
       "      <td>62.2109</td>\n",
       "      <td>63.0467</td>\n",
       "      <td>-0.106910</td>\n",
       "      <td>-0.169</td>\n",
       "      <td>62.9006</td>\n",
       "      <td>-0.034386</td>\n",
       "    </tr>\n",
       "    <tr>\n",
       "      <th>3</th>\n",
       "      <td>62.7843</td>\n",
       "      <td>63.1245</td>\n",
       "      <td>62.4150</td>\n",
       "      <td>62.8621</td>\n",
       "      <td>-0.184659</td>\n",
       "      <td>-0.293</td>\n",
       "      <td>62.8678</td>\n",
       "      <td>-0.037213</td>\n",
       "    </tr>\n",
       "    <tr>\n",
       "      <th>4</th>\n",
       "      <td>63.0759</td>\n",
       "      <td>63.3675</td>\n",
       "      <td>62.8232</td>\n",
       "      <td>63.0273</td>\n",
       "      <td>0.165222</td>\n",
       "      <td>0.263</td>\n",
       "      <td>63.0539</td>\n",
       "      <td>-0.034683</td>\n",
       "    </tr>\n",
       "  </tbody>\n",
       "</table>\n",
       "</div>"
      ],
      "text/plain": [
       "      open     high      low    close     change  changePercent     vwap  \\\n",
       "0  64.7864  65.4084  63.8145  65.2918  65.291800          0.000  65.0920   \n",
       "1  65.1363  65.2821  63.1537  63.1537  -2.138200         -3.275  63.9612   \n",
       "2  63.3675  63.4938  62.2109  63.0467  -0.106910         -0.169  62.9006   \n",
       "3  62.7843  63.1245  62.4150  62.8621  -0.184659         -0.293  62.8678   \n",
       "4  63.0759  63.3675  62.8232  63.0273   0.165222          0.263  63.0539   \n",
       "\n",
       "   changeOverTime  \n",
       "0        0.000000  \n",
       "1       -0.032747  \n",
       "2       -0.034386  \n",
       "3       -0.037213  \n",
       "4       -0.034683  "
      ]
     },
     "execution_count": 9,
     "metadata": {},
     "output_type": "execute_result"
    }
   ],
   "source": [
    "#Estos son datos de la bolsa de USA relacionados con el dow jones en este caso el Dow Chemical Company \n",
    "#los datos de cada fila es de cada dia desde 2017-09-01 hasta 2019-02-13\n",
    "path2 = 'DWDP.csv'\n",
    "tabla2 = obtener_valores_flotantes_tabla(path2)\n",
    "tabla2.head()"
   ]
  },
  {
   "cell_type": "code",
   "execution_count": 10,
   "metadata": {},
   "outputs": [
    {
     "name": "stdout",
     "output_type": "stream",
     "text": [
      "La media de  open es:  64.81689807692314\n",
      "La mediana de  open es:  66.35345000000001\n",
      "La media de  high es:  65.47063846153846\n",
      "La mediana de  high es:  67.14405\n",
      "La media de  low es:  64.12652554945052\n",
      "La mediana de  low es:  65.81155000000001\n",
      "La media de  close es:  64.75780000000003\n",
      "La mediana de  close es:  66.52000000000001\n",
      "La media de  change es:  0.1459890109890107\n",
      "La mediana de  change es:  -0.019593\n",
      "La media de  changePercent es:  -0.042409340659340655\n",
      "La mediana de  changePercent es:  -0.028999999999999998\n",
      "La media de  vwap es:  64.7858587912087\n",
      "La mediana de  vwap es:  66.5976\n",
      "La media de  changeOverTime es:  -0.008178668684275754\n",
      "La mediana de  changeOverTime es:  0.018810937973834513\n"
     ]
    }
   ],
   "source": [
    "#Obtenemos la media y mediana de cada columna\n",
    "media2, mediana2 = media_mediana(tabla2)\n",
    "imprimir_media_mediana(tabla2)"
   ]
  },
  {
   "cell_type": "code",
   "execution_count": 11,
   "metadata": {},
   "outputs": [
    {
     "data": {
      "text/plain": [
       "[<matplotlib.lines.Line2D at 0x2014ee60b70>]"
      ]
     },
     "execution_count": 11,
     "metadata": {},
     "output_type": "execute_result"
    },
    {
     "data": {
      "image/png": "[encoded data removed]",
      "text/plain": [
       "<Figure size 720x504 with 1 Axes>"
      ]
     },
     "metadata": {
      "needs_background": "light"
     },
     "output_type": "display_data"
    }
   ],
   "source": [
    "#Ahora grafiquemos la media y mediana de cada conjunto de datos\n",
    "plt.figure(figsize=(10,7))\n",
    "plt.plot(mediana2,color='g', marker='+',linestyle='',label = 'mediana')\n",
    "plt.plot(media2,color='m', marker='*',linestyle='',label='media')"
   ]
  },
  {
   "cell_type": "code",
   "execution_count": 12,
   "metadata": {},
   "outputs": [
    {
     "data": {
      "text/html": [
       "<div>\n",
       "<style scoped>\n",
       "    .dataframe tbody tr th:only-of-type {\n",
       "        vertical-align: middle;\n",
       "    }\n",
       "\n",
       "    .dataframe tbody tr th {\n",
       "        vertical-align: top;\n",
       "    }\n",
       "\n",
       "    .dataframe thead th {\n",
       "        text-align: right;\n",
       "    }\n",
       "</style>\n",
       "<table border=\"1\" class=\"dataframe\">\n",
       "  <thead>\n",
       "    <tr style=\"text-align: right;\">\n",
       "      <th></th>\n",
       "      <th>Age</th>\n",
       "      <th>Height</th>\n",
       "      <th>Weight</th>\n",
       "    </tr>\n",
       "  </thead>\n",
       "  <tbody>\n",
       "    <tr>\n",
       "      <th>0</th>\n",
       "      <td>24.0</td>\n",
       "      <td>180.0</td>\n",
       "      <td>80.0</td>\n",
       "    </tr>\n",
       "    <tr>\n",
       "      <th>1</th>\n",
       "      <td>23.0</td>\n",
       "      <td>170.0</td>\n",
       "      <td>60.0</td>\n",
       "    </tr>\n",
       "    <tr>\n",
       "      <th>4</th>\n",
       "      <td>21.0</td>\n",
       "      <td>185.0</td>\n",
       "      <td>82.0</td>\n",
       "    </tr>\n",
       "    <tr>\n",
       "      <th>5</th>\n",
       "      <td>21.0</td>\n",
       "      <td>185.0</td>\n",
       "      <td>82.0</td>\n",
       "    </tr>\n",
       "    <tr>\n",
       "      <th>6</th>\n",
       "      <td>25.0</td>\n",
       "      <td>185.0</td>\n",
       "      <td>82.0</td>\n",
       "    </tr>\n",
       "  </tbody>\n",
       "</table>\n",
       "</div>"
      ],
      "text/plain": [
       "    Age  Height  Weight\n",
       "0  24.0   180.0    80.0\n",
       "1  23.0   170.0    60.0\n",
       "4  21.0   185.0    82.0\n",
       "5  21.0   185.0    82.0\n",
       "6  25.0   185.0    82.0"
      ]
     },
     "execution_count": 12,
     "metadata": {},
     "output_type": "execute_result"
    }
   ],
   "source": [
    "#Estos son datos sobre los atletas en los juegos olimpicos\n",
    "path3 = 'athlete_events.csv'\n",
    "tabla3 = obtener_valores_flotantes_tabla(path3)\n",
    "tabla3.head()"
   ]
  },
  {
   "cell_type": "code",
   "execution_count": 13,
   "metadata": {},
   "outputs": [
    {
     "name": "stdout",
     "output_type": "stream",
     "text": [
      "La media de  Age es:  25.055508937016466\n",
      "La mediana de  Age es:  24.0\n",
      "La media de  Height es:  175.3719496519778\n",
      "La mediana de  Height es:  175.0\n",
      "La media de  Weight es:  70.68833701161691\n",
      "La mediana de  Weight es:  70.0\n"
     ]
    }
   ],
   "source": [
    "#Obtenemos la media y mediana de cada columna\n",
    "media3, meadiana3 = media_mediana(tabla3)\n",
    "imprimir_media_mediana(tabla3)"
   ]
  },
  {
   "cell_type": "code",
   "execution_count": 14,
   "metadata": {},
   "outputs": [
    {
     "data": {
      "text/plain": [
       "[<matplotlib.lines.Line2D at 0x20150ecbb70>]"
      ]
     },
     "execution_count": 14,
     "metadata": {},
     "output_type": "execute_result"
    },
    {
     "data": {
      "image/png": "[encoded data removed]",
      "text/plain": [
       "<Figure size 720x504 with 1 Axes>"
      ]
     },
     "metadata": {
      "needs_background": "light"
     },
     "output_type": "display_data"
    }
   ],
   "source": [
    "#Ahora grafiquemos la media y mediana de cada conjunto de datos\n",
    "plt.figure(figsize=(10,7))\n",
    "plt.plot(mediana2,color='g', marker='1',linestyle='',label = 'mediana')\n",
    "plt.plot(media2,color='m', marker='2',linestyle='',label='media')"
   ]
  },
  {
   "cell_type": "code",
   "execution_count": 15,
   "metadata": {},
   "outputs": [
    {
     "data": {
      "text/html": [
       "<div>\n",
       "<style scoped>\n",
       "    .dataframe tbody tr th:only-of-type {\n",
       "        vertical-align: middle;\n",
       "    }\n",
       "\n",
       "    .dataframe tbody tr th {\n",
       "        vertical-align: top;\n",
       "    }\n",
       "\n",
       "    .dataframe thead th {\n",
       "        text-align: right;\n",
       "    }\n",
       "</style>\n",
       "<table border=\"1\" class=\"dataframe\">\n",
       "  <thead>\n",
       "    <tr style=\"text-align: right;\">\n",
       "      <th></th>\n",
       "      <th>bid</th>\n",
       "      <th>bidtime</th>\n",
       "      <th>bidderrate</th>\n",
       "      <th>openbid</th>\n",
       "      <th>price</th>\n",
       "    </tr>\n",
       "  </thead>\n",
       "  <tbody>\n",
       "    <tr>\n",
       "      <th>0</th>\n",
       "      <td>175.0</td>\n",
       "      <td>2.230949</td>\n",
       "      <td>0.0</td>\n",
       "      <td>99.0</td>\n",
       "      <td>177.5</td>\n",
       "    </tr>\n",
       "    <tr>\n",
       "      <th>1</th>\n",
       "      <td>100.0</td>\n",
       "      <td>2.600116</td>\n",
       "      <td>0.0</td>\n",
       "      <td>99.0</td>\n",
       "      <td>177.5</td>\n",
       "    </tr>\n",
       "    <tr>\n",
       "      <th>2</th>\n",
       "      <td>120.0</td>\n",
       "      <td>2.600810</td>\n",
       "      <td>2.0</td>\n",
       "      <td>99.0</td>\n",
       "      <td>177.5</td>\n",
       "    </tr>\n",
       "    <tr>\n",
       "      <th>3</th>\n",
       "      <td>150.0</td>\n",
       "      <td>2.601076</td>\n",
       "      <td>2.0</td>\n",
       "      <td>99.0</td>\n",
       "      <td>177.5</td>\n",
       "    </tr>\n",
       "    <tr>\n",
       "      <th>4</th>\n",
       "      <td>177.5</td>\n",
       "      <td>2.909826</td>\n",
       "      <td>4.0</td>\n",
       "      <td>99.0</td>\n",
       "      <td>177.5</td>\n",
       "    </tr>\n",
       "  </tbody>\n",
       "</table>\n",
       "</div>"
      ],
      "text/plain": [
       "     bid   bidtime  bidderrate  openbid  price\n",
       "0  175.0  2.230949         0.0     99.0  177.5\n",
       "1  100.0  2.600116         0.0     99.0  177.5\n",
       "2  120.0  2.600810         2.0     99.0  177.5\n",
       "3  150.0  2.601076         2.0     99.0  177.5\n",
       "4  177.5  2.909826         4.0     99.0  177.5"
      ]
     },
     "execution_count": 15,
     "metadata": {},
     "output_type": "execute_result"
    }
   ],
   "source": [
    "# Estos son datos sobre una casa de subastas \n",
    "path4 = 'auction.csv'\n",
    "tabla4 = obtener_valores_flotantes_tabla(path4)\n",
    "tabla4.head()"
   ]
  },
  {
   "cell_type": "code",
   "execution_count": 16,
   "metadata": {},
   "outputs": [
    {
     "name": "stdout",
     "output_type": "stream",
     "text": [
      "La media de  bid es:  207.7541040299905\n",
      "La mediana de  bid es:  140.0\n",
      "La media de  bidtime es:  3.9773423734178897\n",
      "La mediana de  bidtime es:  4.13772\n",
      "La media de  bidderrate es:  31.936738519212746\n",
      "La mediana de  bidderrate es:  5.0\n",
      "La media de  openbid es:  52.287288659794065\n",
      "La mediana de  openbid es:  4.99\n",
      "La media de  price es:  335.3080196813401\n",
      "La mediana de  price es:  228.49\n"
     ]
    }
   ],
   "source": [
    "#Obtenemos la media y mediana de cada columna\n",
    "media4, mediana4 = media_mediana(tabla4)\n",
    "imprimir_media_mediana(tabla4)"
   ]
  },
  {
   "cell_type": "code",
   "execution_count": 17,
   "metadata": {},
   "outputs": [
    {
     "data": {
      "text/plain": [
       "[<matplotlib.lines.Line2D at 0x2014f11b2b0>]"
      ]
     },
     "execution_count": 17,
     "metadata": {},
     "output_type": "execute_result"
    },
    {
     "data": {
      "image/png": "[encoded data removed]",
      "text/plain": [
       "<Figure size 720x504 with 1 Axes>"
      ]
     },
     "metadata": {
      "needs_background": "light"
     },
     "output_type": "display_data"
    }
   ],
   "source": [
    "#Ahora grafiquemos la media y mediana de cada conjunto de datos\n",
    "plt.figure(figsize=(10,7))\n",
    "plt.plot(mediana4,color='g', marker='v',linestyle='',label = 'mediana')\n",
    "plt.plot(media4,color='m', marker='x',linestyle='',label='media')"
   ]
  },
  {
   "cell_type": "markdown",
   "metadata": {},
   "source": [
    "- 2.29 What is A/B testing and how does it work?\n",
    "    - Se trata de un metódo de comparar una pagina web consigo misma pero con algunas variantes que se muestra a usuarios aleatorios donde usando estadística descriptiva se trata de ver cual da una mejor experiencia al usuario dada una meta.\n",
    "    - Funciona de tal manera que si por ejemplo si modificas solamente el color de un botón te dice que si un usuario se quedo mas tiempo en la página o apreto muchas veces el botón o luego cuando las paginas tiene ecuestas de como se sintio el usuario te das cuenta de que si mejoro su experiencia, no cambio o no le gusto y con estos datos puedes mejorar la experiencia del usuario y que pase mas tiempo en la página o mayores ganancias dependiendo de la página."
   ]
  },
  {
   "cell_type": "markdown",
   "metadata": {},
   "source": [
    "- 2.31 We often say that correlation does not imply causation. What does this mean?\n",
    "    - Ya puede ser que haya una fuerte correlación entre dos eventos en el que no necesariamente haya relación verdadera ya que los eventos son totalmente distintos o que la correlacion no implica que un evento implica que el otro pueda o no aparecer (por ejemplo podiamos encontrar que hay una fuerte correlación entre el numero de robos al año y el numero de aviones fabricados al año donde ninguno de los dos tienen relación entre si)."
   ]
  },
  {
   "cell_type": "markdown",
   "metadata": {},
   "source": [
    "- 2.33 [Cause-efect pairs: correlation vs. causation.](https://www.kaggle.com/c/cause-effect-pairs)\n",
    "    - Se trata de un desafio para comprobar que un evento A tiene relación(o causa) a B o viceversa o en otro caso como determinar que ninguno de los dos causa al otro(son independientes) o están relacionados atraves de un tercer evento(por ejemplo una medicina que esta fuertemente relacionada con una enfermedad pero no lo causa sino es por otro factor) esto es muy interesante ya que uno podria determinar mediante la computadora relaciones verdaderas entre eventos y poder usar esto para aprendizaje maquina o otras aréas de estudio."
   ]
  },
  {
   "cell_type": "code",
   "execution_count": null,
   "metadata": {},
   "outputs": [],
   "source": []
  }
 ],
 "metadata": {
  "kernelspec": {
   "display_name": "Python 3",
   "language": "python",
   "name": "python3"
  },
  "language_info": {
   "codemirror_mode": {
    "name": "ipython",
    "version": 3
   },
   "file_extension": ".py",
   "mimetype": "text/x-python",
   "name": "python",
   "nbconvert_exporter": "python",
   "pygments_lexer": "ipython3",
   "version": "3.7.1"
  }
 },
 "nbformat": 4,
 "nbformat_minor": 2
}
