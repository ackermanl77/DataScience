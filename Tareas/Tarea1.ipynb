{
 "cells": [
  {
   "cell_type": "markdown",
   "metadata": {},
   "source": [
    "# Autor Rey David Gutierrez Torres"
   ]
  },
  {
   "cell_type": "markdown",
   "metadata": {},
   "source": [
    "## 1.1 :**Identificar donde pueden se encontrados conjuntos de datos relevantes de los siguientes temas en la red.**"
   ]
  },
  {
   "cell_type": "markdown",
   "metadata": {},
   "source": [
    "(a) [Libros.](http://storage.googleapis.com/books/ngrams/books/datasetsv2.html)"
   ]
  },
  {
   "cell_type": "markdown",
   "metadata": {},
   "source": [
    "(b)[Carreras de caballos.](https://datadryad.org/resource/doi:10.5061/dryad.qn82p)\n"
   ]
  },
  {
   "cell_type": "markdown",
   "metadata": {},
   "source": [
    "(c) [Bolsa de valores.](https://www.kaggle.com/dgawlik/nyse)"
   ]
  },
  {
   "cell_type": "markdown",
   "metadata": {},
   "source": [
    "(d) [Riesgo de enfermedades.](https://plos.figshare.com/articles/_Total_Carbohydrate_Sugar_and_Starch_and_the_Risks_of_Coronary_Heart_Disease_and_Stroke_Among_8_855_Men_and_10_753_Women_/397744/1)"
   ]
  },
  {
   "cell_type": "markdown",
   "metadata": {},
   "source": [
    "(e) [Escuelas y Universidades.](https://datos.gob.mx/busca/dataset?theme=Educaci%C3%B3n)"
   ]
  },
  {
   "cell_type": "markdown",
   "metadata": {},
   "source": [
    "(f) [Tasas de crimen.](https://www.kaggle.com/marshallproject/crime-rates)"
   ]
  },
  {
   "cell_type": "markdown",
   "metadata": {},
   "source": [
    "(g)[ Avistamiento de aves.](https://figshare.com/articles/Distance_Based_Data_Set_Birds/1194631)"
   ]
  },
  {
   "cell_type": "markdown",
   "metadata": {},
   "source": [
    "**Para cada uno de estas fuentes de datos, explica que debes hacer para transformar estos datos a un formato usuable en la computadora para poder analizarlo.**"
   ]
  },
  {
   "cell_type": "markdown",
   "metadata": {},
   "source": [
    "## 1.11 **Para cada una de las siguientes preguntas.\n",
    "**Da una aproximacion estimada basada en tu entendimiento del mundo**"
   ]
  },
  {
   "cell_type": "markdown",
   "metadata": {},
   "source": [
    "(1) Cuantos peces existen en los oceanos de todo el mundo?\n",
    "- Mi calculo sería de 100,000 billones ya que se que muchos peces se mueven en cardumenes de miles de peces y como los oceanos cubren el 70% del planeta considerando que no hay cardumenes en todos lados y los peces no muchos se mueven en cardumenes y ya que los humanos y animales y los humanos somos aprox 6,000 y suponiendo que la mitad consumimos pescado pues para abastecer a toda la población de personas y animales que sean los que comen pescado aprox 1,000 millones."
   ]
  },
  {
   "cell_type": "markdown",
   "metadata": {},
   "source": [
    "(2) Cuantos galones de helado son vendidos anualmente en Estados Unidos?.\n",
    "- Mi calculo sería de 7,300  de toneladas ya que pues la mitad de estados unidos hay lugares muy calurosos y deserticos donde su población total es aprox 300 millones supongamos que se consumen como 20 toneladas a diario."
   ]
  },
  {
   "cell_type": "markdown",
   "metadata": {},
   "source": [
    "(3) Cuantas pelotas de ping-pong caben en una avion comercial?.\n",
    "- Un avion comercial mide 70 metros de largo y caben como 550 personas suponiendo que 200 pelotas  y que hay espacio de las maleteras donde caben como 50 pelotas y demas espacio libre(pasillos,baños,cabina,equipaje,area de maquinas) supongamos que caben 2 millones de pelotas te dan el tamaño de una persona el calculo es de 2,137,000 pelotas de pingpong"
   ]
  },
  {
   "cell_type": "markdown",
   "metadata": {},
   "source": [
    "(4) Cuanto té hay en China?\n",
    "- Ya que el té es una de las bebidas mas populares en el mundo y especialmente en Oriente y como China es el segundo pais con mas aréa del mundo poblado aprox $9,000 km_{}^2$ y supongamos que el 70% es area cultivable pero solo se usa el 50% y que de este porcentaje se usa el 15% para cultivar té y supongamos que se cultiva dos veces al año y aprox $700km_{}^2$ de tierra se usan para cultivarlo y que por cada kilometro cuadrado se produzcan 10 toneladas esto daria 7,000 toneladas por $km_{}^2$ y en total me daria 14,000 toneladas al año de té en China"
   ]
  },
  {
   "cell_type": "markdown",
   "metadata": {},
   "source": [
    "(5) Cuantos gatos viven en Nueva York?\n",
    "- Asumiendo que en Nueva York viven 8 millones de personas y que los gatos usualmente no son las mascotas preferidas y tambien gatos abandonados supongamos que sean aprox los gatos abandonados o que viven en la calle y que las familias esten compuestas de (hijo,hija,padre,madre) te quedan como 2 millones de familias supongamos que el 30% tiene mascotas y de estos el 25% tienen  gatos el calculo es de 150,000 gatos aqui incluimos los gatos sin dueños"
   ]
  },
  {
   "cell_type": "markdown",
   "metadata": {},
   "source": [
    "# Ejercicio:**Buscar bases de datos del INEGI y formular 3 preguntas**"
   ]
  },
  {
   "cell_type": "markdown",
   "metadata": {},
   "source": [
    "http://localhost:8888/lab/tree/Documents/Ciencia%20de%20Datos/Datos/conjunto_de_datos_enco_2018_12_csv\n",
    "- En esta encuesta acerca de la Confianza del Consumidor plantee las siguientes preguntas\n",
    "    - [Descriptor](http://localhost:8888/lab/tree/Documents/Ciencia%20de%20Datos/Datos/conjunto_de_datos_enco_2018_12_csv/fd_enco_v5.pdf)\n",
    "1. ¿Que expectativas tiene el consumidor acerca de lo que puede pasar en un futuro de sus capacidades económicas?\n",
    "3. ¿Conforme a las capacidades económicas de las personas encuestadas como afecta esto a la capacidad de hacer ciertas actividades?"
   ]
  },
  {
   "cell_type": "markdown",
   "metadata": {},
   "source": [
    "http://localhost:8888/lab/tree/Documents/Ciencia%20de%20Datos/Datos/conjunto_de_datos_enoe_2018_3t_csv\n",
    "- En esta encuesta acerca de Ocupación y Empleo plantee las siguientes preguntas\n",
    "    - [Descriptor](http://localhost:8888/lab/tree/Documents/Ciencia%20de%20Datos/Datos/conjunto_de_datos_enoe_2018_3t_csv/fd_c_bas_amp_15ymas.pdf) \n",
    "1. ¿Razones de desempleo o no empleo?\n",
    "2. ¿Salario en general para cada tipo de trabajo y tambien dependiendo del lugar(con prestaciones o no)?"
   ]
  },
  {
   "cell_type": "markdown",
   "metadata": {},
   "source": [
    "http://localhost:8888/lab/tree/Documents/Ciencia%20de%20Datos/Datos/conjunto_de_datos_ENSU_2018_4t_csv\n",
    "- En esta encuesta acerca de la Seguridad Pública Urbana plantee las siguientes preguntas\n",
    "    -  [Descriptor](http://localhost:8888/lab/tree/Documents/Ciencia%20de%20Datos/Datos/conjunto_de_datos_ENSU_2018_4t_csv/ensu_fd_diciembre_2018_pdf.pdf)\n",
    "1. ¿Identificar localidades que las personas consideran muy peligrosas para eforzar vigilancia?\n",
    "2. ¿Confianza de las persona de las localidades sobre las Autoridades y razones sobre las que no lo hacen(no vi esto ultimo pero podría estar)?\n",
    "3. ¿En que localidades se presentan mayores crimenes de cierto tipo y cuales fueron las consecuencias?"
   ]
  },
  {
   "cell_type": "markdown",
   "metadata": {},
   "source": [
    "# Kaggle Challenges\n",
    "**[1.16 Quien sobrevivio al naufragio del Titanic?](https://www.kaggle.com/c/titanic)**"
   ]
  },
  {
   "cell_type": "markdown",
   "metadata": {},
   "source": [
    "*En este ejercicio de Aprendizaje Maquina se trata de hacer una predicción mediante un conjunto de datos de entrenamiento dadas varias variables(PassengerId Survived Pclass Name Sex Age SibSp Parch Ticket Fare Cabin Embarked) con este conjunto de entrenamiento se trata de predecir si una persona sobreviviria o no a un desastre del mismo tipo lo cual se me hace muy interesante dado que tambien se podria aplicar a otros casos de accidentes y mejorar las medidas de seguridad en los medios de transporte para poder reducir el numero de victimas mortales.*"
   ]
  },
  {
   "cell_type": "code",
   "execution_count": null,
   "metadata": {},
   "outputs": [],
   "source": []
  }
 ],
 "metadata": {
  "kernelspec": {
   "display_name": "Python 3",
   "language": "python",
   "name": "python3"
  },
  "language_info": {
   "codemirror_mode": {
    "name": "ipython",
    "version": 3
   },
   "file_extension": ".py",
   "mimetype": "text/x-python",
   "name": "python",
   "nbconvert_exporter": "python",
   "pygments_lexer": "ipython3",
   "version": "3.7.1"
  }
 },
 "nbformat": 4,
 "nbformat_minor": 2
}
