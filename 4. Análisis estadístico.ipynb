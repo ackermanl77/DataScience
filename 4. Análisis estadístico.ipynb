{
 "cells": [
  {
   "cell_type": "markdown",
   "source": [
    "# Análisis estadístico\n",
    "\n",
    "## introducción a las pruebas de hipótesis\n",
    "Spongamos que se nos da una moneda y al tirarla 30 veces nos da 22 soles y 8 águilas. \n",
    "¿La moneda es justa?\n",
    "\n",
    "- \"Hipótesis nula\": El resultado observado se debe al azar y la moneda es justa.\n",
    "- \"Hipótesis alternativa\": La negación de la hipótesis nula, la moneda no es justa.\n",
    "\n",
    "\n",
    "La probabilidad de obtener $k$ soles en $n$ volados donde la probabilidad de obtener sol en un volado es $p$, está dada por:\n",
    "\n",
    "$$P(X= k) = \\binom{n}{k} \\, (1 - p)^{n - k}$$\n",
    "\n",
    "\n",
    "**Demostración**.\n",
    "Una sucesión de $n$ volados se puede representar como una sucesión de letras $A$/$S$ (águila o sol). Por ejemplo,\n",
    "$$ASASASAASAA$$\n",
    "\n",
    "- Si en $n$ volados ocurre $k$ veces sol, es equivalente a seleccionar $k$ símbolos de la sucesión y relenarlos con $S$ y el resto con $A$. Esto se puede hacer en $\\binom{n}{k}$ formas distintas.\n",
    "- La probabilidad de cada sucesión de  $k$ soles en $n$ volados es la probabilidad de obtener $k$ soles y $n-k$ águilas; es decir:  $p^k\\,(1 - p)^{n - k}$.\n",
    "\n",
    "Por lo tanto la probailidad de obtener $k$ soles (en cualquier orden) en $n$ volados es: $\\binom{n}{k} \\, (1 - p)^{n - k}$ (Demostrado)"
   ],
   "metadata": {}
  },
  {
   "cell_type": "code",
   "execution_count": 1,
   "source": [
    "import fractions\r\n",
    "n, r= (20, 7)\r\n",
    "L= list(range(n, n-r, -1))\r\n",
    "import matplotlib.pyplot as plt\r\n",
    "import pandas as pd"
   ],
   "outputs": [],
   "metadata": {}
  },
  {
   "cell_type": "code",
   "execution_count": 2,
   "source": [
    "def permutacion_sin_repeticion(n, r):\r\n",
    "\r\n",
    "    accum= 1\r\n",
    "    for x in range(n, n - r, -1):\r\n",
    "        accum *= x\r\n",
    "    return accum\r\n",
    "    \r\n",
    "    \r\n",
    "def factorial(n):\r\n",
    "    accum= 1\r\n",
    "    for x in range(2, n+1):\r\n",
    "        accum*= x\r\n",
    "    return accum\r\n",
    "    \r\n",
    "def combinaciones(n, k): \r\n",
    "    permutacion_sin_repeticion(n, k)// factorial(k)\r\n",
    "    \r\n",
    "def probabilidad(n, k, p):\r\n",
    "    return (combinaciones(n,k)) * (p**k) * (1-p)**(n-k)\r\n",
    "    "
   ],
   "outputs": [],
   "metadata": {}
  },
  {
   "cell_type": "code",
   "execution_count": 3,
   "source": [
    "p= probabilidad(30, 22, fractions.Fraction(1/2))\r\n",
    "print(\"La probabilidad de 22 soles en 30 volados es: \", p, \", o aprox: \", float(p))"
   ],
   "outputs": [
    {
     "output_type": "error",
     "ename": "TypeError",
     "evalue": "unsupported operand type(s) for *: 'NoneType' and 'Fraction'",
     "traceback": [
      "\u001b[1;31m---------------------------------------------------------------------------\u001b[0m",
      "\u001b[1;31mTypeError\u001b[0m                                 Traceback (most recent call last)",
      "\u001b[1;32m~\\AppData\\Local\\Temp/ipykernel_18748/2803210427.py\u001b[0m in \u001b[0;36m<module>\u001b[1;34m\u001b[0m\n\u001b[1;32m----> 1\u001b[1;33m \u001b[0mp\u001b[0m\u001b[1;33m=\u001b[0m \u001b[0mprobabilidad\u001b[0m\u001b[1;33m(\u001b[0m\u001b[1;36m30\u001b[0m\u001b[1;33m,\u001b[0m \u001b[1;36m22\u001b[0m\u001b[1;33m,\u001b[0m \u001b[0mfractions\u001b[0m\u001b[1;33m.\u001b[0m\u001b[0mFraction\u001b[0m\u001b[1;33m(\u001b[0m\u001b[1;36m1\u001b[0m\u001b[1;33m/\u001b[0m\u001b[1;36m2\u001b[0m\u001b[1;33m)\u001b[0m\u001b[1;33m)\u001b[0m\u001b[1;33m\u001b[0m\u001b[1;33m\u001b[0m\u001b[0m\n\u001b[0m\u001b[0;32m      2\u001b[0m \u001b[0mprint\u001b[0m\u001b[1;33m(\u001b[0m\u001b[1;34m\"La probabilidad de 22 soles en 30 volados es: \"\u001b[0m\u001b[1;33m,\u001b[0m \u001b[0mp\u001b[0m\u001b[1;33m,\u001b[0m \u001b[1;34m\", o aprox: \"\u001b[0m\u001b[1;33m,\u001b[0m \u001b[0mfloat\u001b[0m\u001b[1;33m(\u001b[0m\u001b[0mp\u001b[0m\u001b[1;33m)\u001b[0m\u001b[1;33m)\u001b[0m\u001b[1;33m\u001b[0m\u001b[1;33m\u001b[0m\u001b[0m\n",
      "\u001b[1;32m~\\AppData\\Local\\Temp/ipykernel_18748/3104783296.py\u001b[0m in \u001b[0;36mprobabilidad\u001b[1;34m(n, k, p)\u001b[0m\n\u001b[0;32m     17\u001b[0m \u001b[1;33m\u001b[0m\u001b[0m\n\u001b[0;32m     18\u001b[0m \u001b[1;32mdef\u001b[0m \u001b[0mprobabilidad\u001b[0m\u001b[1;33m(\u001b[0m\u001b[0mn\u001b[0m\u001b[1;33m,\u001b[0m \u001b[0mk\u001b[0m\u001b[1;33m,\u001b[0m \u001b[0mp\u001b[0m\u001b[1;33m)\u001b[0m\u001b[1;33m:\u001b[0m\u001b[1;33m\u001b[0m\u001b[1;33m\u001b[0m\u001b[0m\n\u001b[1;32m---> 19\u001b[1;33m     \u001b[1;32mreturn\u001b[0m \u001b[1;33m(\u001b[0m\u001b[0mcombinaciones\u001b[0m\u001b[1;33m(\u001b[0m\u001b[0mn\u001b[0m\u001b[1;33m,\u001b[0m\u001b[0mk\u001b[0m\u001b[1;33m)\u001b[0m\u001b[1;33m)\u001b[0m \u001b[1;33m*\u001b[0m \u001b[1;33m(\u001b[0m\u001b[0mp\u001b[0m\u001b[1;33m**\u001b[0m\u001b[0mk\u001b[0m\u001b[1;33m)\u001b[0m \u001b[1;33m*\u001b[0m \u001b[1;33m(\u001b[0m\u001b[1;36m1\u001b[0m\u001b[1;33m-\u001b[0m\u001b[0mp\u001b[0m\u001b[1;33m)\u001b[0m\u001b[1;33m**\u001b[0m\u001b[1;33m(\u001b[0m\u001b[0mn\u001b[0m\u001b[1;33m-\u001b[0m\u001b[0mk\u001b[0m\u001b[1;33m)\u001b[0m\u001b[1;33m\u001b[0m\u001b[1;33m\u001b[0m\u001b[0m\n\u001b[0m\u001b[0;32m     20\u001b[0m \u001b[1;33m\u001b[0m\u001b[0m\n",
      "\u001b[1;31mTypeError\u001b[0m: unsupported operand type(s) for *: 'NoneType' and 'Fraction'"
     ]
    }
   ],
   "metadata": {}
  },
  {
   "cell_type": "code",
   "execution_count": 4,
   "source": [
    "n, p= (30, 1/2) \r\n",
    "\r\n",
    "lista_k= list(range(31))\r\n",
    "probabilidades= [probabilidad(n,k,p) for k in lista_k]\r\n",
    "df= pd.DataFrame({\r\n",
    "    \"k\": list(range)\r\n",
    "    \"p\":\r\n",
    "})"
   ],
   "outputs": [
    {
     "output_type": "error",
     "ename": "SyntaxError",
     "evalue": "invalid syntax (<ipython-input-4-498066cb506b>, line 7)",
     "traceback": [
      "\u001b[1;36m  File \u001b[1;32m\"<ipython-input-4-498066cb506b>\"\u001b[1;36m, line \u001b[1;32m7\u001b[0m\n\u001b[1;33m    \"p\":\u001b[0m\n\u001b[1;37m      ^\u001b[0m\n\u001b[1;31mSyntaxError\u001b[0m\u001b[1;31m:\u001b[0m invalid syntax\n"
     ]
    }
   ],
   "metadata": {}
  },
  {
   "cell_type": "code",
   "execution_count": 5,
   "source": [
    "plt.plot(df[\"k\"], df[\"P\"], \".\")\r\n",
    "plt.xlabel(\"Cantidad de soles\")\r\n",
    "plt.ylabel(\"Probabilidad en 30 volados\")\r\n"
   ],
   "outputs": [
    {
     "output_type": "error",
     "ename": "NameError",
     "evalue": "name 'df' is not defined",
     "traceback": [
      "\u001b[1;31m---------------------------------------------------------------------------\u001b[0m",
      "\u001b[1;31mNameError\u001b[0m                                 Traceback (most recent call last)",
      "\u001b[1;32m<ipython-input-5-e0018b0070ae>\u001b[0m in \u001b[0;36m<module>\u001b[1;34m\u001b[0m\n\u001b[1;32m----> 1\u001b[1;33m \u001b[0mplt\u001b[0m\u001b[1;33m.\u001b[0m\u001b[0mplot\u001b[0m\u001b[1;33m(\u001b[0m\u001b[0mdf\u001b[0m\u001b[1;33m[\u001b[0m\u001b[1;34m\"k\"\u001b[0m\u001b[1;33m]\u001b[0m\u001b[1;33m,\u001b[0m \u001b[0mdf\u001b[0m\u001b[1;33m[\u001b[0m\u001b[1;34m\"P\"\u001b[0m\u001b[1;33m]\u001b[0m\u001b[1;33m,\u001b[0m \u001b[1;34m\".\"\u001b[0m\u001b[1;33m)\u001b[0m\u001b[1;33m\u001b[0m\u001b[1;33m\u001b[0m\u001b[0m\n\u001b[0m\u001b[0;32m      2\u001b[0m \u001b[0mplt\u001b[0m\u001b[1;33m.\u001b[0m\u001b[0mxlabel\u001b[0m\u001b[1;33m(\u001b[0m\u001b[1;34m\"Cantidad de soles\"\u001b[0m\u001b[1;33m)\u001b[0m\u001b[1;33m\u001b[0m\u001b[1;33m\u001b[0m\u001b[0m\n\u001b[0;32m      3\u001b[0m \u001b[0mplt\u001b[0m\u001b[1;33m.\u001b[0m\u001b[0mylabel\u001b[0m\u001b[1;33m(\u001b[0m\u001b[1;34m\"Probabilidad en 30 volados\"\u001b[0m\u001b[1;33m)\u001b[0m\u001b[1;33m\u001b[0m\u001b[1;33m\u001b[0m\u001b[0m\n",
      "\u001b[1;31mNameError\u001b[0m: name 'df' is not defined"
     ]
    }
   ],
   "metadata": {}
  },
  {
   "cell_type": "markdown",
   "source": [
    "Probabilidad de ver entre 9 y 21 soles en 30 volados: "
   ],
   "metadata": {}
  },
  {
   "cell_type": "code",
   "execution_count": null,
   "source": [
    "df[ (df[\"k\"]>= 9 & df[\"k\"]<= 21)][\"S\"].sum()"
   ],
   "outputs": [],
   "metadata": {}
  },
  {
   "cell_type": "markdown",
   "source": [
    "Probabilidad de No ver entre 9 y 21 volados:"
   ],
   "metadata": {}
  },
  {
   "cell_type": "code",
   "execution_count": null,
   "source": [
    "1 - _"
   ],
   "outputs": [],
   "metadata": {}
  },
  {
   "cell_type": "markdown",
   "source": [
    "Este valor de observar el fenómeno por puro azar (la probabilidad de observar estos datos con la hipótesis nula) se le llama el **p - valor**.\n",
    "\n",
    "- Rechazamos la hipótesis nula cuando el $p$- valor es muy pequeño.\n",
    "- Aceptamos la hipótesis nula cuando el $p$- valor está sobre cierto umbral.\n",
    "\n",
    "Prueba de hipótesis| Aceptar $H_0$   | Rechazar $H_0$ \n",
    "------------------|--------------------------------|--------------- \n",
    "$H_0$ es verdadera |    bien                        | Error tipo 1 (Falso positivo)\n",
    "$H_0$ es falsa     | Error tipo II (falso negativo) | bien\n"
   ],
   "metadata": {}
  },
  {
   "cell_type": "markdown",
   "source": [
    "## Método alternativo: simulación"
   ],
   "metadata": {}
  },
  {
   "cell_type": "code",
   "execution_count": 9,
   "source": [
    "import numpy as np\n",
    "import numba\n",
    "from scipy import stats\n",
    "import matplotlib.pylab as plt\n",
    "\n",
    "import itertools "
   ],
   "outputs": [],
   "metadata": {}
  },
  {
   "cell_type": "code",
   "execution_count": 10,
   "source": [
    "# @numba.jit\n",
    "def calcular_P(n, p, repeticiones= 1_000):\n",
    "    M= 0\n",
    "\n",
    "    #simula un experimento\n",
    "    for i in range(repeticiones):\n",
    "        k= np.sum(np.random.random(size= n) < p)\n",
    "        M += int((k > 21) or (k < 8))\n",
    "\n",
    "    return M/repeticiones    \n"
   ],
   "outputs": [],
   "metadata": {}
  },
  {
   "cell_type": "code",
   "execution_count": 11,
   "source": [
    "print(calcular_P(30, 0.5))"
   ],
   "outputs": [
    {
     "output_type": "stream",
     "name": "stdout",
     "text": [
      "0.008\n"
     ]
    }
   ],
   "metadata": {}
  },
  {
   "cell_type": "markdown",
   "source": [
    "## Prueba de permutaciones aleatorias para la diferencia de medias"
   ],
   "metadata": {}
  },
  {
   "cell_type": "code",
   "execution_count": 12,
   "source": [
    "x= [1.1, 3.0, 2.8, 1.9, 2.5, 2.6]\n",
    "y= [8.1, 3.5, 5.4, 2.4, 3.0, 4.1]\n"
   ],
   "outputs": [],
   "metadata": {}
  },
  {
   "cell_type": "code",
   "execution_count": 13,
   "source": [
    "def comparar_normales(x, y):\n",
    "    N1= stats.norm(np.mean(x), np.std(x))\n",
    "    N2= stats.norm(np.mean(y), np.std(y))\n",
    "\n",
    "\n",
    "    a,b= min(itertools.chain(x,y)), max(itertools.chain(x, y))\n",
    "    dominio= np.linspace(a, b)\n",
    "\n",
    "    plt.plot(dominio, N1.pdf(dominio), color= \"blue\")\n",
    "\n",
    "    plt.plot(dominio, N2.pdf(dominio), color= \"red\")\n",
    "    \n",
    "comparar_normales(x,y)"
   ],
   "outputs": [
    {
     "output_type": "error",
     "ename": "TypeError",
     "evalue": "'int' object is not callable",
     "traceback": [
      "\u001b[1;31m---------------------------------------------------------------------------\u001b[0m",
      "\u001b[1;31mTypeError\u001b[0m                                 Traceback (most recent call last)",
      "\u001b[1;32m<ipython-input-13-c9655ded38c7>\u001b[0m in \u001b[0;36m<module>\u001b[1;34m\u001b[0m\n\u001b[0;32m     11\u001b[0m     \u001b[0mplt\u001b[0m\u001b[1;33m.\u001b[0m\u001b[0mplot\u001b[0m\u001b[1;33m(\u001b[0m\u001b[0mdominio\u001b[0m\u001b[1;33m,\u001b[0m \u001b[0mN2\u001b[0m\u001b[1;33m.\u001b[0m\u001b[0mpdf\u001b[0m\u001b[1;33m(\u001b[0m\u001b[0mdominio\u001b[0m\u001b[1;33m)\u001b[0m\u001b[1;33m,\u001b[0m \u001b[0mcolor\u001b[0m\u001b[1;33m=\u001b[0m \u001b[1;34m\"red\"\u001b[0m\u001b[1;33m)\u001b[0m\u001b[1;33m\u001b[0m\u001b[1;33m\u001b[0m\u001b[0m\n\u001b[0;32m     12\u001b[0m \u001b[1;33m\u001b[0m\u001b[0m\n\u001b[1;32m---> 13\u001b[1;33m \u001b[0mcomparar_normales\u001b[0m\u001b[1;33m(\u001b[0m\u001b[0mx\u001b[0m\u001b[1;33m,\u001b[0m\u001b[0my\u001b[0m\u001b[1;33m)\u001b[0m\u001b[1;33m\u001b[0m\u001b[1;33m\u001b[0m\u001b[0m\n\u001b[0m",
      "\u001b[1;32m<ipython-input-13-c9655ded38c7>\u001b[0m in \u001b[0;36mcomparar_normales\u001b[1;34m(x, y)\u001b[0m\n\u001b[0;32m      4\u001b[0m \u001b[1;33m\u001b[0m\u001b[0m\n\u001b[0;32m      5\u001b[0m \u001b[1;33m\u001b[0m\u001b[0m\n\u001b[1;32m----> 6\u001b[1;33m     \u001b[0ma\u001b[0m\u001b[1;33m,\u001b[0m\u001b[0mb\u001b[0m\u001b[1;33m=\u001b[0m \u001b[0mmin\u001b[0m\u001b[1;33m(\u001b[0m\u001b[0mitertools\u001b[0m\u001b[1;33m.\u001b[0m\u001b[0mchain\u001b[0m\u001b[1;33m(\u001b[0m\u001b[0mx\u001b[0m\u001b[1;33m,\u001b[0m\u001b[0my\u001b[0m\u001b[1;33m)\u001b[0m\u001b[1;33m)\u001b[0m\u001b[1;33m,\u001b[0m \u001b[0mmax\u001b[0m\u001b[1;33m(\u001b[0m\u001b[0mitertools\u001b[0m\u001b[1;33m.\u001b[0m\u001b[0mchain\u001b[0m\u001b[1;33m(\u001b[0m\u001b[0mx\u001b[0m\u001b[1;33m,\u001b[0m \u001b[0my\u001b[0m\u001b[1;33m)\u001b[0m\u001b[1;33m)\u001b[0m\u001b[1;33m\u001b[0m\u001b[1;33m\u001b[0m\u001b[0m\n\u001b[0m\u001b[0;32m      7\u001b[0m     \u001b[0mdominio\u001b[0m\u001b[1;33m=\u001b[0m \u001b[0mnp\u001b[0m\u001b[1;33m.\u001b[0m\u001b[0mlinspace\u001b[0m\u001b[1;33m(\u001b[0m\u001b[0ma\u001b[0m\u001b[1;33m,\u001b[0m \u001b[0mb\u001b[0m\u001b[1;33m)\u001b[0m\u001b[1;33m\u001b[0m\u001b[1;33m\u001b[0m\u001b[0m\n\u001b[0;32m      8\u001b[0m \u001b[1;33m\u001b[0m\u001b[0m\n",
      "\u001b[1;31mTypeError\u001b[0m: 'int' object is not callable"
     ]
    }
   ],
   "metadata": {}
  },
  {
   "cell_type": "markdown",
   "source": [
    "# Podemos comparar el area bajo la curva que tienen en común y la que no tienen en común, dado que es menor, las muestras son de distintas poblaciones"
   ],
   "metadata": {}
  },
  {
   "cell_type": "code",
   "execution_count": 14,
   "source": [
    "x= np.random.normal(loc=5, scale=3, size= 30 )\n",
    "y= np.random.normal(loc=6, scale=3, size= 40 )\n",
    "\n",
    "comparar_normales(x, y)"
   ],
   "outputs": [
    {
     "output_type": "error",
     "ename": "TypeError",
     "evalue": "'int' object is not callable",
     "traceback": [
      "\u001b[1;31m---------------------------------------------------------------------------\u001b[0m",
      "\u001b[1;31mTypeError\u001b[0m                                 Traceback (most recent call last)",
      "\u001b[1;32m<ipython-input-14-b832d58d402a>\u001b[0m in \u001b[0;36m<module>\u001b[1;34m\u001b[0m\n\u001b[0;32m      2\u001b[0m \u001b[0my\u001b[0m\u001b[1;33m=\u001b[0m \u001b[0mnp\u001b[0m\u001b[1;33m.\u001b[0m\u001b[0mrandom\u001b[0m\u001b[1;33m.\u001b[0m\u001b[0mnormal\u001b[0m\u001b[1;33m(\u001b[0m\u001b[0mloc\u001b[0m\u001b[1;33m=\u001b[0m\u001b[1;36m6\u001b[0m\u001b[1;33m,\u001b[0m \u001b[0mscale\u001b[0m\u001b[1;33m=\u001b[0m\u001b[1;36m3\u001b[0m\u001b[1;33m,\u001b[0m \u001b[0msize\u001b[0m\u001b[1;33m=\u001b[0m \u001b[1;36m40\u001b[0m \u001b[1;33m)\u001b[0m\u001b[1;33m\u001b[0m\u001b[1;33m\u001b[0m\u001b[0m\n\u001b[0;32m      3\u001b[0m \u001b[1;33m\u001b[0m\u001b[0m\n\u001b[1;32m----> 4\u001b[1;33m \u001b[0mcomparar_normales\u001b[0m\u001b[1;33m(\u001b[0m\u001b[0mx\u001b[0m\u001b[1;33m,\u001b[0m \u001b[0my\u001b[0m\u001b[1;33m)\u001b[0m\u001b[1;33m\u001b[0m\u001b[1;33m\u001b[0m\u001b[0m\n\u001b[0m",
      "\u001b[1;32m<ipython-input-13-c9655ded38c7>\u001b[0m in \u001b[0;36mcomparar_normales\u001b[1;34m(x, y)\u001b[0m\n\u001b[0;32m      4\u001b[0m \u001b[1;33m\u001b[0m\u001b[0m\n\u001b[0;32m      5\u001b[0m \u001b[1;33m\u001b[0m\u001b[0m\n\u001b[1;32m----> 6\u001b[1;33m     \u001b[0ma\u001b[0m\u001b[1;33m,\u001b[0m\u001b[0mb\u001b[0m\u001b[1;33m=\u001b[0m \u001b[0mmin\u001b[0m\u001b[1;33m(\u001b[0m\u001b[0mitertools\u001b[0m\u001b[1;33m.\u001b[0m\u001b[0mchain\u001b[0m\u001b[1;33m(\u001b[0m\u001b[0mx\u001b[0m\u001b[1;33m,\u001b[0m\u001b[0my\u001b[0m\u001b[1;33m)\u001b[0m\u001b[1;33m)\u001b[0m\u001b[1;33m,\u001b[0m \u001b[0mmax\u001b[0m\u001b[1;33m(\u001b[0m\u001b[0mitertools\u001b[0m\u001b[1;33m.\u001b[0m\u001b[0mchain\u001b[0m\u001b[1;33m(\u001b[0m\u001b[0mx\u001b[0m\u001b[1;33m,\u001b[0m \u001b[0my\u001b[0m\u001b[1;33m)\u001b[0m\u001b[1;33m)\u001b[0m\u001b[1;33m\u001b[0m\u001b[1;33m\u001b[0m\u001b[0m\n\u001b[0m\u001b[0;32m      7\u001b[0m     \u001b[0mdominio\u001b[0m\u001b[1;33m=\u001b[0m \u001b[0mnp\u001b[0m\u001b[1;33m.\u001b[0m\u001b[0mlinspace\u001b[0m\u001b[1;33m(\u001b[0m\u001b[0ma\u001b[0m\u001b[1;33m,\u001b[0m \u001b[0mb\u001b[0m\u001b[1;33m)\u001b[0m\u001b[1;33m\u001b[0m\u001b[1;33m\u001b[0m\u001b[0m\n\u001b[0;32m      8\u001b[0m \u001b[1;33m\u001b[0m\u001b[0m\n",
      "\u001b[1;31mTypeError\u001b[0m: 'int' object is not callable"
     ]
    }
   ],
   "metadata": {}
  },
  {
   "cell_type": "code",
   "execution_count": 15,
   "source": [
    "z= np.concatenate([x,y])\n",
    "np.random.shuffle(z)\n",
    "z"
   ],
   "outputs": [
    {
     "output_type": "execute_result",
     "data": {
      "text/plain": [
       "array([ 9.76231574, 10.02289877,  3.99685225,  4.73320061,  1.67903526,\n",
       "        0.22970382,  4.21117641,  4.25268671,  7.67647796,  6.66186047,\n",
       "        6.69369232,  5.34605788,  9.14193948,  6.87434433,  7.78715282,\n",
       "        4.88442936, 11.11328799,  2.66750011,  8.77649252, -1.21461535,\n",
       "        2.60947951,  6.12905958, 12.04437829,  5.88590046,  6.06782645,\n",
       "        3.85670642,  9.93880722,  1.37594642,  1.0898746 ,  5.77488145,\n",
       "        2.78689009,  0.76466809, 10.85717791,  5.25596903,  7.58178372,\n",
       "        0.14176321,  8.9384681 ,  8.71792853,  3.46671344,  2.1161271 ,\n",
       "       11.87557391,  8.95728975,  0.60406897,  7.44582614, 12.45261924,\n",
       "        3.35437585,  4.24034581,  3.74671175,  0.64829914,  9.29400122,\n",
       "        4.1893763 ,  4.17032831,  2.19780191,  7.62372752,  5.10299296,\n",
       "        7.56995582,  6.88592645,  0.60876513, 10.82273919,  2.07574247,\n",
       "        5.22831398,  3.40383011,  3.15332233, 10.28772578,  5.6707505 ,\n",
       "        1.06389257,  0.21838177,  7.42604038,  5.15255846,  6.20827689])"
      ]
     },
     "metadata": {},
     "execution_count": 15
    }
   ],
   "metadata": {}
  },
  {
   "cell_type": "code",
   "execution_count": 16,
   "source": [
    "#Recreamos los x y y (simulamos)\n",
    "\n",
    "def prueba_diferencia_medias(x, y, repeticiones= 1_000_000):\n",
    "\n",
    "    diferencias= []\n",
    "    diferencia_Real= np.mean(x) - np.mean(y)\n",
    "\n",
    "    for i in range(repeticiones):\n",
    "\n",
    "        np.random.shuffle(z)\n",
    "        x_simulado= z[:len(x)]\n",
    "        y_simulado= z[len(x):]\n",
    "        diferencias.append( np.mean(x_simulado) - np.mean(y_simulado) )\n",
    "\n",
    "        \n",
    "    plt.hist(diferencias)    \n",
    "    plt.axvline(diferencia_Real, color= \"red\")\n",
    "    return np.sum(np.array(diferencias) <= diferencia_Real)/ repeticiones\n",
    "\n",
    "\n",
    "prueba_diferencia_medias(x, y)\n"
   ],
   "outputs": [
    {
     "output_type": "execute_result",
     "data": {
      "text/plain": [
       "0.078306"
      ]
     },
     "metadata": {},
     "execution_count": 16
    },
    {
     "output_type": "display_data",
     "data": {
      "image/png": "[encoded data removed]",
      "text/plain": [
       "<Figure size 432x288 with 1 Axes>"
      ]
     },
     "metadata": {
      "needs_background": "light"
     }
    }
   ],
   "metadata": {}
  },
  {
   "cell_type": "markdown",
   "source": [
    "### Si está pegada la diferencia real de la simulada las muestras pertenecen a la misma población."
   ],
   "metadata": {}
  },
  {
   "cell_type": "markdown",
   "source": [
    "## Intervalos de confianza para la media"
   ],
   "metadata": {}
  },
  {
   "cell_type": "code",
   "execution_count": 17,
   "source": [
    "import random"
   ],
   "outputs": [],
   "metadata": {}
  },
  {
   "cell_type": "code",
   "execution_count": 18,
   "source": [
    "def bootstrap_remplazo(N, repeticiones= 100_000):\n",
    "    \n",
    "    print(\"N: \", N)\n",
    "    xbar= np.zeros(repeticiones)\n",
    "    media_Real= np.mean(N)\n",
    "    print(\"Media Real: \", media_Real)\n",
    "    \n",
    "    for i in range(repeticiones):\n",
    "        sample= N[np.random.randint(len(N), size= len(N))]\n",
    "        xbar[i]= np.mean(sample)\n",
    " \n",
    "    results= np.mean(xbar)\n",
    "    print(\"Media de las medias: \", results)\n",
    "    \n",
    "    desviacion_std= np.std(xbar)\n",
    "    print(\"Desviación estándar de medias: \", desviacion_std)\n",
    "\n",
    "    #Graficamos\n",
    "    plt.hist(xbar, 50, facecolor='green')   \n",
    "    plt.axvline(media_Real, color= \"red\" )\n",
    "#     plt.axvline(results, color= \"black\" )\n",
    "    \n",
    "    plt.xlabel('Medias')\n",
    "    plt.ylabel('Cantidad')\n",
    "    plt.title(f'Histograma de Medias')\n",
    "\n",
    "    return results, desviacion_std\n"
   ],
   "outputs": [],
   "metadata": {}
  },
  {
   "cell_type": "code",
   "execution_count": 19,
   "source": [
    "#Creamos los datos\n",
    "max= 50\n",
    "min= 1\n",
    "N= np.random.randint(min, max, size= 20) #enteros positivos porque son turtugas! xD\n",
    "\n",
    "#LLamamos a la función\n",
    "results, desviacion_std= bootstrap_remplazo(N)"
   ],
   "outputs": [
    {
     "output_type": "stream",
     "name": "stdout",
     "text": [
      "N:  [37 44 46  5 44 48 35 16 25 37  4 36 18 17 20 34 36 21 13 28]\n",
      "Media Real:  28.2\n",
      "Media de las medias:  28.208636999999992\n",
      "Desviación estándar de medias:  2.9323643876965564\n"
     ]
    },
    {
     "output_type": "display_data",
     "data": {
      "image/png": "[encoded data removed]",
      "text/plain": [
       "<Figure size 432x288 with 1 Axes>"
      ]
     },
     "metadata": {
      "needs_background": "light"
     }
    }
   ],
   "metadata": {}
  },
  {
   "cell_type": "markdown",
   "source": [
    "# Estimación de media poblacional"
   ],
   "metadata": {}
  },
  {
   "cell_type": "code",
   "execution_count": 20,
   "source": [
    "def bootstrap_remplazo(N, repeticiones= 100_000):\n",
    "    \n",
    "    print(\"N: \", N)\n",
    "    xbar= np.zeros(repeticiones)\n",
    "    media_Real= np.mean(N)\n",
    "    print(\"Media Real: \", media_Real)\n",
    "    \n",
    "    for i in range(repeticiones):\n",
    "        sample= N[np.random.randint(len(N), size= len(N))]\n",
    "        xbar[i]= np.mean(sample)\n",
    " \n",
    "    results= np.mean(xbar)\n",
    "    print(\"Media de las medias: \", results)\n",
    "    \n",
    "    desviacion_std= np.std(xbar)\n",
    "    print(\"Desviación estándar de medias: \", desviacion_std)\n",
    "    \n",
    "    confianza= 95\n",
    "    a= (100- confianza)/2\n",
    "    b= 100 - a\n",
    "    percentil= np.percentile(xbar, [a, b])\n",
    "       \n",
    "    print(\"El valor de la media poblacional con un \", confianza, \"% de seguridad está entre: \", percentil)\n",
    "    \n",
    "    return results, desviacion_std\n"
   ],
   "outputs": [],
   "metadata": {}
  },
  {
   "cell_type": "code",
   "execution_count": 21,
   "source": [
    "#Creamos los datos\n",
    "max= 50\n",
    "min= 1\n",
    "N= np.random.randint(min, max, size= 20) #enteros positivos porque son turtugas! xD\n",
    "\n",
    "#LLamamos a la función\n",
    "results, desviacion_std= bootstrap_remplazo(N)"
   ],
   "outputs": [
    {
     "output_type": "stream",
     "name": "stdout",
     "text": [
      "N:  [45  7  8 38 14  5 26 32 32 27 26 16 40 24  9 42 15 18 19 17]\n",
      "Media Real:  23.0\n",
      "Media de las medias:  22.993308499999998\n",
      "Desviación estándar de medias:  2.6563058462510956\n",
      "El valor de la media poblacional con un  95 % de seguridad está entre:  [17.85 28.25]\n"
     ]
    }
   ],
   "metadata": {}
  },
  {
   "cell_type": "code",
   "execution_count": null,
   "source": [],
   "outputs": [],
   "metadata": {}
  }
 ],
 "metadata": {
  "kernelspec": {
   "name": "python3",
   "display_name": "Python 3.7.6 64-bit"
  },
  "language_info": {
   "codemirror_mode": {
    "name": "ipython",
    "version": 3
   },
   "file_extension": ".py",
   "mimetype": "text/x-python",
   "name": "python",
   "nbconvert_exporter": "python",
   "pygments_lexer": "ipython3",
   "version": "3.7.6"
  },
  "interpreter": {
   "hash": "994be9bb8faba4f21faa66a98c60e109b1cf64c8be87624b6a0d6297203e16cd"
  }
 },
 "nbformat": 4,
 "nbformat_minor": 4
}